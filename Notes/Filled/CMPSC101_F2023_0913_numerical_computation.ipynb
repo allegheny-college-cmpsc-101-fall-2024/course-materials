{
  "nbformat": 4,
  "nbformat_minor": 0,
  "metadata": {
    "colab": {
      "provenance": [],
      "authorship_tag": "ABX9TyOopeX++hObso+EcJ1WW+WM",
      "include_colab_link": true
    },
    "kernelspec": {
      "name": "python3",
      "display_name": "Python 3"
    },
    "language_info": {
      "name": "python"
    }
  },
  "cells": [
    {
      "cell_type": "markdown",
      "metadata": {
        "id": "view-in-github",
        "colab_type": "text"
      },
      "source": [
        "<a href=\"https://colab.research.google.com/github/allegheny-college-cmpsc-101-fall-2023/course-materials/blob/main/Copy_of_Template_CMPSC101_F2023_0913_numerical_computation.ipynb\" target=\"_parent\"><img src=\"https://colab.research.google.com/assets/colab-badge.svg\" alt=\"Open In Colab\"/></a>"
      ]
    },
    {
      "cell_type": "code",
      "execution_count": null,
      "metadata": {
        "id": "HcDXO2z1zWSR"
      },
      "outputs": [],
      "source": [
        "# What are two key algorithmic strategies?\n",
        "# - Exhaustive Search / Exhaustive enumeration\n",
        "#   - define a space with all solution\n",
        "#   - every possible solution is considered in order\n",
        "#   - can be optimized\n",
        "#   - \"guess and check\"\n",
        "# - Binary search / bisection search\n",
        "#   - set boundary for upper and lower limit\n",
        "#   - make a guess of the soln (middle)\n",
        "#   - evaluate the guessed soln, was it too high or too low?\n",
        "#   - If too high: change upper bound\n",
        "#   - If too low: change lower bound\n",
        "#   - adjust the guessed soln and repeat!"
      ]
    },
    {
      "cell_type": "code",
      "source": [
        "# recall the next block from last class the block below"
      ],
      "metadata": {
        "id": "CH8hjuwm1-nK"
      },
      "execution_count": null,
      "outputs": []
    },
    {
      "cell_type": "code",
      "source": [
        "# numerically find the square root of a number, x\n",
        "# x is greater than 1\n",
        "# sqrt_x * sqrt_x = x +- margin of error EG -- the key thing here is that we are allowing a margin of error\n",
        "# abs(sqrt_x *sqrt_x - x) < epsilon\n",
        "\n",
        "x = int(input('Enter a number: '))\n",
        "epsilon = 0.01 # margin of error\n",
        "step = epsilon\n",
        "num_soln_tested = 0\n",
        "sqrt_x = 0\n",
        "\n",
        "while abs(sqrt_x *sqrt_x - x) > epsilon:\n",
        "  print(step, 1)\n",
        "\n",
        "  while abs(sqrt_x *sqrt_x - x) > epsilon and sqrt_x < x: # cut off the loop in case we somehow miss the solution...\n",
        "    sqrt_x += step\n",
        "    num_soln_tested += 1\n",
        "    # print(step, 2)\n",
        "\n",
        "  # is the answer reasonable?\n",
        "  if abs(sqrt_x *sqrt_x - x) <= epsilon:\n",
        "    print(f'the square root of {x} is approximately {sqrt_x}')\n",
        "  else:\n",
        "    step = step / 10\n",
        "    sqrt_x = 0\n",
        "\n",
        "print(f'final step size was {step}')\n",
        "print(f'number of solutions considered: {num_soln_tested}')"
      ],
      "metadata": {
        "id": "Y0XOQo9z6ZyX",
        "colab": {
          "base_uri": "https://localhost:8080/"
        },
        "outputId": "61ceae3e-8d51-4fb2-b2c9-dbf7b2162c3d"
      },
      "execution_count": null,
      "outputs": [
        {
          "output_type": "stream",
          "name": "stdout",
          "text": [
            "Enter a number: 2\n",
            "0.01 1\n",
            "0.001 1\n",
            "the square root of 2 is approximately 1.4109999999999554\n",
            "final step size was 0.001\n",
            "number of solutions considered: 1611\n"
          ]
        }
      ]
    },
    {
      "cell_type": "code",
      "source": [
        "# Trade-offs\n",
        "\n",
        "# - Exhaustive enumeration is easier to implement\n",
        "# - Binary search is faster\n",
        "# - Binary search is often harder to implement and read"
      ],
      "metadata": {
        "id": "Cw0zKv-k7Jei"
      },
      "execution_count": null,
      "outputs": []
    },
    {
      "cell_type": "code",
      "source": [
        "# implement a binary search to determine the square root of 107\n",
        "\n",
        "x = 107\n",
        "epsilon = 0.01 # margin of error\n",
        "\n",
        "lower_bound = 0 # will not search below this - initial value\n",
        "upper_bound = x # will not seach above this - initial value\n",
        "\n",
        "num_soln_tested = 0\n",
        "\n",
        "sqrt_x = 0.5*(lower_bound + upper_bound) # average as guess\n",
        "\n",
        "while abs(sqrt_x**2 - x) > epsilon:\n",
        "  num_soln_tested += 1\n",
        "  # too high or too low\n",
        "  if sqrt_x**2 > x: # too high\n",
        "    upper_bound = sqrt_x\n",
        "  else: # too low\n",
        "    lower_bound = sqrt_x\n",
        "  sqrt_x = 0.5*(lower_bound + upper_bound) # average as guess\n",
        "\n",
        "print(f'the square root of {x} is approximately {sqrt_x}')\n",
        "print(f'number of solutions considered: {num_soln_tested}')"
      ],
      "metadata": {
        "id": "IwXRhTYzNbDP",
        "colab": {
          "base_uri": "https://localhost:8080/"
        },
        "outputId": "1f07a109-2736-4584-d87a-1afb4a5d0c2b"
      },
      "execution_count": null,
      "outputs": [
        {
          "output_type": "stream",
          "name": "stdout",
          "text": [
            "the square root of 107 is approximately 10.343910217285156\n",
            "number of solutions considered: 16\n"
          ]
        }
      ]
    },
    {
      "cell_type": "markdown",
      "source": [
        "Consider thinking about the question phrased like this: find the 0 crossing of the simple polynomial $ f(x) = x^2 - 3$. According to Newton's method, the roots of the fuction can be found by iteratively updating the guessed_root:\n",
        "\n",
        "$$ x $$\n",
        "\n",
        "$$  f(x) = x^2 - 3 $$\n",
        "\n",
        "$$ f'(x) = {df \\over dx} = 2x $$\n",
        "\n",
        "$$ x_{updated} = x - {f(x) \\over f'(x)}  = x - {(x^2 -3) \\over 2x } $$\n"
      ],
      "metadata": {
        "id": "cTfyK1YTezv8"
      }
    },
    {
      "cell_type": "code",
      "source": [
        "# Other numerical computation applications\n",
        "\n",
        "# approximating solutions to differential equations - https://en.wikipedia.org/wiki/Runge%E2%80%93Kutta_methods\n",
        "# finding the frequency content in a discrete music signal - https://en.wikipedia.org/wiki/Short-time_Fourier_transform\n",
        "# using subsets of data repeatedly to analyze statistical significance - https://en.wikipedia.org/wiki/Bootstrapping_(statistics)"
      ],
      "metadata": {
        "id": "0tQcWbXlbVr4"
      },
      "execution_count": null,
      "outputs": []
    },
    {
      "cell_type": "code",
      "source": [
        "# tips for coming assignments\n",
        "\n",
        "# what parameters does the `range` function take? ((do you know about help(function)?))\n",
        "\n",
        "# how do you skip values using `range`\n",
        "\n",
        "# modify the range below to print only odd numbers >= than 3. Do not use the mod operator\n",
        "\n",
        "# print the length of range(30) and the length of the range you come up with"
      ],
      "metadata": {
        "id": "D3jpxIAl8K0T"
      },
      "execution_count": null,
      "outputs": []
    },
    {
      "cell_type": "code",
      "source": [
        "# Change this to print only odd numbers from 3 to 30\n",
        "for i in range(30):\n",
        "  print(i, end = ', ')"
      ],
      "metadata": {
        "id": "cfLvZZeW8lKs"
      },
      "execution_count": null,
      "outputs": []
    }
  ]
}