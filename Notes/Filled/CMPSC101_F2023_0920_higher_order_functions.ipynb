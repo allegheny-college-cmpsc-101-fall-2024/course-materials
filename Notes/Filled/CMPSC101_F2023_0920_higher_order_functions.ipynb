{
  "nbformat": 4,
  "nbformat_minor": 0,
  "metadata": {
    "colab": {
      "provenance": [],
      "authorship_tag": "ABX9TyOey6YixP4ONHaP2Hi2Q/WR",
      "include_colab_link": true
    },
    "kernelspec": {
      "name": "python3",
      "display_name": "Python 3"
    },
    "language_info": {
      "name": "python"
    }
  },
  "cells": [
    {
      "cell_type": "markdown",
      "metadata": {
        "id": "view-in-github",
        "colab_type": "text"
      },
      "source": [
        "<a href=\"https://colab.research.google.com/github/allegheny-college-cmpsc-101-fall-2023/course-materials/blob/main/Copy_of_Template_CMPSC101_F2023_0920_higher_order_functions.ipynb\" target=\"_parent\"><img src=\"https://colab.research.google.com/assets/colab-badge.svg\" alt=\"Open In Colab\"/></a>"
      ]
    },
    {
      "cell_type": "markdown",
      "source": [
        "# Higher order function and lambda functions"
      ],
      "metadata": {
        "id": "5OUhsp2Zil9H"
      }
    },
    {
      "cell_type": "markdown",
      "source": [
        "### Review: Why use functions?\n",
        "- functions enable code reuse and organization\n",
        "- reuable code makes it easier to fix bugs\n",
        "<img src=\"https://www.innofied.com/wp-content/uploads/2015/06/milan-blog-pic.jpg\">\n",
        "\n",
        "- functions faciliate development on teams\n",
        "<img src=\"https://marketbusinessnews.com/wp-content/uploads/2019/04/Division-of-Labor-image-3333333.jpg\">\n",
        "\n",
        "- the more self-contained each function is, the better\n",
        "<img src=\"https://tapeza555.files.wordpress.com/2013/06/coupling.jpg\">\n",
        "\n",
        "- functions that are designed to have specific uses are testable (unit tests)\n",
        "- but still beware\n",
        "<img src=\"https://www.monkeyuser.com/assets/images/2022/248-unit-tests.png\">"
      ],
      "metadata": {
        "id": "7FzXpKwgTde4"
      }
    },
    {
      "cell_type": "code",
      "source": [
        "# How to add default values to formal parameters, and use keyword arguments\n",
        "\n",
        "def print_short_name(first_name: str, last_name: str, middle_name: str = '') -> str:\n",
        "  \"\"\"Returns first initial of first and middle name and full last name.\"\"\"\n",
        "  short_name = ''\n",
        "  first_initial  = first_name[0].capitalize() # .split('\\n') dot notation!\n",
        "  if middle_name == '':\n",
        "    middle_initial = ''\n",
        "  else:\n",
        "    middle_initial  = middle_name[0].capitalize()\n",
        "  short_name = first_initial + middle_initial + ' ' + last_name.capitalize()\n",
        "  return short_name\n",
        "\n",
        "print(print_short_name(middle_name = 'L', first_name = 'Emily', last_name = 'Graber'))\n",
        "# you can find out more by going here:\n",
        "# https://treyhunner.com/2018/04/keyword-arguments-in-python/\n",
        "\n",
        "print('', sep = '\\n')"
      ],
      "metadata": {
        "id": "-N32Fh_UxzOr",
        "colab": {
          "base_uri": "https://localhost:8080/"
        },
        "outputId": "2d72b60d-e67a-4a29-a7c8-6efbc62f7150"
      },
      "execution_count": null,
      "outputs": [
        {
          "output_type": "stream",
          "name": "stdout",
          "text": [
            "EL Graber\n"
          ]
        }
      ]
    },
    {
      "cell_type": "code",
      "source": [
        "# How do you call the function print_short_names?\n",
        "# - positional arguments (order of the actual parameters matters)\n",
        "# - keyword arguments (name of the formal parameter is used, position not important)"
      ],
      "metadata": {
        "id": "QaxLWZK3eD45"
      },
      "execution_count": null,
      "outputs": []
    },
    {
      "cell_type": "code",
      "source": [
        "# Higher-order fuctions\n",
        "# function with a formal parameter that is a function!\n",
        "\n",
        "# type(sum)\n",
        "# type(print_short_name)\n",
        "print(print_short_name)\n",
        "psn = print_short_name\n",
        "print(psn)\n",
        "print(psn('Alice', middle_name = 'in', last_name = 'wonderland'))\n",
        "\n",
        "\n",
        "# What are function names? - variables"
      ],
      "metadata": {
        "id": "Yu2Fld_A3riR",
        "colab": {
          "base_uri": "https://localhost:8080/"
        },
        "outputId": "7306e2c6-f4bc-4256-d7a1-ef6dc401b3c9"
      },
      "execution_count": null,
      "outputs": [
        {
          "output_type": "stream",
          "name": "stdout",
          "text": [
            "<function print_short_name at 0x7bf0b3d496c0>\n",
            "<function print_short_name at 0x7bf0b3d496c0>\n",
            "AI Wonderland\n"
          ]
        }
      ]
    },
    {
      "cell_type": "code",
      "source": [
        "# Higher-order fuctions...almost\n",
        "# in-depth example\n",
        "\n",
        "from typing import Any, List\n",
        "\n",
        "def prioritize(items: List[Any]) -> Any\n",
        "  \"\"\"Return 'largest' or highest priority item.\"\"\"\n",
        "  largest_item_sofar = items[0]\n",
        "  for cur_item in items:\n",
        "    if cur_item > largest_item_sofar: # comparison using '>'\n",
        "      largest_item_sofar = cur_item\n",
        "  return largest_item_sofar"
      ],
      "metadata": {
        "id": "i78qk-IkAV0d"
      },
      "execution_count": null,
      "outputs": []
    },
    {
      "cell_type": "code",
      "source": [
        "# Higher-order fuctions\n",
        "# in-depth example\n",
        "\n",
        "from typing import Any, Callable, List\n",
        "\n",
        "def prioritize(items: List[Any], comparison_function: Callable[[Any,Any],bool]) -> Any\n",
        "  \"\"\"Return 'largest' or highest priority item.\"\"\"\n",
        "  largest_item_sofar = items[0]\n",
        "  for cur_item in items:\n",
        "    if comparison_function(cur_item,largest_item_sofar): # comparison using '>'\n",
        "      largest_item_sofar = cur_item\n",
        "  return largest_item_sofar"
      ],
      "metadata": {
        "id": "Ve91WV0BCUIk"
      },
      "execution_count": null,
      "outputs": []
    },
    {
      "cell_type": "code",
      "source": [
        "# \"Actual\" comparison functions\n",
        "\n",
        "def int_compare(int1: int, int2: int) -> bool:\n",
        "  \"\"\"Return if first int should be considered \"larger\", given priority.\"\"\"\n",
        "  return int1 > int2\n",
        "\n",
        "def name_compare(name1: str, name2: str) -> bool:\n",
        "  \"\"\"Return if name1 should be considered \"larger\", given priority.\"\"\"\n",
        "  return name1 > name2\n",
        "\n",
        "print(name_compare('Gaber', 'Gevirtz'))"
      ],
      "metadata": {
        "colab": {
          "base_uri": "https://localhost:8080/"
        },
        "id": "-KWEm3FNSxty",
        "outputId": "a6353d7b-a12e-446d-e20b-fe3aa9148957"
      },
      "execution_count": null,
      "outputs": [
        {
          "output_type": "stream",
          "name": "stdout",
          "text": [
            "False\n"
          ]
        }
      ]
    },
    {
      "cell_type": "code",
      "source": [
        "# additional comparison functions\n",
        "\n",
        "def day_compare(day1: str, day2: str) -> bool:\n",
        "  \"\"\"Return if day1 should be considered \"larger\", given priority.\"\"\"\n",
        "  week = (\"tuesday\", \"monday\", \"wednesday\", \"thursday\", \"friday\", \"saturday\", \"sunday\")\n",
        "  for iday, day in enumerate(week)\n",
        "    if day == day1.lower():\n",
        "      val_day1 = iday\n",
        "    if day == day2.lower():\n",
        "      val_day2 = iday\n",
        "  return val_day1 > val_day2\n",
        "\n",
        "# def rhythm_compare(r1: float, r2: float) -> bool:\n",
        "#   \"\"\"Return if r1 should be considered \"faster\" rhythm, given priority.\"\"\"\n"
      ],
      "metadata": {
        "id": "O62ZkMCTQvuF"
      },
      "execution_count": null,
      "outputs": []
    },
    {
      "cell_type": "code",
      "source": [
        "# Side note: pythonic for loop syntax\n",
        "# which one is more \"pythonic\"\n",
        "\n",
        "rhythm_map = [1, 1/2, 1/4, 1/8, 1/16]\n",
        "for index, item in enumerate(rhythm_map):\n",
        "  print(f\"index is: {index}\")\n",
        "  print(f\"item is: {item}\")\n",
        "\n",
        "print(\"now running second loop.............\")\n",
        "for index in range(len(rhythm_map)):\n",
        "  print(f\"index is: {index}\")\n",
        "  print(f\"item is: {rhythm_map[index]}\")"
      ],
      "metadata": {
        "id": "1hdWinYiNINH"
      },
      "execution_count": null,
      "outputs": []
    },
    {
      "cell_type": "code",
      "source": [
        "# call the prioritize function!"
      ],
      "metadata": {
        "id": "dsffsqyZUzqD"
      },
      "execution_count": null,
      "outputs": []
    },
    {
      "cell_type": "code",
      "source": [
        "# Lambda functions\n",
        "# call the prioritize function with a lambda function"
      ],
      "metadata": {
        "id": "SzLVjeB0WtCF"
      },
      "execution_count": null,
      "outputs": []
    },
    {
      "cell_type": "code",
      "source": [
        "# Mixing lambdas and keyword arguments\n"
      ],
      "metadata": {
        "id": "eqS4HpUIaxv2"
      },
      "execution_count": null,
      "outputs": []
    },
    {
      "cell_type": "code",
      "source": [
        "# Summary on lambdas\n",
        "# the syntax of a lambda is:\n",
        "# lambda variables: expression using variables\n",
        "\n",
        "# lambda function are \"anonymous\"\n",
        "# they do not need a name\n",
        "# they do not need to be defined in the function definition section of a script\n",
        "# they should not be reused, otherwise they should be defined as a real function\n",
        "\n",
        "# try writing lambda functions:\n",
        "# - squaring function on variable x\n",
        "# - cubing function on variable x\n",
        "# - difference function that subtracts two variables\n",
        "# - difference function that subtracts two variables, converts the difference to a string, and reverses the string"
      ],
      "metadata": {
        "id": "Wa0-nd4jYbZe"
      },
      "execution_count": null,
      "outputs": []
    },
    {
      "cell_type": "code",
      "source": [
        "# You should feel comfortable defining the terms below and writing at least one code example to demonstrate each term\n",
        "\n",
        "# function\n",
        "# lambda function\n",
        "# positional arguments\n",
        "# keyword or names arguments\n",
        "# default values\n",
        "# higher order functions\n",
        "# function scope\n",
        "# local variable\n",
        "# return statement\n",
        "# function signature\n",
        "# docstring\n",
        "# dot notation\n",
        "\n",
        "# If you need a reference, try Chapter 4 of Guttag (in Alden Library)\n"
      ],
      "metadata": {
        "id": "QEX1JHF0gwIl"
      },
      "execution_count": null,
      "outputs": []
    }
  ]
}