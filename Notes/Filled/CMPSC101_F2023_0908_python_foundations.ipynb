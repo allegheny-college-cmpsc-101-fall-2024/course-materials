{
  "nbformat": 4,
  "nbformat_minor": 0,
  "metadata": {
    "colab": {
      "provenance": [],
      "authorship_tag": "ABX9TyM3t0zVsnhfwvVN53NEzlNO",
      "include_colab_link": true
    },
    "kernelspec": {
      "name": "python3",
      "display_name": "Python 3"
    },
    "language_info": {
      "name": "python"
    }
  },
  "cells": [
    {
      "cell_type": "markdown",
      "metadata": {
        "id": "view-in-github",
        "colab_type": "text"
      },
      "source": [
        "<a href=\"https://colab.research.google.com/github/allegheny-college-cmpsc-101-fall-2023/course-materials/blob/main/Copy_of_Template_CMPSC101_F2023_0908_python_foundations.ipynb\" target=\"_parent\"><img src=\"https://colab.research.google.com/assets/colab-badge.svg\" alt=\"Open In Colab\"/></a>"
      ]
    },
    {
      "cell_type": "markdown",
      "source": [
        "# Resources\n",
        "- `pyproject.toml` files within `poetry` are described [here](https://python-poetry.org/docs/basic-usage/)\n",
        "- about Colab: https://colab.research.google.com/notebooks/basic_features_overview.ipynb\n",
        "- https://proactiveprogrammers.com/data-abstraction/schedule-data-abstraction/#python-foundations"
      ],
      "metadata": {
        "id": "u45m3EnQWu9I"
      }
    },
    {
      "cell_type": "code",
      "source": [
        "# Programming Skils ---------------------------------------------------------\n",
        "#\n",
        "#   What are ways to square a number\n",
        "\n",
        "3**2\n"
      ],
      "metadata": {
        "id": "WkEJRi1d2xQB",
        "colab": {
          "base_uri": "https://localhost:8080/"
        },
        "outputId": "66bb1a5b-01d1-4c15-f73f-348ed1c06cab"
      },
      "execution_count": null,
      "outputs": [
        {
          "output_type": "execute_result",
          "data": {
            "text/plain": [
              "9"
            ]
          },
          "metadata": {},
          "execution_count": 1
        }
      ]
    },
    {
      "cell_type": "code",
      "source": [
        "# squaring with `for`\n",
        "\n",
        "# define a function that does not correctly compute\n",
        "# the square of a number through the exclusive use\n",
        "# of iteration and addition\n",
        "\n",
        "def compute_square(value: int) -> int:\n",
        "  \"\"\"Square number with iteration.\"\"\" # docstring\n",
        "  num_iterations = 0\n",
        "  answer = 0\n",
        "  while num_iterations < value:\n",
        "    answer += value\n",
        "    num_iterations += 1\n",
        "  return answer\n",
        "\n",
        "\n"
      ],
      "metadata": {
        "id": "6iJSsKUJFCSL"
      },
      "execution_count": null,
      "outputs": []
    },
    {
      "cell_type": "code",
      "source": [
        "compute_square()"
      ],
      "metadata": {
        "id": "AaH-SqhfJlrv"
      },
      "execution_count": null,
      "outputs": []
    },
    {
      "cell_type": "code",
      "source": [
        "# attempt to compute the square of a number using\n",
        "# the previously defined function. Note that this\n",
        "# is calling the function with a positive number.\n",
        "# What would happen if it was called with a negative\n",
        "# number? Let's try that in the next cell, okay?\n",
        "\n",
        "myvalue = -3\n",
        "myvalue_squared = compute_square(myvalue)\n",
        "print(myvalue_squared)\n",
        "\n"
      ],
      "metadata": {
        "id": "ObY3Xx1OFIjk",
        "colab": {
          "base_uri": "https://localhost:8080/"
        },
        "outputId": "6a6a3de9-829b-4bc7-c513-df5b815dc2ac"
      },
      "execution_count": null,
      "outputs": [
        {
          "output_type": "stream",
          "name": "stdout",
          "text": [
            "0\n"
          ]
        }
      ]
    },
    {
      "cell_type": "code",
      "source": [
        "# check if something can be convereted to an int\n",
        "\n",
        "split_observations_contents = [5, 'abc', 6, 7, 8]\n",
        "\n",
        "# iterate through list with for loop, print only integers\n",
        "for observation in split_observations_contents:\n",
        "  observation_int = int(observation)\n",
        "  print(observation_int)\n",
        "\n",
        "# # interate through list with while loop\n",
        "# total_number_observations = len(split_observations_contents)\n",
        "# count = 0\n",
        "# while count < total_number_observations:\n",
        "#   # get the specific observation\n",
        "#   observation = split_observations_contents[count]\n",
        "#   # do computations\n",
        "#   print(observation)\n",
        "#   # increment count\n",
        "#   count += 1\n",
        "\n"
      ],
      "metadata": {
        "id": "HZkG7gt1FbVB",
        "colab": {
          "base_uri": "https://localhost:8080/",
          "height": 265
        },
        "outputId": "e54318b1-60de-4561-cfa7-0a8d64157d7f"
      },
      "execution_count": null,
      "outputs": [
        {
          "output_type": "stream",
          "name": "stdout",
          "text": [
            "5\n"
          ]
        },
        {
          "output_type": "error",
          "ename": "ValueError",
          "evalue": "ignored",
          "traceback": [
            "\u001b[0;31m---------------------------------------------------------------------------\u001b[0m",
            "\u001b[0;31mValueError\u001b[0m                                Traceback (most recent call last)",
            "\u001b[0;32m<ipython-input-10-755c117d5321>\u001b[0m in \u001b[0;36m<cell line: 6>\u001b[0;34m()\u001b[0m\n\u001b[1;32m      5\u001b[0m \u001b[0;31m# iterate through list with for loop, print only integers\u001b[0m\u001b[0;34m\u001b[0m\u001b[0;34m\u001b[0m\u001b[0m\n\u001b[1;32m      6\u001b[0m \u001b[0;32mfor\u001b[0m \u001b[0mobservation\u001b[0m \u001b[0;32min\u001b[0m \u001b[0msplit_observations_contents\u001b[0m\u001b[0;34m:\u001b[0m\u001b[0;34m\u001b[0m\u001b[0;34m\u001b[0m\u001b[0m\n\u001b[0;32m----> 7\u001b[0;31m   \u001b[0mobservation_int\u001b[0m \u001b[0;34m=\u001b[0m \u001b[0mint\u001b[0m\u001b[0;34m(\u001b[0m\u001b[0mobservation\u001b[0m\u001b[0;34m)\u001b[0m\u001b[0;34m\u001b[0m\u001b[0;34m\u001b[0m\u001b[0m\n\u001b[0m\u001b[1;32m      8\u001b[0m   \u001b[0mprint\u001b[0m\u001b[0;34m(\u001b[0m\u001b[0mobservation_int\u001b[0m\u001b[0;34m)\u001b[0m\u001b[0;34m\u001b[0m\u001b[0;34m\u001b[0m\u001b[0m\n\u001b[1;32m      9\u001b[0m \u001b[0;34m\u001b[0m\u001b[0m\n",
            "\u001b[0;31mValueError\u001b[0m: invalid literal for int() with base 10: 'abc'"
          ]
        }
      ]
    },
    {
      "cell_type": "code",
      "source": [
        "list_of_string_numbers = ['1a', '2']\n",
        "int(list_of_string_numbers[0])"
      ],
      "metadata": {
        "id": "xyL2ALUIPFxn",
        "outputId": "e6809860-f184-4da7-a6ec-b15370538ffe",
        "colab": {
          "base_uri": "https://localhost:8080/",
          "height": 195
        }
      },
      "execution_count": null,
      "outputs": [
        {
          "output_type": "error",
          "ename": "ValueError",
          "evalue": "ignored",
          "traceback": [
            "\u001b[0;31m---------------------------------------------------------------------------\u001b[0m",
            "\u001b[0;31mValueError\u001b[0m                                Traceback (most recent call last)",
            "\u001b[0;32m<ipython-input-12-4c315f998af5>\u001b[0m in \u001b[0;36m<cell line: 2>\u001b[0;34m()\u001b[0m\n\u001b[1;32m      1\u001b[0m \u001b[0mlist_of_string_numbers\u001b[0m \u001b[0;34m=\u001b[0m \u001b[0;34m[\u001b[0m\u001b[0;34m'1a'\u001b[0m\u001b[0;34m,\u001b[0m \u001b[0;34m'2'\u001b[0m\u001b[0;34m]\u001b[0m\u001b[0;34m\u001b[0m\u001b[0;34m\u001b[0m\u001b[0m\n\u001b[0;32m----> 2\u001b[0;31m \u001b[0mint\u001b[0m\u001b[0;34m(\u001b[0m\u001b[0mlist_of_string_numbers\u001b[0m\u001b[0;34m[\u001b[0m\u001b[0;36m0\u001b[0m\u001b[0;34m]\u001b[0m\u001b[0;34m)\u001b[0m\u001b[0;34m\u001b[0m\u001b[0;34m\u001b[0m\u001b[0m\n\u001b[0m",
            "\u001b[0;31mValueError\u001b[0m: invalid literal for int() with base 10: '1a'"
          ]
        }
      ]
    },
    {
      "cell_type": "markdown",
      "source": [
        "# Heading\n",
        "## smaller heading\n",
        "\n",
        "```\n",
        "n = 10\n",
        "```\n",
        "\n",
        "- this\n",
        "- is\n",
        "- an\n",
        "- un numbered\n",
        "- list\n",
        "\n",
        "1. list\n",
        "2. with\n",
        "3. numbers"
      ],
      "metadata": {
        "id": "e7mIRTn1PeTy"
      }
    },
    {
      "cell_type": "code",
      "source": [
        "# Markdown ------------------------------------\n",
        "\n",
        "#   headings\n",
        "#   fenced code block\n",
        "#   designate language\n",
        "#   listing in md (numbered unnumbered)\n",
        "#   VS Code markdown preview\n",
        "#   GH markdown preview\n",
        "#   poetry run task markdownlint\n",
        "\n",
        "\n",
        "# Navigating Source Code ------------------------------------\n",
        "\n",
        "#   in VS Code, declaration and reference\n",
        "#   Command Palette\n",
        "#   example main.py in integer square\n",
        "#   pyproject.toml file\n",
        "#   gatorgrade.yml\n",
        "#       \"Have at least a specific minimum of commits in repository\"\n",
        "\n",
        "\n",
        "# Formatting Source Code ------------------------------------\n",
        "\n",
        "#   line breaks in python\n",
        "#   Docstring\n",
        "#   poetry run task black\n",
        "#   poetry run task pylint\n",
        "#   poetry run task flake8\n",
        "#   poetry run task all\n",
        "\n",
        "\n",
        "# git -----------------------------------------------------------------------\n",
        "\n",
        "#   git vs GitHib\n",
        "#   git to clone, stage changes, commit, and push (push not recommended for every commit)\n"
      ],
      "metadata": {
        "id": "XdFd0AB0FiJD"
      },
      "execution_count": null,
      "outputs": []
    }
  ]
}