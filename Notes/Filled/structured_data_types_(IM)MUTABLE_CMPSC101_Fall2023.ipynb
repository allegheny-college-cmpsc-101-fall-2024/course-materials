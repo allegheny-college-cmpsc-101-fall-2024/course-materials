{
  "nbformat": 4,
  "nbformat_minor": 0,
  "metadata": {
    "colab": {
      "provenance": [],
      "authorship_tag": "ABX9TyNwvzzDW6sM+5mWHelRwDCJ",
      "include_colab_link": true
    },
    "kernelspec": {
      "name": "python3",
      "display_name": "Python 3"
    },
    "language_info": {
      "name": "python"
    }
  },
  "cells": [
    {
      "cell_type": "markdown",
      "metadata": {
        "id": "view-in-github",
        "colab_type": "text"
      },
      "source": [
        "<a href=\"https://colab.research.google.com/github/allegheny-college-cmpsc-101-fall-2023/course-materials/blob/main/Notes/Filled/structured_data_types_(IM)MUTABLE_CMPSC101_Fall2023.ipynb\" target=\"_parent\"><img src=\"https://colab.research.google.com/assets/colab-badge.svg\" alt=\"Open In Colab\"/></a>"
      ]
    },
    {
      "cell_type": "markdown",
      "source": [
        "CONTAINERS\n",
        "- Tuples: contain multiple types, immutable, ordered\n",
        "- Lists: contain multiple types, mutable, ordered\n",
        "- Strings: contain characters, immutable, ordered"
      ],
      "metadata": {
        "id": "EUAfcGXVxdDs"
      }
    },
    {
      "cell_type": "code",
      "source": [
        "# 1. with this code, what is happening?\n",
        "\n",
        "# what type is involved?\n",
        "\n",
        "# - variable named department stores a tuple\n",
        "# - CRASHES because the code attempts to reassign the value of first element\n",
        "# - tuples cannot be changed\n",
        "\n",
        "# tuple is made with strings inside\n",
        "department = ('computer', 'and', 'information', 'science')\n",
        "# look at first element\n",
        "print(\"First elem:\", department[0])\n",
        "# change first element\n",
        "department[0] = 'COMPUTER'\n",
        "# look at changes\n",
        "print(\"First elem:\", department[0])"
      ],
      "metadata": {
        "id": "dPvUdugUXxXk"
      },
      "execution_count": null,
      "outputs": []
    },
    {
      "cell_type": "code",
      "source": [
        "# 2. with this code, what is happening?\n",
        "\n",
        "# what type is involved? - LIST\n",
        "\n",
        "# - variable named department stores a list of strings\n",
        "# - RUNS - the code attempts to reassign the value of first element\n",
        "# - lists CAN be changed, they are mutable\n",
        "\n",
        "department = ['computer', 'and', 'information', 'science'] # list\n",
        "# look at first element\n",
        "print(\"First elem:\", department[0])\n",
        "# change first element\n",
        "department[0] = 'COMPUTER'\n",
        "# look at changes\n",
        "print(\"First elem:\", department[0])\n"
      ],
      "metadata": {
        "id": "lgSDsfcNXVLd"
      },
      "execution_count": null,
      "outputs": []
    },
    {
      "cell_type": "code",
      "source": [
        "# 3. with this code, what is happening?\n",
        "\n",
        "# what type is involved?\n",
        "\n",
        "# - variable named department stores a list of strings\n",
        "# - CRASHES - the code attempts to reassign PART of INSIDE of the first element\n",
        "# - changing PART of INSIDE of a string is not allowed\n",
        "# - strings are immutable\n",
        "\n",
        "department = ['computer', 'and', 'information', 'science'] # LIST []\n",
        "# look within first element\n",
        "print(\"Within first elem:\", department[0][0:4]) # first 4 characters - comp\n",
        "# change the inside of first element\n",
        "department[0][0:4] = 'COMP'\n",
        "# look at changes\n",
        "print(\"First elem:\", department[0])"
      ],
      "metadata": {
        "id": "oz_SG21eZPp2"
      },
      "execution_count": null,
      "outputs": []
    },
    {
      "cell_type": "code",
      "execution_count": null,
      "metadata": {
        "id": "aOr0jjCoWnmE"
      },
      "outputs": [],
      "source": [
        "# 4. with this code, what is happening?\n",
        "\n",
        "# what type is involved?\n",
        "\n",
        "# - variable named department stores a string\n",
        "# - CRASHES - the code attempts to reassign PART of INSIDE the string\n",
        "# - changing PART of INSIDE of a string is not allowed\n",
        "# - strings are immutable\n",
        "\n",
        "department = 'computer and information science'\n",
        "# look within\n",
        "print(\"Within:\", department[0:8])\n",
        "# change within\n",
        "department[0:8] = 'COMPUTER'\n",
        "# look at changes\n",
        "print(\"Entire:\", department)\n"
      ]
    },
    {
      "cell_type": "code",
      "source": [
        "# 5. with this code, what is happening?\n",
        "\n",
        "# what type is involved?\n",
        "\n",
        "# - variable named department stores a string\n",
        "# - RUNS - the code overwrites the variable name with a new string\n",
        "# - variable names can be reassigned\n",
        "\n",
        "department = 'computer and information science'\n",
        "# change entire\n",
        "department = 'COMPUTER'\n",
        "# look at changes\n",
        "print(\"Entire:\", department)"
      ],
      "metadata": {
        "id": "2BlJM3OW9nEJ"
      },
      "execution_count": null,
      "outputs": []
    },
    {
      "cell_type": "code",
      "source": [
        "# 6. with this code, what is happening?\n",
        "\n",
        "# what type is involved?\n",
        "\n",
        "# - variable named department stores a LIST of LISTS which all have names\n",
        "# - RUNS\n",
        "# - .append is called using two different names for the same LIST object\n",
        "# - Changing an object with either of its names changes what is printed\n",
        "# - the same list object can be accessed with multiple variable names - aliasing\n",
        "\n",
        "\n",
        "word_1, word_2, word_3, word_4 = ['computer'], ['and'], ['information'], ['science']\n",
        "department = [word_1, word_2, word_3, word_4]\n",
        "# look at entire list\n",
        "print(\"Entire List:\", department)\n",
        "# print first element of department\n",
        "print(\"First elem:\", department[0])\n",
        "\n",
        "# add to word_1\n",
        "word_1.append('Hello')\n",
        "\n",
        "# look at first element of department\n",
        "print(\"First elem:\", department[0])\n",
        "\n",
        "# add to first element of department\n",
        "department[0].append('Gators')\n",
        "# print first element of department\n",
        "print(\"First elem:\", department[0])\n",
        "\n",
        "\n",
        "# print word_1\n",
        "print(\"word_1:\", word_1)"
      ],
      "metadata": {
        "id": "arBNBzHiw9_d"
      },
      "execution_count": null,
      "outputs": []
    },
    {
      "cell_type": "code",
      "source": [
        "# 7. with this code, what is happening?\n",
        "\n",
        "# what type is involved?\n",
        "\n",
        "# - variable named department stores a TUPLE of LISTS which all have names\n",
        "# - RUNS\n",
        "# - .append is called using two different names for the same LIST object\n",
        "# - Changing a mutable object with any of its names is allowed\n",
        "# - the same list object can be accessed with multiple variable names - aliasing\n",
        "# - TUPLES that contain LISTS are sneakily able to be changed\n",
        "\n",
        "\n",
        "word_1, word_2, word_3, word_4 = ['computer'], ['and'], ['information'], ['science']\n",
        "department = (word_1, word_2, word_3, word_4) # tuple\n",
        "# look at entire tuple\n",
        "print(\"Entire tuple:\", department)\n",
        "# print first element of department\n",
        "print(\"First elem:\", department[0])\n",
        "\n",
        "# add to word_1\n",
        "word_1.append('Hello')\n",
        "\n",
        "\n",
        "# look at first element of department\n",
        "print(\"First elem:\", department[0])\n",
        "\n",
        "\n",
        "# add to first element of department\n",
        "department[0].append('Gators')\n",
        "# print first element of department\n",
        "print(\"First elem:\", department[0])\n",
        "\n",
        "\n",
        "# print word_1\n",
        "print(\"word_1:\", word_1)\n",
        "\n",
        "# print entire Tuple\n",
        "print(\"Entire tuple:\", department)"
      ],
      "metadata": {
        "id": "npaYI2VmdRg9",
        "colab": {
          "base_uri": "https://localhost:8080/"
        },
        "outputId": "42386d45-255d-498d-9c66-3eb4b58961ae"
      },
      "execution_count": null,
      "outputs": [
        {
          "output_type": "stream",
          "name": "stdout",
          "text": [
            "Entire tuple: (['computer'], ['and'], ['information'], ['science'])\n",
            "First elem: ['computer']\n",
            "First elem: ['computer', 'Hello']\n",
            "First elem: ['computer', 'Hello', 'Gators']\n",
            "word_1: ['computer', 'Hello', 'Gators']\n",
            "Entire tuple: (['computer', 'Hello', 'Gators'], ['and'], ['information'], ['science'])\n"
          ]
        }
      ]
    },
    {
      "cell_type": "code",
      "source": [
        "# does this break the immutability rule?\n",
        "# No, addition creates a new object!\n",
        "a = (1,2,3)\n",
        "b = (4,5,6)\n",
        "c = a + b\n",
        "print(c)"
      ],
      "metadata": {
        "id": "gUbg3MAk7224"
      },
      "execution_count": null,
      "outputs": []
    },
    {
      "cell_type": "code",
      "source": [
        "# does this break the immutability rule?\n",
        "# No, nothing protects names of variables or prevents them from being re-assigned\n",
        "a = (1,2,3)\n",
        "b = (4,5,6)\n",
        "a = a + b\n",
        "print(a)"
      ],
      "metadata": {
        "id": "9OQepgIS7_7M"
      },
      "execution_count": null,
      "outputs": []
    },
    {
      "cell_type": "markdown",
      "source": [
        "## Alias or Copy?\n",
        "\n",
        "https://www.dataquest.io/blog/python-copy-list/\n",
        "\n",
        "<img src=\"https://i.imgur.com/O2fPxr9.png\">"
      ],
      "metadata": {
        "id": "PkZpoE6GpWRR"
      }
    },
    {
      "cell_type": "code",
      "source": [
        "# non-compound lists, with aliasing\n",
        "# Aliasing means that ONE object has MULTIPLE NAMES\n",
        "a = [1,2,3]\n",
        "b = a\n",
        "\n",
        "print(\"a is:\", a)\n",
        "print(\"b is:\", b)\n",
        "\n",
        "b[2] = 'Hello'\n",
        "\n",
        "print(\"a is:\", a)\n",
        "print(\"b is:\", b)"
      ],
      "metadata": {
        "colab": {
          "base_uri": "https://localhost:8080/"
        },
        "id": "LSBQk2p0pSMj",
        "outputId": "4e8a6840-e864-4dc8-8285-078a8fddc2de"
      },
      "execution_count": null,
      "outputs": [
        {
          "output_type": "stream",
          "name": "stdout",
          "text": [
            "a is: [1, 2, 3]\n",
            "b is: [1, 2, 3]\n",
            "a is: [1, 2, 'Hello']\n",
            "b is: [1, 2, 'Hello']\n"
          ]
        }
      ]
    },
    {
      "cell_type": "code",
      "source": [
        "# non-compound lists, without aliasing\n",
        "# non-compound lists can be appropriately copied with the .copy() method\n",
        "a = [1,2,3]\n",
        "b = a.copy()\n",
        "\n",
        "print(\"a is:\", a)\n",
        "print(\"b is:\", b)\n",
        "\n",
        "b[2] = 'Hello'\n",
        "\n",
        "print(\"a is:\", a)\n",
        "print(\"b is:\", b)"
      ],
      "metadata": {
        "colab": {
          "base_uri": "https://localhost:8080/"
        },
        "id": "L-wo4irZp70n",
        "outputId": "cd2ca071-7e40-4e3d-c8a0-65b399f90bb0"
      },
      "execution_count": null,
      "outputs": [
        {
          "output_type": "stream",
          "name": "stdout",
          "text": [
            "a is: [1, 2, 3]\n",
            "b is: [1, 2, 3]\n",
            "a is: [1, 2, 3]\n",
            "b is: [1, 2, 'Hello']\n"
          ]
        }
      ]
    },
    {
      "cell_type": "code",
      "source": [
        "# Compound list with shallow copy and aliasing\n",
        "# Compound list is a list of lists\n",
        "# the .copy() method does not make a deep copy!\n",
        "# The list objects that are inside of department are THE SAME OBJECTS inside the .copy() version\n",
        "# The object in word_1 impacts department and department_dot_copy\n",
        "\n",
        "word_1, word_2, word_3, word_4 = ['computer'], ['and'], ['information'], ['science']\n",
        "department = [word_1, word_2, word_3, word_4] # list of lists is a compound list\n",
        "\n",
        "department_dot_copy = department.copy()\n",
        "\n",
        "print(\"department: \", department)\n",
        "print(\"department_dot_copy: \", department_dot_copy)\n",
        "\n",
        "word_1[0] = 'Hello'\n",
        "\n",
        "print(\"department: \", department)\n",
        "print(\"department_dot_copy: \", department_dot_copy)"
      ],
      "metadata": {
        "colab": {
          "base_uri": "https://localhost:8080/"
        },
        "id": "5Nj8tRtGsCWQ",
        "outputId": "ff4e6d6c-01d4-4d44-be37-a888817369a7"
      },
      "execution_count": null,
      "outputs": [
        {
          "output_type": "stream",
          "name": "stdout",
          "text": [
            "department:  [['computer'], ['and'], ['information'], ['science']]\n",
            "department_dot_copy:  [['computer'], ['and'], ['information'], ['science']]\n",
            "department:  [['Hello'], ['and'], ['information'], ['science']]\n",
            "department_dot_copy:  [['Hello'], ['and'], ['information'], ['science']]\n"
          ]
        }
      ]
    },
    {
      "cell_type": "code",
      "source": [
        "# Compound list with shallow copy and aliasing\n",
        "# Compound list is a list of lists\n",
        "# the .copy() method does not make a deep copy!\n",
        "# The list objects that are inside of department are THE SAME OBJECTS inside the .copy() version\n",
        "# The object in department impacts word_1 and department_dot_copy\n",
        "\n",
        "word_1, word_2, word_3, word_4 = ['computer'], ['and'], ['information'], ['science']\n",
        "department = [word_1, word_2, word_3, word_4] # list of lists is a compound list\n",
        "\n",
        "department_dot_copy = department.copy()\n",
        "\n",
        "print(\"department: \", department)\n",
        "print(\"department_dot_copy: \", department_dot_copy)\n",
        "\n",
        "department[0].append('Hello')\n",
        "\n",
        "print(\"department: \", department)\n",
        "print(\"department_dot_copy: \", department_dot_copy)\n",
        "print(\"word_1:\", word_1)"
      ],
      "metadata": {
        "colab": {
          "base_uri": "https://localhost:8080/"
        },
        "id": "EjNQHVr3uMb5",
        "outputId": "ebe5e649-ba90-4ad1-bf67-5701502a84cb"
      },
      "execution_count": 2,
      "outputs": [
        {
          "output_type": "stream",
          "name": "stdout",
          "text": [
            "department:  [['computer'], ['and'], ['information'], ['science']]\n",
            "department_dot_copy:  [['computer'], ['and'], ['information'], ['science']]\n",
            "department:  [['computer', 'Hello'], ['and'], ['information'], ['science']]\n",
            "department_dot_copy:  [['computer', 'Hello'], ['and'], ['information'], ['science']]\n",
            "word_1: ['computer', 'Hello']\n"
          ]
        }
      ]
    },
    {
      "cell_type": "code",
      "source": [
        "# Compound list with deepcopy\n",
        "# altering department does NOT alter copy_dot_deepcopy_department\n",
        "\n",
        "import copy\n",
        "\n",
        "department = [['computer'], ['and'], ['information'], ['science']]\n",
        "\n",
        "copy_dot_deepcopy_department = copy.deepcopy(department)\n",
        "\n",
        "print(\"department: \", department)\n",
        "print(\"copy_dot_deepcopy_department: \", copy_dot_deepcopy_department)\n",
        "\n",
        "\n",
        "department[0].append('Hello')\n",
        "\n",
        "print(\"department: \", department)\n",
        "print(\"copy_dot_deepcopy_department: \", copy_dot_deepcopy_department)"
      ],
      "metadata": {
        "colab": {
          "base_uri": "https://localhost:8080/"
        },
        "id": "YQN5hu4-uq3V",
        "outputId": "90683e75-ad7a-4f7e-be22-a779669bb2a2"
      },
      "execution_count": null,
      "outputs": [
        {
          "output_type": "stream",
          "name": "stdout",
          "text": [
            "department:  [['computer'], ['and'], ['information'], ['science']]\n",
            "copy_dot_deepcopy_department:  [['computer'], ['and'], ['information'], ['science']]\n",
            "department:  [['computer', 'Hello'], ['and'], ['information'], ['science']]\n",
            "copy_dot_deepcopy_department:  [['computer'], ['and'], ['information'], ['science']]\n"
          ]
        }
      ]
    }
  ]
}