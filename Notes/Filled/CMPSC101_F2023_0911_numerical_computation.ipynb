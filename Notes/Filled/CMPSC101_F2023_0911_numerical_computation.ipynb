{
  "nbformat": 4,
  "nbformat_minor": 0,
  "metadata": {
    "colab": {
      "provenance": [],
      "authorship_tag": "ABX9TyNvn794Mjmzpwv8bLaOfBPj",
      "include_colab_link": true
    },
    "kernelspec": {
      "name": "python3",
      "display_name": "Python 3"
    },
    "language_info": {
      "name": "python"
    }
  },
  "cells": [
    {
      "cell_type": "markdown",
      "metadata": {
        "id": "view-in-github",
        "colab_type": "text"
      },
      "source": [
        "<a href=\"https://colab.research.google.com/github/allegheny-college-cmpsc-101-fall-2023/course-materials/blob/main/Copy_of_Template_CMPSC101_F2023_0911_numerical_computation.ipynb\" target=\"_parent\"><img src=\"https://colab.research.google.com/assets/colab-badge.svg\" alt=\"Open In Colab\"/></a>"
      ]
    },
    {
      "cell_type": "markdown",
      "source": [
        "`flake8` example with command `poetry run task flake8`"
      ],
      "metadata": {
        "id": "9IEu9BhaUM-7"
      }
    },
    {
      "cell_type": "markdown",
      "source": [
        "# Numerical Computation\n",
        "\n",
        "What is it? - algorithmic thinking\n",
        "\n",
        "- example: find the greatest divisor of a number\n",
        "  - exhaustive search\n",
        "  - why? -\n",
        "- example: find the square root of a number\n",
        "  - exhaustive search\n",
        "  - why?\n",
        "- example: find the square root of a number\n",
        "  - binary search\n",
        "  - why?\n",
        "\n"
      ],
      "metadata": {
        "id": "fp5QGy8cSQNC"
      }
    },
    {
      "cell_type": "markdown",
      "source": [
        "Finger exercise: Return the largest divisor of a given numer, x. Hint: if y*z = x and y is the smallest divisor of x, z is the largest divisor of x."
      ],
      "metadata": {
        "id": "ym0-xtDvP0NR"
      }
    },
    {
      "cell_type": "code",
      "execution_count": null,
      "metadata": {
        "id": "Ck2ntwXOPyF0",
        "colab": {
          "base_uri": "https://localhost:8080/"
        },
        "outputId": "3773058c-1c95-4ca0-9234-e33e57ef5d7b"
      },
      "outputs": [
        {
          "output_type": "stream",
          "name": "stdout",
          "text": [
            "enter a positive number: -10\n",
            "the largest divisor of -10 is None\n",
            "-10 is a prime number!\n"
          ]
        }
      ],
      "source": [
        "# let the user input a number, x\n",
        "x = int(input('enter a positive number: '))\n",
        "\n",
        "# initialize the final solution\n",
        "largest_divisor = None\n",
        "\n",
        "# test every number from 2 to x-1 and check divisibility exhaustively with a for loop\n",
        "for divisor in range(2,x):\n",
        "\n",
        "  if x % divisor == 0: # % operator returns remainders\n",
        "    largest_divisor = x/divisor\n",
        "    break\n",
        "\n",
        "print(f'the largest divisor of {x} is {largest_divisor}')\n",
        "\n",
        "if largest_divisor == None:\n",
        "  print(f'{x} is a prime number!')\n",
        "\n"
      ]
    },
    {
      "cell_type": "code",
      "source": [
        "# Copy and modify the above code to work correctly for negative numbers\n",
        "\n",
        "# let the user input a number, x\n",
        "x = int(input('enter a number: '))\n",
        "\n",
        "# initialize the final solution\n",
        "largest_divisor = None\n",
        "\n",
        "# test every number from 2 to x-1 and check divisibility exhaustively with a for loop\n",
        "for divisor in range(2,abs(x)):\n",
        "\n",
        "  if x % divisor == 0: # % operator returns remainders\n",
        "    largest_divisor = x/divisor\n",
        "    break\n",
        "\n",
        "print(f'the largest divisor of {x} is {largest_divisor}')\n",
        "\n",
        "if largest_divisor == None:\n",
        "  print(f'{x} is a prime number!')"
      ],
      "metadata": {
        "id": "DZ5XSfI2fwzn",
        "colab": {
          "base_uri": "https://localhost:8080/"
        },
        "outputId": "f10f1226-f330-414a-f11c-06e1af336b01"
      },
      "execution_count": null,
      "outputs": [
        {
          "output_type": "stream",
          "name": "stdout",
          "text": [
            "enter a number: -10\n",
            "the largest divisor of -10 is -5.0\n"
          ]
        }
      ]
    },
    {
      "cell_type": "code",
      "source": [
        "# let's use a while loop\n",
        "\n",
        "# find prime number\n",
        "x = 999 # is this prime??\n",
        "divisor = 2 # initialize\n",
        "while (x % divisor != 0):\n",
        "  divisor += 1\n",
        "\n",
        "\n",
        "# print the results\n",
        "if divisor == x:\n",
        "  print(f'{x} is a prime number')\n",
        "else:\n",
        "  print(f\"the smallest divisor of {x} is {divisor}\")\n"
      ],
      "metadata": {
        "colab": {
          "base_uri": "https://localhost:8080/"
        },
        "id": "H2GwrCUJabdq",
        "outputId": "813f50b1-134d-4b9a-80ec-223cb89fe362"
      },
      "execution_count": null,
      "outputs": [
        {
          "output_type": "stream",
          "name": "stdout",
          "text": [
            "the smallest divisor of 999 is 3\n"
          ]
        }
      ]
    },
    {
      "cell_type": "code",
      "source": [
        "# Copy and modify the above code to be more efficient\n",
        "\n",
        "# let's use a while loop\n",
        "\n",
        "# find prime number\n",
        "x = 999 # is this prime??\n",
        "divisor = 2 # initialize\n",
        "# check if x % 2 == 0\n",
        "if x % 2 == 0:\n",
        "\n",
        "# if not...\n",
        "else:\n",
        "    while (not x % divisor == 0):\n",
        "      divisor += 2\n",
        "\n",
        "\n",
        "# print the results\n",
        "if divisor == x:\n",
        "  print(f'{x} is a prime number')\n",
        "else:\n",
        "  print(f\"the smallest divisor of {x} is {divisor}\")\n",
        "\n",
        "# also see Sieve of Eratosthenes"
      ],
      "metadata": {
        "id": "CC3OMkDXhadg"
      },
      "execution_count": null,
      "outputs": []
    },
    {
      "cell_type": "code",
      "source": [
        "# numerically find the square root of a number, x\n",
        "# x is greater than 1\n",
        "\n",
        "# sqrt_x * sqrt_x = x +- margin of error\n",
        "# abs(sqrt_x *sqrt_x - x) < epsilon\n",
        "\n",
        "x = int(input('Enter a number: '))\n",
        "epsilon = 0.01\n",
        "step = epsilon\n",
        "sqrt_x = 0\n",
        "\n",
        "while abs(sqrt_x *sqrt_x - x) > epsilon and sqrt_x < x:\n",
        "   sqrt_x += step\n",
        "\n",
        "# is the answer reasonable?\n",
        "# sqrt_x *sqrt_x == 2??\n",
        "\n",
        "print(f'the square root of {x} is approximately {sqrt_x}')"
      ],
      "metadata": {
        "id": "pVtog2IPt-cD",
        "colab": {
          "base_uri": "https://localhost:8080/"
        },
        "outputId": "71f6373e-ef4c-42ea-ee7e-75bad9e08618"
      },
      "execution_count": null,
      "outputs": [
        {
          "output_type": "stream",
          "name": "stdout",
          "text": [
            "Enter a number: 2\n",
            "the square root of 2 is approximately 2.0000000000000013\n"
          ]
        }
      ]
    },
    {
      "cell_type": "code",
      "source": [
        "2**0.5"
      ],
      "metadata": {
        "colab": {
          "base_uri": "https://localhost:8080/"
        },
        "id": "nIAipQqQqwAQ",
        "outputId": "94853514-472f-4b3a-9051-2b6330363ce8"
      },
      "execution_count": null,
      "outputs": [
        {
          "output_type": "execute_result",
          "data": {
            "text/plain": [
              "1.4142135623730951"
            ]
          },
          "metadata": {},
          "execution_count": 11
        }
      ]
    },
    {
      "cell_type": "code",
      "source": [
        "# the above does not always work\n",
        "# why?"
      ],
      "metadata": {
        "id": "u5EPuxRKzcV0"
      },
      "execution_count": null,
      "outputs": []
    }
  ]
}