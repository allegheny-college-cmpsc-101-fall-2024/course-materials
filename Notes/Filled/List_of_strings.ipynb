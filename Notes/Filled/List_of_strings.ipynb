{
  "nbformat": 4,
  "nbformat_minor": 0,
  "metadata": {
    "colab": {
      "provenance": [],
      "authorship_tag": "ABX9TyPcaZ4m0m5LLOCeEcu4R4R5",
      "include_colab_link": true
    },
    "kernelspec": {
      "name": "python3",
      "display_name": "Python 3"
    },
    "language_info": {
      "name": "python"
    }
  },
  "cells": [
    {
      "cell_type": "markdown",
      "metadata": {
        "id": "view-in-github",
        "colab_type": "text"
      },
      "source": [
        "<a href=\"https://colab.research.google.com/github/allegheny-college-cmpsc-101-fall-2023/course-materials/blob/main/Notes/Filled/List_of_strings.ipynb\" target=\"_parent\"><img src=\"https://colab.research.google.com/assets/colab-badge.svg\" alt=\"Open In Colab\"/></a>"
      ]
    },
    {
      "cell_type": "code",
      "execution_count": null,
      "metadata": {
        "colab": {
          "base_uri": "https://localhost:8080/"
        },
        "id": "pgE_tuOeo74n",
        "outputId": "bf84692e-accd-479b-8d90-a0137b74d54c"
      },
      "outputs": [
        {
          "output_type": "stream",
          "name": "stdout",
          "text": [
            "id(N1) 137520736480640\n",
            "id(N2) 137520736480640\n",
            "id(N1[0]) 137521212051504\n",
            "id(N2[0]) 137521212051504\n",
            "id(a) 137521212051504\n"
          ]
        }
      ],
      "source": [
        "a = 'apple' # a is the name of the object \"apple\"\n",
        "b = 'bear' # b is the name of the object \"bear\"\n",
        "\n",
        "N1 = [a,b] # N1 is name of the list that points to the objects that are already in memory\n",
        "N2 = N1 # N2 points to the SAME list in memory!\n",
        "\n",
        "print(\"id(N1)\", id(N1))\n",
        "print(\"id(N2)\", id(N2))\n",
        "\n",
        "print(\"id(N1[0])\", id(N1[0]))\n",
        "print(\"id(N2[0])\", id(N2[0]))\n",
        "print(\"id(a)\", id(a))\n"
      ]
    },
    {
      "cell_type": "code",
      "source": [
        "N2[0] = 'newstring' # 'newstring' is a new object in memory...doesn't have\n",
        "# its own name but the 0th slot in the list now refers to this object!\n",
        "\n",
        "\n",
        "print(\"id(N2[0])\", id(N2[0])) # since it is a new object, it has a new id as well\n",
        "\n",
        "print(N2[0])\n",
        "print(N1[0]) # notice that because N1 and N2 are names refering to the SAME list,\n",
        "# the 0th item in N1 is also changed!\n",
        "\n",
        "print(a) # the name a and its connection to apple object have not been disturbed"
      ],
      "metadata": {
        "colab": {
          "base_uri": "https://localhost:8080/"
        },
        "id": "oZl77QatpQPG",
        "outputId": "9dd6bf8a-8aec-4f7a-c5c8-4a6c081d2ea3"
      },
      "execution_count": null,
      "outputs": [
        {
          "output_type": "stream",
          "name": "stdout",
          "text": [
            "id(N2[0]) 137520370767216\n",
            "newstring\n",
            "newstring\n",
            "apple\n"
          ]
        }
      ]
    },
    {
      "cell_type": "code",
      "source": [
        "N3 = N2[:] # N3 makes a _new_ list object in memomry, but it has old objects inside\n",
        "N3[0] = 'tiger' # 'tiger' object is created and N3[0] refers to it!\n",
        "# this has no impact on N2 since N3 is its own list\n",
        "\n",
        "print(\"id(N2[0])\", id(N2[0]))\n",
        "print(\"id(N3[0])\", id(N3[0]))\n",
        "print(N2[0])\n",
        "print(N3[0])\n"
      ],
      "metadata": {
        "colab": {
          "base_uri": "https://localhost:8080/"
        },
        "id": "rEGVzsDfq_-j",
        "outputId": "d1e7ef2e-5477-4d5f-d450-0fae8d8cf324"
      },
      "execution_count": null,
      "outputs": [
        {
          "output_type": "stream",
          "name": "stdout",
          "text": [
            "id(N2[0]) 137520370767216\n",
            "id(N3[0]) 137520369107376\n",
            "newstring\n",
            "tiger\n"
          ]
        }
      ]
    },
    {
      "cell_type": "code",
      "source": [
        "# Question: Can you change the object that N3[0] refers to without creating a new one???\n",
        "# Why or why not?"
      ],
      "metadata": {
        "id": "JoA0xMEVxJ85"
      },
      "execution_count": null,
      "outputs": []
    }
  ]
}