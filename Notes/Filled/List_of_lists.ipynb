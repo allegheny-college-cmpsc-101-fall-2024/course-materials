{
  "nbformat": 4,
  "nbformat_minor": 0,
  "metadata": {
    "colab": {
      "provenance": [],
      "authorship_tag": "ABX9TyOJwa/SYaVEUJlGnwGkGy2h",
      "include_colab_link": true
    },
    "kernelspec": {
      "name": "python3",
      "display_name": "Python 3"
    },
    "language_info": {
      "name": "python"
    }
  },
  "cells": [
    {
      "cell_type": "markdown",
      "metadata": {
        "id": "view-in-github",
        "colab_type": "text"
      },
      "source": [
        "<a href=\"https://colab.research.google.com/github/allegheny-college-cmpsc-101-fall-2023/course-materials/blob/main/Notes/Filled/List_of_lists.ipynb\" target=\"_parent\"><img src=\"https://colab.research.google.com/assets/colab-badge.svg\" alt=\"Open In Colab\"/></a>"
      ]
    },
    {
      "cell_type": "code",
      "execution_count": 1,
      "metadata": {
        "colab": {
          "base_uri": "https://localhost:8080/"
        },
        "id": "pgE_tuOeo74n",
        "outputId": "c211bdb3-a5eb-4bc5-f894-697199258214"
      },
      "outputs": [
        {
          "output_type": "stream",
          "name": "stdout",
          "text": [
            "id(N1) 135999053545792\n",
            "id(N2) 135999053545792\n",
            "id(N1[0]) 135999053545600\n",
            "id(N2[0]) 135999053545600\n",
            "id(a) 135999053545600\n"
          ]
        }
      ],
      "source": [
        "a = ['apple'] # a is the name of the list object containing \"apple\"\n",
        "b = ['bear'] # b is the name of a different list object containing \"bear\"\n",
        "\n",
        "N1 = [a,b] # N1 is name of the list that points to the objects that are already in memory\n",
        "N2 = N1 # N2 points to the SAME list in memory!\n",
        "\n",
        "print(\"id(N1)\", id(N1))\n",
        "print(\"id(N2)\", id(N2))\n",
        "\n",
        "print(\"id(N1[0])\", id(N1[0]))\n",
        "print(\"id(N2[0])\", id(N2[0]))\n",
        "print(\"id(a)\", id(a))\n"
      ]
    },
    {
      "cell_type": "code",
      "source": [
        "N2[0] = ['newstring'] # 'newstring' is a new list object in memory...doesn't have\n",
        "# its own name but the 0th slot in the N2 list now refers to this object!\n",
        "\n",
        "\n",
        "print(\"id(N2[0])\", id(N2[0])) # since it is a new object, it has a new id as well\n",
        "\n",
        "print(N2[0])\n",
        "print(N1[0]) # notice that because N1 and N2 are names refering to the SAME list,\n",
        "# the 0th item in N1 is also changed!\n",
        "\n",
        "print(a) # the name a and its connection to list with apple object has not been disturbed"
      ],
      "metadata": {
        "colab": {
          "base_uri": "https://localhost:8080/"
        },
        "id": "oZl77QatpQPG",
        "outputId": "4848d441-1857-46d7-a872-e1ff12313641"
      },
      "execution_count": 2,
      "outputs": [
        {
          "output_type": "stream",
          "name": "stdout",
          "text": [
            "id(N2[0]) 135999271133632\n",
            "['newstring']\n",
            "['newstring']\n",
            "['apple']\n"
          ]
        }
      ]
    },
    {
      "cell_type": "code",
      "source": [
        "N3 = N2[:] # N3 makes a _new_ list object in memomry, but it has old objects inside\n",
        "N_test = N2.copy() # shallow copy!\n",
        "N3[0] = ['tiger'] # list object with 'tiger' is created and N3[0] refers to it!\n",
        "# this has no impact on N2 since N3 is its own list\n",
        "\n",
        "print(\"id(N2[0])\", id(N2[0]))\n",
        "print(\"id(N3[0])\", id(N3[0]))\n",
        "print(N2[0])\n",
        "print(N3[0])\n"
      ],
      "metadata": {
        "colab": {
          "base_uri": "https://localhost:8080/"
        },
        "id": "rEGVzsDfq_-j",
        "outputId": "85a4018a-40b8-412d-8368-bec843860f8f"
      },
      "execution_count": 3,
      "outputs": [
        {
          "output_type": "stream",
          "name": "stdout",
          "text": [
            "id(N2[0]) 135999271133632\n",
            "id(N3[0]) 135999053554112\n",
            "['newstring']\n",
            "['tiger']\n"
          ]
        }
      ]
    },
    {
      "cell_type": "code",
      "source": [
        "# Question: Can you change the object that N3[0] refers to without creating a new one???\n",
        "# Why or why not?\n",
        "\n",
        "\n",
        "# YES!!!!! YES !!!! YES!!!! N3[0] is a list! IT CAN BE CHANGED\n",
        "b.append('change')\n"
      ],
      "metadata": {
        "id": "JoA0xMEVxJ85"
      },
      "execution_count": 4,
      "outputs": []
    },
    {
      "cell_type": "code",
      "source": [
        "print(\"N1\", N1)\n",
        "print(\"N2\", N2)\n",
        "print(\"N3\", N3)"
      ],
      "metadata": {
        "id": "L0UXXEk4AKYD",
        "outputId": "89efa8d8-fcc8-43d6-e997-5f164c874f76",
        "colab": {
          "base_uri": "https://localhost:8080/"
        }
      },
      "execution_count": 5,
      "outputs": [
        {
          "output_type": "stream",
          "name": "stdout",
          "text": [
            "N1 [['newstring'], ['bear', 'change']]\n",
            "N2 [['newstring'], ['bear', 'change']]\n",
            "N3 [['tiger'], ['bear', 'change']]\n"
          ]
        }
      ]
    },
    {
      "cell_type": "code",
      "source": [
        "import copy\n",
        "\n",
        "# use function inside copy called deepcopy to make deepcopy\n",
        "N4 = copy.deepcopy(N3)"
      ],
      "metadata": {
        "id": "KEaYKEE0Ak9W"
      },
      "execution_count": null,
      "outputs": []
    },
    {
      "cell_type": "code",
      "source": [
        "# What other objects inside a list could be changed?\n",
        "# What other objects inside a list would be immutable?\n",
        "\n",
        "# If an object is immutable can you reuse it's name?"
      ],
      "metadata": {
        "id": "E6zGicfK1l9J"
      },
      "execution_count": null,
      "outputs": []
    },
    {
      "cell_type": "code",
      "source": [
        "# Tuples are immutable\n",
        "t = ('h','i',)\n",
        "t = t + ('h',) # this line creates a new object!\n",
        "print(t)"
      ],
      "metadata": {
        "id": "KRcBmXuoBqhv",
        "outputId": "733f5282-3f97-4b84-90b4-163305652f6c",
        "colab": {
          "base_uri": "https://localhost:8080/"
        }
      },
      "execution_count": 10,
      "outputs": [
        {
          "output_type": "stream",
          "name": "stdout",
          "text": [
            "('h', 'i', 'h')\n"
          ]
        }
      ]
    }
  ]
}