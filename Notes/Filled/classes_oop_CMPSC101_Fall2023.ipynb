{
  "nbformat": 4,
  "nbformat_minor": 0,
  "metadata": {
    "colab": {
      "provenance": [],
      "collapsed_sections": [
        "0rQnApD9wdLV",
        "PAK0V3ThwiDf",
        "rXt4_kCaxbrk",
        "E0gOcUQn6eTt",
        "Xx6XCBfQgpEU",
        "XNIJOgnghCVq",
        "sCRqwFtWiLJh",
        "AtIukn-yhOGJ",
        "OWP8mZBgjn1J"
      ],
      "authorship_tag": "ABX9TyPNOpX6yrlvk6jGqRDmBgKY",
      "include_colab_link": true
    },
    "kernelspec": {
      "name": "python3",
      "display_name": "Python 3"
    },
    "language_info": {
      "name": "python"
    }
  },
  "cells": [
    {
      "cell_type": "markdown",
      "metadata": {
        "id": "view-in-github",
        "colab_type": "text"
      },
      "source": [
        "<a href=\"https://colab.research.google.com/github/allegheny-college-cmpsc-101-fall-2023/course-materials/blob/main/Notes/Filled/classes_oop_CMPSC101_Fall2023.ipynb\" target=\"_parent\"><img src=\"https://colab.research.google.com/assets/colab-badge.svg\" alt=\"Open In Colab\"/></a>"
      ]
    },
    {
      "cell_type": "markdown",
      "source": [
        "# <font color='lime'>Classes and OOP (Chapter 10)</font>"
      ],
      "metadata": {
        "id": "0rQnApD9wdLV"
      }
    },
    {
      "cell_type": "markdown",
      "source": [
        "### Motivation"
      ],
      "metadata": {
        "id": "PAK0V3ThwiDf"
      }
    },
    {
      "cell_type": "markdown",
      "source": [
        "- Classes allow programmers to <font color='red'>define new types</font>!\n",
        "  - with new types comes new type annotations!\n",
        "- Classes keep code organized and modular\n",
        "  - Classes  <font color='red'>store data</font>\n",
        "  - Classes  <font color='red'>store methods (functions)</font> that operatate on the data\n",
        "  - outside of the class implementation, the class is abstract - it  <font color='red'>hides details from the rest of the code</font>\n",
        "- Examples\n",
        "  - ```python\n",
        "  class Days_of_week():\n",
        "  ```\n",
        "  - ```python\n",
        "  class Person():\n",
        "  ```\n",
        "- everything has to be defined in a class\n",
        "  - comparison instructions\n",
        "  - equality instructions\n",
        "  - addition instructions\n",
        "  - searching/look-up methods\n",
        "  - printing instructions\n"
      ],
      "metadata": {
        "id": "1t-poVAFwlH8"
      }
    },
    {
      "cell_type": "markdown",
      "source": [
        "### Functions vs Classes"
      ],
      "metadata": {
        "id": "rXt4_kCaxbrk"
      }
    },
    {
      "cell_type": "markdown",
      "source": [
        "- Functions\n",
        "  - `def` keyword\n",
        "  - annotations, inputs, implementation, return statement\n",
        "  - functions get \"called\"\n",
        "  - functions operate on input data\n",
        "  - functions can be defined inside of classes - methods\n",
        "  - functions inside of classes have a first positional parameter named self (by convention)\n",
        "- Classes\n",
        "  - `class` keyword\n",
        "  -  <font color='red'>contructors</font>, attributes, methods/functions\n",
        "  - the constructor creates the object based on the \\_\\_init__ function\n",
        "  - classes get <font color='red'>\"instantiated\"</font>\n",
        "  - class methods/functions operate on data stored in an instance of the class"
      ],
      "metadata": {
        "id": "3_bSEvIqxf56"
      }
    },
    {
      "cell_type": "markdown",
      "source": [
        "### More terminology"
      ],
      "metadata": {
        "id": "E0gOcUQn6eTt"
      }
    },
    {
      "cell_type": "markdown",
      "source": [
        "- attributes\n",
        "  - values associated with an object\n",
        "  - accessed with . notation\n",
        "- methods\n",
        "  - function that operates on the object (and it's attributes)\n",
        "  - accessed with . notation\n",
        "  - LEAVE OUT THE FIRST POSITIONAL ARGUMENT!\n",
        "- magic methods or dunder methods\n",
        "  - functions defined with a special format, special names that the interpeter ALREADY KNOWS\n",
        "  - \\_\\_str__\n",
        "  - \\_\\_init__ gets called AUTOMATICALLY to instantiate or create an object\n",
        "- `self` in implementations\n",
        "  - `self` is the conventional name given to the first formal parameter in class functions\n",
        "- `self` in usage\n",
        "  - \"The object associated with the expression preceding the dot is implicitly passed as the first parameter to the method. Throughout this book, we follow the convention of using self as the name of the formal parameter to which this actual parameter is bound. Python programmers observe this convention almost universally, and we strongly suggest that you use it as well.\"\n",
        "  - `self` refers to the instance before the dot .\n",
        "  - don't write `self` when accessing a method in an instance of a class, skip to the second parameter\n",
        "- instance\n",
        "  - instance refers to a created, named object that is of type CLASS\n",
        "- class\n",
        "  - the ABSTRACT data type, not the instance!\n",
        "- other conventions:\n",
        "  - \"_\" this means private, for use inside the class only\n",
        "  - don't access instance variables that start with \"_\"\n",
        "- ref: https://stackoverflow.com/questions/46312470/difference-between-methods-and-attributes-in-python\n",
        "- ref: https://towardsdatascience.com/practical-python-class-vs-instance-variables-431fd16430d"
      ],
      "metadata": {
        "id": "mYWWdzdY6gdP"
      }
    },
    {
      "cell_type": "code",
      "source": [
        "class Train():\n",
        "  \"\"\"Abstract data type representing a train.\"\"\"\n",
        "  def __init__(self):\n",
        "    self._cars = 0\n",
        "\n",
        "  def add(self, num_new_cars: int):\n",
        "    \"\"\"Add cars to the train.\"\"\"\n",
        "    self._cars += num_new_cars\n",
        "\n",
        "  def numcars(self):\n",
        "    return self._cars\n",
        "\n",
        "  def __repr__(self):\n",
        "    return f\"ten more than car...: {self._cars + 10}\"\n"
      ],
      "metadata": {
        "id": "C_qPSmPiwc4g"
      },
      "execution_count": 4,
      "outputs": []
    },
    {
      "cell_type": "code",
      "execution_count": 6,
      "metadata": {
        "id": "pfXYVAQCwVZR",
        "outputId": "0ac00dfa-3cbf-48fc-e47e-10c23bb28d68",
        "colab": {
          "base_uri": "https://localhost:8080/"
        }
      },
      "outputs": [
        {
          "output_type": "stream",
          "name": "stdout",
          "text": [
            "0\n",
            "10\n",
            "25\n"
          ]
        }
      ],
      "source": [
        "t = Train() # t is an instance of the class called # Train.__init__() got called automatically!\n",
        "print(t.numcars()) # use the numcars method on the instance!\n",
        "t.add(10) # use the add method on the instance!\n",
        "print(t.numcars())\n",
        "t.add(15)\n",
        "print(t.numcars())"
      ]
    },
    {
      "cell_type": "code",
      "source": [
        "t = Train()\n",
        "print(t)"
      ],
      "metadata": {
        "id": "FOX-Q7PBdgv1",
        "outputId": "aad272db-c95b-45ce-f81b-14604725b56d",
        "colab": {
          "base_uri": "https://localhost:8080/"
        }
      },
      "execution_count": 7,
      "outputs": [
        {
          "output_type": "stream",
          "name": "stdout",
          "text": [
            "ten more than car...: 10\n"
          ]
        }
      ]
    },
    {
      "cell_type": "code",
      "source": [
        "print(type(Train.numcars)) # function belonging to a class\n",
        "print(type(t.numcars)) # method belonging to an instance of the class\n",
        "\n",
        "print(Train.numcars(t)) # calling a traditional function on an object\n",
        "print(t.numcars()) # using the method with . notation\n"
      ],
      "metadata": {
        "id": "4EAF0XUk9XIR"
      },
      "execution_count": null,
      "outputs": []
    },
    {
      "cell_type": "code",
      "source": [
        "# Write down what each line is demonstrating\n",
        "\n",
        "# creation of list\n",
        "mylist = [1,2,3,4,5]\n",
        "# conventional print\n",
        "print(mylist)\n",
        "#\n",
        "list.append(mylist, 100)\n",
        "# conventional print\n",
        "print(mylist)\n",
        "#\n",
        "mylist.append(9999)\n",
        "# conventional print\n",
        "print(mylist)\n",
        "#\n",
        "print(mylist.append('hello'))\n",
        "# conventional print\n",
        "print(mylist)\n",
        "\n",
        "# Write down what you think the internal signature of append could look like\n"
      ],
      "metadata": {
        "id": "O7IxaOYNDdDH"
      },
      "execution_count": null,
      "outputs": []
    },
    {
      "cell_type": "code",
      "source": [
        "tt = Train()\n",
        "print(tt) # the python interpreter doesn't know how to print the object...this is not a built-in object!"
      ],
      "metadata": {
        "id": "fnqCwXG2Bkwu"
      },
      "execution_count": null,
      "outputs": []
    },
    {
      "cell_type": "markdown",
      "source": [
        "### Overloading operators with dunder methods"
      ],
      "metadata": {
        "id": "Xx6XCBfQgpEU"
      }
    },
    {
      "cell_type": "markdown",
      "source": [
        "- +: \\_\\_add__\n",
        "- -: \\_\\_sub__\n",
        "- **: \\_\\_pow__\n",
        "- <<: \\_\\_lshift__\n",
        "- *: \\_\\_mul__\n",
        "- /: \\_\\_truediv__\n",
        "- //: \\_\\_floordiv__\n",
        "- %: \\_\\_mod__\n",
        "- |: \\_\\_or__\n",
        "- <: \\_\\_lt__\n",
        "- ∧: \\_\\_xor__\n",
        "- \\>: \\_\\_gt__\n",
        "- \\>>: \\_\\_rshsift__\n",
        "- ==: \\_\\_eq__\n",
        "- <=: \\_\\_le__\n",
        "- &: \\_\\_and__\n",
        "- !=: \\_\\_ne__\n",
        "- \\>=: \\_\\_ge__\n",
        "- str: \\_\\_str__\n",
        "- len: \\_\\_len__\n",
        "- hash: \\_\\_hash__\n",
        "- repr: \\_\\_repr__ - https://stackoverflow.com/questions/1436703/what-is-the-difference-between-str-and-repr"
      ],
      "metadata": {
        "id": "v4BISbJ0SNO3"
      }
    },
    {
      "cell_type": "markdown",
      "source": [
        "What do you think \\_\\_hash__ does? Why would this be important?"
      ],
      "metadata": {
        "id": "lXxMx2quhICm"
      }
    },
    {
      "cell_type": "code",
      "source": [
        "# add a __str__ method to Trains, then create an instance and print it!\n",
        "\n",
        "class Train():\n",
        "  \"\"\"Abstract data type representing a train.\"\"\"\n",
        "  def __init__(self):\n",
        "    self._cars = 0\n",
        "\n",
        "  def add(self, num_new_cars: int):\n",
        "    \"\"\"Add cars to the train.\"\"\"\n",
        "    self._cars += num_new_cars\n",
        "\n",
        "  def numcars(self):\n",
        "    return self._cars"
      ],
      "metadata": {
        "id": "44bt4uZXf71m"
      },
      "execution_count": null,
      "outputs": []
    },
    {
      "cell_type": "markdown",
      "source": [
        "# <font color='lime'>Philosophies in OOP</font>"
      ],
      "metadata": {
        "id": "XNIJOgnghCVq"
      }
    },
    {
      "cell_type": "markdown",
      "source": [
        "### Polymorphism - https://www.programiz.com/python-programming/polymorphism"
      ],
      "metadata": {
        "id": "sCRqwFtWiLJh"
      }
    },
    {
      "cell_type": "markdown",
      "source": [
        "- using the same function/method names in multiple classes to make common operations possible using different objects\n",
        "- addition\n",
        "  - it is possible to add ints, floats, strings. What if you want to add days of the week?"
      ],
      "metadata": {
        "id": "w_yweXqXittD"
      }
    },
    {
      "cell_type": "markdown",
      "source": [
        "### Encapsulation"
      ],
      "metadata": {
        "id": "AtIukn-yhOGJ"
      }
    },
    {
      "cell_type": "markdown",
      "source": [
        "- classes encapsulate data and methods to operate on the data\n",
        "- the concept of encapsulation also implies that the data and methods are protected from the outside code\n",
        "  - the programmer has to respect this in implementation and usage\n",
        "- \\_ is protected (one underscore)\n",
        "- \\_\\_ is private (two underscores)\n",
        "- ref: https://pynative.com/python-encapsulation/#:~:text=Encapsulation%20in%20Python%20describes%20the,methods%20into%20a%20single%20unit."
      ],
      "metadata": {
        "id": "CBnCOfdkhQWH"
      }
    },
    {
      "cell_type": "markdown",
      "source": [
        "### Inheritance - https://pynative.com/python-inheritance/"
      ],
      "metadata": {
        "id": "OWP8mZBgjn1J"
      }
    },
    {
      "cell_type": "markdown",
      "source": [
        "- \"child class acquires all the data members, properties, and functions from the parent class\"\n",
        "- child class:parent class has \"IS A\" relationship.\n",
        "- a car IS A vehicle"
      ],
      "metadata": {
        "id": "F-ee7g4ZkQEH"
      }
    },
    {
      "cell_type": "markdown",
      "source": [
        "# <font color='lime'>Summary</font>"
      ],
      "metadata": {
        "id": "8GDymWJmaVct"
      }
    },
    {
      "cell_type": "markdown",
      "source": [
        "- Classes are abstract data types with operations on the data defined inside.\n",
        "- The methods can be applied to instances of the class using the .\n",
        "\n",
        "Question\n",
        "- Why is the concept of a class in object-oriented programming so important?"
      ],
      "metadata": {
        "id": "mteGG58wabVC"
      }
    },
    {
      "cell_type": "markdown",
      "source": [
        "#<font color='lime'>Examples</font>"
      ],
      "metadata": {
        "id": "sX8ZzOMSgkUV"
      }
    },
    {
      "cell_type": "code",
      "source": [
        "# define a person class and all of the components that go along with the class\n",
        "\n",
        "from typing import List\n",
        "\n",
        "class Person:\n",
        "    \"\"\"Define a Person class.\"\"\"\n",
        "\n",
        "    def __init__(\n",
        "        self, name: str, country: str, phone_number: str, job: str, email: str\n",
        "    ) -> None:\n",
        "        \"\"\"Define the constructor for a person.\"\"\"\n",
        "        self.name = name\n",
        "        self.country = country\n",
        "        self.phone_number = phone_number\n",
        "        self.job = job\n",
        "        self.email = email\n",
        "\n",
        "    def __repr__(self) -> str:\n",
        "        \"\"\"Return a textual representation of the person.\"\"\"\n",
        "        return f\"{self.name} is a {self.job} who lives in {self.country}. You can call this person at {self.phone_number} and email them at {self.email}\"\n",
        "\n",
        "    def create_list(self) -> List[str]:\n",
        "        \"\"\"Create a list of strings representing the person.\"\"\"\n",
        "        details = []\n",
        "        details.append(self.name)\n",
        "        details.append(self.country)\n",
        "        details.append(self.phone_number)\n",
        "        details.append(self.job)\n",
        "        details.append(self.email)\n",
        "        return details"
      ],
      "metadata": {
        "id": "Kd1CSEiDgj8g"
      },
      "execution_count": 8,
      "outputs": []
    },
    {
      "cell_type": "code",
      "source": [
        "# create an instance of the person class and then display their textual representation\n",
        "p1 = Person(\"Emily Graber\", \"USA\", \"0123456789\", \"Musician\", \"egraber@allegheny.edu\")\n",
        "p2 = Person(\"apple apple\", \"USA\", \"0123456789\", \"Musician\", \"egraber@allegheny.edu\")\n",
        "p3 = Person(\"Emily Graber\", \"France\", \"0123456789\", \"Musician\", \"egraber@allegheny.edu\")\n",
        "p4 = Person(\"Emily Graber\", \"USA\", \"0123456789\", \"Musician\", \"allegheny@allegheny.edu\")\n",
        "print(p1)\n",
        "print(\"p1.name\", p1.name)"
      ],
      "metadata": {
        "id": "GjHdDDmwoxA-",
        "outputId": "d2c6c920-b962-4b3d-88f5-f37e3a468ff8",
        "colab": {
          "base_uri": "https://localhost:8080/"
        }
      },
      "execution_count": 12,
      "outputs": [
        {
          "output_type": "stream",
          "name": "stdout",
          "text": [
            "Emily Graber is a Musician who lives in USA. You can call this person at 0123456789 and email them at egraber@allegheny.edu\n",
            "p1.name Emily Graber\n"
          ]
        }
      ]
    },
    {
      "cell_type": "code",
      "execution_count": 11,
      "metadata": {
        "id": "42og0GWARpL3",
        "outputId": "f73c6f62-b189-49fe-92cf-f37d6d9075c7",
        "colab": {
          "base_uri": "https://localhost:8080/"
        }
      },
      "outputs": [
        {
          "output_type": "stream",
          "name": "stdout",
          "text": [
            "['Emily Graber', 'USA', '0123456789', 'Musician', 'egraber@allegheny.edu']\n"
          ]
        }
      ],
      "source": [
        "# create a list of the contents of the person and display the contents of the list\n",
        "p1_list = p1.create_list()\n",
        "print(p1_list)"
      ]
    },
    {
      "cell_type": "code",
      "execution_count": null,
      "metadata": {
        "id": "UT71xjvbRpL4"
      },
      "outputs": [],
      "source": [
        "# Technical Task: create as least 2 additional instance of the People class of a classmate you do not yet know\n",
        "# Technical Task: create a list of the contents of the person and display the contents of the list\n",
        "# Combine all the people into one large list"
      ]
    },
    {
      "cell_type": "code",
      "source": [
        "person_list = [p1,p2,p3,p4]\n",
        "print(person_list)"
      ],
      "metadata": {
        "id": "D3snteBulG6F",
        "outputId": "88fbcf81-233f-444d-d0e0-d90273b1af27",
        "colab": {
          "base_uri": "https://localhost:8080/"
        }
      },
      "execution_count": 14,
      "outputs": [
        {
          "output_type": "stream",
          "name": "stdout",
          "text": [
            "[Emily Graber is a Musician who lives in USA. You can call this person at 0123456789 and email them at egraber@allegheny.edu, apple apple is a Musician who lives in USA. You can call this person at 0123456789 and email them at egraber@allegheny.edu, Emily Graber is a Musician who lives in France. You can call this person at 0123456789 and email them at egraber@allegheny.edu, Emily Graber is a Musician who lives in USA. You can call this person at 0123456789 and email them at allegheny@allegheny.edu]\n"
          ]
        }
      ]
    },
    {
      "cell_type": "code",
      "source": [
        "def create_display(person_list: List[Person]) -> str:\n",
        "    person_list_text = \"\"\n",
        "    for current_person in person_list:\n",
        "      person_list_text += \"- \" + str(current_person) + \"\\n\"\n",
        "    return person_list_text\n",
        "\n",
        "# Call the function above and pass in the large list, then write an informative print statement to display the results\n",
        "print(create_display(person_list))"
      ],
      "metadata": {
        "id": "qRn7Opj3p_uy",
        "outputId": "52d17040-443b-486e-fc87-5da9e1a8017b",
        "colab": {
          "base_uri": "https://localhost:8080/"
        }
      },
      "execution_count": 16,
      "outputs": [
        {
          "output_type": "stream",
          "name": "stdout",
          "text": [
            "- Emily Graber is a Musician who lives in USA. You can call this person at 0123456789 and email them at egraber@allegheny.edu\n",
            "- apple apple is a Musician who lives in USA. You can call this person at 0123456789 and email them at egraber@allegheny.edu\n",
            "- Emily Graber is a Musician who lives in France. You can call this person at 0123456789 and email them at egraber@allegheny.edu\n",
            "- Emily Graber is a Musician who lives in USA. You can call this person at 0123456789 and email them at allegheny@allegheny.edu\n",
            "\n"
          ]
        }
      ]
    },
    {
      "cell_type": "code",
      "source": [
        "# use a built-in function getattr - https://docs.python.org/3/library/functions.html#getattr\n",
        "\n",
        "def find_matching_people(attribute: str, matched: str, person_data: List[Person]) -> List[Person]:\n",
        "    matching_people_list = []\n",
        "    for current_person in person_data:\n",
        "      if matched in getattr(current_person, attribute):\n",
        "            matching_people_list.append(current_person)\n",
        "    return matching_people_list\n",
        "\n",
        "\n",
        "# define variables and write a call to the function `find_matching_people`, then write an informative print statement to display the results"
      ],
      "metadata": {
        "id": "oNK8GWSArFow"
      },
      "execution_count": null,
      "outputs": []
    }
  ]
}