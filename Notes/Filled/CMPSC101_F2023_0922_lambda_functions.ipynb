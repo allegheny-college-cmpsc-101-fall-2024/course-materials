{
  "nbformat": 4,
  "nbformat_minor": 0,
  "metadata": {
    "colab": {
      "provenance": [],
      "authorship_tag": "ABX9TyMwJFhmhOoZJ3m51EyeJCUb",
      "include_colab_link": true
    },
    "kernelspec": {
      "name": "python3",
      "display_name": "Python 3"
    },
    "language_info": {
      "name": "python"
    }
  },
  "cells": [
    {
      "cell_type": "markdown",
      "metadata": {
        "id": "view-in-github",
        "colab_type": "text"
      },
      "source": [
        "<a href=\"https://colab.research.google.com/github/allegheny-college-cmpsc-101-fall-2023/course-materials/blob/main/Notes/Filled/CMPSC101_F2023_0922_lambda_functions.ipynb\" target=\"_parent\"><img src=\"https://colab.research.google.com/assets/colab-badge.svg\" alt=\"Open In Colab\"/></a>"
      ]
    },
    {
      "cell_type": "markdown",
      "source": [
        "# Higher order function and lambda functions"
      ],
      "metadata": {
        "id": "5OUhsp2Zil9H"
      }
    },
    {
      "cell_type": "code",
      "source": [
        "# Higher-order fuctions\n",
        "# in-depth example\n",
        "\n",
        "from typing import Any, Callable, List\n",
        "\n",
        "def prioritize(items: List[Any], comparison_function: Callable[[Any,Any],bool]) -> Any:\n",
        "  \"\"\"Return 'largest' or highest priority item.\"\"\"\n",
        "  largest_item_sofar = items[0]\n",
        "  for cur_item in items:\n",
        "    if comparison_function(cur_item,largest_item_sofar): # comparison using '>'\n",
        "      largest_item_sofar = cur_item\n",
        "  return largest_item_sofar"
      ],
      "metadata": {
        "id": "Ve91WV0BCUIk"
      },
      "execution_count": null,
      "outputs": []
    },
    {
      "cell_type": "code",
      "source": [
        "# \"Actual\" comparison functions\n",
        "\n",
        "def int_compare(int1: int, int2: int) -> bool:\n",
        "  \"\"\"Return if first int should be considered \"larger\", given priority.\"\"\"\n",
        "  return int1 > int2\n",
        "\n",
        "def name_compare(name1: str, name2: str) -> bool:\n",
        "  \"\"\"Return if name1 should be considered \"larger\", given priority.\"\"\"\n",
        "  return name1 > name2\n",
        "\n",
        "print(name_compare('Gaber', 'Gevirtz'))"
      ],
      "metadata": {
        "colab": {
          "base_uri": "https://localhost:8080/"
        },
        "id": "-KWEm3FNSxty",
        "outputId": "3baa1fa9-157d-4159-cf53-fa9a5d12e507"
      },
      "execution_count": null,
      "outputs": [
        {
          "output_type": "stream",
          "name": "stdout",
          "text": [
            "False\n"
          ]
        }
      ]
    },
    {
      "cell_type": "code",
      "source": [
        "# additional comparison functions\n",
        "\n",
        "def day_compare(day1: str, day2: str) -> bool:\n",
        "  \"\"\"Return if day1 should be considered \"larger\", given priority.\"\"\"\n",
        "  week = (\"tuesday\", \"monday\", \"wednesday\", \"thursday\", \"friday\", \"saturday\", \"sunday\")\n",
        "  for iday, day in enumerate(week):\n",
        "    if day == day1.lower():\n",
        "      val_day1 = iday\n",
        "    if day == day2.lower():\n",
        "      val_day2 = iday\n",
        "  return val_day1 > val_day2\n",
        "\n",
        "# def rhythm_compare(r1: float, r2: float) -> bool:\n",
        "#   \"\"\"Return if r1 should be considered \"faster\" rhythm, given priority.\"\"\"\n"
      ],
      "metadata": {
        "id": "O62ZkMCTQvuF"
      },
      "execution_count": null,
      "outputs": []
    },
    {
      "cell_type": "code",
      "source": [
        "# Side note: pythonic for loop syntax\n",
        "# which one is more \"pythonic\"\n",
        "\n",
        "rhythm_map = [1, 1/2, 1/4, 1/8, 1/16]\n",
        "for index, item in enumerate(rhythm_map):\n",
        "  print(f\"index is: {index}\")\n",
        "  print(f\"item is: {item}\")\n",
        "\n",
        "print(\"now running second loop.............\")\n",
        "for index in range(len(rhythm_map)):\n",
        "  print(f\"index is: {index}\")\n",
        "  print(f\"item is: {rhythm_map[index]}\")"
      ],
      "metadata": {
        "id": "1hdWinYiNINH"
      },
      "execution_count": null,
      "outputs": []
    },
    {
      "cell_type": "code",
      "source": [
        "# call the prioritize function!\n",
        "priority_day = prioritize(['Monday', 'Saturday', 'tuesday'], day_compare)\n",
        "print(f\"the priority item is: {priority_day}\")\n",
        "\n",
        "priority_day = prioritize(['Monday', 'Saturday', 'tuesday'], name_compare)\n",
        "print(f\"the priority item is: {priority_day}\")"
      ],
      "metadata": {
        "id": "dsffsqyZUzqD",
        "colab": {
          "base_uri": "https://localhost:8080/"
        },
        "outputId": "019e63cf-b8fa-42a4-fab1-5ca8c516efde"
      },
      "execution_count": null,
      "outputs": [
        {
          "output_type": "stream",
          "name": "stdout",
          "text": [
            "the priority item is: Saturday\n",
            "the priority item is: tuesday\n"
          ]
        }
      ]
    },
    {
      "cell_type": "code",
      "source": [
        "# Lambda functions\n",
        "# call the prioritize function with a lambda function, alphabetical\n",
        "priority_string = prioritize(['zMoon', 'Saturn', 'aTea'], lambda str1, str2: str1 > str2)\n",
        "print(f\"the priority item is: {priority_string}\")\n"
      ],
      "metadata": {
        "id": "SzLVjeB0WtCF",
        "colab": {
          "base_uri": "https://localhost:8080/"
        },
        "outputId": "549dea48-acaa-453b-d9ac-78c4833364c9"
      },
      "execution_count": null,
      "outputs": [
        {
          "output_type": "stream",
          "name": "stdout",
          "text": [
            "the priority item is: zMoon\n"
          ]
        }
      ]
    },
    {
      "cell_type": "code",
      "source": [
        "# Mixing lambdas and keyword arguments\n",
        "\n",
        "priority_string = prioritize(['zMoon', 'Saturn', 'aTea'], comparison_function = lambda str1, str2: str1 > str2)\n",
        "print(f\"the priority item is: {priority_string}\")"
      ],
      "metadata": {
        "id": "eqS4HpUIaxv2",
        "colab": {
          "base_uri": "https://localhost:8080/"
        },
        "outputId": "88d0c975-66ae-4916-886e-dce11ab69598"
      },
      "execution_count": null,
      "outputs": [
        {
          "output_type": "stream",
          "name": "stdout",
          "text": [
            "the priority item is: zMoon\n"
          ]
        }
      ]
    },
    {
      "cell_type": "code",
      "source": [
        "# Summary on lambdas\n",
        "# the syntax of a lambda is:\n",
        "lambda variables: expression using variables\n",
        "\n",
        "lambda str1, str2: str1 > str2\n",
        "\n",
        "# lambda function are \"anonymous\"\n",
        "# they do not need a name\n",
        "# they do not need to be defined in the function definition section of a script\n",
        "# they should not be reused, otherwise they should be defined as a real function\n",
        "\n",
        "# try writing lambda functions:\n",
        "# - squaring function on variable x\n",
        "# - cubing function on variable x\n",
        "# - difference function that subtracts two variables\n",
        "# - difference function that subtracts two variables, converts the difference to a string, and reverses the string"
      ],
      "metadata": {
        "id": "Wa0-nd4jYbZe"
      },
      "execution_count": null,
      "outputs": []
    },
    {
      "cell_type": "code",
      "source": [
        "# You should feel comfortable defining the terms below and writing at least one code example to demonstrate each term\n",
        "\n",
        "# function\n",
        "# lambda function\n",
        "# positional arguments\n",
        "# keyword or names arguments\n",
        "# default values\n",
        "# higher order functions\n",
        "# function scope\n",
        "# local variable\n",
        "# return statement\n",
        "# function signature\n",
        "# docstring\n",
        "# dot notation\n",
        "\n",
        "# If you need a reference, try Chapter 4 of Guttag (in Alden Library)\n"
      ],
      "metadata": {
        "id": "QEX1JHF0gwIl"
      },
      "execution_count": null,
      "outputs": []
    }
  ]
}