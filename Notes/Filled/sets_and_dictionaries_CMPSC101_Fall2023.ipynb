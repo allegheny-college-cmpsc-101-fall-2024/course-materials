{
  "nbformat": 4,
  "nbformat_minor": 0,
  "metadata": {
    "colab": {
      "provenance": [],
      "authorship_tag": "ABX9TyPPtRbd2F/8r3gYL5UiwUB6",
      "include_colab_link": true
    },
    "kernelspec": {
      "name": "python3",
      "display_name": "Python 3"
    },
    "language_info": {
      "name": "python"
    }
  },
  "cells": [
    {
      "cell_type": "markdown",
      "metadata": {
        "id": "view-in-github",
        "colab_type": "text"
      },
      "source": [
        "<a href=\"https://colab.research.google.com/github/allegheny-college-cmpsc-101-fall-2023/course-materials/blob/main/Notes/Filled/sets_and_dictionaries_CMPSC101_Fall2023.ipynb\" target=\"_parent\"><img src=\"https://colab.research.google.com/assets/colab-badge.svg\" alt=\"Open In Colab\"/></a>"
      ]
    },
    {
      "cell_type": "markdown",
      "source": [
        "Announcements\n",
        "- Exam grades are in GitHub, and comments are in your repos\n",
        "- Review your exam\n",
        "- Try to articulate what concepts were confusing and why - even write it out!\n",
        "- come to office hours with lingering questions\n",
        "- anonymous midterm feedback survey\n",
        "- warmup questions in class\n",
        "- I'm thinking about exam credit and assignment credits...will let you know next week. If you have suggestions, you can put them in the survey\n"
      ],
      "metadata": {
        "id": "sIXeuehGvo9U"
      }
    },
    {
      "cell_type": "markdown",
      "source": [
        "Pseudo-code for Source Code Survey"
      ],
      "metadata": {
        "id": "FBOEDxFsJnRU"
      }
    },
    {
      "cell_type": "code",
      "source": [
        "# Pseudo code for intersections\n",
        "\n",
        "# if you have two tuples, how can you figure out their intersection?\n",
        "\n",
        "# some useful facts\n",
        "# a = (1,2,3)\n",
        "# b = (4,5,6)\n",
        "# '+' makes a new object\n",
        "\n",
        "# a[0] # reading fine\n",
        "# a[0] = 10 # assignment bad\n",
        "\n",
        "# LOGICAL STEPS\n",
        "# 1. take out one element from first tuple\n",
        "# 2. check if it matches any of the elements in the second tuple\n",
        "# 3. if there is a match, save that element\n",
        "# 4. repeat steps 2 and 3 until all the elements in the second tuple have been checked!\n",
        "# 5. repeat steps 1-4 for every element in the first tuple\n",
        "\n",
        "# translation of logic to pseudo code\n",
        "# * look for words like \"repeat\" ===> loop\n",
        "# * look for words like \"save\",\"store\" ===> possible variable initialization\n",
        "\n",
        "# PSEUDO CODE\n",
        "# initialization of results variable\n",
        "# loop over the first tuple\n",
        "#     loop over second tuple\n",
        "#           check if element from first tuple matches the item pulled out of the second tuple\n",
        "#           if there is a match, save that element in results variable\n",
        "\n",
        "\n",
        "# pg 91"
      ],
      "metadata": {
        "id": "1KITwNW2JHS1"
      },
      "execution_count": null,
      "outputs": []
    },
    {
      "cell_type": "code",
      "source": [
        "# Pseudo code for higher order function\n",
        "\n",
        "# say you want to be able to apply some kind of function to every element in a list...\n",
        "\n",
        "# the problem is that this doesn't work:\n",
        "a = [-1,2,-3,-4]\n",
        "abs_a = abs(a)\n",
        "\n",
        "# lets write out the logic, then the pseudo code\n",
        "\n",
        "# LOGICAL STEPS\n",
        "# 1. get an element out of the list\n",
        "# 2. apply the function of your choice to that element\n",
        "# 3. save the return value (appending)\n",
        "# 4. repeat steps 2-3 on the next element of the list\n",
        "# 5. return the final result\n",
        "\n",
        "# PSEUDO CODE\n",
        "# intialize a result variable\n",
        "# loop over the list (get an element out of the list)\n",
        "  # apply the function of your choice to that element\n",
        "  # save the return value (appending onto the result variable)\n",
        "# return the result variable\n",
        "\n",
        "# pg 105"
      ],
      "metadata": {
        "id": "4LTr43reJlAB"
      },
      "execution_count": null,
      "outputs": []
    },
    {
      "cell_type": "markdown",
      "source": [
        "# Sets and Dictionaries"
      ],
      "metadata": {
        "id": "r5erqDi5CBRC"
      }
    },
    {
      "cell_type": "markdown",
      "source": [
        "\n",
        "### Sets\n",
        "- are a container, like lists and tuples\n",
        "- use {} curly braces!\n",
        "- `my_set = {1, 4.5, (1,2,3), 'hello'}`\n",
        "- they are Iterable - you can use them in a loop (like tuple, range, list, str)\n",
        "- BUT\n",
        "- they are unordered (unlike lists and tuples) - you cannot index into a set\n",
        "- the order of the items that come out is undefined\n",
        "\n",
        "`my_set[0] # this will fail`\n",
        "\n",
        "- they contain only unique items (no duplicates)\n",
        "- they contain only items that are hashable!\n",
        "- hashable refers to items that cannot be altered! i.e. that are REALLY immutable\n",
        "\n",
        "documentation: https://python-reference.readthedocs.io/en/latest/docs/sets/\n",
        "- .add()\n",
        "- .update()\n",
        "- .remove()\n",
        "- .discard()\n",
        "- .union()\n",
        "- .intersection()\n",
        "- .difference()\n",
        "- `if elem in set`"
      ],
      "metadata": {
        "id": "8AwtpJI_CdLt"
      }
    },
    {
      "cell_type": "code",
      "source": [
        "# 7. with this code, what is happening?\n",
        "# - set defined with strings inside\n",
        "# - crash because and element of the set is accessed by an ordered index [0]\n",
        "# - sets are not ordered\n",
        "\n",
        "department = {'computer', 'and', 'information', 'science'}\n",
        "# look at entire set\n",
        "print(\"Entire set:\", department)\n",
        "# add and element\n",
        "department.add('Hello')\n",
        "# look at entire set\n",
        "print(\"Entire set:\", department)\n",
        "# look at first element\n",
        "print(\"First elem:\", department[0])"
      ],
      "metadata": {
        "id": "J3BKsq1Gam-u"
      },
      "execution_count": null,
      "outputs": []
    },
    {
      "cell_type": "code",
      "source": [
        "# 8. with this code, what is happening?\n",
        "# - set defined with strings inside\n",
        "# - RUNS because strings are hashable\n",
        "# - sets can only contain hashable items\n",
        "\n",
        "department = {'computer', 'computer', 'computer', 'science'}\n",
        "# look at entire set\n",
        "print(\"Entire set:\", department)\n",
        "print(len(department))"
      ],
      "metadata": {
        "id": "c2BQoHhl65-j"
      },
      "execution_count": null,
      "outputs": []
    },
    {
      "cell_type": "code",
      "source": [
        "# 9. with this code, what is happening?\n",
        "# - word_ variables are storing lists with strings\n",
        "# - the lists are put into a set\n",
        "# - crash because lists are not hashable\n",
        "# - sets can only contain hashable items\n",
        "\n",
        "word_1, word_a, word_first, word_alpha = ['computer'], ['and'], ['information'], ['science']\n",
        "department = {word_1, word_a, word_first, word_alpha}"
      ],
      "metadata": {
        "id": "eNy9fkSD2rke"
      },
      "execution_count": null,
      "outputs": []
    },
    {
      "cell_type": "code",
      "source": [
        "# containment example\n",
        "example_set = {'hello','darkness','my old friend', 1234}\n",
        "contains_hello = 'hello' in example_set\n",
        "contains_HELLO = 'HELLO' in example_set\n",
        "print(f\"contains_hello is {contains_hello}, and contains_HELLO is {contains_HELLO}\")"
      ],
      "metadata": {
        "id": "8vp-aUP_4oZ1"
      },
      "execution_count": null,
      "outputs": []
    },
    {
      "cell_type": "markdown",
      "source": [
        "### Hashability"
      ],
      "metadata": {
        "id": "kufTql-35rMo"
      }
    },
    {
      "cell_type": "code",
      "source": [
        "# test hashability of tuples\n",
        "a = (1.0, True, \"hello\")\n",
        "print(hash(a))\n",
        "# tiny numeric changes impact hash!\n",
        "a = (1.01, True, \"hello\")\n",
        "print(hash(a))\n",
        "\n",
        "# what goes wrong here?\n",
        "# a_altered cannot be hashed because it contains a list which cannot be hashed because lists are mutable\n",
        "a_altered = ([1.01], True, \"hello\")\n",
        "print(hash(a_altered))\n"
      ],
      "metadata": {
        "id": "ae3GucDp2YoW"
      },
      "execution_count": null,
      "outputs": []
    },
    {
      "cell_type": "code",
      "source": [
        "# test hashability of sets\n",
        "# what goes wrong here?\n",
        "# Sets are mutable, and cannot be hashed\n",
        "a = {1,2,\"3\"}\n",
        "print(hash(a))\n"
      ],
      "metadata": {
        "id": "VbKpzKhXw2kw"
      },
      "execution_count": null,
      "outputs": []
    },
    {
      "cell_type": "code",
      "source": [
        "# demonstrating the hashability of items inside a set\n",
        "example_set = {'hello','darkness','my old friend', 1234}\n",
        "\n",
        "for item in example_set:\n",
        "  print(f\"item {item} has hash: {hash(item)}\")\n"
      ],
      "metadata": {
        "id": "rgxFxQTb2m_0"
      },
      "execution_count": null,
      "outputs": []
    },
    {
      "cell_type": "code",
      "source": [
        "# sets are not subscriptable\n",
        "example_set = {'hello','darkness','my old friend', 1234}\n",
        "for i in range(len(example_set)):\n",
        "  item = example_set[i]\n",
        "  print(f\"item {item} has hash: {hash(item)}\")\n"
      ],
      "metadata": {
        "id": "OyZ2oc0e2Fp6"
      },
      "execution_count": null,
      "outputs": []
    },
    {
      "cell_type": "markdown",
      "source": [
        "### Dictionary\n",
        "\n",
        "- `my_dict = {key1:value1, key2:value2}`\n",
        "- keys must be hashable\n",
        "- dictionaries are unordered\n",
        "- dictionary values are accessed by key `my_dict[key1] == value1`\n",
        "- dictionaries are not indexed by regular indices\n",
        "- documentation: https://python-reference.readthedocs.io/en/latest/docs/dict/\n"
      ],
      "metadata": {
        "id": "ftM4MSW057-z"
      }
    },
    {
      "cell_type": "code",
      "source": [
        "month_map1 = {\n",
        " 'Jan':1,\n",
        " 'Feb':2,\n",
        " 'Mar':3,\n",
        " 'Dec':12}\n",
        "\n",
        "month_map2 = {\n",
        " 1:'Jan',\n",
        " 2:'Feb',\n",
        " 3:'Mar',\n",
        " 12:'Dec'\n",
        " }\n",
        "\n",
        "print(month_map1)\n",
        "print(month_map2)"
      ],
      "metadata": {
        "id": "s8GYyv-x57Ik",
        "colab": {
          "base_uri": "https://localhost:8080/"
        },
        "outputId": "3bbede36-1ebb-4382-bae7-1f25b9a4fc3d"
      },
      "execution_count": 9,
      "outputs": [
        {
          "output_type": "stream",
          "name": "stdout",
          "text": [
            "{'Jan': 1, 'Feb': 2, 'Mar': 3, 'Dec': 12}\n",
            "{1: 'Jan', 2: 'Feb', 3: 'Mar', 12: 'Dec'}\n"
          ]
        }
      ]
    },
    {
      "cell_type": "code",
      "source": [
        "# Iterable\n",
        "for key in month_map1:\n",
        "  print(key)"
      ],
      "metadata": {
        "id": "mBsnK88u9HOh",
        "colab": {
          "base_uri": "https://localhost:8080/"
        },
        "outputId": "a937b31e-4ffe-4546-9c4e-7837a402db67"
      },
      "execution_count": 10,
      "outputs": [
        {
          "output_type": "stream",
          "name": "stdout",
          "text": [
            "Jan\n",
            "Feb\n",
            "Mar\n",
            "Dec\n"
          ]
        }
      ]
    },
    {
      "cell_type": "markdown",
      "source": [],
      "metadata": {
        "id": "0om3KZcibMmd"
      }
    },
    {
      "cell_type": "markdown",
      "source": [
        "### TODO: fill out this table with a partner (write between the pipe lines `|`)\n",
        "\n",
        "|Type |Internal elements|Examples of literals|Mutable|Iterable|Hashable|Ordered|\n",
        "|-----|-----------------|--------------------|-------|--------|--------|-------|\n",
        "|str  |characteres| `'a', '10 0', '(1.2.3)' `   |No|Yes|Yes|Yes|\n",
        "|tuple|Any|`(1,\"2\",3.4, False), ()`  </br> ` (3,), tuple([1,True,\"3\"])`|No|Yes|Yes  </br> if all internal elements  </br>  are hashable|Yes|\n",
        "|range|takes and produces integers|`range(1,100,5)`|No|Yes|Yes|Yes|\n",
        "|list |Any|`[1,\"True\", True, float(True), [2,3]]`|Yes|Yes|No|Yes|\n",
        "|set  |Anything hashable|`{1,\"True\", True, float(True)}`|Yes|Yes|No|No|\n",
        "|dict |Anything hashable as key </br> Any as value|`{'table1':['salad', 'rice', 'tofu'], 'table2':(1,2,3)}`|Yes|Yes|No|No|\n",
        "\n"
      ],
      "metadata": {
        "id": "eclnZ5D2ELjn"
      }
    }
  ]
}