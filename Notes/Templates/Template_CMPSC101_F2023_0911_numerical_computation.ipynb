{
  "nbformat": 4,
  "nbformat_minor": 0,
  "metadata": {
    "colab": {
      "provenance": [],
      "authorship_tag": "ABX9TyO1mcQ8u+omFaO1P3uwngoq",
      "include_colab_link": true
    },
    "kernelspec": {
      "name": "python3",
      "display_name": "Python 3"
    },
    "language_info": {
      "name": "python"
    }
  },
  "cells": [
    {
      "cell_type": "markdown",
      "metadata": {
        "id": "view-in-github",
        "colab_type": "text"
      },
      "source": [
        "<a href=\"https://colab.research.google.com/github/allegheny-college-cmpsc-101-fall-2023/course-materials/blob/main/Template_CMPSC101_F2023_0911_numerical_computation.ipynb\" target=\"_parent\"><img src=\"https://colab.research.google.com/assets/colab-badge.svg\" alt=\"Open In Colab\"/></a>"
      ]
    },
    {
      "cell_type": "markdown",
      "source": [
        "`flake8` example with command `poetry run task flake8`"
      ],
      "metadata": {
        "id": "9IEu9BhaUM-7"
      }
    },
    {
      "cell_type": "markdown",
      "source": [
        "# Numerical Computation\n",
        "\n",
        "What is it?\n",
        "\n",
        "- example: find the greatest divisor of a number\n",
        "  - exhaustive search\n",
        "  - why?\n",
        "- example: find the square root of a number\n",
        "  - exhaustive search\n",
        "  - why?\n",
        "- example: find the square root of a number\n",
        "  - binary search\n",
        "  - why?\n",
        "\n"
      ],
      "metadata": {
        "id": "fp5QGy8cSQNC"
      }
    },
    {
      "cell_type": "markdown",
      "source": [
        "Finger exercise: Return the largest divisor of a given numer, x. Hint: if y*z = x and y is the smallest divisor of x, z is the largest divisor of x."
      ],
      "metadata": {
        "id": "ym0-xtDvP0NR"
      }
    },
    {
      "cell_type": "code",
      "execution_count": null,
      "metadata": {
        "id": "Ck2ntwXOPyF0"
      },
      "outputs": [],
      "source": [
        "# let the user input a number, x\n",
        "x = int(input('enter a positive number: '))\n",
        "\n",
        "# initialize the final solution\n",
        "\n",
        "\n",
        "# test every number from 2 to x-1 and check divisibility exhaustively with a for loop\n",
        "\n",
        "\n"
      ]
    },
    {
      "cell_type": "code",
      "source": [
        "# Copy and modify the above code to work correctly for negative numbers\n",
        "\n"
      ],
      "metadata": {
        "id": "DZ5XSfI2fwzn"
      },
      "execution_count": null,
      "outputs": []
    },
    {
      "cell_type": "code",
      "source": [
        "# let's use a while loop\n",
        "\n",
        "# find prime number\n",
        "x = 99907\n",
        "divisor = 2\n",
        "while ...\n",
        "\n",
        "# print the results\n",
        "if divisor == x:\n",
        "  print(f'{x} is a prime number')\n",
        "else:\n",
        "  print(f\"the smallest divisor of {x} is {divisor}\")\n"
      ],
      "metadata": {
        "colab": {
          "base_uri": "https://localhost:8080/"
        },
        "id": "H2GwrCUJabdq",
        "outputId": "1b998dda-873e-4bdb-d45f-56db78fb3696"
      },
      "execution_count": null,
      "outputs": [
        {
          "output_type": "stream",
          "name": "stdout",
          "text": [
            "99907 is a prime number\n"
          ]
        }
      ]
    },
    {
      "cell_type": "code",
      "source": [
        "# Copy and modify the above code to be more efficient"
      ],
      "metadata": {
        "id": "CC3OMkDXhadg"
      },
      "execution_count": null,
      "outputs": []
    },
    {
      "cell_type": "code",
      "source": [
        "# numerically find the square root of a number, x\n"
      ],
      "metadata": {
        "id": "pVtog2IPt-cD"
      },
      "execution_count": null,
      "outputs": []
    },
    {
      "cell_type": "code",
      "source": [
        "# square root with exhaustive search\n",
        "\n"
      ],
      "metadata": {
        "id": "IpgGvoZVxM4V"
      },
      "execution_count": null,
      "outputs": []
    },
    {
      "cell_type": "code",
      "source": [
        "# the above does not always work\n",
        "# why?"
      ],
      "metadata": {
        "id": "u5EPuxRKzcV0"
      },
      "execution_count": null,
      "outputs": []
    },
    {
      "cell_type": "code",
      "source": [
        "# but there are other ways! Instead of doing an exhaustive search,\n",
        "# you can do a binary search!\n"
      ],
      "metadata": {
        "id": "ZZuJDGmGI18r"
      },
      "execution_count": null,
      "outputs": []
    }
  ]
}