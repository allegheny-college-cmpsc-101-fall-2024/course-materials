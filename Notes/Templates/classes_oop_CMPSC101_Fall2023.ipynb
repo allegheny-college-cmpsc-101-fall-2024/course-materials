{
  "nbformat": 4,
  "nbformat_minor": 0,
  "metadata": {
    "colab": {
      "provenance": [],
      "collapsed_sections": [
        "0rQnApD9wdLV",
        "PAK0V3ThwiDf",
        "rXt4_kCaxbrk",
        "E0gOcUQn6eTt",
        "Xx6XCBfQgpEU",
        "XNIJOgnghCVq",
        "sCRqwFtWiLJh",
        "AtIukn-yhOGJ",
        "OWP8mZBgjn1J"
      ],
      "authorship_tag": "ABX9TyOjd866kd84oRTfRz4JCf+R",
      "include_colab_link": true
    },
    "kernelspec": {
      "name": "python3",
      "display_name": "Python 3"
    },
    "language_info": {
      "name": "python"
    }
  },
  "cells": [
    {
      "cell_type": "markdown",
      "metadata": {
        "id": "view-in-github",
        "colab_type": "text"
      },
      "source": [
        "<a href=\"https://colab.research.google.com/github/allegheny-college-cmpsc-101-fall-2023/course-materials/blob/main/Notes/Templates/classes_oop_CMPSC101_Fall2023.ipynb\" target=\"_parent\"><img src=\"https://colab.research.google.com/assets/colab-badge.svg\" alt=\"Open In Colab\"/></a>"
      ]
    },
    {
      "cell_type": "markdown",
      "source": [
        "# <font color='lime'>Classes and OOP (Chapter 10)</font>"
      ],
      "metadata": {
        "id": "0rQnApD9wdLV"
      }
    },
    {
      "cell_type": "markdown",
      "source": [
        "### Motivation"
      ],
      "metadata": {
        "id": "PAK0V3ThwiDf"
      }
    },
    {
      "cell_type": "markdown",
      "source": [
        "- Classes allow programmers to <font color='red'>define new types</font>!\n",
        "  - with new types comes new type annotations!\n",
        "- Classes keep code organized and modular\n",
        "  - Classes  <font color='red'>store data</font>\n",
        "  - Classes  <font color='red'>store methods (functions)</font> that operatate on the data\n",
        "  - outside of the class implementation, the class is abstract - it  <font color='red'>hides details from the rest of the code</font>\n",
        "- Examples\n",
        "  - ```python\n",
        "  class Days_of_week():\n",
        "  ```\n",
        "  - ```python\n",
        "  class Person():\n",
        "  ```\n",
        "- everything has to be defined in a class\n",
        "  - comparison instructions\n",
        "  - equality instructions\n",
        "  - addition instructions\n",
        "  - searching/look-up methods\n",
        "  - printing instructions\n"
      ],
      "metadata": {
        "id": "1t-poVAFwlH8"
      }
    },
    {
      "cell_type": "markdown",
      "source": [
        "### Functions vs Classes"
      ],
      "metadata": {
        "id": "rXt4_kCaxbrk"
      }
    },
    {
      "cell_type": "markdown",
      "source": [
        "- Functions\n",
        "  - `def` keyword\n",
        "  - annotations, inputs, implementation, return statement\n",
        "  - functions get \"called\"\n",
        "  - functions operate on input data\n",
        "  - functions can be defined inside of classes - methods\n",
        "  - functions inside of classes have a first positional parameter named self (by convention)\n",
        "- Classes\n",
        "  - `class` keyword\n",
        "  -  <font color='red'>contructors</font>, attributes, methods/functions\n",
        "  - the constructor creates the object based on the \\_\\_init__ function\n",
        "  - classes get <font color='red'>\"instantiated\"</font>\n",
        "  - class methods/functions operate on data stored in an instance of the class"
      ],
      "metadata": {
        "id": "3_bSEvIqxf56"
      }
    },
    {
      "cell_type": "markdown",
      "source": [
        "### More terminology"
      ],
      "metadata": {
        "id": "E0gOcUQn6eTt"
      }
    },
    {
      "cell_type": "markdown",
      "source": [
        "- attributes\n",
        "  - values associated with an object\n",
        "  - accessed with . notation\n",
        "- methods\n",
        "  - function that operates on the object (and it's attributes)\n",
        "  - accessed with . notation\n",
        "  - LEAVE OUT THE FIRST POSITIONAL ARGUMENT!\n",
        "- magic methods or dunder methods\n",
        "  - functions defined with a special format, special names that the interpeter ALREADY KNOWS\n",
        "  - \\_\\_str__\n",
        "  - \\_\\_init__ gets called AUTOMATICALLY to instantiate or create an object\n",
        "- `self` in implementations\n",
        "  - `self` is the conventional name given to the first formal parameter in class functions\n",
        "- `self` in usage\n",
        "  - \"The object associated with the expression preceding the dot is implicitly passed as the first parameter to the method. Throughout this book, we follow the convention of using self as the name of the formal parameter to which this actual parameter is bound. Python programmers observe this convention almost universally, and we strongly suggest that you use it as well.\"\n",
        "  - `self` refers to the instance before the dot .\n",
        "  - don't write `self` when accessing a method in an instance of a class, skip to the second parameter\n",
        "- instance\n",
        "  - instance refers to a created, named object that is of type CLASS\n",
        "- class\n",
        "  - the ABSTRACT data type, not the instance!\n",
        "- other conventions:\n",
        "  - \"_\" this means private, for use inside the class only\n",
        "  - don't access instance variables that start with \"_\"\n",
        "- ref: https://stackoverflow.com/questions/46312470/difference-between-methods-and-attributes-in-python\n",
        "- ref: https://towardsdatascience.com/practical-python-class-vs-instance-variables-431fd16430d"
      ],
      "metadata": {
        "id": "mYWWdzdY6gdP"
      }
    },
    {
      "cell_type": "code",
      "source": [
        "class Train():\n",
        "  \"\"\"Abstract data type representing a train.\"\"\"\n",
        "  def __init__(self):\n",
        "    self._cars = 0\n",
        "\n",
        "  def add(self, num_new_cars: int):\n",
        "    \"\"\"Add cars to the train.\"\"\"\n",
        "    self._cars += num_new_cars\n",
        "\n",
        "  def numcars(self):\n",
        "    return self._cars"
      ],
      "metadata": {
        "id": "C_qPSmPiwc4g"
      },
      "execution_count": 9,
      "outputs": []
    },
    {
      "cell_type": "code",
      "execution_count": null,
      "metadata": {
        "id": "pfXYVAQCwVZR"
      },
      "outputs": [],
      "source": [
        "t = Train() # t is an instance of the class called # Train.__init__() got called automatically!\n",
        "print(t.numcars()) # use the numcars method on the instance!\n",
        "t.add(10) # use the add method on the instance!\n",
        "print(t.numcars())\n",
        "t.add(15)\n",
        "print(t.numcars())"
      ]
    },
    {
      "cell_type": "code",
      "source": [
        "print(type(Train.numcars)) # function belonging to a class\n",
        "print(type(t.numcars)) # method belonging to an instance of the class\n",
        "\n",
        "print(Train.numcars(t)) # calling a traditional function on an object\n",
        "print(t.numcars()) # using the method with . notation\n"
      ],
      "metadata": {
        "id": "4EAF0XUk9XIR"
      },
      "execution_count": null,
      "outputs": []
    },
    {
      "cell_type": "code",
      "source": [
        "# Write down what each line is demonstrating\n",
        "\n",
        "# creation of list\n",
        "mylist = [1,2,3,4,5]\n",
        "# conventional print\n",
        "print(mylist)\n",
        "#\n",
        "list.append(mylist, 100)\n",
        "# conventional print\n",
        "print(mylist)\n",
        "#\n",
        "mylist.append(9999)\n",
        "# conventional print\n",
        "print(mylist)\n",
        "#\n",
        "print(mylist.append('hello'))\n",
        "# conventional print\n",
        "print(mylist)\n",
        "\n",
        "# Write down what you think the internal signature of append could look like\n"
      ],
      "metadata": {
        "id": "O7IxaOYNDdDH"
      },
      "execution_count": null,
      "outputs": []
    },
    {
      "cell_type": "code",
      "source": [
        "tt = Train()\n",
        "print(tt) # the python interpreter doesn't know how to print the object...this is not a built-in object!"
      ],
      "metadata": {
        "id": "fnqCwXG2Bkwu"
      },
      "execution_count": null,
      "outputs": []
    },
    {
      "cell_type": "markdown",
      "source": [
        "### Overloading operators with dunder methods"
      ],
      "metadata": {
        "id": "Xx6XCBfQgpEU"
      }
    },
    {
      "cell_type": "markdown",
      "source": [
        "- +: \\_\\_add__\n",
        "- -: \\_\\_sub__\n",
        "- **: \\_\\_pow__\n",
        "- <<: \\_\\_lshift__\n",
        "- *: \\_\\_mul__\n",
        "- /: \\_\\_truediv__\n",
        "- //: \\_\\_floordiv__\n",
        "- %: \\_\\_mod__\n",
        "- |: \\_\\_or__\n",
        "- <: \\_\\_lt__\n",
        "- ∧: \\_\\_xor__\n",
        "- \\>: \\_\\_gt__\n",
        "- \\>>: \\_\\_rshsift__\n",
        "- ==: \\_\\_eq__\n",
        "- <=: \\_\\_le__\n",
        "- &: \\_\\_and__\n",
        "- !=: \\_\\_ne__\n",
        "- \\>=: \\_\\_ge__\n",
        "- str: \\_\\_str__\n",
        "- len: \\_\\_len__\n",
        "- hash: \\_\\_hash__\n",
        "- repr: \\_\\_repr__ - https://stackoverflow.com/questions/1436703/what-is-the-difference-between-str-and-repr"
      ],
      "metadata": {
        "id": "v4BISbJ0SNO3"
      }
    },
    {
      "cell_type": "markdown",
      "source": [
        "What do you think \\_\\_hash__ does? Why would this be important?"
      ],
      "metadata": {
        "id": "lXxMx2quhICm"
      }
    },
    {
      "cell_type": "code",
      "source": [
        "# add a __str__ method to Trains, then create an instance and print it!\n",
        "\n",
        "class Train():\n",
        "  \"\"\"Abstract data type representing a train.\"\"\"\n",
        "  def __init__(self):\n",
        "    self._cars = 0\n",
        "\n",
        "  def add(self, num_new_cars: int):\n",
        "    \"\"\"Add cars to the train.\"\"\"\n",
        "    self._cars += num_new_cars\n",
        "\n",
        "  def numcars(self):\n",
        "    return self._cars"
      ],
      "metadata": {
        "id": "44bt4uZXf71m"
      },
      "execution_count": null,
      "outputs": []
    },
    {
      "cell_type": "markdown",
      "source": [
        "# <font color='lime'>Philosophies in OOP</font>"
      ],
      "metadata": {
        "id": "XNIJOgnghCVq"
      }
    },
    {
      "cell_type": "markdown",
      "source": [
        "### Polymorphism - https://www.programiz.com/python-programming/polymorphism"
      ],
      "metadata": {
        "id": "sCRqwFtWiLJh"
      }
    },
    {
      "cell_type": "markdown",
      "source": [
        "- using the same function/method names in multiple classes to make common operations possible using different objects\n",
        "- addition\n",
        "  - it is possible to add ints, floats, strings. What if you want to add days of the week?"
      ],
      "metadata": {
        "id": "w_yweXqXittD"
      }
    },
    {
      "cell_type": "markdown",
      "source": [
        "### Encapsulation"
      ],
      "metadata": {
        "id": "AtIukn-yhOGJ"
      }
    },
    {
      "cell_type": "markdown",
      "source": [
        "- classes encapsulate data and methods to operate on the data\n",
        "- the concept of encapsulation also implies that the data and methods are protected from the outside code\n",
        "  - the programmer has to respect this in implementation and usage\n",
        "- \\_ is protected (one underscore)\n",
        "- \\_\\_ is private (two underscores)\n",
        "- ref: https://pynative.com/python-encapsulation/#:~:text=Encapsulation%20in%20Python%20describes%20the,methods%20into%20a%20single%20unit."
      ],
      "metadata": {
        "id": "CBnCOfdkhQWH"
      }
    },
    {
      "cell_type": "markdown",
      "source": [
        "### Inheritance - https://pynative.com/python-inheritance/"
      ],
      "metadata": {
        "id": "OWP8mZBgjn1J"
      }
    },
    {
      "cell_type": "markdown",
      "source": [
        "- \"child class acquires all the data members, properties, and functions from the parent class\"\n",
        "- child class:parent class has \"IS A\" relationship.\n",
        "- a car IS A vehicle"
      ],
      "metadata": {
        "id": "F-ee7g4ZkQEH"
      }
    },
    {
      "cell_type": "markdown",
      "source": [
        "# <font color='lime'>Summary</font>"
      ],
      "metadata": {
        "id": "8GDymWJmaVct"
      }
    },
    {
      "cell_type": "markdown",
      "source": [
        "- Classes are abstract data types with operations on the data defined inside.\n",
        "- The methods can be applied to instances of the class using the .\n",
        "\n",
        "Question\n",
        "- Why is the concept of a class in object-oriented programming so important?"
      ],
      "metadata": {
        "id": "mteGG58wabVC"
      }
    },
    {
      "cell_type": "markdown",
      "source": [
        "#<font color='lime'>Examples</font>"
      ],
      "metadata": {
        "id": "sX8ZzOMSgkUV"
      }
    },
    {
      "cell_type": "code",
      "source": [
        "# define a person class and all of the components that go along with the class\n",
        "\n",
        "from typing import List\n",
        "\n",
        "class Person:\n",
        "    \"\"\"Define a Person class.\"\"\"\n",
        "\n",
        "    def __init__(\n",
        "        self, name: str, country: str, phone_number: str, job: str, email: str\n",
        "    ) -> None:\n",
        "        \"\"\"Define the constructor for a person.\"\"\"\n",
        "        self.name = name\n",
        "        self.country = country\n",
        "        self.phone_number = phone_number\n",
        "        self.job = job\n",
        "        self.email = email\n",
        "\n",
        "    def __repr__(self) -> str:\n",
        "        \"\"\"Return a textual representation of the person.\"\"\"\n",
        "        return f\"{self.name} is a {self.job} who lives in {self.country}. You can call this person at {self.phone_number} and email them at {self.email}\"\n",
        "\n",
        "    def create_list(self) -> List[str]:\n",
        "        \"\"\"Create a list of strings representing the person.\"\"\"\n",
        "        details = []\n",
        "        details.append(self.name)\n",
        "        details.append(self.country)\n",
        "        details.append(self.phone_number)\n",
        "        details.append(self.job)\n",
        "        details.append(self.email)\n",
        "        return details"
      ],
      "metadata": {
        "id": "Kd1CSEiDgj8g"
      },
      "execution_count": 2,
      "outputs": []
    },
    {
      "cell_type": "code",
      "source": [
        "# create an instance of the person class and then display their textual representation\n",
        "p1 = Person(\"Emily Graber\", \"USA\", \"0123456789\", \"Musician\", \"egraber@allegheny.edu\")\n",
        "print(p1)"
      ],
      "metadata": {
        "id": "GjHdDDmwoxA-"
      },
      "execution_count": null,
      "outputs": []
    },
    {
      "cell_type": "code",
      "execution_count": null,
      "metadata": {
        "id": "42og0GWARpL3"
      },
      "outputs": [],
      "source": [
        "# create a list of the contents of the person and display the contents of the list\n",
        "p1_list = p1.create_list()\n",
        "print(p1_list)"
      ]
    },
    {
      "cell_type": "code",
      "execution_count": null,
      "metadata": {
        "id": "UT71xjvbRpL4"
      },
      "outputs": [],
      "source": [
        "# Technical Task: create as least 2 additional instance of the People class of a classmate you do not yet know\n",
        "# Technical Task: create a list of the contents of the person and display the contents of the list\n",
        "# Combine all the people into one large list"
      ]
    },
    {
      "cell_type": "code",
      "source": [
        "def create_display(person_list: List[Person]) -> str:\n",
        "    person_list_text = \"\"\n",
        "    for current_person in person_list:\n",
        "      person_list_text += \"- \" + str(current_person) + \"\\n\"\n",
        "    return person_list_text\n",
        "\n",
        "# Call the function above and pass in the large list, then write an informative print statement to display the results"
      ],
      "metadata": {
        "id": "qRn7Opj3p_uy"
      },
      "execution_count": null,
      "outputs": []
    },
    {
      "cell_type": "code",
      "source": [
        "# use a built-in function getattr - https://docs.python.org/3/library/functions.html#getattr\n",
        "\n",
        "def find_matching_people(attribute: str, matched: str, person_data: List[Person]) -> List[Person]:\n",
        "    matching_people_list = []\n",
        "    for current_person in person_data:\n",
        "      if getattr(current_person, attribute) == matched:\n",
        "            matching_people_list.append(current_person)\n",
        "    return matching_people_list\n",
        "\n",
        "\n",
        "# define variables and write a call to the function `find_matching_people`, then write an informative print statement to display the results"
      ],
      "metadata": {
        "id": "oNK8GWSArFow"
      },
      "execution_count": null,
      "outputs": []
    }
  ]
}