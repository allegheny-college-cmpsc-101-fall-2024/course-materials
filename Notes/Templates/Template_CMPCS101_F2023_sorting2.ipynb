{
  "nbformat": 4,
  "nbformat_minor": 0,
  "metadata": {
    "colab": {
      "provenance": [],
      "collapsed_sections": [
        "XkCNU3F8JRrq",
        "sj5GtwZ2CAtZ"
      ],
      "toc_visible": true,
      "authorship_tag": "ABX9TyProTvJBgF74goLJ4Zwc3XI",
      "include_colab_link": true
    },
    "kernelspec": {
      "name": "python3",
      "display_name": "Python 3"
    },
    "language_info": {
      "name": "python"
    }
  },
  "cells": [
    {
      "cell_type": "markdown",
      "metadata": {
        "id": "view-in-github",
        "colab_type": "text"
      },
      "source": [
        "<a href=\"https://colab.research.google.com/github/allegheny-college-cmpsc-101-fall-2023/course-materials/blob/main/Notes/Templates/Template_CMPCS101_F2023_sorting2.ipynb\" target=\"_parent\"><img src=\"https://colab.research.google.com/assets/colab-badge.svg\" alt=\"Open In Colab\"/></a>"
      ]
    },
    {
      "cell_type": "markdown",
      "source": [
        "# <font color=\"lime\">Search -> Sorting</font>"
      ],
      "metadata": {
        "id": "jH8O5DtT4xvH"
      }
    },
    {
      "cell_type": "markdown",
      "source": [
        "<img src=\"https://miro.medium.com/v2/resize:fit:1400/1*LZ-Vrc1YB4kz5yy6rf2zpw.jpeg\" />"
      ],
      "metadata": {
        "id": "ek2EJ1zt-DGT"
      }
    },
    {
      "cell_type": "markdown",
      "source": [
        "# <font color=\"lime\">Sorting</font>\n",
        "- [Lecture Video On Same Topic](https://ocw.mit.edu/courses/6-0001-introduction-to-computer-science-and-programming-in-python-fall-2016/resources/lecture-12-searching-and-sorting/)\n",
        "- https://realpython.com/sorting-algorithms-python/ for Sorting Algorithms Engineering Effort\n"
      ],
      "metadata": {
        "id": "92kWujCmcxfN"
      }
    },
    {
      "cell_type": "markdown",
      "source": [
        "- how does one sort a list as efficiently as possible?\n",
        "- can you think of how you would instruct a computer to sort?"
      ],
      "metadata": {
        "id": "RX9M2YcF2n4H"
      }
    },
    {
      "cell_type": "markdown",
      "source": [
        "## <font color=\"#FF1493\">Bubble Sort</font>"
      ],
      "metadata": {
        "id": "I_TU4fGb4hAA"
      }
    },
    {
      "cell_type": "markdown",
      "source": [
        "### large numbers bubble up!"
      ],
      "metadata": {
        "id": "XkCNU3F8JRrq"
      }
    },
    {
      "cell_type": "markdown",
      "source": [
        "<img src=\"https://upload.wikimedia.org/wikipedia/commons/3/37/Bubble_sort_animation.gif\" />"
      ],
      "metadata": {
        "id": "rRAs6ZLB8_JX"
      }
    },
    {
      "cell_type": "markdown",
      "source": [
        "<img src=\"https://upload.wikimedia.org/wikipedia/commons/c/c8/Bubble-sort-example-300px.gif?20131109191607\" />"
      ],
      "metadata": {
        "id": "SW7na4u94NuO"
      }
    },
    {
      "cell_type": "markdown",
      "source": [
        "### Logic"
      ],
      "metadata": {
        "id": "sj5GtwZ2CAtZ"
      }
    },
    {
      "cell_type": "markdown",
      "source": [
        "- consider a pair of elements (element i and i+1)\n",
        "  - compare them\n",
        "  - swap if necessary so they are in order\n",
        "    - largest element should be moved to the larger index\n",
        "- repeat all the steps above on the next pair of elements (element i+1 and i+2) until end of list is reached\n",
        "- Note, since the largest element in every pair is always swapped up (bubbled), we can be assured that the largest element of the list will end up at the end!\n",
        "- We have no guaruntees about the ordering of the other elements\n",
        "  - therefore we must repeat everything above to bubble up the second largest element\n",
        "  - i.e. completely restart at the beginning of the list\n",
        "  - i.e. repeat all the above steps\n",
        "\n",
        "- only conclude that the list is sorted if NO swaps are needed (or if we know that every element above has already been sorted)"
      ],
      "metadata": {
        "id": "e7dq-JqqR-3m"
      }
    },
    {
      "cell_type": "markdown",
      "source": [
        "### Pseudo Code"
      ],
      "metadata": {
        "id": "I42BgqfvIolt"
      }
    },
    {
      "cell_type": "markdown",
      "source": [],
      "metadata": {
        "id": "CtDBOTBZIqmq"
      }
    },
    {
      "cell_type": "markdown",
      "source": [
        "### Code"
      ],
      "metadata": {
        "id": "XyWrq56ul6IN"
      }
    },
    {
      "cell_type": "code",
      "source": [
        "def bubble_sort(array: list[int]) -> None:\n",
        "  swap = True\n",
        "  while swap:\n",
        "    swap = False\n",
        "    for i in range(len(array) - 1):\n",
        "      if array[i+1] < array[i]:\n",
        "        swap = True\n",
        "        temp = array[i]\n",
        "        array[i] = array[i+1]\n",
        "        array[i+1] = temp\n",
        "\n",
        "array = [-10, -100, 100, 1, 5, 3, 8, 2, -1]\n",
        "bubble_sort(array)\n",
        "print(array)\n",
        "\n",
        "\n",
        "# What is the complexity?"
      ],
      "metadata": {
        "id": "PUATXCXfM2d0"
      },
      "execution_count": null,
      "outputs": []
    },
    {
      "cell_type": "markdown",
      "source": [
        "Check out bubble sort from Proactive Programmers - https://colab.research.google.com/github/ProactiveProgrammers/www.proactiveprogrammers.com/blob/master/files/data-abstraction/data-structures/use-searching-and-sorting.ipynb#scrollTo=BgbHsFtDj6OZ  "
      ],
      "metadata": {
        "id": "xNA4j8QSPGws"
      }
    },
    {
      "cell_type": "markdown",
      "source": [
        "## <font color=\"#FF1493\">Selection Sort</font>"
      ],
      "metadata": {
        "id": "TBC615caUsKf"
      }
    },
    {
      "cell_type": "markdown",
      "source": [
        "### Smallest number is [selected]() and added to the front section!"
      ],
      "metadata": {
        "id": "8NhAJJTkXggv"
      }
    },
    {
      "cell_type": "markdown",
      "source": [
        "<img src=\"https://upload.wikimedia.org/wikipedia/commons/f/f6/Selection_Sort_Animation.gif\"/>"
      ],
      "metadata": {
        "id": "bpaeH3fNXPbp"
      }
    },
    {
      "cell_type": "markdown",
      "source": [
        "<img src=\"https://upload.wikimedia.org/wikipedia/commons/9/94/Selection-Sort-Animation.gif\" />"
      ],
      "metadata": {
        "id": "RNXsbS68Uz0G"
      }
    },
    {
      "cell_type": "markdown",
      "source": [
        "### Logic"
      ],
      "metadata": {
        "id": "JfztquGMaQW6"
      }
    },
    {
      "cell_type": "markdown",
      "source": [
        "- find smallest element in the list\n",
        "- move that element to the front\n",
        "  - Note that it would be ok to move something else to front in intermediate step, so long as the smallest elem eventually ends up in the front!\n",
        "  - After the above steps, the front is sorted (prefix), and the back (suffix) is assumed to have only elements that are larger and unsorted\n",
        "- repeat all the steps above so long as there is a suffix (non sorted section)\n",
        "  - another way to say this is: repeat as long as the prefix is not the entire list!\n",
        "\n",
        "---\n",
        "\n",
        "- each time through the list, the prefix grows, and the suffix shrinks"
      ],
      "metadata": {
        "id": "UDSpUmJNVv0z"
      }
    },
    {
      "cell_type": "markdown",
      "source": [
        "### Pseudo Code"
      ],
      "metadata": {
        "id": "R-mtdL5aQTKF"
      }
    },
    {
      "cell_type": "markdown",
      "source": [],
      "metadata": {
        "id": "01rgq_u5cvGC"
      }
    },
    {
      "cell_type": "markdown",
      "source": [
        "### Code"
      ],
      "metadata": {
        "id": "NWCv2NNJFrDj"
      }
    },
    {
      "cell_type": "code",
      "source": [
        "def select_sort(array: list[int]) -> None:\n",
        "  ixd_end_prefix = 0\n",
        "  while ixd_end_prefix < len(array):\n",
        "    for i in range(ixd_end_prefix, len(array)):\n",
        "      if array[i] < array[ixd_end_prefix]:\n",
        "        temp = array[ixd_end_prefix]\n",
        "        array[ixd_end_prefix] = array[i]\n",
        "        array[i] = temp\n",
        "    ixd_end_prefix += 1\n",
        "\n",
        "array = [-10, -100, 100, 1, 5, 3, 8, 2, -1]\n",
        "select_sort(array)\n",
        "print(array)\n",
        "\n",
        "# What is the complexity?\n"
      ],
      "metadata": {
        "colab": {
          "base_uri": "https://localhost:8080/"
        },
        "id": "i35lCj_4QiHC",
        "outputId": "b3493a84-4d8a-47b4-ce8c-e3fac0711397"
      },
      "execution_count": null,
      "outputs": [
        {
          "output_type": "stream",
          "name": "stdout",
          "text": [
            "[-100, -10, -1, 1, 2, 3, 5, 8, 100]\n"
          ]
        }
      ]
    },
    {
      "cell_type": "markdown",
      "source": [
        "### Complexity of Select Sort"
      ],
      "metadata": {
        "id": "Pix2660kFkSQ"
      }
    },
    {
      "cell_type": "markdown",
      "source": [
        "## <font color=\"#FF1493\">Insert Sort</font>"
      ],
      "metadata": {
        "id": "xG_cOguCqWWt"
      }
    },
    {
      "cell_type": "markdown",
      "source": [
        "### Elements are inserted at the right spot!"
      ],
      "metadata": {
        "id": "K-aj5CuRqZcA"
      }
    },
    {
      "cell_type": "markdown",
      "source": [
        "<img src=\"https://upload.wikimedia.org/wikipedia/commons/2/25/Insertion_sort_animation.gif?20070313104417\" />"
      ],
      "metadata": {
        "id": "Nu9RULzrqbuu"
      }
    },
    {
      "cell_type": "code",
      "source": [
        "from IPython.display import HTML\n",
        "\n",
        "HTML('<iframe width=\"560\" height=\"315\" src=\"https://www.youtube.com/embed/8oJS1BMKE64?si=NUh3uorXIL33P7TZ\" title=\"YouTube video player\" frameborder=\"0\" allow=\"accelerometer; autoplay; clipboard-write; encrypted-media; gyroscope; picture-in-picture; web-share\" allowfullscreen></iframe>')"
      ],
      "metadata": {
        "colab": {
          "base_uri": "https://localhost:8080/",
          "height": 390
        },
        "id": "SlOIzvbdodG2",
        "outputId": "a3c83487-507f-46e3-ad9c-b51eb5966df4"
      },
      "execution_count": null,
      "outputs": [
        {
          "output_type": "stream",
          "name": "stderr",
          "text": [
            "/usr/local/lib/python3.10/dist-packages/IPython/core/display.py:724: UserWarning: Consider using IPython.display.IFrame instead\n",
            "  warnings.warn(\"Consider using IPython.display.IFrame instead\")\n"
          ]
        },
        {
          "output_type": "execute_result",
          "data": {
            "text/plain": [
              "<IPython.core.display.HTML object>"
            ],
            "text/html": [
              "<iframe width=\"560\" height=\"315\" src=\"https://www.youtube.com/embed/8oJS1BMKE64?si=NUh3uorXIL33P7TZ\" title=\"YouTube video player\" frameborder=\"0\" allow=\"accelerometer; autoplay; clipboard-write; encrypted-media; gyroscope; picture-in-picture; web-share\" allowfullscreen></iframe>"
            ]
          },
          "metadata": {},
          "execution_count": 2
        }
      ]
    },
    {
      "cell_type": "markdown",
      "source": [
        "### Logic"
      ],
      "metadata": {
        "id": "AzUjq_BprEpX"
      }
    },
    {
      "cell_type": "markdown",
      "source": [
        "- assume first [n] element[s] is[are] sorted\n",
        "- look at next elem (called cur_elem)\n",
        "  - compare cur_elem to the sorted elem[s] to the left and insert it into the correct spot\n",
        "  - This ^ requires several steps\n",
        "    - compare leftward, one element at a time\n",
        "    - if the current location of the cur_elem is correct, stop!\n",
        "    - if the current location of the element is incorrect,\n",
        "      - move the left neighbor to the right\n",
        "      -\n",
        "    - repeat the search for the correct location and move neighbors rightward until the location is correct!\n",
        "    - At this stage, we know that everything up to the index that was originally occupied by cur_elem is sorted\n",
        "- repeat the above steps for the entire list, starting with the next unsorted element."
      ],
      "metadata": {
        "id": "oy0wvoB3rGhm"
      }
    },
    {
      "cell_type": "markdown",
      "source": [
        "### Pseudo Code"
      ],
      "metadata": {
        "id": "MUPKjKa4v92B"
      }
    },
    {
      "cell_type": "markdown",
      "source": [
        "### Code"
      ],
      "metadata": {
        "id": "UMOsb9giF1nI"
      }
    },
    {
      "cell_type": "code",
      "source": [
        "def insert_sort(array: list[int]) -> None:\n",
        "  for i in range(1,len(array)):\n",
        "    cur_elem = array[i]\n",
        "    j = i-1\n",
        "    while j >= 0:\n",
        "      if cur_elem >= array[j]:\n",
        "        break\n",
        "      if cur_elem < array[j]:\n",
        "        array[j + 1] = array[j]\n",
        "        array[j] = cur_elem\n",
        "        j -= 1\n",
        "\n",
        "array = [-10, -100, 100, 1, 5, 3, 8, 2, -1]\n",
        "print(f'array is: {array}')\n",
        "\n",
        "return_value = insert_sort(array)\n",
        "print(f'array is: {array}')\n",
        "print(f'return_value is: {return_value}')"
      ],
      "metadata": {
        "colab": {
          "base_uri": "https://localhost:8080/"
        },
        "id": "pRFgJq-4v9eX",
        "outputId": "1f920c7b-9585-4245-b5c7-31eb7fadb3d0"
      },
      "execution_count": null,
      "outputs": [
        {
          "output_type": "stream",
          "name": "stdout",
          "text": [
            "array is: [-10, -100, 100, 1, 5, 3, 8, 2, -1]\n",
            "array is: [-100, -10, -1, 1, 2, 3, 5, 8, 100]\n",
            "return_value is: None\n"
          ]
        }
      ]
    },
    {
      "cell_type": "markdown",
      "source": [
        "[Compare to insertion_sort on Proactive Programmers](https://colab.research.google.com/github/ProactiveProgrammers/www.proactiveprogrammers.com/blob/master/files/data-abstraction/data-structures/use-searching-and-sorting.ipynb#scrollTo=z43Jv25rmCFH)"
      ],
      "metadata": {
        "id": "ycimtMC80IKa"
      }
    },
    {
      "cell_type": "markdown",
      "source": [
        "## <font color=\"#FF1493\">Merge Sort</font>"
      ],
      "metadata": {
        "id": "-rGAyBsg-v_C"
      }
    },
    {
      "cell_type": "markdown",
      "source": [
        "### divide and conquer strategy"
      ],
      "metadata": {
        "id": "KRQKSpdFB08w"
      }
    },
    {
      "cell_type": "markdown",
      "source": [
        "<img src=\"https://upload.wikimedia.org/wikipedia/commons/c/c5/Merge_sort_animation2.gif\" />"
      ],
      "metadata": {
        "id": "1MCz1Q7KBwrb"
      }
    },
    {
      "cell_type": "markdown",
      "source": [
        "### recursive  merger of small sorted lists"
      ],
      "metadata": {
        "id": "E38qDmGPB_MN"
      }
    },
    {
      "cell_type": "markdown",
      "source": [
        "<img src=\"https://miro.medium.com/v2/0*K7cD17vfL7FdTTLK.gif\" />"
      ],
      "metadata": {
        "id": "hpQR71sUAPIw"
      }
    },
    {
      "cell_type": "code",
      "source": [
        "HTML('<iframe width=\"560\" height=\"315\" src=\"https://www.youtube.com/embed/ZRPoEKHXTJg?si=ppbd5hS_wXUL6jME\" title=\"YouTube video player\" frameborder=\"0\" allow=\"accelerometer; autoplay; clipboard-write; encrypted-media; gyroscope; picture-in-picture; web-share\" allowfullscreen></iframe>')"
      ],
      "metadata": {
        "colab": {
          "base_uri": "https://localhost:8080/",
          "height": 390
        },
        "id": "ctOc9LRUrumb",
        "outputId": "70fab3c8-35f7-4fe0-b389-0ee2d33c58cf"
      },
      "execution_count": null,
      "outputs": [
        {
          "output_type": "stream",
          "name": "stderr",
          "text": [
            "/usr/local/lib/python3.10/dist-packages/IPython/core/display.py:724: UserWarning: Consider using IPython.display.IFrame instead\n",
            "  warnings.warn(\"Consider using IPython.display.IFrame instead\")\n"
          ]
        },
        {
          "output_type": "execute_result",
          "data": {
            "text/plain": [
              "<IPython.core.display.HTML object>"
            ],
            "text/html": [
              "<iframe width=\"560\" height=\"315\" src=\"https://www.youtube.com/embed/ZRPoEKHXTJg?si=ppbd5hS_wXUL6jME\" title=\"YouTube video player\" frameborder=\"0\" allow=\"accelerometer; autoplay; clipboard-write; encrypted-media; gyroscope; picture-in-picture; web-share\" allowfullscreen></iframe>"
            ]
          },
          "metadata": {},
          "execution_count": 3
        }
      ]
    },
    {
      "cell_type": "markdown",
      "source": [
        "### Governing ideas"
      ],
      "metadata": {
        "id": "V-Rdot-U_k34"
      }
    },
    {
      "cell_type": "markdown",
      "source": [
        "- merge sort is based on the idea that merging sorted lists is fast!\n",
        "- Also a list of one is sorted!\n",
        "---\n",
        "Question\n",
        "1. How can you efficiently split up an input list to get down to one element?\n",
        "---"
      ],
      "metadata": {
        "id": "hHvM3ogo_HxZ"
      }
    },
    {
      "cell_type": "markdown",
      "source": [
        "### Logic"
      ],
      "metadata": {
        "id": "ENz3qHga3bBC"
      }
    },
    {
      "cell_type": "markdown",
      "source": [
        "- merging requires looking at the beginning of each list\n",
        "  - compare the two elements, choose the smaller one to add to a new (\"merged\") list\n",
        "- repeat the step above to build up the \"merged\" result until one list is empty\n",
        "- once there is one empty list, ALL the remaining elements can be merged at once! After all, they were already sorted!"
      ],
      "metadata": {
        "id": "y2VJfsQO3d1W"
      }
    },
    {
      "cell_type": "markdown",
      "source": [
        "### Pseudo Code"
      ],
      "metadata": {
        "id": "a03ctzhaAmgf"
      }
    },
    {
      "cell_type": "markdown",
      "source": [
        "- initialize merged list\n",
        "\n",
        "- create index to track position in list1\n",
        "- create index to track position in list2\n",
        "\n",
        "- while idxl1 and idxl2 are not greater than the size of list1 or list2:\n",
        "  - compare idxl1 elem out of list1 with idxl2 elem of list2\n",
        "  - if 0th of list1 is smaller than 0th of list2:\n",
        "    - add 0th of list1 to merged list\n",
        "    - increment idxl1\n",
        "  - else (0th of list2 is smaller than 0th of list1):\n",
        "    - add 0th of list2 to merged list\n",
        "    - increment idxl2\n",
        "\n",
        "- if idx1 is too long:\n",
        "  - add the rest of list2 to the merged list! (don't re-add anything...)\n",
        "- if idx2 is too long:\n",
        "  - add the rest of list1 to the merged list!"
      ],
      "metadata": {
        "id": "md7O7zTlAo71"
      }
    },
    {
      "cell_type": "markdown",
      "source": [
        "### Code"
      ],
      "metadata": {
        "id": "IX1NsU8X5DOe"
      }
    },
    {
      "cell_type": "code",
      "source": [
        "def merge(a: list[int], b: list[int]) -> list[int]:\n",
        "\n",
        "  merged = []\n",
        "\n",
        "  idx_a, idx_b = 0, 0\n",
        "\n",
        "  while idx_a != len(a) and idx_b != len(b):\n",
        "    if a[idx_a] <= b[idx_b]:\n",
        "      merged.append(a[idx_a])\n",
        "      idx_a += 1\n",
        "    else:\n",
        "      merged.append(b[idx_b])\n",
        "      idx_b += 1\n",
        "\n",
        "  if idx_a == len(a):\n",
        "    merged += b[idx_b:]\n",
        "  if idx_b == len(b):\n",
        "    merged += a[idx_a:]\n",
        "\n",
        "  return merged\n",
        "\n",
        "a = [1,3,6,9]\n",
        "b = [1,2,3,4]\n",
        "\n",
        "result = merge(a,b)\n",
        "print(result)"
      ],
      "metadata": {
        "colab": {
          "base_uri": "https://localhost:8080/"
        },
        "id": "oa2UqwnQDc_8",
        "outputId": "d0122938-ecff-4b09-e372-ff06ba4bdaee"
      },
      "execution_count": null,
      "outputs": [
        {
          "output_type": "stream",
          "name": "stdout",
          "text": [
            "[1, 1, 2, 3, 3, 4, 6, 9]\n"
          ]
        }
      ]
    },
    {
      "cell_type": "code",
      "source": [
        "def merge_sort(array: list[int]) -> list[int]:\n",
        "    \"\"\"Sort the provided list called array with the merge sort algorithm.\"\"\"\n",
        "    # If the input array contains fewer than two elements,\n",
        "    # then return it as the result of the function\n",
        "    if len(array) < 2:\n",
        "        return array\n",
        "    midpoint = len(array) // 2\n",
        "    # Sort the array by recursively splitting the input\n",
        "    # into two equal halves, sorting each half and merging them\n",
        "    # together into the final result\n",
        "    return merge(a=merge_sort(array[:midpoint]), b=merge_sort(array[midpoint:]))\n",
        "\n",
        "input_list = [56, 3, 5, 9, 0, -10, 5, 77, 9, 101]\n",
        "sorted_list = merge_sort(input_list)\n",
        "print(f\"Contents of the input list: {input_list}\")\n",
        "print(f\"Contents of the sorted list: {sorted_list}\")"
      ],
      "metadata": {
        "colab": {
          "base_uri": "https://localhost:8080/"
        },
        "id": "P9-GSlU59hBf",
        "outputId": "b31c084c-3693-4338-eae6-409c7d4e9a8c"
      },
      "execution_count": null,
      "outputs": [
        {
          "output_type": "stream",
          "name": "stdout",
          "text": [
            "Contents of the input list: [56, 3, 5, 9, 0, -10, 5, 77, 9, 101]\n",
            "Contents of the sorted list: [-10, 0, 3, 5, 5, 9, 9, 56, 77, 101]\n"
          ]
        }
      ]
    },
    {
      "cell_type": "markdown",
      "source": [
        "### Complexity of Merge-Sort?"
      ],
      "metadata": {
        "id": "pvUsil1s-0hB"
      }
    },
    {
      "cell_type": "markdown",
      "source": [
        "## <font color=\"#FF1493\">Questions</font>"
      ],
      "metadata": {
        "id": "ZiL9-vn-cfYF"
      }
    },
    {
      "cell_type": "markdown",
      "source": [
        "- does it make sense to always sort a list before searching?\n",
        "- how can the cost be amortized?"
      ],
      "metadata": {
        "id": "dYPb575EcjYI"
      }
    },
    {
      "cell_type": "markdown",
      "source": [
        "# <font color=\"lime\">Next Time</font>"
      ],
      "metadata": {
        "id": "-JWK3dKIAPOu"
      }
    },
    {
      "cell_type": "markdown",
      "source": [
        "- quick sort\n",
        "- hashing"
      ],
      "metadata": {
        "id": "gU83w5AhAT0S"
      }
    }
  ]
}