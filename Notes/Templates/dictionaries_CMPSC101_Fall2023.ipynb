{
  "nbformat": 4,
  "nbformat_minor": 0,
  "metadata": {
    "colab": {
      "provenance": [],
      "authorship_tag": "ABX9TyP4RW+bBqYYDAu5jZomVjVi",
      "include_colab_link": true
    },
    "kernelspec": {
      "name": "python3",
      "display_name": "Python 3"
    },
    "language_info": {
      "name": "python"
    }
  },
  "cells": [
    {
      "cell_type": "markdown",
      "metadata": {
        "id": "view-in-github",
        "colab_type": "text"
      },
      "source": [
        "<a href=\"https://colab.research.google.com/github/allegheny-college-cmpsc-101-fall-2023/course-materials/blob/main/Notes/Templates/dictionaries_CMPSC101_Fall2023.ipynb\" target=\"_parent\"><img src=\"https://colab.research.google.com/assets/colab-badge.svg\" alt=\"Open In Colab\"/></a>"
      ]
    },
    {
      "cell_type": "markdown",
      "source": [
        "# Sets and Dictionaries"
      ],
      "metadata": {
        "id": "r5erqDi5CBRC"
      }
    },
    {
      "cell_type": "markdown",
      "source": [
        "### Sets"
      ],
      "metadata": {
        "id": "4N-OzUwgLy1l"
      }
    },
    {
      "cell_type": "markdown",
      "source": [
        "- are a container, like lists and tuples\n",
        "- use {} curly braces!\n",
        "- `my_set = {1, 4.5, (1,2,3), 'hello'}`\n",
        "- they are Iterable - you can use them in a loop (like tuple, range, list, str)\n",
        "- BUT\n",
        "- they are unordered (unlike lists and tuples) - you cannot index into a set\n",
        "- the order of the items that come out is undefined\n",
        "\n",
        "`my_set[0] # this will fail`\n",
        "\n",
        "- they contain only unique items (no duplicates)\n",
        "- they contain only objects that are hashable!\n",
        "- hashable refers to objects that have \\_\\_hash__() defined as method\n",
        "\n",
        "documentation: https://python-reference.readthedocs.io/en/latest/docs/sets/\n",
        "- .add()\n",
        "- .update()\n",
        "- .remove()\n",
        "- .discard()\n",
        "- .union()\n",
        "- .intersection()\n",
        "- .difference()\n",
        "- `if elem in set`"
      ],
      "metadata": {
        "id": "8AwtpJI_CdLt"
      }
    },
    {
      "cell_type": "code",
      "source": [
        "# 7. with this code, what is happening?\n",
        "# - set defined with strings inside\n",
        "# - crash because and element of the set is accessed by an ordered index [0]\n",
        "# - sets are not ordered\n",
        "\n",
        "department = {'computer', 'and', 'information', 'science'}\n",
        "# look at entire set\n",
        "print(\"Entire set:\", department)\n",
        "# add and element\n",
        "department.add('Hello')\n",
        "# look at entire set\n",
        "print(\"Entire set:\", department)\n",
        "# look at first element\n",
        "print(\"First elem:\", department[0])"
      ],
      "metadata": {
        "id": "J3BKsq1Gam-u"
      },
      "execution_count": null,
      "outputs": []
    },
    {
      "cell_type": "code",
      "source": [
        "# 8. with this code, what is happening?\n",
        "# - set defined with strings inside\n",
        "# - RUNS because strings are hashable\n",
        "# - sets can only contain hashable items\n",
        "\n",
        "department = {'computer', 'computer', 'computer', 'science'}\n",
        "# look at entire set\n",
        "print(\"Entire set:\", department)\n",
        "print(len(department))"
      ],
      "metadata": {
        "id": "c2BQoHhl65-j"
      },
      "execution_count": null,
      "outputs": []
    },
    {
      "cell_type": "code",
      "source": [
        "# 9. with this code, what is happening?\n",
        "# - word_ variables are storing lists with strings\n",
        "# - the lists are put into a set\n",
        "# - crash because lists are not hashable\n",
        "# - sets can only contain hashable items\n",
        "\n",
        "word_1, word_a, word_first, word_alpha = ['computer'], ['and'], ['information'], ['science']\n",
        "department = {word_1, word_a, word_first, word_alpha}"
      ],
      "metadata": {
        "id": "eNy9fkSD2rke"
      },
      "execution_count": null,
      "outputs": []
    },
    {
      "cell_type": "code",
      "source": [
        "# containment example\n",
        "example_set = {'hello','darkness','my old friend', 1234}\n",
        "contains_hello = 'hello' in example_set\n",
        "contains_HELLO = 'HELLO' in example_set\n",
        "print(f\"contains_hello is {contains_hello}, and contains_HELLO is {contains_HELLO}\")"
      ],
      "metadata": {
        "id": "8vp-aUP_4oZ1"
      },
      "execution_count": null,
      "outputs": []
    },
    {
      "cell_type": "markdown",
      "source": [
        "### Hashability"
      ],
      "metadata": {
        "id": "kufTql-35rMo"
      }
    },
    {
      "cell_type": "code",
      "source": [
        "# test hashability of tuples\n",
        "a = (1.0, True, \"hello\")\n",
        "print(hash(a))\n",
        "# tiny numeric changes impact hash!\n",
        "a = (1.01, True, \"hello\")\n",
        "print(hash(a))\n",
        "\n",
        "# what goes wrong here?\n",
        "# a_altered cannot be hashed because it contains a list which cannot be hashed because lists are mutable\n",
        "a_altered = ([1.01], True, \"hello\")\n",
        "print(hash(a_altered))\n"
      ],
      "metadata": {
        "id": "ae3GucDp2YoW"
      },
      "execution_count": null,
      "outputs": []
    },
    {
      "cell_type": "code",
      "source": [
        "# test hashability of sets\n",
        "# what goes wrong here?\n",
        "# Sets are mutable, and cannot be hashed\n",
        "a = {1,2,\"3\"}\n",
        "print(hash(a))\n"
      ],
      "metadata": {
        "id": "VbKpzKhXw2kw"
      },
      "execution_count": null,
      "outputs": []
    },
    {
      "cell_type": "code",
      "source": [
        "# demonstrating the hashability of items inside a set\n",
        "example_set = {'hello','darkness','my old friend', 1234}\n",
        "\n",
        "for item in example_set:\n",
        "  print(f\"item {item} has hash: {hash(item)}\")\n"
      ],
      "metadata": {
        "id": "rgxFxQTb2m_0"
      },
      "execution_count": null,
      "outputs": []
    },
    {
      "cell_type": "code",
      "source": [
        "# sets are not subscriptable\n",
        "example_set = {'hello','darkness','my old friend', 1234}\n",
        "for i in range(len(example_set)):\n",
        "  item = example_set[i]\n",
        "  print(f\"item {item} has hash: {hash(item)}\")\n"
      ],
      "metadata": {
        "id": "OyZ2oc0e2Fp6"
      },
      "execution_count": null,
      "outputs": []
    },
    {
      "cell_type": "markdown",
      "source": [
        "### Dictionary"
      ],
      "metadata": {
        "id": "oxEDWjPyLsix"
      }
    },
    {
      "cell_type": "markdown",
      "source": [
        "- dictionaries have keys and values\n",
        "- keys must be hashable\n",
        "  - each key has can be represented by some unique integer\n",
        "  - actually, the hashes are not unique, but we aim to find a hash function that can make a well-distributed bunch of hashes.\n",
        "- `my_dict = {key1:value1, key2:value2}`\n",
        "- ```python\n",
        "my_dict = {}\n",
        "my_dict[key1] = value1\n",
        "my_dict[key2] = value2\n",
        "```\n",
        "- there are many ways to create!\n",
        "- dictionaries are unordered\n",
        "- dictionary values are accessed by key `my_dict[key]`\n",
        "- dictionaries are not indexed by regular indices\n",
        "- documentation: https://python-reference.readthedocs.io/en/latest/docs/dict/\n"
      ],
      "metadata": {
        "id": "ftM4MSW057-z"
      }
    },
    {
      "cell_type": "code",
      "source": [
        "month_map1 = {\n",
        " 'Jan':1,\n",
        " 'Feb':2,\n",
        " 'Mar':3,\n",
        " 'Dec':12}\n",
        "\n",
        "month_map2 = {}\n",
        "month_map2[1] = 'Jan'\n",
        "month_map2[2] = 'Feb'\n",
        "month_map2[3] = 'Mar'\n",
        "month_map2[12] = 'Dec'\n",
        "\n",
        "\n",
        "print(month_map1)\n",
        "print(month_map2)"
      ],
      "metadata": {
        "id": "s8GYyv-x57Ik",
        "colab": {
          "base_uri": "https://localhost:8080/"
        },
        "outputId": "0417b579-670e-4f95-ba7a-fc97b99702e9"
      },
      "execution_count": 9,
      "outputs": [
        {
          "output_type": "stream",
          "name": "stdout",
          "text": [
            "{'Jan': 1, 'Feb': 2, 'Mar': 3, 'Dec': 12}\n",
            "{1: 'Jan', 2: 'Feb', 3: 'Mar', 12: 'Dec'}\n"
          ]
        }
      ]
    },
    {
      "cell_type": "code",
      "source": [
        "# Iterable\n",
        "for key in month_map1:\n",
        "  print(key)\n",
        "  print(month_map1[key])"
      ],
      "metadata": {
        "id": "mBsnK88u9HOh",
        "colab": {
          "base_uri": "https://localhost:8080/"
        },
        "outputId": "e388d85a-8faf-4a87-f64c-b7441bce71e7"
      },
      "execution_count": 10,
      "outputs": [
        {
          "output_type": "stream",
          "name": "stdout",
          "text": [
            "Jan\n",
            "1\n",
            "Feb\n",
            "2\n",
            "Mar\n",
            "3\n",
            "Dec\n",
            "12\n"
          ]
        }
      ]
    },
    {
      "cell_type": "code",
      "execution_count": 1,
      "metadata": {
        "id": "STiWESXmJFjR"
      },
      "outputs": [],
      "source": [
        "# create a dictionary\n",
        "mlb_team_one = {\n",
        "    'Colorado' : 'Rockies',\n",
        "    'Boston'   : 'Red Sox',\n",
        "    'Minnesota': 'Twins',\n",
        "    'Milwaukee': 'Brewers'\n",
        "}"
      ]
    },
    {
      "cell_type": "code",
      "execution_count": 2,
      "metadata": {
        "id": "vg9hNpNFJFjR"
      },
      "outputs": [],
      "source": [
        "# create a dictionary\n",
        "mlb_team_two = dict([\n",
        "    ('Colorado', 'Rockies'),\n",
        "    ('Boston', 'Red Sox'),\n",
        "    ('Minnesota', 'Twins'),\n",
        "    ('Milwaukee', 'Brewers')\n",
        "])"
      ]
    },
    {
      "cell_type": "code",
      "execution_count": 3,
      "metadata": {
        "id": "quGIpZZ5JFjR"
      },
      "outputs": [],
      "source": [
        "# create a dictionary\n",
        "mlb_team_three = dict(\n",
        "    Colorado='Rockies',\n",
        "    Boston='Red Sox',\n",
        "    Minnesota='Twins',\n",
        "    Milwaukee='Brewers',\n",
        "    Seattle='Mariners'\n",
        ")"
      ]
    },
    {
      "cell_type": "code",
      "execution_count": 4,
      "metadata": {
        "id": "NnCDcWXgJFjS",
        "colab": {
          "base_uri": "https://localhost:8080/"
        },
        "outputId": "ec570280-3b4c-4af8-f0cc-9e5a7bd8b123"
      },
      "outputs": [
        {
          "output_type": "stream",
          "name": "stdout",
          "text": [
            "<class 'dict'>\n",
            "{'Colorado': 'Rockies', 'Boston': 'Red Sox', 'Minnesota': 'Twins', 'Milwaukee': 'Brewers'}\n",
            "{'Colorado': 'Rockies', 'Boston': 'Red Sox', 'Minnesota': 'Twins', 'Milwaukee': 'Brewers'}\n",
            "{'Colorado': 'Rockies', 'Boston': 'Red Sox', 'Minnesota': 'Twins', 'Milwaukee': 'Brewers', 'Seattle': 'Mariners'}\n",
            "Twins\n",
            "Rockies\n",
            "Royals\n"
          ]
        }
      ],
      "source": [
        "# display and manipulate the contents of a dictionary\n",
        "\n",
        "# display the address\n",
        "print(type(mlb_team_one))\n",
        "\n",
        "# display the contents\n",
        "print('one:', mlb_team_one)\n",
        "print('two:', mlb_team_two)\n",
        "print('three', mlb_team_three)\n",
        "\n",
        "# lookup specific values using a key\n",
        "print(mlb_team_one['Minnesota'])\n",
        "print(mlb_team_one['Colorado'])\n",
        "\n",
        "# add a new value to the dictionary\n",
        "mlb_team_one['Kansas City'] = 'Royals'\n",
        "\n",
        "# lookup the new value inside of the dictionary\n",
        "print(mlb_team_one['Kansas City'])"
      ]
    },
    {
      "cell_type": "code",
      "execution_count": null,
      "metadata": {
        "id": "PVJvgtqjJFjS"
      },
      "outputs": [],
      "source": [
        "# attempt to access a key that does not exist in a dictionary\n",
        "print(mlb_team_one['Toronto'])"
      ]
    },
    {
      "cell_type": "code",
      "source": [
        "# comment every line below to explain what is happening\n",
        "\n",
        "class my_dictionary():\n",
        "  \"\"\"A dictionary using integer keys.\"\"\"\n",
        "  def __init__(self, num_buckets):\n",
        "    \"\"\"Create empty dictionary.\"\"\"\n",
        "    self.total_num_buckets = num_buckets\n",
        "    self.buckets = []\n",
        "    for i in range(num_buckets):\n",
        "      self.buckets.append([])\n",
        "\n",
        "  def add_entry(self, key, value):\n",
        "    selected_bucket = self.buckets[key%self.total_num_buckets]\n",
        "    for i in range(len(selected_bucket)):\n",
        "      if selected_bucket[i][0] == key:\n",
        "        selected_bucket[i] = (key, value)\n",
        "        return\n",
        "    selected_bucket.append((key, value))\n",
        "\n",
        "\n",
        "  def get_value(self, key):\n",
        "    selected_bucket = self.buckets[key%self.total_num_buckets]\n",
        "    for i in range(len(selected_bucket)):\n",
        "      if selected_bucket[i][0] == key:\n",
        "        return selected_bucket[i][1]\n",
        "    return None\n",
        "\n",
        "  def __str__(self):\n",
        "    result = '{'\n",
        "    for bucket in self.buckets:\n",
        "      for entry in bucket:\n",
        "        result += f'{entry[0]}:{entry[1]}'\n",
        "    return result + '}'\n",
        "\n"
      ],
      "metadata": {
        "id": "nXCbD1jDxr8i"
      },
      "execution_count": 12,
      "outputs": []
    },
    {
      "cell_type": "code",
      "source": [
        "import random\n",
        "D = my_dictionary(15)\n",
        "for i in range(20):\n",
        "  key = random.randint(0, 10**5 -1)\n",
        "  D.add_entry(key, i)\n",
        "print('Printing the dictionary, D')\n",
        "print(D)"
      ],
      "metadata": {
        "colab": {
          "base_uri": "https://localhost:8080/"
        },
        "id": "Lc33m0G728kF",
        "outputId": "6b9d4c69-b399-4864-e4d6-ca6e67d23d7a"
      },
      "execution_count": 13,
      "outputs": [
        {
          "output_type": "stream",
          "name": "stdout",
          "text": [
            "Printing the dictionary, D\n",
            "{50985:836450:1089506:185898:166348:670595:4740:111416:263186:1456740:1286861:035636:548866:1982707:1536987:1772868:385723:787973:1347924:988799:16}\n"
          ]
        }
      ]
    },
    {
      "cell_type": "code",
      "source": [
        "for hash_bucket in D.buckets: # violates abstraction barrier\n",
        "      print(hash_bucket)"
      ],
      "metadata": {
        "colab": {
          "base_uri": "https://localhost:8080/"
        },
        "id": "freH7fQK5dDY",
        "outputId": "0d62702f-31f6-4786-c38a-59c1af85a08c"
      },
      "execution_count": 14,
      "outputs": [
        {
          "output_type": "stream",
          "name": "stdout",
          "text": [
            "[(50985, 8), (36450, 10)]\n",
            "[(89506, 18)]\n",
            "[]\n",
            "[(5898, 1), (66348, 6)]\n",
            "[]\n",
            "[(70595, 4), (740, 11)]\n",
            "[(1416, 2), (63186, 14)]\n",
            "[]\n",
            "[]\n",
            "[]\n",
            "[(56740, 12)]\n",
            "[(86861, 0), (35636, 5), (48866, 19)]\n",
            "[(82707, 15), (36987, 17)]\n",
            "[(72868, 3), (85723, 7), (87973, 13)]\n",
            "[(47924, 9), (88799, 16)]\n"
          ]
        }
      ]
    }
  ]
}