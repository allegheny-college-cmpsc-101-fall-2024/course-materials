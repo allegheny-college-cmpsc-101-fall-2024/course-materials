{
  "nbformat": 4,
  "nbformat_minor": 0,
  "metadata": {
    "colab": {
      "provenance": [],
      "authorship_tag": "ABX9TyM4yKCB8s7qlj6s8aj5YHV5",
      "include_colab_link": true
    },
    "kernelspec": {
      "name": "python3",
      "display_name": "Python 3"
    },
    "language_info": {
      "name": "python"
    }
  },
  "cells": [
    {
      "cell_type": "markdown",
      "metadata": {
        "id": "view-in-github",
        "colab_type": "text"
      },
      "source": [
        "<a href=\"https://colab.research.google.com/github/allegheny-college-cmpsc-101-fall-2023/course-materials/blob/main/Notes/Templates/CMPSC101_Fall2023_dynamic_programming.ipynb\" target=\"_parent\"><img src=\"https://colab.research.google.com/assets/colab-badge.svg\" alt=\"Open In Colab\"/></a>"
      ]
    },
    {
      "cell_type": "markdown",
      "source": [
        "Dynamic Programming uses memoization or tabulation to store information\n",
        "- n.b. it is only useful to store information if it can be reused\n",
        "- information can only be reused if the problem being solved can be broken down into repeatable subparts (like recursion)"
      ],
      "metadata": {
        "id": "B-Voepg2TszS"
      }
    },
    {
      "cell_type": "markdown",
      "source": [
        "There are two approaches to dynamic programming\n",
        "- Memoization\n",
        "  - Top-down method. It starts from the original problem, breaks it into subproblems, breaks the subproblems into subproblems, etc. Each time it solves a subproblem, it stores the answer in a table. Each time it needs to solve a subproblem, it first tries to look up the answer in the table.\n",
        "- Tabular\n",
        "  - Bottom-up method. It starts from the smallest problems, and stores the answers to those in a table. It then combines the solutions to these problems to solve the next smallest problems, and stores those answers in the table."
      ],
      "metadata": {
        "id": "nN738oKGWt28"
      }
    },
    {
      "cell_type": "code",
      "source": [
        "def fib_slow(n: int) -> int:\n",
        "  \"\"\"Assumes n is an int >= 0, returns value of nth Fibonacci number.\"\"\"\n",
        "  if n == 0 or n == 1:\n",
        "    return 1\n",
        "  else:\n",
        "    return fib_slow(n-1) + fib_slow(n-2)"
      ],
      "metadata": {
        "id": "CCje3UYBT9iR"
      },
      "execution_count": 4,
      "outputs": []
    },
    {
      "cell_type": "code",
      "source": [
        "print(fib_slow(200))"
      ],
      "metadata": {
        "id": "3b79kXBfU3Vf"
      },
      "execution_count": null,
      "outputs": []
    },
    {
      "cell_type": "code",
      "source": [
        "def fib_memo(n: int, memo = None) -> int:\n",
        "  if memo == None:\n",
        "    memo = {}\n",
        "  if n == 0 or n == 1:\n",
        "    return 1\n",
        "  try:\n",
        "    return memo[n]\n",
        "  except KeyError:\n",
        "    result = fib_memo(n-1, memo) + fib_memo(n-2, memo)\n",
        "    memo[n] = result\n",
        "    return result\n",
        "\n"
      ],
      "metadata": {
        "id": "7rB45RD3XKVB"
      },
      "execution_count": 25,
      "outputs": []
    },
    {
      "cell_type": "code",
      "source": [
        "print(fib_memo(200))"
      ],
      "metadata": {
        "colab": {
          "base_uri": "https://localhost:8080/"
        },
        "id": "AbS5iVpnX6gc",
        "outputId": "75544061-3c8c-4f9a-9755-8091ddeeb28c"
      },
      "execution_count": 26,
      "outputs": [
        {
          "output_type": "stream",
          "name": "stdout",
          "text": [
            "453973694165307953197296969697410619233826\n"
          ]
        }
      ]
    },
    {
      "cell_type": "code",
      "source": [
        "def fib_tabular(n: int) -> int:\n",
        "  \"\"\"Assumes n is an int >= 0, returns value of nth Fibonacci number.\"\"\"\n",
        "  if n == 0:\n",
        "    return 0\n",
        "  fib = [1,1]\n",
        "  for i in range(2, n+1):\n",
        "    fib.append(fib[i-1] + fib[i-2])\n",
        "  return fib[n]"
      ],
      "metadata": {
        "id": "2OMpCu4dUVZO"
      },
      "execution_count": 18,
      "outputs": []
    },
    {
      "cell_type": "code",
      "source": [
        "print(fib_tabular(200))"
      ],
      "metadata": {
        "id": "RNGYdL5jU7M3"
      },
      "execution_count": null,
      "outputs": []
    },
    {
      "cell_type": "markdown",
      "source": [
        "0/1 knapsack with dynamic programming"
      ],
      "metadata": {
        "id": "54Tk37WxTpcE"
      }
    },
    {
      "cell_type": "markdown",
      "source": [
        "Each node in the search tree for the 0/1 knapsack problem is labeled with a quadruple that denotes a partial solution to the knapsack problem. The elements of the quadruple are:\n",
        "- A set of items to be taken\n",
        "- The list of items for which a decision has not been made\n",
        "- The total value of the items in the set of items to be taken (this is merely an optimization, since the value could be computed from the set)\n",
        "- The remaining space in the knapsack. (Again, this is an optimization, since it is merely the difference between the weight allowed and the weight of all the items taken so far.)\n"
      ],
      "metadata": {
        "id": "dHXRUVZtYF-r"
      }
    },
    {
      "cell_type": "code",
      "execution_count": null,
      "metadata": {
        "id": "daxljqniTm2h"
      },
      "outputs": [],
      "source": []
    }
  ]
}