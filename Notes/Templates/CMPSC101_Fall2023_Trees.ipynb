{
  "nbformat": 4,
  "nbformat_minor": 0,
  "metadata": {
    "colab": {
      "provenance": [],
      "authorship_tag": "ABX9TyMGss4rTcVv43SBZTQKAdvV",
      "include_colab_link": true
    },
    "kernelspec": {
      "name": "python3",
      "display_name": "Python 3"
    },
    "language_info": {
      "name": "python"
    }
  },
  "cells": [
    {
      "cell_type": "markdown",
      "metadata": {
        "id": "view-in-github",
        "colab_type": "text"
      },
      "source": [
        "<a href=\"https://colab.research.google.com/github/allegheny-college-cmpsc-101-fall-2023/course-materials/blob/main/Notes/Templates/CMPSC101_Fall2023_Trees.ipynb\" target=\"_parent\"><img src=\"https://colab.research.google.com/assets/colab-badge.svg\" alt=\"Open In Colab\"/></a>"
      ]
    },
    {
      "cell_type": "markdown",
      "source": [
        "# Chapter 15 - Dynamic Programming"
      ],
      "metadata": {
        "id": "Mje0egUUoRan"
      }
    },
    {
      "cell_type": "markdown",
      "source": [
        "see also https://proactiveprogrammers.com/slides/data-abstraction/optimization-problems/"
      ],
      "metadata": {
        "id": "7N5O_F0BoUcK"
      }
    },
    {
      "cell_type": "markdown",
      "source": [
        "## Tree structures"
      ],
      "metadata": {
        "id": "QHlXLbQMmkoA"
      }
    },
    {
      "cell_type": "markdown",
      "source": [
        "- 0->1\n",
        "- 0->2\n",
        "- 1->2\n",
        "- 2->3\n",
        "- 2->4\n",
        "- 3->4\n",
        "- 4->0\n",
        "- 3->5"
      ],
      "metadata": {
        "id": "2-wmlSOKnFyi"
      }
    },
    {
      "cell_type": "markdown",
      "source": [
        "Is there a better representation of this data??"
      ],
      "metadata": {
        "id": "5uwHs2nGnUPW"
      }
    },
    {
      "cell_type": "markdown",
      "source": [
        "- depth-first search\n",
        "- breadth-first search"
      ],
      "metadata": {
        "id": "UgoW6nh4mm92"
      }
    },
    {
      "cell_type": "markdown",
      "source": [
        "How does this fit in with optimization topic?"
      ],
      "metadata": {
        "id": "p8H-7ieunXk1"
      }
    },
    {
      "cell_type": "markdown",
      "source": [
        "Consider fibonacci\n",
        "- fib(6)\n",
        "- fib(5), fib(4)\n",
        "- fib(4), fib(3) || fib(3), fib(2)\n",
        "- ....."
      ],
      "metadata": {
        "id": "romfxe0_nxzB"
      }
    },
    {
      "cell_type": "markdown",
      "source": [
        "Solutions\n",
        "- memoization\n",
        "- tabulation"
      ],
      "metadata": {
        "id": "87Dl0X7XoBoJ"
      }
    },
    {
      "cell_type": "markdown",
      "source": [
        "## Decision Trees"
      ],
      "metadata": {
        "id": "fIFzN7wRmelX"
      }
    },
    {
      "cell_type": "markdown",
      "source": [
        "What are all the ways that a coin toss could go for 10 tosses?"
      ],
      "metadata": {
        "id": "3vrAVlwImT5x"
      }
    },
    {
      "cell_type": "markdown",
      "source": [
        "### Knapsack revisited"
      ],
      "metadata": {
        "id": "MMI1FMRQoMtB"
      }
    },
    {
      "cell_type": "markdown",
      "source": [
        "|Name|Value|Weight|\n",
        "|----|-----|------|\n",
        "|a|6|3|\n",
        "|b|7|3|\n",
        "|c|8|2|\n",
        "|d|9|5|"
      ],
      "metadata": {
        "id": "Kz-WJpeplaKZ"
      }
    },
    {
      "cell_type": "markdown",
      "source": [
        "If knapsack has max weight W = 5"
      ],
      "metadata": {
        "id": "oQs4j0PWlsgt"
      }
    },
    {
      "cell_type": "markdown",
      "source": [
        "Vocabulary\n",
        "- root\n",
        "- node\n",
        "- edge\n",
        "- parent\n",
        "- child\n",
        "- binary decision tree\n"
      ],
      "metadata": {
        "id": "7LIYP0vdlyaS"
      }
    }
  ]
}