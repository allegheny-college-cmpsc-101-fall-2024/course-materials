{
  "nbformat": 4,
  "nbformat_minor": 0,
  "metadata": {
    "colab": {
      "provenance": [],
      "toc_visible": true,
      "authorship_tag": "ABX9TyP4+HlIQfS62gznNHVHkSI8",
      "include_colab_link": true
    },
    "kernelspec": {
      "name": "python3",
      "display_name": "Python 3"
    },
    "language_info": {
      "name": "python"
    }
  },
  "cells": [
    {
      "cell_type": "markdown",
      "metadata": {
        "id": "view-in-github",
        "colab_type": "text"
      },
      "source": [
        "<a href=\"https://colab.research.google.com/github/allegheny-college-cmpsc-101-fall-2023/course-materials/blob/main/Notes/Templates/CMPSC101_Fall2023_optimization01.ipynb\" target=\"_parent\"><img src=\"https://colab.research.google.com/assets/colab-badge.svg\" alt=\"Open In Colab\"/></a>"
      ]
    },
    {
      "cell_type": "markdown",
      "source": [
        "# Optimization - Chapter 14"
      ],
      "metadata": {
        "id": "DNywEIKzCmi7"
      }
    },
    {
      "cell_type": "markdown",
      "source": [
        "## Warmup"
      ],
      "metadata": {
        "id": "OvsYpaEyhSxb"
      }
    },
    {
      "cell_type": "markdown",
      "source": [
        "### Weighted Averages"
      ],
      "metadata": {
        "id": "muUmd1sYmFqJ"
      }
    },
    {
      "cell_type": "markdown",
      "source": [
        "- what happens when a number is multiplied by 0?\n",
        "- what happens when a number is multiplied by 1?\n",
        "- P = [10,14,13,16,9,8,1,2,1,100]\n",
        "- K = [0,1,1,0,1,1,0,0,1,0]\n",
        "- how many items are in P?\n",
        "- how many bool-like elems are in K?\n",
        "- if P[n] is multiplied by K[n] for all items, what is the total?\n",
        "- if you can only mark 5 True in K, which 5 should you mark to optimize the total?\n",
        "- edit {under}, {over}, and _expression_ to write the mathematical sum (aka dot product of P and K)\n",
        "  - $\\sum_{under}^{over} expression$"
      ],
      "metadata": {
        "id": "L1HT7AiPZslZ"
      }
    },
    {
      "cell_type": "markdown",
      "source": [
        "### Power Sets"
      ],
      "metadata": {
        "id": "scoXDPramJwP"
      }
    },
    {
      "cell_type": "markdown",
      "source": [
        "given a vector of 4 things [1,2,3,4], what is the power set?\n",
        "- {} # empty set\n",
        "- # first thing added to all previous sets\n",
        "- # second thing added to all previous sets\n",
        "- # third thing added to all previous sets\n",
        "- # fourth thing added to all previous sets\n",
        "- how many sets total so far?\n",
        "- how many more sets would be added if there were a 5th thing?\n",
        "- how many more sets would be added if there were a 6th thing?\n",
        "- what is the complexity?\n"
      ],
      "metadata": {
        "id": "IaksDfFyfakX"
      }
    },
    {
      "cell_type": "markdown",
      "source": [
        "## Video by GUTTAG on Optimization!"
      ],
      "metadata": {
        "id": "2vAWQ7PUCpbn"
      }
    },
    {
      "cell_type": "code",
      "execution_count": 3,
      "metadata": {
        "colab": {
          "base_uri": "https://localhost:8080/",
          "height": 336
        },
        "id": "aAcmvKyECFoa",
        "outputId": "ef78d4ba-789e-44e3-f1ff-e159c44a07fd"
      },
      "outputs": [
        {
          "output_type": "execute_result",
          "data": {
            "text/plain": [
              "<IPython.core.display.HTML object>"
            ],
            "text/html": [
              "<iframe width=\"560\" height=\"315\" src=\"https://www.youtube.com/embed/C1lhuz6pZC0?si=eiwXE2ZrDuyvG5Ac&amp;start=347\" title=\"YouTube video player\" frameborder=\"0\" allow=\"accelerometer; autoplay; clipboard-write; encrypted-media; gyroscope; picture-in-picture; web-share\" allowfullscreen></iframe>"
            ]
          },
          "metadata": {},
          "execution_count": 3
        }
      ],
      "source": [
        "from IPython.display import HTML\n",
        "\n",
        "HTML('<iframe width=\"560\" height=\"315\" src=\"https://www.youtube.com/embed/C1lhuz6pZC0?si=eiwXE2ZrDuyvG5Ac&amp;start=347\" title=\"YouTube video player\" frameborder=\"0\" allow=\"accelerometer; autoplay; clipboard-write; encrypted-media; gyroscope; picture-in-picture; web-share\" allowfullscreen></iframe>')"
      ]
    },
    {
      "cell_type": "markdown",
      "source": [
        "- consider problem of trying to get from Pittsburgh to Chicago\n",
        "- So-called \"objective\" function is:\n",
        "- Constraints on the problem could be:"
      ],
      "metadata": {
        "id": "dOBp0YjvDXnI"
      }
    },
    {
      "cell_type": "markdown",
      "source": [
        "- objective function must be minimized or maximized\n",
        "- constraints eliminate some solutions"
      ],
      "metadata": {
        "id": "DIQMw0NYEH5b"
      }
    },
    {
      "cell_type": "markdown",
      "source": [
        "- given a problem with an objective and constraints, how do you find an optimal solution?\n",
        "- computers can be programmed to do this!"
      ],
      "metadata": {
        "id": "XPHxdWW6D0s2"
      }
    },
    {
      "cell_type": "markdown",
      "source": [
        "## Knapsack Problem"
      ],
      "metadata": {
        "id": "LgVpls8ME8Hc"
      }
    },
    {
      "cell_type": "markdown",
      "source": [
        "<img src=\"https://codemechblog.files.wordpress.com/2016/08/knapsack1.jpg?w=1200\">"
      ],
      "metadata": {
        "id": "hItq0ywnE-tw"
      }
    },
    {
      "cell_type": "markdown",
      "source": [
        "- objective function:\n",
        "- contraints:"
      ],
      "metadata": {
        "id": "YFjniZGAF6V7"
      }
    },
    {
      "cell_type": "markdown",
      "source": [
        "| **Item** | **Value** | **Weight** | **Density (Value/Weight)** |\n",
        "|------ |-------|--------|--------------|\n",
        "| Clock | 175   | 10     | 17.5         |\n",
        "| Painting | 90 | 9      | 10           |\n",
        "| Radio | 20 | 4      | 5           |\n",
        "| Vase | 50 | 2      | 25           |\n",
        "| Book | 10 | 1      | 10           |\n",
        "| Computer | 200 | 20      | 10           |\n",
        "\n",
        "\n",
        "- If you were a thief what would you steal? Why?\n",
        "- What are different strategies for stealing items?"
      ],
      "metadata": {
        "id": "7_gMm6B6kA41"
      }
    },
    {
      "cell_type": "markdown",
      "source": [
        "## Greedy or not?"
      ],
      "metadata": {
        "id": "Wex2OuHfkTBi"
      }
    },
    {
      "cell_type": "markdown",
      "source": [
        "- 0/1 knapsack variant refers to discrete problem\n",
        "  - the item is either selected or not\n",
        "- Continuoue knapsack variant is ... continuous\n",
        "  - part of an item can be taken"
      ],
      "metadata": {
        "id": "I0Pl1wftFhWp"
      }
    },
    {
      "cell_type": "markdown",
      "source": [
        "- 0/1 knapsack problem is harder to solve because every choice has down-stream effects\n",
        "  - greedy choices make sense for continuous\n",
        "  - greedy choices for 0/1 does not guarantee best solution"
      ],
      "metadata": {
        "id": "1iy4Ew1rRUv4"
      }
    },
    {
      "cell_type": "markdown",
      "source": [
        "- objective: get most value\n",
        "- max weight = 10\n",
        "- item1 value 8 weight 8\n",
        "- item2 value 5 weight 5\n",
        "- item3 value 4 weight 4\n",
        "\n",
        "- what needs to happen in the algorithm to solve this?"
      ],
      "metadata": {
        "id": "VObSauE4TNAP"
      }
    },
    {
      "cell_type": "markdown",
      "source": [],
      "metadata": {
        "id": "VeivfXz-dtxv"
      }
    },
    {
      "cell_type": "markdown",
      "source": [
        "## Abstraction"
      ],
      "metadata": {
        "id": "RfhpziuJVHtO"
      }
    },
    {
      "cell_type": "markdown",
      "source": [
        "- max weight, W\n",
        "- data given by value and weight $(v_0, w_0), (v_1, w_1)$\n",
        "- subscript n goes from 0 to N\n",
        "- total number of items, N\n",
        "- list of all possible items, P\n",
        "- binary representation of items in the knapsack, K"
      ],
      "metadata": {
        "id": "qU6PhiaDVSCi"
      }
    },
    {
      "cell_type": "markdown",
      "source": [
        "- objective: find a K where the value is maximized\n",
        "  - $K_n \\cdot v_n$ over all items is as big as possible\n",
        "  - $\\sum_{n=0}^{N-1} K_n \\cdot v_n$\n",
        "    - $v_n$ is found in P[n][0] or similar\n",
        "- constraint: do not go over weight!\n",
        "  - $K_n \\cdot w_n$ over all items is less than W\n",
        "  - $\\sum_{n=0}^{N-1} K_n \\cdot w_n ≤ W $\n",
        "    - $w_n$ is found in P[n][1] or similar"
      ],
      "metadata": {
        "id": "5F-mNvqhWWzQ"
      }
    },
    {
      "cell_type": "markdown",
      "source": [
        "## True Solutions"
      ],
      "metadata": {
        "id": "YLfSAmMCdwBg"
      }
    },
    {
      "cell_type": "markdown",
      "source": [
        "- objective: get most value\n",
        "- max weight = 10\n",
        "- item1 value 8 weight 8\n",
        "- item2 value 5 weight 5\n",
        "- item3 value 4 weight 4\n"
      ],
      "metadata": {
        "id": "npGeVB1udxgx"
      }
    },
    {
      "cell_type": "markdown",
      "source": [
        "write the power set!\n",
        "-\n",
        "-\n",
        "-\n",
        "-\n",
        "-\n",
        "- which set above solves the objective given the constraints?"
      ],
      "metadata": {
        "id": "T4WHGXg_d3qE"
      }
    },
    {
      "cell_type": "markdown",
      "source": [
        "- what is the complexity of above solution?\n",
        "- how could this be elegantly coded?"
      ],
      "metadata": {
        "id": "r65MeceXezPG"
      }
    },
    {
      "cell_type": "markdown",
      "source": [
        "## Greedy approximations"
      ],
      "metadata": {
        "id": "Ioj7RQMIk-WN"
      }
    },
    {
      "cell_type": "markdown",
      "source": [
        "Ex 1: pseudo-code\n",
        "- while the knapsack is not full:\n",
        "  - put the \"best\" remaining item that fits into the backpack\n",
        "  - (best is defined only by highest value)"
      ],
      "metadata": {
        "id": "O0aBCVDnlA2U"
      }
    },
    {
      "cell_type": "markdown",
      "source": [
        "## Proactive Programmers Example"
      ],
      "metadata": {
        "id": "zzOyKZuEkuOJ"
      }
    },
    {
      "cell_type": "markdown",
      "source": [
        "https://githubtocolab.com/ProactiveProgrammers/www.proactiveprogrammers.com/blob/master/files/data-abstraction/optimization-problems/explore-knapsack-solving.ipynb"
      ],
      "metadata": {
        "id": "S1d52MsWkqCw"
      }
    }
  ]
}