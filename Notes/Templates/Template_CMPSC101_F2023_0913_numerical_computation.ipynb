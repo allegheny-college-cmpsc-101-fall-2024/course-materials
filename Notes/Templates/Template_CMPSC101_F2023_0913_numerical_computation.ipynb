{
  "nbformat": 4,
  "nbformat_minor": 0,
  "metadata": {
    "colab": {
      "provenance": [],
      "authorship_tag": "ABX9TyPmCxAflAp98ZYeMwx9Ttf9",
      "include_colab_link": true
    },
    "kernelspec": {
      "name": "python3",
      "display_name": "Python 3"
    },
    "language_info": {
      "name": "python"
    }
  },
  "cells": [
    {
      "cell_type": "markdown",
      "metadata": {
        "id": "view-in-github",
        "colab_type": "text"
      },
      "source": [
        "<a href=\"https://colab.research.google.com/github/allegheny-college-cmpsc-101-fall-2023/course-materials/blob/main/Template_CMPSC101_F2023_0913_numerical_computation.ipynb\" target=\"_parent\"><img src=\"https://colab.research.google.com/assets/colab-badge.svg\" alt=\"Open In Colab\"/></a>"
      ]
    },
    {
      "cell_type": "code",
      "execution_count": null,
      "metadata": {
        "id": "HcDXO2z1zWSR"
      },
      "outputs": [],
      "source": [
        "# What are two key algorithmic strategies?\n",
        "# -\n",
        "# -"
      ]
    },
    {
      "cell_type": "code",
      "source": [
        "# recall the next block from last class the block below"
      ],
      "metadata": {
        "id": "CH8hjuwm1-nK"
      },
      "execution_count": null,
      "outputs": []
    },
    {
      "cell_type": "code",
      "source": [
        "# numerically find the square root of a number, x\n",
        "# x is greater than 1\n",
        "\n",
        "# sqrt_x * sqrt_x = x +- margin of error EG ((the key thing here is that we are allowing a margin of error))\n",
        "# abs(sqrt_x *sqrt_x - x) < epsilon\n",
        "\n",
        "x = int(input('Enter a number: '))\n",
        "epsilon = 0.01\n",
        "step = epsilon\n",
        "sqrt_x = 0\n",
        "\n",
        "while abs(sqrt_x *sqrt_x - x) > epsilon and sqrt_x < x: # EG cut off the loop in case we somehow miss the solution...\n",
        "   sqrt_x += step\n",
        "\n",
        "# is the answer reasonable?\n",
        "# sqrt_x *sqrt_x == 2??\n",
        "\n",
        "print(f'the square root of {x} is approximately {sqrt_x}')"
      ],
      "metadata": {
        "id": "Y0XOQo9z6ZyX"
      },
      "execution_count": null,
      "outputs": []
    },
    {
      "cell_type": "code",
      "source": [
        "# Trade-offs\n",
        "\n",
        "# - Exhaustive enumeration is easier to implement\n",
        "# - Binary search is faster\n",
        "# - Binary search is often harder to implement and read"
      ],
      "metadata": {
        "id": "Cw0zKv-k7Jei"
      },
      "execution_count": null,
      "outputs": []
    },
    {
      "cell_type": "code",
      "source": [
        "# implement a binary search to determine the square root of 107\n",
        "\n",
        "x = 107\n",
        "epsilon = 0.01 # margin of error\n",
        "\n",
        "lower_bound = 0 # will not search below this - initial value\n",
        "upper_bound = x # will not seach above this - initial value\n",
        "\n",
        "sqrt_x = 0.5*(lower_bound + upper_bound) # average as guess\n",
        "\n",
        "-\n",
        "-\n",
        "-"
      ],
      "metadata": {
        "id": "IwXRhTYzNbDP"
      },
      "execution_count": null,
      "outputs": []
    },
    {
      "cell_type": "markdown",
      "source": [
        "Consider thinking about the question phrased like this: find the 0 crossing of the simple polynomial $ f(x) = x^2 - 3$. According to Newton's method, the roots of the fuction can be found by iteratively updating the guessed_root:\n",
        "\n",
        "$$ x $$\n",
        "\n",
        "$$  f(x) = x^2 - 3 $$\n",
        "\n",
        "$$ f'(x) = {df \\over dx} = 2x $$\n",
        "\n",
        "$$ x_{updated} = x - {f(x) \\over f'(x)}  = x - {(x^2 -3) \\over 2x } $$\n"
      ],
      "metadata": {
        "id": "cTfyK1YTezv8"
      }
    },
    {
      "cell_type": "code",
      "source": [
        "# Other numerical computation applications\n",
        "\n",
        "# approximating the area under curves - https://en.wikipedia.org/wiki/Runge%E2%80%93Kutta_methods\n",
        "# finding the frequency content in a discrete music signal - https://en.wikipedia.org/wiki/Short-time_Fourier_transform\n",
        "# using subsets of data repeatedly to analyze statistical significance - https://en.wikipedia.org/wiki/Bootstrapping_(statistics)"
      ],
      "metadata": {
        "id": "0tQcWbXlbVr4"
      },
      "execution_count": null,
      "outputs": []
    },
    {
      "cell_type": "code",
      "source": [
        "# tips for coming assignments\n",
        "\n",
        "# what parameters does the `range` function take? ((do you know about help(function)?))\n",
        "\n",
        "# how do you skip values using `range`\n",
        "\n",
        "# modify the range below to print only odd numbers >= than 3. Do not use the mod operator\n",
        "\n",
        "# print the length of range(30) and the length of the range you come up with"
      ],
      "metadata": {
        "id": "D3jpxIAl8K0T"
      },
      "execution_count": null,
      "outputs": []
    },
    {
      "cell_type": "code",
      "source": [
        "# Change this to print only odd numbers from 3 to 30\n",
        "for i in range(30):\n",
        "  print(i, end = ', ')"
      ],
      "metadata": {
        "id": "cfLvZZeW8lKs"
      },
      "execution_count": null,
      "outputs": []
    },
    {
      "cell_type": "code",
      "source": [
        "# turn the code from last class (copied below) into a function to determine if a number is prime\n",
        "# EG ################### def (param):\n",
        "# use type annotations for the input and output\n",
        "# the input is the number that is to be tested\n",
        "# the output should be a boolean that is True if the input is prime and False if not\n",
        "# also incorporate the range modification from above to make this function more efficient\n",
        "# if you find what you are looking for in a function, use return, not break\n",
        "# call your function with x = 1013 and capture the output in a variable\n",
        "# the use a formatted string to print a message about the input\n",
        "\n",
        "x = int(input('enter a positive number: '))\n",
        "\n",
        "# initialize the final solution\n",
        "largest_divisor = None\n",
        "\n",
        "# test every number from 2 to x-1 and check divisibility exhaustively with a for loop\n",
        "for divisor in range(2,x):\n",
        "\n",
        "  if x % divisor == 0: # % operator returns remainders\n",
        "    largest_divisor = x/divisor\n",
        "    break\n",
        "\n",
        "print(f'the largest divisor of {x} is {largest_divisor}')\n",
        "\n",
        "if largest_divisor == None:\n",
        "  print(f'{x} is a prime number!')"
      ],
      "metadata": {
        "id": "Gqw183ZIDt7A"
      },
      "execution_count": null,
      "outputs": []
    }
  ]
}