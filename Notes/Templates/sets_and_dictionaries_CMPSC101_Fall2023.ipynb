{
  "nbformat": 4,
  "nbformat_minor": 0,
  "metadata": {
    "colab": {
      "provenance": [],
      "authorship_tag": "ABX9TyOmXRzEyOEQSevgRvvvVN0H",
      "include_colab_link": true
    },
    "kernelspec": {
      "name": "python3",
      "display_name": "Python 3"
    },
    "language_info": {
      "name": "python"
    }
  },
  "cells": [
    {
      "cell_type": "markdown",
      "metadata": {
        "id": "view-in-github",
        "colab_type": "text"
      },
      "source": [
        "<a href=\"https://colab.research.google.com/github/allegheny-college-cmpsc-101-fall-2023/course-materials/blob/main/Notes/Templates/sets_and_dictionaries_CMPSC101_Fall2023.ipynb\" target=\"_parent\"><img src=\"https://colab.research.google.com/assets/colab-badge.svg\" alt=\"Open In Colab\"/></a>"
      ]
    },
    {
      "cell_type": "markdown",
      "source": [
        "Announcements\n",
        "- Exam grades are in GitHub, and comments are in your repos\n",
        "- Review your exam\n",
        "- Try to articulate what concepts were confusing and why - even write it out!\n",
        "- come to office hours with lingering questions\n",
        "- anonymous midterm feedback survey\n",
        "- warmup questions in class\n",
        "- I'm thinking about exam credit and assignment credits...will let you know next week. If you have suggestions, you can put them in the survey\n"
      ],
      "metadata": {
        "id": "sIXeuehGvo9U"
      }
    },
    {
      "cell_type": "markdown",
      "source": [
        "Pseudo-code for Source Code Survey"
      ],
      "metadata": {
        "id": "FBOEDxFsJnRU"
      }
    },
    {
      "cell_type": "code",
      "source": [
        "# Pseudo code for intersections\n",
        "\n",
        "# if you have two tuples, how can you figure out their intersection?\n",
        "\n",
        "# some useful facts\n",
        "# a = (1,2,3)\n",
        "# b = (4,5,6)\n",
        "# '+' makes a new object\n",
        "\n",
        "# a[0] # reading fine\n",
        "# a[0] = 10 # assignment bad\n",
        "\n",
        "\n",
        "\n",
        "# pg 91"
      ],
      "metadata": {
        "id": "1KITwNW2JHS1"
      },
      "execution_count": null,
      "outputs": []
    },
    {
      "cell_type": "code",
      "source": [
        "# Pseudo code for higher order function\n",
        "\n",
        "# say you want to be able to apply some kind of function to every element in a list...\n",
        "\n",
        "# the problem is that this doesn't work:\n",
        "a = [-1,2,-3,-4]\n",
        "abs_a = abs(a)\n",
        "\n",
        "# lets write out the logic, then the pseudo code, then the\n",
        "\n",
        "\n",
        "\n",
        "\n",
        "# pg 105"
      ],
      "metadata": {
        "id": "4LTr43reJlAB"
      },
      "execution_count": null,
      "outputs": []
    },
    {
      "cell_type": "markdown",
      "source": [
        "# Sets and Dictionaries"
      ],
      "metadata": {
        "id": "r5erqDi5CBRC"
      }
    },
    {
      "cell_type": "markdown",
      "source": [
        "\n",
        "### Sets\n",
        "- are a container, like lists and tuples\n",
        "- use {} curly braces!\n",
        "- `my_set = {1, 4.5, (1,2,3), 'hello'}`\n",
        "- they are Iterable - you can use them in a loop (like tuple, range, list, str)\n",
        "- BUT\n",
        "- they are unordered (unlike lists and tuples) - you cannot index into a set\n",
        "- the order of the items that come out is undefined\n",
        "\n",
        "`my_set[0] # this will fail`\n",
        "\n",
        "- they contain only unique items (no duplicates)\n",
        "- they contain only items that are hashable!\n",
        "- hashable refers to items that cannot be altered! i.e. that are REALLY immutable\n",
        "\n",
        "documentation: https://python-reference.readthedocs.io/en/latest/docs/sets/\n",
        "- .add()\n",
        "- .update()\n",
        "- .remove()\n",
        "- .discard()\n",
        "- .union()\n",
        "- .intersection()\n",
        "- .difference()\n",
        "- `if elem in set`"
      ],
      "metadata": {
        "id": "8AwtpJI_CdLt"
      }
    },
    {
      "cell_type": "code",
      "source": [
        "# 7. with this code, what is happening?\n",
        "\n",
        "# what type is involved?\n",
        "# are all the parts hashable?\n",
        "\n",
        "department = {'computer', 'and', 'information', 'science'}\n",
        "# look at entire set\n",
        "print(\"Entire set:\", department)\n",
        "# add and element\n",
        "department.add('Hello')\n",
        "# look at entire set\n",
        "print(\"Entire set:\", department)\n",
        "# look at first element\n",
        "print(\"First elem:\", department[0])"
      ],
      "metadata": {
        "id": "J3BKsq1Gam-u"
      },
      "execution_count": null,
      "outputs": []
    },
    {
      "cell_type": "code",
      "source": [
        "# 8. with this code, what is happening?\n",
        "\n",
        "department = {'computer', 'computer', 'computer', 'science'}\n",
        "# look at entire set\n",
        "print(\"Entire set:\", department)\n",
        "print(len(department))"
      ],
      "metadata": {
        "colab": {
          "base_uri": "https://localhost:8080/"
        },
        "id": "c2BQoHhl65-j",
        "outputId": "8f96afaf-d15c-4453-87cc-9b57c26c5bf1"
      },
      "execution_count": null,
      "outputs": [
        {
          "output_type": "stream",
          "name": "stdout",
          "text": [
            "Entire set: {'science', 'computer'}\n"
          ]
        },
        {
          "output_type": "execute_result",
          "data": {
            "text/plain": [
              "2"
            ]
          },
          "metadata": {},
          "execution_count": 22
        }
      ]
    },
    {
      "cell_type": "code",
      "source": [
        "# 9. with this code, what is happening?\n",
        "\n",
        "# what type is involved?\n",
        "\n",
        "word_1, word_a, word_first, word_alpha = ['computer'], ['and'], ['information'], ['science']\n",
        "department = {word_1, word_a, word_first, word_alpha}"
      ],
      "metadata": {
        "id": "eNy9fkSD2rke"
      },
      "execution_count": null,
      "outputs": []
    },
    {
      "cell_type": "code",
      "source": [
        "# containment example\n",
        "example_set = {'hello','darkness','my old friend', 1234}\n",
        "contains_hello = 'hello' in example_set\n",
        "contains_HELLO = 'HELLO' in example_set\n",
        "print(f\"contains_hello is {contains_hello}, and contains_HELLO is {contains_HELLO}\")"
      ],
      "metadata": {
        "id": "8vp-aUP_4oZ1"
      },
      "execution_count": null,
      "outputs": []
    },
    {
      "cell_type": "markdown",
      "source": [
        "### Hashability"
      ],
      "metadata": {
        "id": "kufTql-35rMo"
      }
    },
    {
      "cell_type": "code",
      "source": [
        "# test hashability of tuples\n",
        "a = (1,2,\"3\")\n",
        "print(hash(a))\n",
        "\n",
        "# what goes wrong here?\n",
        "a_altered = (1,2,[\"3\"])\n",
        "print(hash(a_altered))\n"
      ],
      "metadata": {
        "id": "FNaDakONtcKI"
      },
      "execution_count": null,
      "outputs": []
    },
    {
      "cell_type": "code",
      "source": [
        "# test hashability of sets\n",
        "# what goes wrong here?\n",
        "a = {1,2,\"3\"}\n",
        "print(hash(a))\n"
      ],
      "metadata": {
        "id": "VbKpzKhXw2kw"
      },
      "execution_count": null,
      "outputs": []
    },
    {
      "cell_type": "code",
      "source": [
        "# demonstrating the hashability of items inside a set\n",
        "example_set = {'hello','darkness','my old friend', 1234}\n",
        "for item in example_set:\n",
        "  print(f\"item {item} has hash: {hash(item)}\")"
      ],
      "metadata": {
        "id": "rgxFxQTb2m_0"
      },
      "execution_count": null,
      "outputs": []
    },
    {
      "cell_type": "markdown",
      "source": [
        "### Dictionary\n",
        "\n",
        "- `my_dict = {key1:value1, key2:value2}`\n",
        "- keys must be hashable\n",
        "- dictionaries are unordered\n",
        "- dictionaries are indexed by key `my_dict[key1] == value1`\n",
        "- dictionaries are not indexed by regular indices\n",
        "- documentation: https://python-reference.readthedocs.io/en/latest/docs/dict/\n"
      ],
      "metadata": {
        "id": "ftM4MSW057-z"
      }
    },
    {
      "cell_type": "code",
      "source": [
        "month_map1 = {\n",
        " 'Jan':1,\n",
        " 'Feb':2,\n",
        " 'Mar':3,\n",
        " 'Dec':12}\n",
        "\n",
        "month_map2 = {\n",
        " 1:'Jan',\n",
        " 2:'Feb',\n",
        " 3:'Mar',\n",
        " 12:'Dec'\n",
        " }\n",
        "\n",
        "print(month_map1)\n",
        "print(month_map2)"
      ],
      "metadata": {
        "id": "s8GYyv-x57Ik"
      },
      "execution_count": null,
      "outputs": []
    },
    {
      "cell_type": "code",
      "source": [
        "# Iterable\n",
        "for key in month_map1:\n",
        "  print(key)"
      ],
      "metadata": {
        "id": "mBsnK88u9HOh"
      },
      "execution_count": null,
      "outputs": []
    },
    {
      "cell_type": "markdown",
      "source": [
        "### TODO: fill out this table with a partner (write between the pipe lines `|`)\n",
        "\n",
        "|Type |Internal elements|Examples of literals|Mutable|Iterable|Hashable|\n",
        "|-----|-----------------|--------------------|-------|--------|--------|\n",
        "|str  |inside a str is ?| 'a', '10 0',...    ||||\n",
        "|tuple||||||\n",
        "|range||||||\n",
        "|list ||||||\n",
        "|set  ||||||\n",
        "|dict ||||||\n",
        "\n"
      ],
      "metadata": {
        "id": "eclnZ5D2ELjn"
      }
    }
  ]
}