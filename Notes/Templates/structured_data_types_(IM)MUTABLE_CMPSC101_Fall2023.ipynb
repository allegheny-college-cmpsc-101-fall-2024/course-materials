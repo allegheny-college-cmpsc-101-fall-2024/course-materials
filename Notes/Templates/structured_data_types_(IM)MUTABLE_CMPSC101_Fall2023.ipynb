{
  "nbformat": 4,
  "nbformat_minor": 0,
  "metadata": {
    "colab": {
      "provenance": [],
      "authorship_tag": "ABX9TyPYvlJVjVQLzxoLQ+9CmdGY",
      "include_colab_link": true
    },
    "kernelspec": {
      "name": "python3",
      "display_name": "Python 3"
    },
    "language_info": {
      "name": "python"
    }
  },
  "cells": [
    {
      "cell_type": "markdown",
      "metadata": {
        "id": "view-in-github",
        "colab_type": "text"
      },
      "source": [
        "<a href=\"https://colab.research.google.com/github/allegheny-college-cmpsc-101-fall-2023/course-materials/blob/main/Notes/Templates/structured_data_types_(IM)MUTABLE_CMPSC101_Fall2023.ipynb\" target=\"_parent\"><img src=\"https://colab.research.google.com/assets/colab-badge.svg\" alt=\"Open In Colab\"/></a>"
      ]
    },
    {
      "cell_type": "markdown",
      "source": [
        "## Tuples, Lists, Strings"
      ],
      "metadata": {
        "id": "EUAfcGXVxdDs"
      }
    },
    {
      "cell_type": "code",
      "source": [
        "# @title 1. with this code, what is happening?\n",
        "\n",
        "# what type is involved?\n",
        "# is it mutable or immutable\n",
        "\n",
        "department = ('computer', 'and', 'information', 'science')\n",
        "# look at first element\n",
        "print(\"First elem:\", department[0])\n",
        "# change first element\n",
        "department[0] = 'COMPUTER'\n",
        "# look at changes\n",
        "print(\"First elem:\", department[0])"
      ],
      "metadata": {
        "cellView": "form",
        "id": "dPvUdugUXxXk"
      },
      "execution_count": null,
      "outputs": []
    },
    {
      "cell_type": "code",
      "source": [
        "# @title 2. with this code, what is happening?\n",
        "\n",
        "# what type is involved?\n",
        "# is it mutable or immutable\n",
        "\n",
        "department = ['computer', 'and', 'information', 'science']\n",
        "# look at first element\n",
        "print(\"First elem:\", department[0])\n",
        "# change first element\n",
        "department[0] = 'COMPUTER'\n",
        "# look at changes\n",
        "print(\"First elem:\", department[0])\n"
      ],
      "metadata": {
        "cellView": "form",
        "id": "lgSDsfcNXVLd"
      },
      "execution_count": null,
      "outputs": []
    },
    {
      "cell_type": "code",
      "source": [
        "# @title 3. with this code, what is happening?\n",
        "\n",
        "# what type is involved?\n",
        "# is it mutable or immutable\n",
        "\n",
        "department = ['computer', 'and', 'information', 'science']\n",
        "# look within first element\n",
        "print(\"Within first elem:\", department[0][0:4])\n",
        "# change the inside of first element\n",
        "department[0][0:4] = 'COMP'\n",
        "# look at changes\n",
        "print(\"First elem:\", department[0])"
      ],
      "metadata": {
        "cellView": "form",
        "id": "oz_SG21eZPp2"
      },
      "execution_count": null,
      "outputs": []
    },
    {
      "cell_type": "code",
      "execution_count": null,
      "metadata": {
        "cellView": "form",
        "id": "aOr0jjCoWnmE"
      },
      "outputs": [],
      "source": [
        "# @title 4. with this code, what is happening?\n",
        "\n",
        "# what type is involved?\n",
        "# is it mutable or immutable\n",
        "\n",
        "department = 'computer and information science'\n",
        "# look within\n",
        "print(\"Within:\", department[0:8])\n",
        "# change within\n",
        "department[0:8] = 'COMPUTER'\n",
        "# look at changes\n",
        "print(\"Entire:\", department)\n"
      ]
    },
    {
      "cell_type": "code",
      "source": [
        "# @title 5. with this code, what is happening?\n",
        "\n",
        "# what type is involved?\n",
        "# is it mutable or immutable\n",
        "\n",
        "word_1, word_2, word_3, word_4 = ['computer'], ['and'], ['information'], ['science']\n",
        "department = [word_1, word_2, word_3, word_4]\n",
        "# look at entire list\n",
        "print(\"Entire List:\", department)\n",
        "# print first element of department\n",
        "print(\"First elem:\", department[0])\n",
        "\n",
        "# add to word_1\n",
        "word_1.append('Hello')\n",
        "\n",
        "\n",
        "# look at first element of department\n",
        "print(\"First elem:\", department[0])\n",
        "\n",
        "\n",
        "# add to first element of department\n",
        "department[0].append('Gators')\n",
        "# print first element of department\n",
        "print(\"First elem:\", department[0])\n",
        "\n",
        "\n",
        "# print word_1\n",
        "print(\"word_1:\", word_1)"
      ],
      "metadata": {
        "cellView": "form",
        "id": "oBYoli00dy3Y"
      },
      "execution_count": null,
      "outputs": []
    },
    {
      "cell_type": "code",
      "source": [
        "# @title 6. with this code, what is happening?\n",
        "\n",
        "# what type is involved?\n",
        "# is it mutable or immutable\n",
        "\n",
        "word_1, word_2, word_3, word_4 = ['computer'], ['and'], ['information'], ['science']\n",
        "department = (word_1, word_2, word_3, word_4)\n",
        "# look at entire tuple\n",
        "print(\"Entire tuple:\", department)\n",
        "# print first element of department\n",
        "print(\"First elem:\", department[0])\n",
        "\n",
        "# add to word_1\n",
        "word_1.append('Hello')\n",
        "\n",
        "\n",
        "# look at first element of department\n",
        "print(\"First elem:\", department[0])\n",
        "\n",
        "\n",
        "# add to first element of department\n",
        "department[0].append('Gators')\n",
        "# print first element of department\n",
        "print(\"First elem:\", department[0])\n",
        "\n",
        "\n",
        "# print word_1\n",
        "print(\"word_1:\", word_1)\n",
        "\n",
        "# print entire Tuple\n",
        "print(\"Entire tuple:\", department)"
      ],
      "metadata": {
        "id": "npaYI2VmdRg9"
      },
      "execution_count": null,
      "outputs": []
    },
    {
      "cell_type": "code",
      "source": [
        "# does this break the immutability rule?\n",
        "# No, addition creates a new object!\n",
        "a = (1,2,3)\n",
        "b = (4,5,6)\n",
        "c = a+b\n",
        "print(c)"
      ],
      "metadata": {
        "id": "gUbg3MAk7224"
      },
      "execution_count": null,
      "outputs": []
    },
    {
      "cell_type": "code",
      "source": [
        "# does this break the immutability rule?\n",
        "# No, nothing protects names of variables or prevents them from being re-assigned\n",
        "a = (1,2,3)\n",
        "b = (4,5,6)\n",
        "a = a+b\n",
        "print(a)"
      ],
      "metadata": {
        "colab": {
          "base_uri": "https://localhost:8080/"
        },
        "id": "9OQepgIS7_7M",
        "outputId": "0145ef5d-fa43-48f9-d2ba-ccfe1d021ec5"
      },
      "execution_count": 14,
      "outputs": [
        {
          "output_type": "stream",
          "name": "stdout",
          "text": [
            "(1, 2, 3, 4, 5, 6)\n"
          ]
        }
      ]
    },
    {
      "cell_type": "markdown",
      "source": [
        "## Alias or Copy?\n",
        "\n",
        "https://www.dataquest.io/blog/python-copy-list/\n",
        "\n",
        "<img src=\"https://i.imgur.com/O2fPxr9.png\">"
      ],
      "metadata": {
        "id": "PkZpoE6GpWRR"
      }
    },
    {
      "cell_type": "code",
      "source": [
        "# non-compound lists, with aliasing\n",
        "a = [1,2,3]\n",
        "b = a\n",
        "\n",
        "print(\"a is:\", a)\n",
        "print(\"b is:\", b)\n",
        "\n",
        "b[2] = 'Hello'\n",
        "\n",
        "print(\"a is:\", a)\n",
        "print(\"b is:\", b)"
      ],
      "metadata": {
        "colab": {
          "base_uri": "https://localhost:8080/"
        },
        "id": "LSBQk2p0pSMj",
        "outputId": "ed675e70-d776-4bdd-9925-81ace66eca1e"
      },
      "execution_count": 5,
      "outputs": [
        {
          "output_type": "stream",
          "name": "stdout",
          "text": [
            "a is: [1, 2, 3]\n",
            "b is: [1, 2, 3]\n",
            "a is: [1, 2, 'Hello']\n",
            "b is: [1, 2, 'Hello']\n"
          ]
        }
      ]
    },
    {
      "cell_type": "code",
      "source": [
        "# non-compound lists, without aliasing\n",
        "a = [1,2,3]\n",
        "b = a.copy()\n",
        "\n",
        "print(\"a is:\", a)\n",
        "print(\"b is:\", b)\n",
        "\n",
        "b[2] = 'Hello'\n",
        "\n",
        "print(\"a is:\", a)\n",
        "print(\"b is:\", b)"
      ],
      "metadata": {
        "colab": {
          "base_uri": "https://localhost:8080/"
        },
        "id": "L-wo4irZp70n",
        "outputId": "f6727835-e510-4be3-c9d5-468eff856b73"
      },
      "execution_count": 4,
      "outputs": [
        {
          "output_type": "stream",
          "name": "stdout",
          "text": [
            "a is: [1, 2, 3]\n",
            "b is: [1, 2, 3]\n",
            "a is: [1, 2, 3]\n",
            "b is: [1, 2, 'Hello']\n"
          ]
        }
      ]
    },
    {
      "cell_type": "code",
      "source": [
        "# Compound list with shallow copy and aliasing\n",
        "\n",
        "word_1, word_2, word_3, word_4 = ['computer'], ['and'], ['information'], ['science']\n",
        "department = [word_1, word_2, word_3, word_4]\n",
        "\n",
        "department_dot_copy = department.copy()\n",
        "\n",
        "print(\"department: \", department)\n",
        "print(\"department_dot_copy: \", department_dot_copy)\n",
        "\n",
        "\n",
        "word_1[0] = 'Hello'\n",
        "\n",
        "print(\"department: \", department)\n",
        "print(\"department_dot_copy: \", department_dot_copy)"
      ],
      "metadata": {
        "colab": {
          "base_uri": "https://localhost:8080/"
        },
        "id": "5Nj8tRtGsCWQ",
        "outputId": "560036e2-eeed-4f9d-c137-e81fccd2ffd9"
      },
      "execution_count": 3,
      "outputs": [
        {
          "output_type": "stream",
          "name": "stdout",
          "text": [
            "department:  [['computer'], ['and'], ['information'], ['science']]\n",
            "department_dot_copy:  [['computer'], ['and'], ['information'], ['science']]\n",
            "department:  [['Hello'], ['and'], ['information'], ['science']]\n",
            "department_dot_copy:  [['Hello'], ['and'], ['information'], ['science']]\n"
          ]
        }
      ]
    },
    {
      "cell_type": "code",
      "source": [
        "# Compound list with shallow copy and aliasing\n",
        "\n",
        "department = [['computer'], ['and'], ['information'], ['science']]\n",
        "\n",
        "department_dot_copy = department.copy()\n",
        "\n",
        "print(\"department: \", department)\n",
        "print(\"department_dot_copy: \", department_dot_copy)\n",
        "\n",
        "\n",
        "department[0].append('Hello')\n",
        "\n",
        "print(\"department: \", department)\n",
        "print(\"department_dot_copy: \", department_dot_copy)"
      ],
      "metadata": {
        "colab": {
          "base_uri": "https://localhost:8080/"
        },
        "id": "EjNQHVr3uMb5",
        "outputId": "190c1995-04ff-471e-cb4a-bb4beec0611b"
      },
      "execution_count": 8,
      "outputs": [
        {
          "output_type": "stream",
          "name": "stdout",
          "text": [
            "department:  [['computer'], ['and'], ['information'], ['science']]\n",
            "department_dot_copy:  [['computer'], ['and'], ['information'], ['science']]\n",
            "department:  [['computer', 'Hello'], ['and'], ['information'], ['science']]\n",
            "department_dot_copy:  [['computer', 'Hello'], ['and'], ['information'], ['science']]\n"
          ]
        }
      ]
    },
    {
      "cell_type": "code",
      "source": [
        "# Compound list with deepcopy\n",
        "\n",
        "import copy\n",
        "\n",
        "department = [['computer'], ['and'], ['information'], ['science']]\n",
        "\n",
        "copy_dot_deepcopy_department = copy.deepcopy(department)\n",
        "\n",
        "print(\"department: \", department)\n",
        "print(\"department_dot_copy: \", copy_dot_deepcopy_department)\n",
        "\n",
        "\n",
        "department[0].append('Hello')\n",
        "\n",
        "print(\"department: \", department)\n",
        "print(\"copy_dot_deepcopy_department: \", copy_dot_deepcopy_department)"
      ],
      "metadata": {
        "colab": {
          "base_uri": "https://localhost:8080/"
        },
        "id": "YQN5hu4-uq3V",
        "outputId": "7b98ccdd-8f0b-4232-9479-c67b9e46f61e"
      },
      "execution_count": 9,
      "outputs": [
        {
          "output_type": "stream",
          "name": "stdout",
          "text": [
            "department:  [['computer'], ['and'], ['information'], ['science']]\n",
            "department_dot_copy:  [['computer'], ['and'], ['information'], ['science']]\n",
            "department:  [['computer', 'Hello'], ['and'], ['information'], ['science']]\n",
            "copy_dot_deepcopy_department:  [['computer'], ['and'], ['information'], ['science']]\n"
          ]
        }
      ]
    },
    {
      "cell_type": "markdown",
      "source": [
        "## Sets\n"
      ],
      "metadata": {
        "id": "vlVUqf3pokzo"
      }
    },
    {
      "cell_type": "code",
      "source": [
        "# 7. with this code, what is happening?\n",
        "\n",
        "# what type is involved?\n",
        "# is it mutable or immutable\n",
        "\n",
        "department = {'computer', 'and', 'information', 'science'}\n",
        "# look at entire set\n",
        "print(\"Entire set:\", department)\n",
        "# add and element\n",
        "department.add('Hello')\n",
        "# look at entire set\n",
        "print(\"Entire set:\", department)\n",
        "# look at first element\n",
        "print(\"First elem:\", department[0])"
      ],
      "metadata": {
        "colab": {
          "base_uri": "https://localhost:8080/",
          "height": 249
        },
        "id": "J3BKsq1Gam-u",
        "outputId": "1d8696fb-465b-4bb1-93d3-4847f003354f"
      },
      "execution_count": 12,
      "outputs": [
        {
          "output_type": "stream",
          "name": "stdout",
          "text": [
            "Entire set: {'information', 'computer', 'and', 'science'}\n",
            "Entire set: {'computer', 'information', 'science', 'and', 'Hello'}\n"
          ]
        },
        {
          "output_type": "error",
          "ename": "TypeError",
          "evalue": "ignored",
          "traceback": [
            "\u001b[0;31m---------------------------------------------------------------------------\u001b[0m",
            "\u001b[0;31mTypeError\u001b[0m                                 Traceback (most recent call last)",
            "\u001b[0;32m<ipython-input-12-c1a24e26ed55>\u001b[0m in \u001b[0;36m<cell line: 14>\u001b[0;34m()\u001b[0m\n\u001b[1;32m     12\u001b[0m \u001b[0mprint\u001b[0m\u001b[0;34m(\u001b[0m\u001b[0;34m\"Entire set:\"\u001b[0m\u001b[0;34m,\u001b[0m \u001b[0mdepartment\u001b[0m\u001b[0;34m)\u001b[0m\u001b[0;34m\u001b[0m\u001b[0;34m\u001b[0m\u001b[0m\n\u001b[1;32m     13\u001b[0m \u001b[0;31m# look at first element\u001b[0m\u001b[0;34m\u001b[0m\u001b[0;34m\u001b[0m\u001b[0m\n\u001b[0;32m---> 14\u001b[0;31m \u001b[0mprint\u001b[0m\u001b[0;34m(\u001b[0m\u001b[0;34m\"First elem:\"\u001b[0m\u001b[0;34m,\u001b[0m \u001b[0mdepartment\u001b[0m\u001b[0;34m[\u001b[0m\u001b[0;36m0\u001b[0m\u001b[0;34m]\u001b[0m\u001b[0;34m)\u001b[0m\u001b[0;34m\u001b[0m\u001b[0;34m\u001b[0m\u001b[0m\n\u001b[0m",
            "\u001b[0;31mTypeError\u001b[0m: 'set' object is not subscriptable"
          ]
        }
      ]
    },
    {
      "cell_type": "code",
      "source": [
        "# 8. with this code, what is happening?\n",
        "\n",
        "# what type is involved?\n",
        "# is it mutable or immutable\n",
        "\n",
        "word_1, word_a, word_first, word_alpha = 'computer', 'and', 'information', 'science'\n",
        "department = {word_1, word_a, word_first, word_alpha}\n",
        "# look at entire set\n",
        "print(\"Entire Set:\", department)\n",
        "# add and element\n",
        "department.add('Hello')\n",
        "# look at entire set\n",
        "print(\"Entire set:\", department)\n",
        "# look within\n",
        "print(\"Within:\", department[0])"
      ],
      "metadata": {
        "id": "RkDFZus2b-MA"
      },
      "execution_count": null,
      "outputs": []
    },
    {
      "cell_type": "code",
      "source": [
        "# 9. with this code, what is happening?\n",
        "\n",
        "# what type is involved?\n",
        "\n",
        "word_1, word_a, word_first, word_alpha = ['computer'], ['and'], ['information'], ['science']\n",
        "department = {word_1, word_a, word_first, word_alpha}"
      ],
      "metadata": {
        "id": "eNy9fkSD2rke"
      },
      "execution_count": null,
      "outputs": []
    },
    {
      "cell_type": "markdown",
      "source": [
        "## Pseudo code for Source Code Survey"
      ],
      "metadata": {
        "id": "IC4wdjbK83UL"
      }
    },
    {
      "cell_type": "code",
      "source": [
        "# Pseudo code for intersections\n",
        "\n",
        "# if you have two tuples, how can you figure out their intersection?\n"
      ],
      "metadata": {
        "id": "p5jpKxOS618u"
      },
      "execution_count": null,
      "outputs": []
    },
    {
      "cell_type": "code",
      "source": [
        "# Pseudo code for higher order function\n",
        "\n",
        "# say you want to be able to apply some kind of function to every element in a list...\n",
        "\n",
        "# the problem is that this doesn't work:\n",
        "a = [-1,2,-3,-4]\n",
        "abs_a = abs(a)"
      ],
      "metadata": {
        "colab": {
          "base_uri": "https://localhost:8080/",
          "height": 213
        },
        "id": "rTuOncP39TMW",
        "outputId": "86ea22d8-4116-4ac5-9a19-6637a18b3fe7"
      },
      "execution_count": 15,
      "outputs": [
        {
          "output_type": "error",
          "ename": "TypeError",
          "evalue": "ignored",
          "traceback": [
            "\u001b[0;31m---------------------------------------------------------------------------\u001b[0m",
            "\u001b[0;31mTypeError\u001b[0m                                 Traceback (most recent call last)",
            "\u001b[0;32m<ipython-input-15-7e6587d09ed4>\u001b[0m in \u001b[0;36m<cell line: 7>\u001b[0;34m()\u001b[0m\n\u001b[1;32m      5\u001b[0m \u001b[0;31m# the problem is that this doesn't work:\u001b[0m\u001b[0;34m\u001b[0m\u001b[0;34m\u001b[0m\u001b[0m\n\u001b[1;32m      6\u001b[0m \u001b[0ma\u001b[0m \u001b[0;34m=\u001b[0m \u001b[0;34m[\u001b[0m\u001b[0;34m-\u001b[0m\u001b[0;36m1\u001b[0m\u001b[0;34m,\u001b[0m\u001b[0;36m2\u001b[0m\u001b[0;34m,\u001b[0m\u001b[0;34m-\u001b[0m\u001b[0;36m3\u001b[0m\u001b[0;34m,\u001b[0m\u001b[0;34m-\u001b[0m\u001b[0;36m4\u001b[0m\u001b[0;34m]\u001b[0m\u001b[0;34m\u001b[0m\u001b[0;34m\u001b[0m\u001b[0m\n\u001b[0;32m----> 7\u001b[0;31m \u001b[0mabs_a\u001b[0m \u001b[0;34m=\u001b[0m \u001b[0mabs\u001b[0m\u001b[0;34m(\u001b[0m\u001b[0ma\u001b[0m\u001b[0;34m)\u001b[0m\u001b[0;34m\u001b[0m\u001b[0;34m\u001b[0m\u001b[0m\n\u001b[0m",
            "\u001b[0;31mTypeError\u001b[0m: bad operand type for abs(): 'list'"
          ]
        }
      ]
    },
    {
      "cell_type": "markdown",
      "source": [
        "## Next Class"
      ],
      "metadata": {
        "id": "X1Y73gSR-pzT"
      }
    },
    {
      "cell_type": "code",
      "source": [
        "# One Wednesday:\n",
        "\n",
        "# List comprehension\n",
        "# Hashing\n",
        "# Dictionaries"
      ],
      "metadata": {
        "id": "sg_n2pdP2UbD"
      },
      "execution_count": null,
      "outputs": []
    }
  ]
}