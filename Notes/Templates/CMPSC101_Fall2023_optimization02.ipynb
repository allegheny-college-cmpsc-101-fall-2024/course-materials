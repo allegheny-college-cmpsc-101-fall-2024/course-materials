{
  "nbformat": 4,
  "nbformat_minor": 0,
  "metadata": {
    "colab": {
      "provenance": [],
      "authorship_tag": "ABX9TyPL+saq5ted3UTE3nCdSWxl",
      "include_colab_link": true
    },
    "kernelspec": {
      "name": "python3",
      "display_name": "Python 3"
    },
    "language_info": {
      "name": "python"
    }
  },
  "cells": [
    {
      "cell_type": "markdown",
      "metadata": {
        "id": "view-in-github",
        "colab_type": "text"
      },
      "source": [
        "<a href=\"https://colab.research.google.com/github/allegheny-college-cmpsc-101-fall-2023/course-materials/blob/main/Notes/Templates/CMPSC101_Fall2023_optimization02.ipynb\" target=\"_parent\"><img src=\"https://colab.research.google.com/assets/colab-badge.svg\" alt=\"Open In Colab\"/></a>"
      ]
    },
    {
      "cell_type": "markdown",
      "source": [
        "# Optimization - Chapter 14"
      ],
      "metadata": {
        "id": "DNywEIKzCmi7"
      }
    },
    {
      "cell_type": "markdown",
      "source": [
        "## Knapsack Problem"
      ],
      "metadata": {
        "id": "LgVpls8ME8Hc"
      }
    },
    {
      "cell_type": "markdown",
      "source": [
        "<img src=\"https://codemechblog.files.wordpress.com/2016/08/knapsack1.jpg?w=1200\">"
      ],
      "metadata": {
        "id": "hItq0ywnE-tw"
      }
    },
    {
      "cell_type": "markdown",
      "source": [
        "| **Item** | **Value** | **Weight** | **Density (Value/Weight)** |\n",
        "|------ |-------|--------|--------------|\n",
        "| Clock | 175   | 10     | 17.5         |\n",
        "| Painting | 90 | 9      | 10           |\n",
        "| Radio | 20 | 4      | 5           |\n",
        "| Vase | 50 | 2      | 25           |\n",
        "| Book | 10 | 1      | 10           |\n",
        "| Computer | 200 | 20      | 10           |"
      ],
      "metadata": {
        "id": "7_gMm6B6kA41"
      }
    },
    {
      "cell_type": "markdown",
      "source": [
        "## Abstraction"
      ],
      "metadata": {
        "id": "RfhpziuJVHtO"
      }
    },
    {
      "cell_type": "markdown",
      "source": [
        "- max weight, W\n",
        "- data given by value and weight $(v_0, w_0), (v_1, w_1)$\n",
        "- subscript n goes from 0 to N\n",
        "- total number of items, N\n",
        "- list of all possible items, P\n",
        "- binary representation of items in the knapsack, K"
      ],
      "metadata": {
        "id": "qU6PhiaDVSCi"
      }
    },
    {
      "cell_type": "markdown",
      "source": [
        "- objective: find a K where the value is maximized\n",
        "  - $K_n \\cdot v_n$ over all items is as big as possible\n",
        "  - $\\sum_{n=0}^{N-1} K_n \\cdot v_n$\n",
        "    - $v_n$ is found in P[n][0] or similar\n",
        "- constraint: do not go over weight!\n",
        "  - $K_n \\cdot w_n$ over all items is less than W\n",
        "  - $\\sum_{n=0}^{N-1} K_n \\cdot w_n ≤ W $\n",
        "    - $w_n$ is found in P[n][1] or similar"
      ],
      "metadata": {
        "id": "5F-mNvqhWWzQ"
      }
    },
    {
      "cell_type": "markdown",
      "source": [
        "## True Solutions"
      ],
      "metadata": {
        "id": "YLfSAmMCdwBg"
      }
    },
    {
      "cell_type": "markdown",
      "source": [
        "- objective: get most value by selecting a subset from N total items\n",
        "- Constraint $W_{max}$ = 10\n",
        "- Possible Items in list are represented as (value, weight) pairs\n",
        "  - P = [(88,8), (55,5), (44,4)]\n",
        "    - item1 value 88 weight 8\n",
        "    - item2 value 55 weight 5\n",
        "    - item3 value 44 weight 4\n",
        "- objective function:\n",
        "  - $\\sum_{n=0}^{N-1} K_n \\cdot v_n$\n",
        "- find Knapsack K that maximized the objective given the constraint that $\\sum_{n=0}^{N-1} K_n \\cdot w_n \\lt W_{max}$\n",
        "  - K = [0,1,1]\n"
      ],
      "metadata": {
        "id": "npGeVB1udxgx"
      }
    },
    {
      "cell_type": "markdown",
      "source": [
        "write the power set!\n",
        "-\n",
        "-\n",
        "-\n",
        "-\n",
        "-\n",
        "- which set above solves the objective given the constraints?"
      ],
      "metadata": {
        "id": "T4WHGXg_d3qE"
      }
    },
    {
      "cell_type": "markdown",
      "source": [
        "- what is the complexity of above solution?\n",
        "- how could this be elegantly coded?"
      ],
      "metadata": {
        "id": "r65MeceXezPG"
      }
    },
    {
      "cell_type": "markdown",
      "source": [],
      "metadata": {
        "id": "3oUFCo2OHmuE"
      }
    },
    {
      "cell_type": "markdown",
      "source": [
        "## Greedy approximations"
      ],
      "metadata": {
        "id": "Ioj7RQMIk-WN"
      }
    },
    {
      "cell_type": "markdown",
      "source": [
        "pseudo-code\n",
        "- while the knapsack is not full:\n",
        "  - put the \"best\" remaining item that fits into the backpack\n",
        "  - (best is defined only by highest value)"
      ],
      "metadata": {
        "id": "O0aBCVDnlA2U"
      }
    },
    {
      "cell_type": "markdown",
      "source": [
        "<img src=\"https://pbs.twimg.com/media/EZrgQW1UMAEjcJM.png\">"
      ],
      "metadata": {
        "id": "7ofyuvYxNrTd"
      }
    },
    {
      "cell_type": "markdown",
      "source": [
        "## Plausible example"
      ],
      "metadata": {
        "id": "wF3AhoZwIoow"
      }
    },
    {
      "cell_type": "markdown",
      "source": [
        "<img src=\"https://www.momswhothink.com/wp-content/uploads/2023/05/00f08fa1a70ba3633985f941f897ed455c8c2adc.jpg\">"
      ],
      "metadata": {
        "id": "gPojAoMTIsw3"
      }
    },
    {
      "cell_type": "markdown",
      "source": [
        "## Greedy code"
      ],
      "metadata": {
        "id": "XNcx2AjMHrI7"
      }
    },
    {
      "cell_type": "code",
      "source": [
        "# Define the class that will represent the data values\n",
        "\n",
        "from typing import List\n",
        "from typing import Tuple\n",
        "\n",
        "\n",
        "class Food(object):\n",
        "\n",
        "    def __init__(self, name_of_food: str, value_deliciousness: int, cost_in_calories: int):\n",
        "        \"\"\"Construct an instance of the Food class.\"\"\"\n",
        "        self._name = name_of_food\n",
        "        self._value = value_deliciousness\n",
        "        self._calories = cost_in_calories\n",
        "\n",
        "    def get_name(self) -> str:\n",
        "        \"\"\"Access the name of the Food object.\"\"\"\n",
        "        return self._name\n",
        "\n",
        "    def get_value(self) -> int:\n",
        "        \"\"\"Access how deliciously valuable the Food object is.\"\"\"\n",
        "        return self._value\n",
        "\n",
        "    def get_cals(self) -> int:\n",
        "        \"\"\"Access the caloric cost of the Food object.\"\"\"\n",
        "        return self._calories\n",
        "\n",
        "    def density(self) -> float:\n",
        "        \"\"\"Access the value to calorie ratio.\"\"\"\n",
        "        return self.get_value()/self.get_cals()\n",
        "\n",
        "    def __repr__(self) -> str:\n",
        "        \"\"\"Produce a textual representation of the Food.\"\"\"\n",
        "        return f\"(One {self._name} with {self._calories} calories is valued at {self._value} units )\""
      ],
      "metadata": {
        "trusted": true,
        "id": "poT3MVinsLm5"
      },
      "execution_count": null,
      "outputs": []
    },
    {
      "cell_type": "code",
      "source": [
        "# define a function that can create an instance of the 0/1 Knapsack problem\n",
        "\n",
        "# food_names = ['wine', 'beer', 'pizza', 'burger', 'fries', 'cola', 'apple', 'donut', 'cake']\n",
        "# values = [89,90,95,100,90,79,50,10,105]\n",
        "# calories = [123,154,258,354,365,150,95,195,129]\n",
        "\n",
        "def build_menu(food_names: List[str], values: List[int], calories: List[int]) -> List[Food]:\n",
        "    \"\"\"Create an instance of a 0/1 knapsack using instances of the Item class.\"\"\"\n",
        "    menu: List[Food] = []\n",
        "    for f in range(len(food_names)):\n",
        "        menu.append(Food(food_names[f], values[f], calories[f]))\n",
        "    return menu"
      ],
      "metadata": {
        "trusted": true,
        "id": "JTGkYTAksLm7"
      },
      "execution_count": null,
      "outputs": []
    },
    {
      "cell_type": "code",
      "source": [
        "# create a greedy solver\n",
        "\n",
        "def greedy(menu: List[Food], calorie_cap: int, order_function) -> Tuple[List[Food], float, float]:\n",
        "    \"\"\"Perform the greedy algorithm for items, a maximum weight of a knapsack, and an objective function.\"\"\"\n",
        "    menu_sorted = sorted(menu, key=order_function, reverse=True) # descending order\n",
        "    selected_foods: List[Food] = []\n",
        "    value_so_far = 0.0\n",
        "    calories_so_far = 0.0\n",
        "    for i in range(len(menu_sorted)):\n",
        "        if (calories_so_far + menu_sorted[i].get_cals()) <= calorie_cap:\n",
        "            selected_foods.append(menu_sorted[i])\n",
        "            calories_so_far += menu_sorted[i].get_cals()\n",
        "            value_so_far += menu_sorted[i].get_value()\n",
        "    return (selected_foods, value_so_far, calories_so_far)"
      ],
      "metadata": {
        "trusted": true,
        "id": "5sASXMmAsLm7"
      },
      "execution_count": null,
      "outputs": []
    },
    {
      "cell_type": "code",
      "source": [
        "# define the helper functions that process an instance of the class\n",
        "\n",
        "def order_by_value(food: Food) -> int:\n",
        "    \"\"\"Return the value for a specific item.\"\"\"\n",
        "    return food.get_value()\n",
        "\n",
        "\n",
        "def order_by_calories(food: Food) -> float:\n",
        "    \"\"\"Return the inverse of the weight for a specific item.\"\"\"\n",
        "    return 1.0 / food.get_cals()\n",
        "\n",
        "\n",
        "def order_by_density(food: Food) -> float:\n",
        "    \"\"\"Return the density of the item.\"\"\"\n",
        "    return food.get_value() / food.get_cals()"
      ],
      "metadata": {
        "trusted": true,
        "id": "F3j58kmGsLm6"
      },
      "execution_count": null,
      "outputs": []
    },
    {
      "cell_type": "code",
      "source": [
        "# define the functions for running the greedy algorithm\n",
        "\n",
        "def run_and_display_one_greedy(menu: List[Food], calorie_cap: int, order_function) -> None:\n",
        "    \"\"\"Run the greedy algorithm and display the result.\"\"\"\n",
        "    selected_foods, value, cals = greedy(menu, calorie_cap, order_function)\n",
        "    print(\"Total value of selected foods is\", value)\n",
        "    print(\"Total calories in selected foods is\", cals)\n",
        "    for food in selected_foods:\n",
        "        print(\"  \", food)\n",
        "\n",
        "def run_all_greedy(menu: List[Food], calorie_cap=1000) -> None:\n",
        "    \"\"\"Run all greedy algorithm with all possible objective functions.\"\"\"\n",
        "    print(\"Running all of the knapsack solvers!\")\n",
        "    print()\n",
        "    print(f\"Using greedy-by-value to select foods up to {calorie_cap} calories\")\n",
        "    run_and_display_one_greedy(menu, calorie_cap, order_by_value)\n",
        "    print()\n",
        "    print(f\"Using greedy-by-calories to select foods up to {calorie_cap} calories\")\n",
        "    run_and_display_one_greedy(menu, calorie_cap, order_by_calories)\n",
        "    print()\n",
        "    print(f\"Using greedy-by-density to select foods up to {calorie_cap} calories\")\n",
        "    run_and_display_one_greedy(menu, calorie_cap, order_by_density)\n",
        "    print()"
      ],
      "metadata": {
        "trusted": true,
        "id": "oO9Ir5cvsLm8"
      },
      "execution_count": null,
      "outputs": []
    },
    {
      "cell_type": "code",
      "source": [
        "# main program!\n",
        "\n",
        "food_names = ['wine', 'beer', 'pizza', 'burger', 'fries', 'cola', 'apple', 'donut', 'cake']\n",
        "values = [89,90,95,100,90,79,50,10,105]\n",
        "calories = [123,154,258,354,365,150,95,195,129]\n",
        "\n",
        "menu = build_menu(food_names, values, calories)\n",
        "run_all_greedy(menu, calorie_cap = 500)"
      ],
      "metadata": {
        "colab": {
          "base_uri": "https://localhost:8080/"
        },
        "id": "_NnfWHO53lJO",
        "outputId": "6919aac8-5de8-43f2-e9c3-c4f642db5d5c"
      },
      "execution_count": null,
      "outputs": [
        {
          "output_type": "stream",
          "name": "stdout",
          "text": [
            "Running all of the knapsack solvers!\n",
            "\n",
            "Using greedy-by-value to select foods up to 500 calories\n",
            "Total value of selected foods is 205.0\n",
            "Total calories in selected foods is 483.0\n",
            "   (One cake with 129 calories is valued at 105 units )\n",
            "   (One burger with 354 calories is valued at 100 units )\n",
            "\n",
            "Using greedy-by-calories to select foods up to 500 calories\n",
            "Total value of selected foods is 323.0\n",
            "Total calories in selected foods is 497.0\n",
            "   (One apple with 95 calories is valued at 50 units )\n",
            "   (One wine with 123 calories is valued at 89 units )\n",
            "   (One cake with 129 calories is valued at 105 units )\n",
            "   (One cola with 150 calories is valued at 79 units )\n",
            "\n",
            "Using greedy-by-density to select foods up to 500 calories\n",
            "Total value of selected foods is 284.0\n",
            "Total calories in selected foods is 406.0\n",
            "   (One cake with 129 calories is valued at 105 units )\n",
            "   (One wine with 123 calories is valued at 89 units )\n",
            "   (One beer with 154 calories is valued at 90 units )\n",
            "\n"
          ]
        }
      ]
    },
    {
      "cell_type": "markdown",
      "source": [
        "## Powerset code"
      ],
      "metadata": {
        "id": "Vt2DNOp4I-0_"
      }
    },
    {
      "cell_type": "code",
      "source": [
        "def powerset(s: List[int]):\n",
        "    \"\"\"Generate the powerset of a list of items.\"\"\"\n",
        "    # Reference:\n",
        "    # https://stackoverflow.com/questions/1482308/how-to-get-all-subsets-of-a-set-powerset\n",
        "    # https://realpython.com/python-bitwise-operators/\n",
        "    # https://docs.python.org/3.11/library/functions.html#zip\n",
        "    x = len(s)\n",
        "    masks = [1 << i for i in range(x)] # list of shifted ones\n",
        "    for i in range(1 << x):\n",
        "        yield [ss for mask, ss in zip(masks, s) if i & mask]\n",
        "\n",
        "\n",
        "\n",
        "def exhaustive_enumeration(pset, max_weight, get_value, get_weight):\n",
        "    \"\"\"Run an exhaustive enumeration algorithm to find best combination.\"\"\"\n",
        "    best_value = 0.0\n",
        "    best_set = []\n",
        "    best_cals = 0.0\n",
        "    for foods in pset:\n",
        "        foods_value = 0.0\n",
        "        total_cals = 0.0\n",
        "        for f in foods:\n",
        "            foods_value += get_value(f)\n",
        "            total_cals += get_weight(f)\n",
        "        if total_cals <= max_weight and foods_value > best_value:\n",
        "            best_value = foods_value\n",
        "            best_set = foods\n",
        "            best_cals = total_cals\n",
        "    return (best_set, best_value, best_cals)\n"
      ],
      "metadata": {
        "trusted": true,
        "id": "Gt6tthTVsLm7"
      },
      "execution_count": null,
      "outputs": []
    },
    {
      "cell_type": "code",
      "source": [
        "# define the function for running the exhaustive algorithm\n",
        "\n",
        "def run_exhaustive_enumeration(menu, calorie_cap=1000):\n",
        "    \"\"\"Use the exhaustive enumeration algorithm for a problem instance.\"\"\"\n",
        "    print(\"Generating the powerset of all items!\")\n",
        "    pset = powerset(menu)\n",
        "    print()\n",
        "    print(\"Using exhaustive enumeration to fill a knapsack of size\", calorie_cap)\n",
        "    taken, value, cals = exhaustive_enumeration(pset, calorie_cap, Food.get_value, Food.get_cals)\n",
        "    print(\"Total value of selected foods is\", value)\n",
        "    print(\"Total calories in selected foods are\", cals)\n",
        "    for item in taken:\n",
        "        print(\"  \", item)"
      ],
      "metadata": {
        "trusted": true,
        "id": "V-d_qV3SsLm8"
      },
      "execution_count": null,
      "outputs": []
    },
    {
      "cell_type": "code",
      "source": [
        "# run the exhaustive algorithm for the specific instance and display the solution\n",
        "food_names = ['wine', 'beer', 'pizza', 'burger', 'fries', 'cola', 'apple', 'donut', 'cake']\n",
        "values = [50,80,95,115,105,30,100,10,70]\n",
        "calories = [123,154,258,354,365,150,95,195,129]\n",
        "\n",
        "menu = build_menu(food_names, values, calories)\n",
        "run_exhaustive_enumeration(menu, calorie_cap = 500)"
      ],
      "metadata": {
        "trusted": true,
        "id": "CLE1kYYBsLm9",
        "colab": {
          "base_uri": "https://localhost:8080/"
        },
        "outputId": "51ea5df2-8190-4f69-908e-b582ae467484"
      },
      "execution_count": null,
      "outputs": [
        {
          "output_type": "stream",
          "name": "stdout",
          "text": [
            "Generating the powerset of all items!\n",
            "\n",
            "Using exhaustive enumeration to fill a knapsack of size 500\n",
            "[1, 2, 4, 8, 16, 32, 64, 128, 256]\n",
            "Total value of selected foods is 265.0\n",
            "Total calories in selected foods are 482.0\n",
            "   (One pizza with 258 calories is valued at 95 units )\n",
            "   (One apple with 95 calories is valued at 100 units )\n",
            "   (One cake with 129 calories is valued at 70 units )\n"
          ]
        }
      ]
    },
    {
      "cell_type": "code",
      "source": [
        "food_names = ['wine', 'beer', 'pizza', 'burger', 'fries', 'cola', 'apple', 'donut', 'cake']\n",
        "values = [50,80,95,115,105,30,100,10,70]\n",
        "calories = [123,154,258,354,365,150,95,195,129]\n",
        "\n",
        "menu = build_menu(food_names, values, calories)\n",
        "run_all_greedy(menu, calorie_cap = 500)"
      ],
      "metadata": {
        "colab": {
          "base_uri": "https://localhost:8080/"
        },
        "id": "VX4JZQFRGyJU",
        "outputId": "2a7856c8-5124-4bc8-8784-679dce48cb5c"
      },
      "execution_count": null,
      "outputs": [
        {
          "output_type": "stream",
          "name": "stdout",
          "text": [
            "Running all of the knapsack solvers!\n",
            "\n",
            "Using greedy-by-value to select foods up to 500 calories\n",
            "Total value of selected foods is 215.0\n",
            "Total calories in selected foods is 449.0\n",
            "   (One burger with 354 calories is valued at 115 units )\n",
            "   (One apple with 95 calories is valued at 100 units )\n",
            "\n",
            "Using greedy-by-calories to select foods up to 500 calories\n",
            "Total value of selected foods is 250.0\n",
            "Total calories in selected foods is 497.0\n",
            "   (One apple with 95 calories is valued at 100 units )\n",
            "   (One wine with 123 calories is valued at 50 units )\n",
            "   (One cake with 129 calories is valued at 70 units )\n",
            "   (One cola with 150 calories is valued at 30 units )\n",
            "\n",
            "Using greedy-by-density to select foods up to 500 calories\n",
            "Total value of selected foods is 250.0\n",
            "Total calories in selected foods is 378.0\n",
            "   (One apple with 95 calories is valued at 100 units )\n",
            "   (One cake with 129 calories is valued at 70 units )\n",
            "   (One beer with 154 calories is valued at 80 units )\n",
            "\n"
          ]
        }
      ]
    },
    {
      "cell_type": "code",
      "source": [
        "# Questions:\n",
        "# 1) What are the similarities and differences between the greedy and exhaustive algorithms?\n",
        "# 2) Which algorithm is likely to be faster, the greedy or the exhaustive one?\n",
        "# 3) Which algorithm is likely to produce a better answer, the greedy or the exhaustive one?\n"
      ],
      "metadata": {
        "id": "rnUnAuulsLm9"
      },
      "execution_count": null,
      "outputs": []
    },
    {
      "cell_type": "code",
      "source": [
        "# define your own instance of the 0/1 knapsack and solve it with a greedy algorithm"
      ],
      "metadata": {
        "id": "MrWp-ea1HHFC"
      },
      "execution_count": null,
      "outputs": []
    },
    {
      "cell_type": "code",
      "source": [
        "# define your own instance of the 0/1 knapsack and solve it with the exhaustive algorithm"
      ],
      "metadata": {
        "id": "7IFaamiHHKAF"
      },
      "execution_count": null,
      "outputs": []
    },
    {
      "cell_type": "markdown",
      "source": [
        "## Proactive Programmers Example"
      ],
      "metadata": {
        "id": "zzOyKZuEkuOJ"
      }
    },
    {
      "cell_type": "markdown",
      "source": [
        "https://githubtocolab.com/ProactiveProgrammers/www.proactiveprogrammers.com/blob/master/files/data-abstraction/optimization-problems/explore-knapsack-solving.ipynb"
      ],
      "metadata": {
        "id": "S1d52MsWkqCw"
      }
    }
  ]
}