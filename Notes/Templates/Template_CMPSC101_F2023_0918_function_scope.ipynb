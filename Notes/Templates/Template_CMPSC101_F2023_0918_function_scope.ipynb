{
  "nbformat": 4,
  "nbformat_minor": 0,
  "metadata": {
    "colab": {
      "provenance": [],
      "authorship_tag": "ABX9TyNbAZ7cKfbUfQsp63ArU3af",
      "include_colab_link": true
    },
    "kernelspec": {
      "name": "python3",
      "display_name": "Python 3"
    },
    "language_info": {
      "name": "python"
    }
  },
  "cells": [
    {
      "cell_type": "markdown",
      "metadata": {
        "id": "view-in-github",
        "colab_type": "text"
      },
      "source": [
        "<a href=\"https://colab.research.google.com/github/allegheny-college-cmpsc-101-fall-2023/course-materials/blob/main/Template_CMPSC101_F2023_0918_function_scope.ipynb\" target=\"_parent\"><img src=\"https://colab.research.google.com/assets/colab-badge.svg\" alt=\"Open In Colab\"/></a>"
      ]
    },
    {
      "cell_type": "code",
      "execution_count": null,
      "metadata": {
        "id": "wp97j4lCJqqo"
      },
      "outputs": [],
      "source": [
        "# Learning Objectives\n",
        "\n",
        "1. understand scoping rules in python\n",
        "\n"
      ]
    },
    {
      "cell_type": "markdown",
      "source": [
        "\n",
        "In order to understand Scoping rules, we have to understand what is a function.\n",
        "\n",
        "<img src=\"https://chbe241.github.io/_images/Input-Output_Diagrams1.jpg\">\n",
        "</br>\n",
        "<img src=\"https://encrypted-tbn0.gstatic.com/images?q=tbn:ANd9GcT2dOUsCSV8RFW2oNPf6GaB_Wbq7K2eJwCCOAcnOASPuPVpnPtRo2PBwUt90RqzIokb8Jw&usqp=CAU\">\n"
      ],
      "metadata": {
        "id": "gJq3k69sKAnu"
      }
    },
    {
      "cell_type": "code",
      "source": [
        "When you call a function, how do you pass in input?\n",
        "\n",
        "\n",
        "When you write a function, how do you define the input?\n",
        "\n",
        "\n",
        "When you write a function, how do you exit the function?\n",
        "\n",
        "\n",
        "What is the Point of execution before the function?\n",
        "\n",
        "\n",
        "What is the point of execution after the function return?\n",
        "\n",
        "\n",
        "What is function scope?\n",
        "\n",
        "\n"
      ],
      "metadata": {
        "id": "g3O1kIxKK4XC"
      },
      "execution_count": null,
      "outputs": []
    },
    {
      "cell_type": "code",
      "source": [
        "def my_square(input: int) -> int:\n",
        "  \"\"\"squares an integer - 1\"\"\"\n",
        "  input = input - 1\n",
        "  return input**2"
      ],
      "metadata": {
        "id": "vjSCHZI8cmzX"
      },
      "execution_count": null,
      "outputs": []
    },
    {
      "cell_type": "code",
      "source": [
        "from typing import Iterable\n",
        "\n",
        "def my_sum(input: Iterable) -> float:\n",
        "  \"\"\"sums over an iterable (list, range), ints and floats only\"\"\"\n",
        "  total = 0.0\n",
        "\n",
        "  for item in input:\n",
        "    # check type\n",
        "    item_type = type(item)\n",
        "    if item_type == int or item_type == float:\n",
        "      total += item\n",
        "    else:\n",
        "      print(\"Invalid input\")\n",
        "      return\n",
        "  return total"
      ],
      "metadata": {
        "id": "NPbDrLFaR1uY"
      },
      "execution_count": null,
      "outputs": []
    },
    {
      "cell_type": "code",
      "source": [
        "Why use functions??\n",
        "\n",
        "1. create modular, reusable code\n",
        "2. keeps code organized!\n"
      ],
      "metadata": {
        "id": "q0-3P0CiUtJJ"
      },
      "execution_count": null,
      "outputs": []
    }
  ]
}