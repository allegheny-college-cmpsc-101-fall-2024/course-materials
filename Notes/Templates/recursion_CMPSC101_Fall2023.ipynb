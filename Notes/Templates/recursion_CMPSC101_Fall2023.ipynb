{
  "cells": [
    {
      "cell_type": "markdown",
      "metadata": {
        "colab_type": "text",
        "id": "view-in-github"
      },
      "source": [
        "<a href=\"https://colab.research.google.com/github/allegheny-college-cmpsc-101-fall-2023/course-materials/blob/main/Notes/Templates/recursion_CMPSC101_Fall2023.ipynb\" target=\"_parent\"><img src=\"https://colab.research.google.com/assets/colab-badge.svg\" alt=\"Open In Colab\"/></a>"
      ]
    },
    {
      "cell_type": "code",
      "execution_count": null,
      "metadata": {
        "id": "mLzV68-hjCAb"
      },
      "outputs": [],
      "source": [
        "# recall the basic components of a function:\n",
        "-- function signature\n",
        "  --\n",
        "  --\n",
        "  --\n",
        "  --\n",
        "  --\n",
        "-- function body\n",
        "  --\n",
        "  --\n",
        "  --\n",
        "  --\n",
        "  --\n"
      ]
    },
    {
      "cell_type": "code",
      "execution_count": null,
      "metadata": {
        "id": "jyQ7UTgrkPnh"
      },
      "outputs": [],
      "source": [
        "# calling a function - put these step in order\n",
        "\n",
        "-- print(new_variable_name)\n",
        "  --> this includes inside a function\n",
        "  --> could be a variable or a literal\n",
        "-- often in small examples, we print out the return value using a print statement\n",
        "-- fill in the parameters with actual arguments\n",
        "  --> abs(-10), vs. n = -10, abs(n)\n",
        "-- store the return value in a new variable\n",
        "-- function call can take place at ANY location in the python script BELOW THE FUNCTION DEF\n",
        "  --> this means, use an = sign and a variable name\n",
        "-- write the function name and ()\n",
        "  --> new_variable_name = abs(-10)\n"
      ]
    },
    {
      "cell_type": "code",
      "execution_count": null,
      "metadata": {
        "id": "_r18wbMSlqKn"
      },
      "outputs": [],
      "source": [
        "# fancy names\n",
        "--\n",
        "--\n",
        "--\n",
        "  --\n",
        "  --\n",
        "    -- YAML language, which stands for \"YAML ain't a markup language\"\n",
        "    -- PHP language meaning \"PHP: Hypertext Preprocessor\"\n",
        "    -- JACK \"JACK audio connection kit\""
      ]
    },
    {
      "cell_type": "code",
      "execution_count": null,
      "metadata": {
        "id": "BuINKoEYk7xo"
      },
      "outputs": [],
      "source": [
        "# example of interative\n",
        "def compute_mean_iterative(numbers: list) -> float:\n",
        "  \"\"\"Return the average of a list of numbers using loop.\"\"\"\n",
        "  sum = 0\n",
        "  for n in numbers:\n",
        "    sum += n\n",
        "  num_elems = len(numbers)\n",
        "  mean = sum / num_elems\n",
        "  return float(mean)\n",
        "\n",
        "n = [5,1,7,99,4]\n",
        "mean_n = compute_mean_iterative(n)\n",
        "print(str(mean_n))"
      ]
    },
    {
      "cell_type": "code",
      "execution_count": null,
      "metadata": {
        "id": "noYVUvBvqEte"
      },
      "outputs": [],
      "source": [
        "# # Logic of above function for computing average of a list of numbers\n",
        "\n",
        "# 1. get an element out of the list\n",
        "# 2. add it to some storage variable that is building up\n",
        "# 3. Repeat steps 1-2\n",
        "# 4. divide the complete storage variable by the total number of elements\n",
        "# 5. return the result of the division\n",
        "\n",
        "# # Peudo code\n",
        "\n",
        "# - initialize a storage variable\n",
        "# - start a loop over elements in the list\n",
        "# - inside the loop add the element to the storage variable\n",
        "# - done with loop - now compute the total number of elements in the list\n",
        "# - divide storage variable by total number of elements\n",
        "# - return the result of the division\n",
        "\n"
      ]
    },
    {
      "cell_type": "code",
      "execution_count": null,
      "metadata": {
        "id": "bKQoAXiPrxM5"
      },
      "outputs": [],
      "source": [
        "# # Logic of function for computing factorial of a number\n",
        "\n",
        "# 1. take the number\n",
        "# 2. multiply by one less than the number\n",
        "# 3. store the interim result somewhere\n",
        "# 4. repeat the multiplication by one less until we multiply by 1\n",
        "# 5. return the final result\n",
        "\n",
        "# # pseudo code\n",
        "\n",
        "# 1. initialize the interim result\n",
        "# 2. initialize a counter to keep track of how many multiplications we need to do\n",
        "# 3. set up loop to continue until that counter counts down to 1\n",
        "# 4. inside the loop, multiply the interim result by one less than number\n",
        "# 5. store the computation\n",
        "# 6. decrease the counter\n",
        "# 7. return the final result\n",
        "\n"
      ]
    },
    {
      "cell_type": "code",
      "execution_count": null,
      "metadata": {
        "id": "nap7oQbSn7hO"
      },
      "outputs": [],
      "source": [
        "# Implementation of above interative function\n"
      ]
    },
    {
      "cell_type": "code",
      "execution_count": null,
      "metadata": {
        "id": "swHLsYKfuiZv"
      },
      "outputs": [],
      "source": [
        "# but check this out: 5! is the same as 5 * 4!\n"
      ]
    },
    {
      "cell_type": "code",
      "execution_count": null,
      "metadata": {
        "id": "FrqgI4K6va7h"
      },
      "outputs": [],
      "source": [
        "def compute_factorial_recursive(number: int) -> int:\n"
      ]
    },
    {
      "cell_type": "code",
      "execution_count": null,
      "metadata": {
        "id": "uRfUZzAYw_vU"
      },
      "outputs": [],
      "source": [
        "# Where is the base case\n",
        "# Where is the recursive call?\n",
        "# Where is the progression of the input?\n"
      ]
    },
    {
      "cell_type": "markdown",
      "metadata": {
        "id": "wHPerTVO-kLK"
      },
      "source": [
        "Fibonacci number ${F_n}$ is defined:\n",
        "\n",
        "${F_{n}=F_{n-1}+F_{n-2}}$\n",
        "\n",
        "where\n",
        "\n",
        "${F_0 = 0}$ and ${F_1 = 1}$\n",
        "\n",
        "learn more: https://en.wikipedia.org/wiki/Fibonacci_sequence"
      ]
    },
    {
      "cell_type": "code",
      "execution_count": null,
      "metadata": {
        "id": "axXE033Dxauc"
      },
      "outputs": [],
      "source": [
        "# fibonacci sequence where new = prev + current\n",
        "# inial inputs 0, 1\n",
        "# 0 + 1 = 1 (new = 1, current = 1, previous = 0)\n",
        "# 1 + 1 = 2 (new = 2, current = 1, previous = 1)\n",
        "# 1 + 2 = 3 (new = 3, current = 2, previous = 1)\n",
        "# 2 + 3 = 5 (new = 5, current = 3, previous = 2)\n",
        "# 3 + 5 = 8 (new = 8, current = 5, previous = 3)\n",
        "# 5 + 8 = 13 (new = 13, current = 8, previous = 5)\n"
      ]
    },
    {
      "cell_type": "code",
      "execution_count": null,
      "metadata": {
        "id": "T6Tyd_JGx-nI"
      },
      "outputs": [],
      "source": [
        "def fibonacci_tuple(n: int) -> tuple[int]:\n",
        "    fib_seq = () # empty tuple\n",
        "    previous = 0 # intialization\n",
        "    current = 1 # intialization\n",
        "    for i in range(n):\n",
        "        fib_seq += (previous,)\n",
        "        new_val = current + previous\n",
        "        previous = current\n",
        "        current = new_val\n",
        "    return fib_seq\n",
        "\n",
        "print(fibonacci_tuple(10))"
      ]
    },
    {
      "cell_type": "code",
      "execution_count": null,
      "metadata": {
        "id": "wiRP423EzO84"
      },
      "outputs": [],
      "source": [
        "# more pythonic resetting of current and previous\n",
        "\n",
        "def fibonacci_tuple(n: int) -> tuple[int]:\n",
        "    fib_seq = ()\n",
        "    previous = 0\n",
        "    current = 1\n",
        "    for i in range(n):\n",
        "        fib_seq += (previous,)\n",
        "        previous, current = current, previous + current\n",
        "    return fib_seq\n",
        "\n",
        "print(fibonacci_tuple(10))"
      ]
    },
    {
      "cell_type": "code",
      "execution_count": null,
      "metadata": {
        "id": "Y5P1FV2f0f11"
      },
      "outputs": [],
      "source": [
        "# What is happening here?\n",
        "\n",
        "def fibonacci_list(n: int) -> list[int]:\n",
        "    fib_seq = []\n",
        "    previous = 0\n",
        "    current = 1\n",
        "    for i in range(n):\n",
        "        fib_seq.append(previous)\n",
        "        previous, current = current, previous + current\n",
        "    return fib_seq\n",
        "\n",
        "print(fibonacci_list(10))"
      ]
    },
    {
      "cell_type": "code",
      "execution_count": null,
      "metadata": {
        "id": "P61Ysexz01JG"
      },
      "outputs": [],
      "source": [
        "# What is happening here? We will come back to this later\n",
        "\n",
        "from typing import Iterator\n",
        "\n",
        "def fibonacci_generator(n: int) -> Iterator[int]:\n",
        "    previous = 0\n",
        "    current = 1\n",
        "    for i in range(n):\n",
        "        yield previous\n",
        "        previous, current = current, previous + current\n",
        "\n",
        "print([fibonacci_value for fibonacci_value in fibonacci_generator(10)])\n",
        "print(fibonacci_generator(10))"
      ]
    },
    {
      "cell_type": "code",
      "execution_count": 9,
      "metadata": {
        "id": "FD69iDAa13w2"
      },
      "outputs": [
        {
          "name": "stdout",
          "output_type": "stream",
          "text": [
            "[(0, 1), (1, 2), (1, 5), (2, 10), (3, 19), (5, 34), (8, 59), (13, 100), (21, 167), (34, 276)]\n",
            "(0, 1), (1, 1), (1, 3), (2, 5), (3, 9), (5, 15), (8, 25), (13, 41), (21, 67), (34, 109), "
          ]
        }
      ],
      "source": [
        "# lets formulate it recursively\n",
        "\n",
        "# the fib sequence of 10 elements is the same as the fib seq for 9 elements + one extra\n",
        "# the fib sequence of 9 elements is the same as the fib seq for 8 elements + one extra\n",
        "# the fib sequence of 8 elements is the same as the fib seq for 7 elements + one extra\n",
        "# the fib sequence of 7 elements is the same as the fib seq for 6 elements + one extra\n",
        "# the fib sequence of 6 elements is the same as the fib seq for 5 elements + one extra\n",
        "# ...\n",
        "# the fib sequence of 3 elements is the same as the fib seq for 2 elements + one extra\n",
        "# the fib sequence of 2 elements is 1\n",
        "# the fib sequence of 1 element is 0\n",
        "\n",
        "# base case:  - prev is 0 and current is 1, the sum of prev and current is 1\n",
        "# recursive call\n",
        "  # we need to keep track of three things at any given time: new, current, previous\n",
        "\n",
        "global counter\n",
        "counter = 0\n",
        "def fibonacci_recursive(n: int) -> int:\n",
        "  global counter\n",
        "  counter += 1\n",
        "  if n == 1:\n",
        "    return 1\n",
        "  if n == 0:\n",
        "    return 0\n",
        "  return fibonacci_recursive(n-1) + fibonacci_recursive(n-2)\n",
        "print([(fibonacci_recursive(i),counter) for i in range(10)])\n",
        "for i in range(10):\n",
        "  counter = 0\n",
        "  F = fibonacci_recursive(i)\n",
        "  print((F,counter), end = \", \")"
      ]
    },
    {
      "cell_type": "code",
      "execution_count": 3,
      "metadata": {
        "id": "GtkhR-uodmZZ"
      },
      "outputs": [
        {
          "ename": "UnboundLocalError",
          "evalue": "cannot access local variable 'counter' where it is not associated with a value",
          "output_type": "error",
          "traceback": [
            "\u001b[0;31m---------------------------------------------------------------------------\u001b[0m",
            "\u001b[0;31mUnboundLocalError\u001b[0m                         Traceback (most recent call last)",
            "\u001b[1;32m/Users/egraber/Documents/Teaching/F2023-CMPSC101/course-materials/Notes/Templates/recursion_CMPSC101_Fall2023.ipynb Cell 19\u001b[0m line \u001b[0;36m1\n\u001b[1;32m      <a href='vscode-notebook-cell:/Users/egraber/Documents/Teaching/F2023-CMPSC101/course-materials/Notes/Templates/recursion_CMPSC101_Fall2023.ipynb#X24sZmlsZQ%3D%3D?line=8'>9</a>\u001b[0m     \u001b[39mreturn\u001b[39;00m n\n\u001b[1;32m     <a href='vscode-notebook-cell:/Users/egraber/Documents/Teaching/F2023-CMPSC101/course-materials/Notes/Templates/recursion_CMPSC101_Fall2023.ipynb#X24sZmlsZQ%3D%3D?line=9'>10</a>\u001b[0m   \u001b[39mreturn\u001b[39;00m fibonacci_recursive(n\u001b[39m-\u001b[39m\u001b[39m1\u001b[39m) \u001b[39m+\u001b[39m fibonacci_recursive(n\u001b[39m-\u001b[39m\u001b[39m2\u001b[39m)\n\u001b[0;32m---> <a href='vscode-notebook-cell:/Users/egraber/Documents/Teaching/F2023-CMPSC101/course-materials/Notes/Templates/recursion_CMPSC101_Fall2023.ipynb#X24sZmlsZQ%3D%3D?line=11'>12</a>\u001b[0m \u001b[39mprint\u001b[39m([fibonacci_recursive(i) \u001b[39mfor\u001b[39;49;00m i \u001b[39min\u001b[39;49;00m \u001b[39mrange\u001b[39;49m(\u001b[39m10\u001b[39;49m)])\n\u001b[1;32m     <a href='vscode-notebook-cell:/Users/egraber/Documents/Teaching/F2023-CMPSC101/course-materials/Notes/Templates/recursion_CMPSC101_Fall2023.ipynb#X24sZmlsZQ%3D%3D?line=12'>13</a>\u001b[0m \u001b[39mprint\u001b[39m(\u001b[39m\"\u001b[39m\u001b[39mcounter:\u001b[39m\u001b[39m\"\u001b[39m, counter)\n",
            "\u001b[1;32m/Users/egraber/Documents/Teaching/F2023-CMPSC101/course-materials/Notes/Templates/recursion_CMPSC101_Fall2023.ipynb Cell 19\u001b[0m line \u001b[0;36m1\n\u001b[1;32m      <a href='vscode-notebook-cell:/Users/egraber/Documents/Teaching/F2023-CMPSC101/course-materials/Notes/Templates/recursion_CMPSC101_Fall2023.ipynb#X24sZmlsZQ%3D%3D?line=8'>9</a>\u001b[0m     \u001b[39mreturn\u001b[39;00m n\n\u001b[1;32m     <a href='vscode-notebook-cell:/Users/egraber/Documents/Teaching/F2023-CMPSC101/course-materials/Notes/Templates/recursion_CMPSC101_Fall2023.ipynb#X24sZmlsZQ%3D%3D?line=9'>10</a>\u001b[0m   \u001b[39mreturn\u001b[39;00m fibonacci_recursive(n\u001b[39m-\u001b[39m\u001b[39m1\u001b[39m) \u001b[39m+\u001b[39m fibonacci_recursive(n\u001b[39m-\u001b[39m\u001b[39m2\u001b[39m)\n\u001b[0;32m---> <a href='vscode-notebook-cell:/Users/egraber/Documents/Teaching/F2023-CMPSC101/course-materials/Notes/Templates/recursion_CMPSC101_Fall2023.ipynb#X24sZmlsZQ%3D%3D?line=11'>12</a>\u001b[0m \u001b[39mprint\u001b[39m([fibonacci_recursive(i) \u001b[39mfor\u001b[39;00m i \u001b[39min\u001b[39;00m \u001b[39mrange\u001b[39m(\u001b[39m10\u001b[39m)])\n\u001b[1;32m     <a href='vscode-notebook-cell:/Users/egraber/Documents/Teaching/F2023-CMPSC101/course-materials/Notes/Templates/recursion_CMPSC101_Fall2023.ipynb#X24sZmlsZQ%3D%3D?line=12'>13</a>\u001b[0m \u001b[39mprint\u001b[39m(\u001b[39m\"\u001b[39m\u001b[39mcounter:\u001b[39m\u001b[39m\"\u001b[39m, counter)\n",
            "\u001b[1;32m/Users/egraber/Documents/Teaching/F2023-CMPSC101/course-materials/Notes/Templates/recursion_CMPSC101_Fall2023.ipynb Cell 19\u001b[0m line \u001b[0;36m7\n\u001b[1;32m      <a href='vscode-notebook-cell:/Users/egraber/Documents/Teaching/F2023-CMPSC101/course-materials/Notes/Templates/recursion_CMPSC101_Fall2023.ipynb#X24sZmlsZQ%3D%3D?line=5'>6</a>\u001b[0m \u001b[39mdef\u001b[39;00m \u001b[39mfibonacci_recursive\u001b[39m(n: \u001b[39mint\u001b[39m) \u001b[39m-\u001b[39m\u001b[39m>\u001b[39m \u001b[39mint\u001b[39m:\n\u001b[0;32m----> <a href='vscode-notebook-cell:/Users/egraber/Documents/Teaching/F2023-CMPSC101/course-materials/Notes/Templates/recursion_CMPSC101_Fall2023.ipynb#X24sZmlsZQ%3D%3D?line=6'>7</a>\u001b[0m   counter \u001b[39m+\u001b[39m\u001b[39m=\u001b[39m \u001b[39m1\u001b[39m\n\u001b[1;32m      <a href='vscode-notebook-cell:/Users/egraber/Documents/Teaching/F2023-CMPSC101/course-materials/Notes/Templates/recursion_CMPSC101_Fall2023.ipynb#X24sZmlsZQ%3D%3D?line=7'>8</a>\u001b[0m   \u001b[39mif\u001b[39;00m n \u001b[39m<\u001b[39m\u001b[39m=\u001b[39m \u001b[39m1\u001b[39m:\n\u001b[1;32m      <a href='vscode-notebook-cell:/Users/egraber/Documents/Teaching/F2023-CMPSC101/course-materials/Notes/Templates/recursion_CMPSC101_Fall2023.ipynb#X24sZmlsZQ%3D%3D?line=8'>9</a>\u001b[0m     \u001b[39mreturn\u001b[39;00m n\n",
            "\u001b[0;31mUnboundLocalError\u001b[0m: cannot access local variable 'counter' where it is not associated with a value"
          ]
        }
      ],
      "source": [
        "# How many times is the fibonacci_recursive called?\n",
        "# Add in a global counter to track how many times fibonacci_recursive is called.\n",
        "# What goes wrong here?\n",
        "counter = 0\n",
        "\n",
        "def fibonacci_recursive(n: int) -> int:\n",
        "  counter += 1\n",
        "  if n <= 1:\n",
        "    return n\n",
        "  return fibonacci_recursive(n-1) + fibonacci_recursive(n-2)\n",
        "\n",
        "print([fibonacci_recursive(i) for i in range(10)])\n",
        "print(\"counter:\", counter)"
      ]
    },
    {
      "cell_type": "code",
      "execution_count": null,
      "metadata": {
        "id": "13zrvhIM6u3k"
      },
      "outputs": [],
      "source": [
        "# How many times is the fibonacci_recursive called?\n",
        "# Add in a global counter to track how many times fibonacci_recursive is called.\n",
        "counter = 0\n",
        "\n",
        "def fibonacci_recursive(n: int) -> int:\n",
        "  global counter\n",
        "  counter += 1\n",
        "  if n <= 1:\n",
        "    return n\n",
        "  return fibonacci_recursive(n-1) + fibonacci_recursive(n-2)\n",
        "\n",
        "print([fibonacci_recursive(i) for i in range(10)])\n",
        "print(\"global counter:\", counter)\n"
      ]
    },
    {
      "cell_type": "code",
      "execution_count": null,
      "metadata": {
        "id": "KhnEHIU9aPZq"
      },
      "outputs": [],
      "source": [
        "# What is your prediction about the speed of these various functions?\n",
        "# Which one is slowest and why?"
      ]
    },
    {
      "cell_type": "code",
      "execution_count": null,
      "metadata": {
        "id": "m2lwyR1Sa6Bi"
      },
      "outputs": [],
      "source": [
        "# What happens when you try to run this?\n",
        "print(\"List method:\", fibonacci_list(120)[119])\n",
        "print(\"recursive method:\", fibonacci_recursive(120))p"
      ]
    },
    {
      "cell_type": "markdown",
      "metadata": {
        "id": "_XVqWWzJAZcd"
      },
      "source": [
        "Extension\n",
        "\n",
        "Given an input string of numbers, find all combinations of numbers that can be formed using digits in the same order.\n",
        "Examples:\n",
        "\n",
        "```\n",
        "Input : 123\n",
        "Output :1 2 3\n",
        "        1 23\n",
        "        12 3\n",
        "        123\n",
        "\n",
        "Input : 1234\n",
        "Output : 1 2 3 4\n",
        "        1 2 34\n",
        "        1 23 4\n",
        "        1 234\n",
        "        12 3 4\n",
        "        12 34\n",
        "        123 4\n",
        "        1234\n",
        "```\n",
        "\n",
        "The problem can be solved using recursion. We keep track of the current index in the given input string and the length of the output string so far. In each call to the function, if there are no digits remaining in the input string print the current output string and return. Otherwise, copy the current digit to output. From here make two calls, one considering the next digit as part of the next number(including a space in output string) and one considering the next digit as part of the current number( no space included). If there are no digits remaining after the current digit the second call to the function is omitted because a trailing space doesn’t count as a new combination."
      ]
    }
  ],
  "metadata": {
    "colab": {
      "authorship_tag": "ABX9TyMm33ZiRRUwVkjc/HsU7uLn",
      "include_colab_link": true,
      "provenance": []
    },
    "kernelspec": {
      "display_name": "Python 3",
      "name": "python3"
    },
    "language_info": {
      "codemirror_mode": {
        "name": "ipython",
        "version": 3
      },
      "file_extension": ".py",
      "mimetype": "text/x-python",
      "name": "python",
      "nbconvert_exporter": "python",
      "pygments_lexer": "ipython3",
      "version": "3.11.5"
    }
  },
  "nbformat": 4,
  "nbformat_minor": 0
}
