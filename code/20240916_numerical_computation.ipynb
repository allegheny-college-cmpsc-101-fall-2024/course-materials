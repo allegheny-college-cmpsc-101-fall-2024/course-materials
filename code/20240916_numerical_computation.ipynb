{
  "nbformat": 4,
  "nbformat_minor": 0,
  "metadata": {
    "colab": {
      "provenance": []
    },
    "kernelspec": {
      "name": "python3",
      "display_name": "Python 3"
    },
    "language_info": {
      "name": "python"
    }
  },
  "cells": [
    {
      "cell_type": "markdown",
      "source": [
        "[![Open In Colab](https://colab.research.google.com/assets/colab-badge.svg)](https://githubtocolab.com/allegheny-college-cmpsc-101-fall-2024/course-materials/blob/main/code/20240916_numerical_computation.ipynb)"
      ],
      "metadata": {
        "id": "l3ADfvueOsPW"
      }
    },
    {
      "cell_type": "markdown",
      "source": [
        "## Find Square Root of a Number - Guess and Check"
      ],
      "metadata": {
        "id": "ekxGDHKYxqLQ"
      }
    },
    {
      "cell_type": "code",
      "source": [
        "# Guess and Check\n",
        "\n",
        "import random\n",
        "\n",
        "def squareroot_gc(number: int) -> int:\n",
        "  \"\"\"Guess integer roots and check.\"\"\"\n",
        "\n",
        "  while True:\n",
        "\n",
        "    guess = random.randint(0, number)\n",
        "\n",
        "    if guess**2 == number:\n",
        "      return guess\n",
        "\n"
      ],
      "metadata": {
        "id": "biVdx0cJ1QQh"
      },
      "execution_count": null,
      "outputs": []
    },
    {
      "cell_type": "code",
      "source": [
        "# call the function, display the answer\n",
        "root = squareroot_gc(144*144)\n",
        "print(root)"
      ],
      "metadata": {
        "id": "XGeUIoka8FKp"
      },
      "execution_count": null,
      "outputs": []
    },
    {
      "cell_type": "code",
      "source": [
        "# Guess and Check with a limit\n",
        "\n",
        "import random\n",
        "\n",
        "def squareroot_gcl(number: int) -> int:\n",
        "  \"\"\"Guess integer roots and check.\"\"\"\n",
        "\n",
        "  num_guesses_allowed = 100\n",
        "  num_guesses_sofar = 0\n",
        "\n",
        "  while num_guesses_sofar < num_guesses_allowed:\n",
        "\n",
        "    guess = random.randint(0, number)\n",
        "\n",
        "    if guess**2 == number:\n",
        "      return guess\n",
        "\n",
        "    num_guesses_sofar += 1\n",
        "\n",
        "  return -1"
      ],
      "metadata": {
        "id": "c4-hi1wFx32K"
      },
      "execution_count": null,
      "outputs": []
    },
    {
      "cell_type": "code",
      "source": [
        "root = squareroot_gcl(12345*12345)\n",
        "print(root)\n"
      ],
      "metadata": {
        "id": "yOuUjHxX1JHX",
        "collapsed": true
      },
      "execution_count": null,
      "outputs": []
    },
    {
      "cell_type": "markdown",
      "source": [
        "## Find Square Root of a Number - Organized Guessing - Exhaustive Enumeration"
      ],
      "metadata": {
        "id": "Csa0SrstNXgU"
      }
    },
    {
      "cell_type": "code",
      "source": [
        "# Exhaustive Enumeration for perfect squares\n",
        "\n",
        "def squareroot_eep(number: int) -> int:\n",
        "  \"\"\"Exaustively check integer roots.\"\"\"\n",
        "\n",
        "  for possible_answer in range(number):\n",
        "\n",
        "    if possible_answer**2 == number:\n",
        "      return possible_answer\n",
        "\n",
        "  return -1"
      ],
      "metadata": {
        "id": "KmZP8GgH4qgD"
      },
      "execution_count": null,
      "outputs": []
    },
    {
      "cell_type": "code",
      "source": [
        "root_perfect = squareroot_eep(12345*12345)\n",
        "print(root_perfect)"
      ],
      "metadata": {
        "id": "PojMv7zM8wvY"
      },
      "execution_count": null,
      "outputs": []
    },
    {
      "cell_type": "code",
      "source": [
        "# What causes the error??\n",
        "\n",
        "root_imperf = squareroot_eep(144.1*144.1)\n",
        "print(root_imperf)"
      ],
      "metadata": {
        "id": "dHeUN0OO9Ahe"
      },
      "execution_count": null,
      "outputs": []
    },
    {
      "cell_type": "code",
      "source": [
        "# Exhaustive Enumeration for non-perfect squares\n",
        "\n",
        "def squareroot_ee(number: int) -> float:\n",
        "  \"\"\"Exhaustively check all possible roots for numbers >= 1.\"\"\"\n",
        "\n",
        "  if number < 1:\n",
        "    return -1\n",
        "\n",
        "  epsilon = 0.01 # margin of error, could be a parameter\n",
        "  step_size = epsilon**2\n",
        "  possible_answer = 0\n",
        "\n",
        "  while abs(number - possible_answer**2) > epsilon and possible_answer**2 < number + epsilon:\n",
        "    possible_answer += step_size\n",
        "\n",
        "  return possible_answer"
      ],
      "metadata": {
        "id": "JomTqmeh5Bl6"
      },
      "execution_count": null,
      "outputs": []
    },
    {
      "cell_type": "code",
      "source": [
        "root_imperf = squareroot_ee(9.2*9.2)\n",
        "print(root_imperf)"
      ],
      "metadata": {
        "id": "y3lxWddr6i5W"
      },
      "execution_count": null,
      "outputs": []
    },
    {
      "cell_type": "code",
      "source": [
        "root_imperf = squareroot_ee(12345678)\n",
        "print(root_imperf)"
      ],
      "metadata": {
        "id": "qgLRRYUrDga_"
      },
      "execution_count": null,
      "outputs": []
    },
    {
      "cell_type": "code",
      "source": [
        "# Why are numbers smaller than 1 not processed?\n",
        "# What would go wrong in the algorithm if they were processed?\n",
        "\n",
        "root_imperf = squareroot_ee(.1*.1)\n",
        "print(root_imperf)"
      ],
      "metadata": {
        "id": "LtIB5agB9lMX"
      },
      "execution_count": null,
      "outputs": []
    },
    {
      "cell_type": "markdown",
      "source": [
        "## Find the Square Root of a Number - Efficient Guessing - Bisection Search"
      ],
      "metadata": {
        "id": "m6PnTJpMNoxn"
      }
    },
    {
      "cell_type": "code",
      "source": [
        "# Bisection Search for non-perfect squares\n",
        "\n",
        "def squareroot_bs(number: int) -> float:\n",
        "  \"\"\"Perform bisection search to find root.\"\"\"\n",
        "\n",
        "  if number < 1:\n",
        "    return -1\n",
        "\n",
        "  epsilon = 0.01 # margin of error, could be a parameter\n",
        "  lower_bound = 0\n",
        "  upper_bound = number\n",
        "  midpoint = (lower_bound+upper_bound)/2\n",
        "\n",
        "  while abs(number - midpoint**2) > epsilon:\n",
        "\n",
        "    if midpoint**2 > number:\n",
        "      upper_bound = midpoint\n",
        "    else:\n",
        "      lower_bound = midpoint\n",
        "\n",
        "    midpoint = (lower_bound+upper_bound)/2\n",
        "\n",
        "  return midpoint\n"
      ],
      "metadata": {
        "id": "oX2-4QyCBetr"
      },
      "execution_count": null,
      "outputs": []
    },
    {
      "cell_type": "code",
      "source": [
        "root_imperf = squareroot_bs(144.1*144.1)\n",
        "print(root_imperf)"
      ],
      "metadata": {
        "id": "lb5U77jCDTU4"
      },
      "execution_count": null,
      "outputs": []
    },
    {
      "cell_type": "code",
      "source": [
        "root_imperf = squareroot_bs(12345678)\n",
        "print(root_imperf)"
      ],
      "metadata": {
        "id": "1Puu4StCDYs5"
      },
      "execution_count": null,
      "outputs": []
    },
    {
      "cell_type": "markdown",
      "source": [
        "## Challenge"
      ],
      "metadata": {
        "id": "7TPgsvHXN1NR"
      }
    },
    {
      "cell_type": "code",
      "source": [
        "# Add a counter inside of squareroot_ee and squareroot_bs to count how many times the loop repeates\n",
        "# modify the return value of squareroot_ee and squareroot_bs to retrieve the counter number\n",
        "# Which algorithm is the fastest?"
      ],
      "metadata": {
        "id": "sKniY4cID5al"
      },
      "execution_count": null,
      "outputs": []
    }
  ]
}