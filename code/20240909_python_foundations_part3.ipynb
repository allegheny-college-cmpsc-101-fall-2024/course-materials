{
  "nbformat": 4,
  "nbformat_minor": 0,
  "metadata": {
    "colab": {
      "provenance": []
    },
    "kernelspec": {
      "name": "python3",
      "display_name": "Python 3"
    },
    "language_info": {
      "name": "python"
    }
  },
  "cells": [
    {
      "cell_type": "markdown",
      "source": [
        "# GOALS - wrapping up fundamentals\n",
        "\n",
        "- recall python fundamentals\n",
        "- create a function\n",
        "- run functions\n",
        "- compare for and while loops\n",
        "- Finish the 1st Spec lab!"
      ],
      "metadata": {
        "id": "UUWYsVf9BfxW"
      }
    },
    {
      "cell_type": "code",
      "source": [
        "# Recall, an algorithm to find the average of data is:\n",
        "\n",
        "data = [1,2,1,2,1,2,1,2]\n",
        "\n",
        "sum_so_far = 0\n",
        "count = 0\n",
        "for number in data:\n",
        "  sum_so_far += number\n",
        "  count += 1\n",
        "average = sum_so_far/count\n",
        "print(f\"the average of {data} is {average}!\")"
      ],
      "metadata": {
        "colab": {
          "base_uri": "https://localhost:8080/"
        },
        "id": "oEIXYbiJBnMM",
        "outputId": "f638e2d8-5eee-4f70-9df3-9e0a9266ad9f"
      },
      "execution_count": 1,
      "outputs": [
        {
          "output_type": "stream",
          "name": "stdout",
          "text": [
            "the average of [1, 2, 1, 2, 1, 2, 1, 2] is 1.5!\n"
          ]
        }
      ]
    },
    {
      "cell_type": "code",
      "source": [
        "# convert the algorithm above into a function"
      ],
      "metadata": {
        "id": "oBBI8BkyCghe"
      },
      "execution_count": null,
      "outputs": []
    },
    {
      "cell_type": "markdown",
      "source": [
        "Why does the above block not print anything?"
      ],
      "metadata": {
        "id": "1uhCtL0-wiiD"
      }
    },
    {
      "cell_type": "markdown",
      "source": [
        "## Calling Functions"
      ],
      "metadata": {
        "id": "QXq7oOoGxCKo"
      }
    },
    {
      "cell_type": "code",
      "source": [
        "# call functions above"
      ],
      "metadata": {
        "id": "MqmW9FJQK6uO"
      },
      "execution_count": null,
      "outputs": []
    },
    {
      "cell_type": "markdown",
      "source": [
        "## Printing formatted strings"
      ],
      "metadata": {
        "id": "tBOm9_xeurgh"
      }
    },
    {
      "cell_type": "code",
      "source": [
        "variable1 = 'Emily Graber'\n",
        "variable2 = 2024\n",
        "print(f\"My name is {variable1}\")\n",
        "print(f\"{variable2 + 1} is the year\")\n",
        "print(\"---------\")\n",
        "print(variable2)\n",
        "print(variable2 + 1)"
      ],
      "metadata": {
        "id": "pm4ksf_XuuNT"
      },
      "execution_count": null,
      "outputs": []
    },
    {
      "cell_type": "markdown",
      "source": [
        "## Floating point properties"
      ],
      "metadata": {
        "id": "5auuetIgDO2q"
      }
    },
    {
      "cell_type": "code",
      "source": [
        "# What does this print?\n",
        "\n",
        "total = 0.0\n",
        "for i in range(10):\n",
        "  total += 0.1\n"
      ],
      "metadata": {
        "id": "JV5Td6VPDCPA"
      },
      "execution_count": null,
      "outputs": []
    },
    {
      "cell_type": "code",
      "source": [
        "# What does this print?\n",
        "\n",
        "total = 0.1\n",
        "total *= 10.0\n"
      ],
      "metadata": {
        "collapsed": true,
        "id": "yP3YSTkmDskE"
      },
      "execution_count": null,
      "outputs": []
    },
    {
      "cell_type": "code",
      "source": [
        "# What does this print?\n",
        "\n",
        "total = 10.0\n",
        "total /= 10.0\n"
      ],
      "metadata": {
        "id": "dkWibaFmDMid"
      },
      "execution_count": null,
      "outputs": []
    },
    {
      "cell_type": "markdown",
      "source": [
        "## More Algorithms"
      ],
      "metadata": {
        "id": "awOBMie2LeMM"
      }
    },
    {
      "cell_type": "code",
      "source": [
        "# addition and multiplication are very related\n",
        "# write code to square a number using only addition"
      ],
      "metadata": {
        "id": "nqXiLCoWLhuT"
      },
      "execution_count": null,
      "outputs": []
    },
    {
      "cell_type": "markdown",
      "source": [
        "## For loops and while loops"
      ],
      "metadata": {
        "id": "7Wjcfe34C3YC"
      }
    },
    {
      "cell_type": "code",
      "source": [
        "# rewrite an algorithm above using both methods"
      ],
      "metadata": {
        "id": "EE2bqawvC6M9"
      },
      "execution_count": null,
      "outputs": []
    }
  ]
}