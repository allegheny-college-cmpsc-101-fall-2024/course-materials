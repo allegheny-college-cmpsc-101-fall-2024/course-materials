{
  "cells": [
    {
      "cell_type": "markdown",
      "metadata": {
        "id": "_Mrd-jZJNIIi"
      },
      "source": [
        "[![Open In Colab](https://colab.research.google.com/assets/colab-badge.svg)](https://githubtocolab.com/allegheny-college-cmpsc-101-fall-2024/course-materials/blob/main/code/20240906_python_foundations_cont.ipynb)"
      ]
    },
    {
      "cell_type": "markdown",
      "metadata": {
        "id": "Bdd8JP0muBpP"
      },
      "source": [
        "# Python Foundations"
      ]
    },
    {
      "cell_type": "markdown",
      "metadata": {
        "id": "pqp2RLfh-1xM"
      },
      "source": [
        "## loose ends from last class"
      ]
    },
    {
      "cell_type": "markdown",
      "metadata": {
        "id": "7g3TAt5_LovL"
      },
      "source": [
        "- Markdown --> see this reference for Markdown formatting - https://commonmark.org/help/\n",
        "- `git` commands\n",
        "  - `git pull` to update your course-materials repo\n",
        "  - `git clone paste.the.github.classroom.url`\n",
        "  - `git add .`\n",
        "  - `git commit -m \"learn foundations\"\n",
        "  - `git push origin main`\n",
        "- Helper tasks for linting\n",
        "  - read the description in the Lab README.md - https://github.com/allegheny-college-cmpsc-101-fall-2024/number-comparison-starter#helper-tasks\n",
        "  - `poetry run task ruff`\n",
        "  - `poetry run task fix`\n",
        "  - `poetry run task test`\n",
        "  - etc"
      ]
    },
    {
      "cell_type": "markdown",
      "metadata": {
        "id": "dnDCKkKIuFDR"
      },
      "source": [
        "## foundational elements"
      ]
    },
    {
      "cell_type": "markdown",
      "metadata": {
        "id": "gETN5ed1-l9B"
      },
      "source": [
        "* Foundational elements allow for calculations and control"
      ]
    },
    {
      "cell_type": "markdown",
      "metadata": {
        "id": "kCPBx3rIt-ES"
      },
      "source": [
        "- Variables\n",
        "- Arithmetic Operators\n",
        "- Conditional Logic\n",
        "- Iteration\n",
        "- Functions\n"
      ]
    },
    {
      "cell_type": "markdown",
      "metadata": {
        "id": "6cBpCmXCuIWP"
      },
      "source": [
        "## code examples"
      ]
    },
    {
      "cell_type": "code",
      "execution_count": null,
      "metadata": {
        "id": "fZajJnw7d61G"
      },
      "outputs": [],
      "source": [
        "# computing an average of the data\n",
        "\n",
        "data = [1,5,8,2,0,9,10,4]\n",
        "\n"
      ]
    },
    {
      "cell_type": "code",
      "execution_count": null,
      "metadata": {
        "id": "PYPOGPIYui9M"
      },
      "outputs": [],
      "source": [
        "# computing an average of just even numbers within data\n",
        "\n",
        "data = [1,5,8,2,0,9,10,4]\n"
      ]
    },
    {
      "cell_type": "code",
      "execution_count": null,
      "metadata": {
        "id": "hhjg32K2JBa2"
      },
      "outputs": [],
      "source": [
        "# computing an average of just odd numbers within data\n",
        "\n",
        "data = [1,5,8,2,0,9,10,4]"
      ]
    },
    {
      "cell_type": "code",
      "execution_count": null,
      "metadata": {
        "id": "jCKvqXWNJFYv"
      },
      "outputs": [],
      "source": [
        "# find the largest odd in data\n",
        "\n",
        "data = [1,5,8,2,0,9,10,4]"
      ]
    },
    {
      "cell_type": "code",
      "execution_count": 48,
      "metadata": {
        "colab": {
          "base_uri": "https://localhost:8080/",
          "height": 113
        },
        "id": "e39C9AlmBnXw",
        "outputId": "427f705a-46ae-4bee-8b80-7a5cb5d72068"
      },
      "outputs": [
        {
          "data": {
            "text/html": [
              "\n",
              "     <input type=\"file\" id=\"files-73e73ede-9f11-4a70-8f56-76bab5b0dd83\" name=\"files[]\" multiple disabled\n",
              "        style=\"border:none\" />\n",
              "     <output id=\"result-73e73ede-9f11-4a70-8f56-76bab5b0dd83\">\n",
              "      Upload widget is only available when the cell has been executed in the\n",
              "      current browser session. Please rerun this cell to enable.\n",
              "      </output>\n",
              "      <script>// Copyright 2017 Google LLC\n",
              "//\n",
              "// Licensed under the Apache License, Version 2.0 (the \"License\");\n",
              "// you may not use this file except in compliance with the License.\n",
              "// You may obtain a copy of the License at\n",
              "//\n",
              "//      http://www.apache.org/licenses/LICENSE-2.0\n",
              "//\n",
              "// Unless required by applicable law or agreed to in writing, software\n",
              "// distributed under the License is distributed on an \"AS IS\" BASIS,\n",
              "// WITHOUT WARRANTIES OR CONDITIONS OF ANY KIND, either express or implied.\n",
              "// See the License for the specific language governing permissions and\n",
              "// limitations under the License.\n",
              "\n",
              "/**\n",
              " * @fileoverview Helpers for google.colab Python module.\n",
              " */\n",
              "(function(scope) {\n",
              "function span(text, styleAttributes = {}) {\n",
              "  const element = document.createElement('span');\n",
              "  element.textContent = text;\n",
              "  for (const key of Object.keys(styleAttributes)) {\n",
              "    element.style[key] = styleAttributes[key];\n",
              "  }\n",
              "  return element;\n",
              "}\n",
              "\n",
              "// Max number of bytes which will be uploaded at a time.\n",
              "const MAX_PAYLOAD_SIZE = 100 * 1024;\n",
              "\n",
              "function _uploadFiles(inputId, outputId) {\n",
              "  const steps = uploadFilesStep(inputId, outputId);\n",
              "  const outputElement = document.getElementById(outputId);\n",
              "  // Cache steps on the outputElement to make it available for the next call\n",
              "  // to uploadFilesContinue from Python.\n",
              "  outputElement.steps = steps;\n",
              "\n",
              "  return _uploadFilesContinue(outputId);\n",
              "}\n",
              "\n",
              "// This is roughly an async generator (not supported in the browser yet),\n",
              "// where there are multiple asynchronous steps and the Python side is going\n",
              "// to poll for completion of each step.\n",
              "// This uses a Promise to block the python side on completion of each step,\n",
              "// then passes the result of the previous step as the input to the next step.\n",
              "function _uploadFilesContinue(outputId) {\n",
              "  const outputElement = document.getElementById(outputId);\n",
              "  const steps = outputElement.steps;\n",
              "\n",
              "  const next = steps.next(outputElement.lastPromiseValue);\n",
              "  return Promise.resolve(next.value.promise).then((value) => {\n",
              "    // Cache the last promise value to make it available to the next\n",
              "    // step of the generator.\n",
              "    outputElement.lastPromiseValue = value;\n",
              "    return next.value.response;\n",
              "  });\n",
              "}\n",
              "\n",
              "/**\n",
              " * Generator function which is called between each async step of the upload\n",
              " * process.\n",
              " * @param {string} inputId Element ID of the input file picker element.\n",
              " * @param {string} outputId Element ID of the output display.\n",
              " * @return {!Iterable<!Object>} Iterable of next steps.\n",
              " */\n",
              "function* uploadFilesStep(inputId, outputId) {\n",
              "  const inputElement = document.getElementById(inputId);\n",
              "  inputElement.disabled = false;\n",
              "\n",
              "  const outputElement = document.getElementById(outputId);\n",
              "  outputElement.innerHTML = '';\n",
              "\n",
              "  const pickedPromise = new Promise((resolve) => {\n",
              "    inputElement.addEventListener('change', (e) => {\n",
              "      resolve(e.target.files);\n",
              "    });\n",
              "  });\n",
              "\n",
              "  const cancel = document.createElement('button');\n",
              "  inputElement.parentElement.appendChild(cancel);\n",
              "  cancel.textContent = 'Cancel upload';\n",
              "  const cancelPromise = new Promise((resolve) => {\n",
              "    cancel.onclick = () => {\n",
              "      resolve(null);\n",
              "    };\n",
              "  });\n",
              "\n",
              "  // Wait for the user to pick the files.\n",
              "  const files = yield {\n",
              "    promise: Promise.race([pickedPromise, cancelPromise]),\n",
              "    response: {\n",
              "      action: 'starting',\n",
              "    }\n",
              "  };\n",
              "\n",
              "  cancel.remove();\n",
              "\n",
              "  // Disable the input element since further picks are not allowed.\n",
              "  inputElement.disabled = true;\n",
              "\n",
              "  if (!files) {\n",
              "    return {\n",
              "      response: {\n",
              "        action: 'complete',\n",
              "      }\n",
              "    };\n",
              "  }\n",
              "\n",
              "  for (const file of files) {\n",
              "    const li = document.createElement('li');\n",
              "    li.append(span(file.name, {fontWeight: 'bold'}));\n",
              "    li.append(span(\n",
              "        `(${file.type || 'n/a'}) - ${file.size} bytes, ` +\n",
              "        `last modified: ${\n",
              "            file.lastModifiedDate ? file.lastModifiedDate.toLocaleDateString() :\n",
              "                                    'n/a'} - `));\n",
              "    const percent = span('0% done');\n",
              "    li.appendChild(percent);\n",
              "\n",
              "    outputElement.appendChild(li);\n",
              "\n",
              "    const fileDataPromise = new Promise((resolve) => {\n",
              "      const reader = new FileReader();\n",
              "      reader.onload = (e) => {\n",
              "        resolve(e.target.result);\n",
              "      };\n",
              "      reader.readAsArrayBuffer(file);\n",
              "    });\n",
              "    // Wait for the data to be ready.\n",
              "    let fileData = yield {\n",
              "      promise: fileDataPromise,\n",
              "      response: {\n",
              "        action: 'continue',\n",
              "      }\n",
              "    };\n",
              "\n",
              "    // Use a chunked sending to avoid message size limits. See b/62115660.\n",
              "    let position = 0;\n",
              "    do {\n",
              "      const length = Math.min(fileData.byteLength - position, MAX_PAYLOAD_SIZE);\n",
              "      const chunk = new Uint8Array(fileData, position, length);\n",
              "      position += length;\n",
              "\n",
              "      const base64 = btoa(String.fromCharCode.apply(null, chunk));\n",
              "      yield {\n",
              "        response: {\n",
              "          action: 'append',\n",
              "          file: file.name,\n",
              "          data: base64,\n",
              "        },\n",
              "      };\n",
              "\n",
              "      let percentDone = fileData.byteLength === 0 ?\n",
              "          100 :\n",
              "          Math.round((position / fileData.byteLength) * 100);\n",
              "      percent.textContent = `${percentDone}% done`;\n",
              "\n",
              "    } while (position < fileData.byteLength);\n",
              "  }\n",
              "\n",
              "  // All done.\n",
              "  yield {\n",
              "    response: {\n",
              "      action: 'complete',\n",
              "    }\n",
              "  };\n",
              "}\n",
              "\n",
              "scope.google = scope.google || {};\n",
              "scope.google.colab = scope.google.colab || {};\n",
              "scope.google.colab._files = {\n",
              "  _uploadFiles,\n",
              "  _uploadFilesContinue,\n",
              "};\n",
              "})(self);\n",
              "</script> "
            ],
            "text/plain": [
              "<IPython.core.display.HTML object>"
            ]
          },
          "metadata": {},
          "output_type": "display_data"
        },
        {
          "name": "stdout",
          "output_type": "stream",
          "text": [
            "Saving data1.csv to data1.csv\n",
            "Saving data2.csv to data2.csv\n"
          ]
        }
      ],
      "source": [
        "# this is special code for colab only. If you have previously cloned and pulled the course-materials repo today,\n",
        "# run this block and select the `data.csv` from datasets inside course-materials\n",
        "# once this is done, colab will recognize the name `data.csv`\n",
        "\n",
        "from google.colab import files\n",
        "uploaded = files.upload()"
      ]
    },
    {
      "cell_type": "code",
      "execution_count": null,
      "metadata": {
        "id": "2a5bjwYwJVQ9"
      },
      "outputs": [],
      "source": [
        "# find the average of every number in the data file, one columns\n",
        "\n",
        "rawdata = open('data1.csv','r')\n",
        "for number in rawdata:\n",
        "  print(int(number))\n",
        "  # add code to average the numbers\n"
      ]
    },
    {
      "cell_type": "code",
      "execution_count": null,
      "metadata": {
        "id": "pGpGodLiGLbf"
      },
      "outputs": [],
      "source": [
        "# find the average of every number in the data file, two columns\n",
        "\n",
        "rawdata = open('data2.csv','r')\n",
        "for line in rawdata.readlines():\n",
        "  stripped_split_line = line.strip('\\n').split(',')\n",
        "  print([int(number) for number in stripped_split_line])\n",
        "  # add code to average all the numbers regardless of column\n"
      ]
    },
    {
      "cell_type": "code",
      "execution_count": 54,
      "metadata": {
        "id": "ylVerUnCwW1N"
      },
      "outputs": [],
      "source": [
        "# Function to compute average of numbers in a data file with one column\n",
        "\n",
        "from pathlib import Path\n",
        "\n",
        "def average1(filename: Path) -> float:\n",
        "  \"\"\"Compute average of numbers in a file named filename.\"\"\"\n",
        "  sum = 0\n",
        "  count = 0\n",
        "  rawdata = open(filename)\n",
        "  for number in rawdata:\n",
        "    n = int(number)\n",
        "    sum += n\n",
        "    count += 1\n",
        "  return(sum/count)\n"
      ]
    },
    {
      "cell_type": "markdown",
      "metadata": {
        "id": "1uhCtL0-wiiD"
      },
      "source": [
        "Why does the above block not print anything?"
      ]
    },
    {
      "cell_type": "markdown",
      "metadata": {
        "id": "QXq7oOoGxCKo"
      },
      "source": [
        "## Calling Functions"
      ]
    },
    {
      "cell_type": "code",
      "execution_count": null,
      "metadata": {
        "id": "MqmW9FJQK6uO"
      },
      "outputs": [],
      "source": [
        "# call functions above"
      ]
    },
    {
      "cell_type": "markdown",
      "metadata": {
        "id": "tBOm9_xeurgh"
      },
      "source": [
        "## Printing formatted strings"
      ]
    },
    {
      "cell_type": "code",
      "execution_count": null,
      "metadata": {
        "id": "pm4ksf_XuuNT"
      },
      "outputs": [],
      "source": [
        "variable1 = 'Emily Graber'\n",
        "variable2 = 2024\n",
        "print(f\"My name is {variable1}\")\n",
        "print(f\"{variable2 + 1} is the year\")\n",
        "print(\"---------\")\n",
        "print(variable2)\n",
        "print(variable2 + 1)"
      ]
    },
    {
      "cell_type": "markdown",
      "metadata": {
        "id": "awOBMie2LeMM"
      },
      "source": [
        "## More Algorithms"
      ]
    },
    {
      "cell_type": "code",
      "execution_count": null,
      "metadata": {
        "id": "nqXiLCoWLhuT"
      },
      "outputs": [],
      "source": [
        "# write code to square a number using only addition"
      ]
    }
  ],
  "metadata": {
    "colab": {
      "collapsed_sections": [
        "Bdd8JP0muBpP",
        "pqp2RLfh-1xM",
        "dnDCKkKIuFDR",
        "6cBpCmXCuIWP",
        "QXq7oOoGxCKo",
        "tBOm9_xeurgh"
      ],
      "provenance": []
    },
    "kernelspec": {
      "display_name": "Python 3",
      "name": "python3"
    },
    "language_info": {
      "name": "python"
    }
  },
  "nbformat": 4,
  "nbformat_minor": 0
}
