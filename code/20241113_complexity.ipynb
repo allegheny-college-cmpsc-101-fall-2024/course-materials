{
  "nbformat": 4,
  "nbformat_minor": 0,
  "metadata": {
    "colab": {
      "provenance": [],
      "collapsed_sections": [
        "HgSvAL1hk5V0",
        "HSMu9S5jecAV"
      ]
    },
    "kernelspec": {
      "name": "python3",
      "display_name": "Python 3"
    },
    "language_info": {
      "name": "python"
    }
  },
  "cells": [
    {
      "cell_type": "markdown",
      "source": [
        "[![Open In Colab](https://colab.research.google.com/assets/colab-badge.svg)](https://githubtocolab.com/allegheny-college-cmpsc-101-fall-2024/course-materials/blob/main/code/20241113_complexity.ipynb)\n"
      ],
      "metadata": {
        "id": "kSKX_3miGeOq"
      }
    },
    {
      "cell_type": "markdown",
      "source": [
        "## Worst Case Complexity"
      ],
      "metadata": {
        "id": "HgSvAL1hk5V0"
      }
    },
    {
      "cell_type": "code",
      "source": [
        "import random"
      ],
      "metadata": {
        "id": "P3isGkSLmNnt"
      },
      "execution_count": 70,
      "outputs": []
    },
    {
      "cell_type": "code",
      "source": [
        "array = [random.randint(0,100) for _ in range(1000)]\n",
        "n = len(array)\n",
        "\n",
        "counter = 0\n",
        "for i in range(n):\n",
        "\t# do a constant number of things for each element\n",
        "  counter += 1\n",
        "\n",
        "print(counter)\n"
      ],
      "metadata": {
        "id": "2-bhEQkNlEuo"
      },
      "execution_count": null,
      "outputs": []
    },
    {
      "cell_type": "code",
      "source": [
        "array = [random.randint(0,100) for _ in range(1000)]\n",
        "n = len(array)\n",
        "\n",
        "counter = 0\n",
        "for i in range(n):\n",
        "\t# do a constant number of things for each element\n",
        "  counter += 1\n",
        "  if array[i] > 50:\n",
        "    break\n",
        "\n",
        "print(counter)\n",
        "print(array[:20])"
      ],
      "metadata": {
        "id": "rJang0Ybljpc"
      },
      "execution_count": null,
      "outputs": []
    },
    {
      "cell_type": "code",
      "source": [
        "array = [random.randint(0,100) for _ in range(1000)]\n",
        "n = len(array)\n",
        "\n",
        "counter = 0\n",
        "for i in range(n):\n",
        "\t# do a constant number of things for each element\n",
        "  counter += 1\n",
        "  if array[i] > 100:\n",
        "    break\n",
        "\n",
        "print(counter)\n",
        "print(array[:20])"
      ],
      "metadata": {
        "id": "2utlc9CXmJgr"
      },
      "execution_count": null,
      "outputs": []
    },
    {
      "cell_type": "markdown",
      "source": [
        "## Empirical Analysis"
      ],
      "metadata": {
        "id": "HSMu9S5jecAV"
      }
    },
    {
      "cell_type": "code",
      "execution_count": null,
      "metadata": {
        "id": "48jqS5T4hzP7"
      },
      "outputs": [],
      "source": [
        "### Containment Lab\n",
        "\n",
        "# Perform timing experiments using the timeit package\n",
        "\n",
        "# NOTE: these experiments are not rigorous doubling\n",
        "# experiments but rather small-scale experiments that\n",
        "# illustrate how the timing package works in Python\n",
        "\n",
        "# Refer to the documentation of timeit for more details:\n",
        "# https://docs.python.org/3/library/timeit.html\n",
        "\n",
        "# import the timeit package used to collect\n",
        "# performance data about the function's execution\n",
        "import timeit\n",
        "\n",
        "# define the function to analyze in a string\n",
        "# so that it can be passed to the timeit function\n",
        "code_to_time = \"\"\"def factorial(n: int) -> int:\n",
        "    answer = 1\n",
        "    while n > 1:\n",
        "        answer *= n\n",
        "        n -= 1\n",
        "    return answer\n",
        "\n",
        "factorial(100)\"\"\"\n",
        "\n",
        "# repeatedly run the code_to_time and\n",
        "# report the performance results; this\n",
        "# runs a total of three benchmarking campaigns\n",
        "# that will individually run the code a\n",
        "# total of 10000 times. It then reports\n",
        "# the total execution time for each campaign\n",
        "print (timeit.repeat(stmt = code_to_time,\n",
        "                     repeat = 3,\n",
        "                     number = 10000))\n"
      ]
    },
    {
      "cell_type": "code",
      "source": [
        "### alternate method\n",
        "\n",
        "def factorial(n) -> int:\n",
        "  answer = 1\n",
        "  while n >= 1:\n",
        "    answer *= n\n",
        "    n -= 1\n",
        "  return answer\n",
        "\n",
        "%timeit -n 10000 -r 3 factorial(100)"
      ],
      "metadata": {
        "id": "aGvmYv6FeE3d"
      },
      "execution_count": 1,
      "outputs": []
    },
    {
      "cell_type": "code",
      "source": [
        "# Questions and TODOs\n",
        "\n",
        "# If the total time is reported for each run, how can the average time be found?\n",
        "# TODO: write an algorithm to compute the average time it took for each repetion within a run\n",
        "# TODO: write an algorithm to compute the average time it took for a single repeition"
      ],
      "metadata": {
        "id": "OQnJaoP0nD55"
      },
      "execution_count": null,
      "outputs": []
    },
    {
      "cell_type": "markdown",
      "source": [
        "## Doubling Experiment"
      ],
      "metadata": {
        "id": "VHqJUNxOmqz6"
      }
    },
    {
      "cell_type": "code",
      "source": [
        "# TODO: Using one of the methods shown above, run a doubling experiment on this code\n",
        "# Start by making a random list of length input_size, then pass actual parameters to the function\n",
        "# Record relevant results into the Markdown table\n",
        "# Repeat above with doubled input serval times"
      ],
      "metadata": {
        "id": "qFQhHCD3nPcw"
      },
      "execution_count": null,
      "outputs": []
    },
    {
      "cell_type": "code",
      "source": [
        "from typing import List\n",
        "\n",
        "def function(array: List[int], n: int) -> int:\n",
        "  counter = 0\n",
        "  for i in range(n):\n",
        "    array[i] += 1\n",
        "    for j in range(n):\n",
        "      array[j] += 1\n",
        "      for k in range(n):\n",
        "        array[k] += 1\n",
        "        counter += 1\n",
        "  return counter"
      ],
      "metadata": {
        "id": "mksx_d7inVJ-"
      },
      "execution_count": 83,
      "outputs": []
    },
    {
      "cell_type": "code",
      "source": [
        "input_size = 50"
      ],
      "metadata": {
        "id": "wDez16rPrKA8"
      },
      "execution_count": null,
      "outputs": []
    },
    {
      "cell_type": "code",
      "source": [
        "input_size = 100"
      ],
      "metadata": {
        "id": "b1BugKevogGo"
      },
      "execution_count": null,
      "outputs": []
    },
    {
      "cell_type": "code",
      "source": [
        "input_size = 200"
      ],
      "metadata": {
        "id": "BgHWb-1RpjQc"
      },
      "execution_count": null,
      "outputs": []
    },
    {
      "cell_type": "code",
      "source": [
        "input_size = 400"
      ],
      "metadata": {
        "id": "7AFUexRGplrR"
      },
      "execution_count": null,
      "outputs": []
    },
    {
      "cell_type": "markdown",
      "source": [
        "| input size | duration |\n",
        "|------------|----------|\n",
        "| TODO       | TODO     |\n",
        "| TODO       | TODO     |\n",
        "| TODO       | TODO     |\n",
        "| TODO       | TODO     |\n",
        "\n",
        "\n",
        "Doubling ratios\n",
        "- row2:row1 =>\n",
        "- row3:row2 =>\n",
        "- row4:row3 =>\n"
      ],
      "metadata": {
        "id": "yxNQoxdyp8nA"
      }
    }
  ]
}