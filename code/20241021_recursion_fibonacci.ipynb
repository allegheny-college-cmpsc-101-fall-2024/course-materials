{
  "nbformat": 4,
  "nbformat_minor": 0,
  "metadata": {
    "colab": {
      "provenance": [],
      "collapsed_sections": [
        "SkSubqfQOb1w",
        "h6y1cUx4Or3a",
        "_H-8fiSZP6Xt"
      ]
    },
    "kernelspec": {
      "name": "python3",
      "display_name": "Python 3"
    },
    "language_info": {
      "name": "python"
    }
  },
  "cells": [
    {
      "cell_type": "markdown",
      "source": [
        "[![Open In Colab](https://colab.research.google.com/assets/colab-badge.svg)](https://githubtocolab.com/allegheny-college-cmpsc-101-fall-2024/course-materials/blob/main/code/20241021_recursion_fibonacci.ipynb)"
      ],
      "metadata": {
        "id": "ufu2dAoqdY2i"
      }
    },
    {
      "cell_type": "markdown",
      "source": [
        "# Guttag Chapter 6 - Fibonacci Algorithms"
      ],
      "metadata": {
        "id": "ZRMWSRWKdVVb"
      }
    },
    {
      "cell_type": "markdown",
      "source": [
        "Fibonacci number ${F_n}$ is defined:\n",
        "- ${F_{n}=F_{n-1}+F_{n-2}}$ where\n",
        "- ${F_0 = 0}$ and ${F_1 = 1}$\n",
        "- learn more: https://en.wikipedia.org/wiki/Fibonacci_sequence"
      ],
      "metadata": {
        "id": "wHPerTVO-kLK"
      }
    },
    {
      "cell_type": "markdown",
      "source": [
        "## Fibonacci Number Algorithms"
      ],
      "metadata": {
        "id": "SkSubqfQOb1w"
      }
    },
    {
      "cell_type": "code",
      "source": [
        "# TODO: add comments explaining everything below\n",
        "\n",
        "def fib(nth: int) -> int:\n",
        "  if nth <= 1:\n",
        "    return nth\n",
        "  zeroth = 0\n",
        "  first = 1\n",
        "  for _ in range(2,nth + 1):\n",
        "    next = zeroth + first\n",
        "    zeroth = first\n",
        "    first = next\n",
        "  return next\n",
        "\n",
        "\n",
        "fib(15)"
      ],
      "metadata": {
        "id": "wthyMVGFqAnl"
      },
      "execution_count": null,
      "outputs": []
    },
    {
      "cell_type": "code",
      "source": [
        "# TODO: add comments explaining everything below\n",
        "\n",
        "def fib_rec(nth: int) -> int:\n",
        "  if nth <= 1:\n",
        "    return nth\n",
        "  else:\n",
        "    return fib_rec(nth-1) + fib_rec(nth-2)\n",
        "\n",
        "fib_rec(15)"
      ],
      "metadata": {
        "id": "0bVKgKaa15TP"
      },
      "execution_count": null,
      "outputs": []
    },
    {
      "cell_type": "markdown",
      "source": [
        "## Fibonacci Sequence Algorithms"
      ],
      "metadata": {
        "id": "h6y1cUx4Or3a"
      }
    },
    {
      "cell_type": "code",
      "source": [
        "# TODO: add comments explaining everything below\n",
        "\n",
        "from typing import List\n",
        "\n",
        "def fib(nth: int) -> List[int]:\n",
        "  if nth == 0:\n",
        "    return [0]\n",
        "  if nth == 1:\n",
        "    return [0,1]\n",
        "  seq = [0,1]\n",
        "  for _ in range(2,nth + 1):\n",
        "    next = seq[-1] + seq[-2]\n",
        "    seq.append(next)\n",
        "  return seq\n",
        "\n",
        "fib(15)"
      ],
      "metadata": {
        "id": "zaq3SOzTQsI4"
      },
      "execution_count": null,
      "outputs": []
    },
    {
      "cell_type": "code",
      "source": [
        "from typing import Tuple\n",
        "\n",
        "def fib(nth: int) -> Tuple[int]:\n",
        "  if nth == 0:\n",
        "    # TODO: modify previous iterative algorithm to use tuples\n",
        "\n",
        "  if nth == 1:\n",
        "    # TODO: modify previous iterative algorithm to use tuples\n",
        "\n",
        "  # TODO: modify previous iterative algorithm to use tuples\n",
        "\n",
        "  for _ in range(2,nth + 1):\n",
        "\n",
        "    # TODO: modify previous iterative algorithm to use tuples\n",
        "\n",
        "    # TODO: modify previous iterative algorithm to use tuples\n",
        "\n",
        "  return seq\n",
        "\n",
        "fib(15)"
      ],
      "metadata": {
        "id": "H1ZYc7F_RKiX"
      },
      "execution_count": null,
      "outputs": []
    },
    {
      "cell_type": "code",
      "source": [
        "# TODO: add comments explaining everything below\n",
        "\n",
        "from typing import List\n",
        "\n",
        "def fib_rec(nth: int) -> List[int]:\n",
        "  if nth == 0:\n",
        "    return [0]\n",
        "  if nth == 1:\n",
        "    return [0,1]\n",
        "  seq = fib_rec(nth - 1)\n",
        "  seq.append(seq[-1] + seq[-2])\n",
        "  return seq\n",
        "\n",
        "fib_rec(15)"
      ],
      "metadata": {
        "id": "894Jibzj8-LU"
      },
      "execution_count": null,
      "outputs": []
    },
    {
      "cell_type": "code",
      "source": [
        "from typing import Tuple\n",
        "\n",
        "def fib_rec(nth: int) -> Tuple[int]:\n",
        "  if nth == 0:\n",
        "    # TODO: modify previous recursive algorithm to use tuples\n",
        "\n",
        "  if nth == 1:\n",
        "    # TODO: modify previous recursive algorithm to use tuples\n",
        "\n",
        "  seq = fib_rec(nth - 1)\n",
        "\n",
        "  # TODO: modify previous recursive algorithm to use tuples\n",
        "\n",
        "\n",
        "  return seq\n",
        "\n",
        "fib_rec(15)"
      ],
      "metadata": {
        "id": "X1Owjah19Fiz"
      },
      "execution_count": null,
      "outputs": []
    },
    {
      "cell_type": "markdown",
      "source": [
        "## Questions"
      ],
      "metadata": {
        "id": "_H-8fiSZP6Xt"
      }
    },
    {
      "cell_type": "markdown",
      "source": [
        "- How can you tell if an algorithm is iterative?\n",
        "- How can you tell if an algorithm is recursive?\n",
        "- What valid inputs cause problems with some algorithms shown above and why?"
      ],
      "metadata": {
        "id": "FrQi4Sqs7EVf"
      }
    }
  ]
}