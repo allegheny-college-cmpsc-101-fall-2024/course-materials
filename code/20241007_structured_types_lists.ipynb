{
  "nbformat": 4,
  "nbformat_minor": 0,
  "metadata": {
    "colab": {
      "provenance": []
    },
    "kernelspec": {
      "name": "python3",
      "display_name": "Python 3"
    },
    "language_info": {
      "name": "python"
    }
  },
  "cells": [
    {
      "cell_type": "markdown",
      "source": [
        "[![Open In Colab](https://colab.research.google.com/assets/colab-badge.svg)](https://githubtocolab.com/allegheny-college-cmpsc-101-fall-2024/course-materials/blob/main/code/20241007_structured_types_lists.ipynb)"
      ],
      "metadata": {
        "id": "rGpW5Sm-0DuB"
      }
    },
    {
      "cell_type": "markdown",
      "source": [
        "# Defining n-Tuples in Python Programs\n",
        "\n",
        "- lists are a data type\n",
        "- lists are containers\n",
        "- lists contain things that can be any data type\n",
        "- lists are mutable"
      ],
      "metadata": {
        "id": "F5wNvuDS-ZEp"
      }
    },
    {
      "cell_type": "code",
      "source": [
        "# these are lists\n",
        "new_pair = [3.2, 4]\n",
        "new_quadlist = [\"Story number\", 3, \"is\", True]\n",
        "\n",
        "# what is the data type of `new_pair` and `new_quadlist`?\n",
        "# what is similar about the definition of `new_pair` and `new_quadlist`\n",
        "# What are the data types of the values in these lists?"
      ],
      "metadata": {
        "id": "1wI6RLiTEiGa"
      },
      "execution_count": null,
      "outputs": []
    },
    {
      "cell_type": "code",
      "source": [
        "# Is it required to have all the same data type within a list?\n",
        "# Write your own example storing three mixed-type items in a list."
      ],
      "metadata": {
        "id": "oQiUmP10Ep8o"
      },
      "execution_count": null,
      "outputs": []
    },
    {
      "cell_type": "code",
      "source": [
        "# these are lists\n",
        "list_empty = []\n",
        "list_str = [\"Story\"]\n",
        "list_int = [3]\n",
        "list_float = [3.14159]\n",
        "\n",
        "\n",
        "# what is the data type of `list_empty` and `list_str`?\n",
        "# what is the data type of `list_int` and `list_float`?\n",
        "# What are the data types of the _values_ in these list?"
      ],
      "metadata": {
        "id": "HieGUa8rFmh_"
      },
      "execution_count": null,
      "outputs": []
    },
    {
      "cell_type": "code",
      "source": [
        "# Do lists always have to contain data?\n",
        "# What is the difference between a list and a number conceptually\n",
        "# What is the difference between a list and a number syntactically?"
      ],
      "metadata": {
        "id": "JLbmCiatHPQE"
      },
      "execution_count": null,
      "outputs": []
    },
    {
      "cell_type": "code",
      "source": [
        "# does a tuple == a list with the same elems?\n",
        "\n",
        "tu = (1,)\n",
        "li = [1]\n",
        "print(\"does a tuple == a list with the same elems? \", tu == li)\n",
        "print(\"are the elements the same? \", tu[0] == li[0])"
      ],
      "metadata": {
        "id": "q4PYeKslvj2N"
      },
      "execution_count": null,
      "outputs": []
    },
    {
      "cell_type": "markdown",
      "source": [
        "# creating new lists"
      ],
      "metadata": {
        "id": "oCkFeZxnrxZX"
      }
    },
    {
      "cell_type": "code",
      "source": [
        "pair = [3.2, 4]\n",
        "quadlist = [\"Story number\", 3, \"is\", True]\n",
        "new_list = pair + quadlist\n",
        "print(new_list)"
      ],
      "metadata": {
        "id": "vPAzhPelr1_8"
      },
      "execution_count": null,
      "outputs": []
    },
    {
      "cell_type": "markdown",
      "source": [
        "# packing and unpacking lists"
      ],
      "metadata": {
        "id": "JFSC9PrQIMiV"
      }
    },
    {
      "cell_type": "code",
      "source": [
        "# pack a list into a variable\n",
        "pair = [3,4]\n",
        "# create a list named quintlist and pack in 5 elements\n"
      ],
      "metadata": {
        "id": "3zE8HhzJHr2I"
      },
      "execution_count": null,
      "outputs": []
    },
    {
      "cell_type": "code",
      "source": [
        "# unpack the contents of a list\n",
        "\n",
        "x, y = pair\n",
        "\n",
        "# unpack the contents of `quintlist` into 5 new variables"
      ],
      "metadata": {
        "id": "4aUMH7MeIJI5"
      },
      "execution_count": null,
      "outputs": []
    },
    {
      "cell_type": "code",
      "source": [
        "# describe your understanding of a list so far"
      ],
      "metadata": {
        "id": "B2kV7o47KB4U"
      },
      "execution_count": null,
      "outputs": []
    },
    {
      "cell_type": "code",
      "source": [
        "# what is happening here?\n",
        "\n",
        "a = [1, 2, 3]\n",
        "print(a[0])\n",
        "\n",
        "# is `a` a list?\n",
        "# what do the square brackets mean\n",
        "# is there any variable name assigned to the list?"
      ],
      "metadata": {
        "id": "cWpyKSBBKsT1"
      },
      "execution_count": null,
      "outputs": []
    },
    {
      "cell_type": "code",
      "source": [
        "# what happens in this line of code\n",
        "\n",
        "a = [1, 2, 3][0]\n",
        "\n",
        "# is `a` a list?\n",
        "# what do the parens mean\n",
        "# what do the square brackets mean\n",
        "# is there any variable name assigned to the list?"
      ],
      "metadata": {
        "id": "eQTS3mXRKJUY"
      },
      "execution_count": null,
      "outputs": []
    },
    {
      "cell_type": "code",
      "source": [
        "# what happens in this line of code\n",
        "\n",
        "a = [1, 2, 3]\n",
        "a[0] = 10\n",
        "\n",
        "# is `a` a list?\n",
        "# what do the parens mean\n",
        "# what do the square brackets mean\n",
        "# is there any variable name assigned to the list?\n",
        "# does the code crash?"
      ],
      "metadata": {
        "id": "QdbnAjUzK-XS"
      },
      "execution_count": null,
      "outputs": []
    },
    {
      "cell_type": "code",
      "source": [
        "# re-describe your understanding of a list so far"
      ],
      "metadata": {
        "id": "RF73TSWyLI88"
      },
      "execution_count": null,
      "outputs": []
    },
    {
      "cell_type": "markdown",
      "source": [
        "# appending to existing list"
      ],
      "metadata": {
        "id": "P_4lfA4P_kYj"
      }
    },
    {
      "cell_type": "code",
      "source": [
        "a = [1, 2, 3]\n",
        "a.append(1)\n",
        "print(a)"
      ],
      "metadata": {
        "id": "-WkfItf__ltS"
      },
      "execution_count": null,
      "outputs": []
    },
    {
      "cell_type": "code",
      "source": [
        "a = [1, 2, 3]\n",
        "list.append(a, 1)\n",
        "print(a)"
      ],
      "metadata": {
        "id": "KNIewNYCIfxe"
      },
      "execution_count": null,
      "outputs": []
    },
    {
      "cell_type": "markdown",
      "source": [
        "# loops"
      ],
      "metadata": {
        "id": "qM_JRGSkQbpA"
      }
    },
    {
      "cell_type": "code",
      "source": [
        "a = [0, 'elem1', 'elem2', 3, 'this is the fourth element', '5', '6.0000', 7, 8.0000]\n",
        "\n",
        "for item in a:\n",
        "  print(item)\n",
        "\n",
        "for character in a[4]:\n",
        "  print(character)"
      ],
      "metadata": {
        "id": "B5DiYjpoNwJw"
      },
      "execution_count": null,
      "outputs": []
    },
    {
      "cell_type": "markdown",
      "source": [
        "# algorithms with lists"
      ],
      "metadata": {
        "id": "mGcYVFv8TPeq"
      }
    },
    {
      "cell_type": "code",
      "execution_count": null,
      "metadata": {
        "id": "I38YerfFTIZM"
      },
      "outputs": [],
      "source": [
        "# define a function that can apply a provided\n",
        "# function to each element in the list to change\n",
        "def apply_to_each(list_to_change, function):\n",
        "    for i in range(len(list_to_change)):\n",
        "        list_to_change[i] = function(list_to_change[i])"
      ]
    },
    {
      "cell_type": "code",
      "execution_count": null,
      "metadata": {
        "id": "ESiDbI6uTIZN"
      },
      "outputs": [],
      "source": [
        "values = [1, -2, 3.33]\n",
        "print(\"values =\", values)\n",
        "apply_to_each(values, abs)\n",
        "print(\"values =\", values)"
      ]
    }
  ]
}