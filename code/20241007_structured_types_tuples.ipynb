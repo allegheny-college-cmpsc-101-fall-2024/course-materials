{
  "nbformat": 4,
  "nbformat_minor": 0,
  "metadata": {
    "colab": {
      "provenance": []
    },
    "kernelspec": {
      "name": "python3",
      "display_name": "Python 3"
    },
    "language_info": {
      "name": "python"
    }
  },
  "cells": [
    {
      "cell_type": "markdown",
      "source": [
        "[![Open In Colab](https://colab.research.google.com/assets/colab-badge.svg)](https://githubtocolab.com/allegheny-college-cmpsc-101-fall-2024/course-materials/blob/main/code/20241007_structured_types_tuple.ipynb)"
      ],
      "metadata": {
        "id": "iDcDHNVSzM8W"
      }
    },
    {
      "cell_type": "markdown",
      "source": [
        "# Defining n-Tuples in Python Programs\n",
        "\n",
        "- tuples are a data type\n",
        "- tuples are containers\n",
        "- tuples contain things that can be any data type\n",
        "- tuples are immutable"
      ],
      "metadata": {
        "id": "ZLQ-BG3kIPox"
      }
    },
    {
      "cell_type": "code",
      "source": [
        "# these are tuples\n",
        "pair = 3, 4.9\n",
        "quadruple = \"Story number\", 3, \"is\", False\n",
        "\n",
        "# what is the data type of `pair` and `quadruple`?\n",
        "# what is similar about the definition of `pair` and `quadruple`\n",
        "# What are the data types of the values in these tuples?"
      ],
      "metadata": {
        "id": "gpTyqIuREJwM"
      },
      "execution_count": null,
      "outputs": []
    },
    {
      "cell_type": "code",
      "source": [
        "# these are tuples\n",
        "new_pair = (3.2, 4)\n",
        "new_quadruple = (\"Story number\", 3, \"is\", True)\n",
        "\n",
        "# what is the data type of `new_pair` and `new_quadruple`?\n",
        "# what is similar about the definition of `new_pair` and `new_quadruple`\n",
        "# What are the data types of the values in these tuples?"
      ],
      "metadata": {
        "id": "1wI6RLiTEiGa"
      },
      "execution_count": null,
      "outputs": []
    },
    {
      "cell_type": "code",
      "source": [
        "# Is it required to have all the same data type within a tuple?\n",
        "# Write your own example storing three mixed-type items in a tuple."
      ],
      "metadata": {
        "id": "oQiUmP10Ep8o"
      },
      "execution_count": null,
      "outputs": []
    },
    {
      "cell_type": "code",
      "source": [
        "# these are tuples\n",
        "tuple_empty = ()\n",
        "tuple_str = (\"Story\",)\n",
        "tuple_int = (3,)\n",
        "tuple_float = (3.14159,)\n",
        "\n",
        "\n",
        "# what is the data type of `tuple_empty` and `tuple_str`?\n",
        "# what is the data type of `tuple_int` and `tuple_float`?\n",
        "# what is similar about the definition of `tuple_str` and `tuple_int` and `tuple_float`\n",
        "# what do the variable names have to do with the data type?\n",
        "# What are the data types of the _values_ in these tuples?"
      ],
      "metadata": {
        "id": "HieGUa8rFmh_"
      },
      "execution_count": null,
      "outputs": []
    },
    {
      "cell_type": "code",
      "source": [
        "# these are NOT tuples\n",
        "example_int = (100)\n",
        "example_float = (100.001)\n",
        "\n",
        "# what are the data types of `example_int` and `example_float`?\n",
        "# how else could these same variable names and values be used in assignment?\n",
        "# rewrite these as tuples\n"
      ],
      "metadata": {
        "id": "7iH5b8iNGcy1"
      },
      "execution_count": null,
      "outputs": []
    },
    {
      "cell_type": "code",
      "source": [
        "# Do tuples always have to contain data?\n",
        "# What syntax does a singleton tuple require?\n",
        "# What is the difference between a tuple and a number conceptually\n",
        "# What is the difference between a tuple and a number syntactically?"
      ],
      "metadata": {
        "id": "JLbmCiatHPQE"
      },
      "execution_count": null,
      "outputs": []
    },
    {
      "cell_type": "markdown",
      "source": [
        "# creating new tuples"
      ],
      "metadata": {
        "id": "oCkFeZxnrxZX"
      }
    },
    {
      "cell_type": "code",
      "source": [
        "pair = (3.2, 4)\n",
        "quadruple = (\"Story number\", 3, \"is\", True)\n",
        "new_tuple = pair + quadruple\n",
        "print(new_tuple)"
      ],
      "metadata": {
        "colab": {
          "base_uri": "https://localhost:8080/"
        },
        "id": "vPAzhPelr1_8",
        "outputId": "075877d8-2d9b-4a8f-fdc7-09c8d99fae8d"
      },
      "execution_count": null,
      "outputs": [
        {
          "output_type": "stream",
          "name": "stdout",
          "text": [
            "(3.2, 4, 'Story number', 3, 'is', True)\n"
          ]
        }
      ]
    },
    {
      "cell_type": "markdown",
      "source": [
        "# packing and unpacking tuples"
      ],
      "metadata": {
        "id": "JFSC9PrQIMiV"
      }
    },
    {
      "cell_type": "code",
      "source": [
        "# pack a tuple into a variable\n",
        "pair = (3,4)\n",
        "# create a tuple named quintuple and pack in 5 elements\n"
      ],
      "metadata": {
        "id": "3zE8HhzJHr2I"
      },
      "execution_count": null,
      "outputs": []
    },
    {
      "cell_type": "code",
      "source": [
        "# unpack the contents of a tuple\n",
        "x, y = pair\n",
        "(x, y) = pair\n",
        "\n",
        "# unpack the contents of `quintuple` into 5 new variables"
      ],
      "metadata": {
        "id": "4aUMH7MeIJI5"
      },
      "execution_count": null,
      "outputs": []
    },
    {
      "cell_type": "code",
      "source": [
        "# describe your understanding of a tuple so far"
      ],
      "metadata": {
        "id": "B2kV7o47KB4U"
      },
      "execution_count": null,
      "outputs": []
    },
    {
      "cell_type": "code",
      "source": [
        "# what is happening here?\n",
        "\n",
        "a = (1, 2, 3)\n",
        "print(a[0])\n",
        "\n",
        "# is `a` a tuple?\n",
        "# what do the parens mean\n",
        "# what do the square brackets mean\n",
        "# is there any variable name assigned to the tuple?"
      ],
      "metadata": {
        "id": "cWpyKSBBKsT1"
      },
      "execution_count": null,
      "outputs": []
    },
    {
      "cell_type": "code",
      "source": [
        "# what happens in this line of code\n",
        "\n",
        "a = (1, 2, 3)[0]\n",
        "\n",
        "# is `a` a tuple?\n",
        "# what do the parens mean\n",
        "# what do the square brackets mean\n",
        "# is there any variable name assigned to the tuple?"
      ],
      "metadata": {
        "id": "eQTS3mXRKJUY"
      },
      "execution_count": null,
      "outputs": []
    },
    {
      "cell_type": "code",
      "source": [
        "# what happens in this line of code\n",
        "\n",
        "a = (1, 2, 3)\n",
        "a[0] = 10\n",
        "\n",
        "# is `a` a tuple?\n",
        "# what do the parens mean\n",
        "# what do the square brackets mean\n",
        "# is there any variable name assigned to the tuple?\n",
        "# why does the code crash?"
      ],
      "metadata": {
        "id": "QdbnAjUzK-XS"
      },
      "execution_count": null,
      "outputs": []
    },
    {
      "cell_type": "code",
      "source": [
        "# re-describe your understanding of a tuple so far"
      ],
      "metadata": {
        "id": "RF73TSWyLI88"
      },
      "execution_count": null,
      "outputs": []
    },
    {
      "cell_type": "markdown",
      "source": [
        "# loops"
      ],
      "metadata": {
        "id": "bGIs7jGvTkwi"
      }
    },
    {
      "cell_type": "code",
      "source": [
        "a = (0, 'elem1', 'elem2', 3, 'this is the fourth element', '5', '6.0000', 7, 8.0000)\n",
        "\n",
        "for item in a:\n",
        "  print(item)"
      ],
      "metadata": {
        "id": "zqvS3WFJTmKS"
      },
      "execution_count": null,
      "outputs": []
    },
    {
      "cell_type": "markdown",
      "source": [
        "# algorithms with tuples"
      ],
      "metadata": {
        "id": "tuoV3MrTS9Li"
      }
    },
    {
      "cell_type": "code",
      "execution_count": null,
      "metadata": {
        "id": "dvVo2k75Sxuj"
      },
      "outputs": [],
      "source": [
        "# Perform intersections with tuples of values\n",
        "#\n",
        "# define a function that uses a single\n",
        "# for loop to compute the intersection of\n",
        "# the two input tuples\n",
        "def intersect(tuple_one, tuple_two):\n",
        "    result = ()\n",
        "    for element in tuple_one:\n",
        "        if element in tuple_two:\n",
        "            result += (element,)\n",
        "    return result"
      ]
    },
    {
      "cell_type": "code",
      "execution_count": null,
      "metadata": {
        "id": "D1EB1UjhSxuk"
      },
      "outputs": [],
      "source": [
        "# create two tuples and then compute their intersection\n",
        "first_tuple = (1, \"a\", 2)\n",
        "second_tuple = (\"b\", 2, \"a\")\n",
        "intersection_tuple_one = intersect(first_tuple, second_tuple)\n",
        "intersection_tuple_two = intersect(second_tuple, first_tuple)\n",
        "print(f\"Intersection of {first_tuple} with {second_tuple} is {intersection_tuple_one}\")\n",
        "print(f\"Intersection of {second_tuple} with {first_tuple} is {intersection_tuple_two}\")"
      ]
    }
  ]
}