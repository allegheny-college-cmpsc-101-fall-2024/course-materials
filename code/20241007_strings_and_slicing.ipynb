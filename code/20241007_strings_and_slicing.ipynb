{
  "nbformat": 4,
  "nbformat_minor": 0,
  "metadata": {
    "colab": {
      "provenance": []
    },
    "kernelspec": {
      "name": "python3",
      "display_name": "Python 3"
    },
    "language_info": {
      "name": "python"
    }
  },
  "cells": [
    {
      "cell_type": "markdown",
      "source": [
        "[![Open In Colab](https://colab.research.google.com/assets/colab-badge.svg)](https://githubtocolab.com/allegheny-college-cmpsc-101-fall-2024/course-materials/blob/main/code/20241007_strings_and_slicing.ipynb)"
      ],
      "metadata": {
        "id": "ZJms1UuN0TvS"
      }
    },
    {
      "cell_type": "markdown",
      "source": [
        "# strings"
      ],
      "metadata": {
        "id": "6takZP1A0l1l"
      }
    },
    {
      "cell_type": "code",
      "source": [
        "# strings contain charaters\n",
        "a = 'this is a string'\n",
        "digit_string = '1234567890'\n",
        "another_string = '1, 2, 3, 4, 5, 6, 7, 8, 9, 0'\n",
        "empty_string = ''"
      ],
      "metadata": {
        "id": "-ZKD734H0nLi"
      },
      "execution_count": null,
      "outputs": []
    },
    {
      "cell_type": "code",
      "source": [
        "# strings are indexable, ordered\n",
        "a = 'this is a string'\n",
        "print(a[0])\n",
        "print(a[1])"
      ],
      "metadata": {
        "id": "yQBCrpfz07_5"
      },
      "execution_count": null,
      "outputs": []
    },
    {
      "cell_type": "code",
      "source": [
        "# strings are immutable\n",
        "a = 'this is a string'\n",
        "a[0] = 'T'"
      ],
      "metadata": {
        "id": "TTA39Mcj1goo"
      },
      "execution_count": null,
      "outputs": []
    },
    {
      "cell_type": "code",
      "source": [
        "# adding creates an entirely new string\n",
        "a = 'this is a string'\n",
        "another_string = '1, 2, 3, 4, 5, 6, 7, 8, 9, 0'\n",
        "new_string = a + another_string\n",
        "print(new_string)"
      ],
      "metadata": {
        "collapsed": true,
        "id": "SYrCtHgN3bq5"
      },
      "execution_count": null,
      "outputs": []
    },
    {
      "cell_type": "code",
      "source": [
        "# loops\n",
        "another_string = '1, 2, 3, 4, 5, 6, 7, 8, 9, 0'\n",
        "\n",
        "for char in another_string:\n",
        "  print(char)"
      ],
      "metadata": {
        "id": "x-2rfEj861z2"
      },
      "execution_count": null,
      "outputs": []
    },
    {
      "cell_type": "markdown",
      "source": [
        "# slicing"
      ],
      "metadata": {
        "id": "XFehmpPbIONJ"
      }
    },
    {
      "cell_type": "code",
      "source": [
        "a = [0, 'elem1', 'elem2', 3, 'this is the fourth element', '5', '6.0000', 7, 8.0000]\n",
        "# retrieve elements 0 up to 3rd (not including 3rd)\n",
        "print(a[0:3])"
      ],
      "metadata": {
        "id": "ZAJ-Ja3TAAG_"
      },
      "execution_count": null,
      "outputs": []
    },
    {
      "cell_type": "code",
      "source": [
        "a = [0, 'elem1', 'elem2', 3, 'this is the fourth element', '5', '6.0000', 7, 8.0000]\n",
        "# retrieve elements 0 up to 8th (not including 8th), in step size of 2\n",
        "print(a[0:8:2])"
      ],
      "metadata": {
        "id": "ly_M1SOAJJvf"
      },
      "execution_count": null,
      "outputs": []
    },
    {
      "cell_type": "code",
      "source": [
        "a = [0, 'elem1', 'elem2', 3, 'this is the fourth element', '5', '6.0000', 7, 8.0000]\n",
        "# retrieve elements 5 up to 8th (including 8th)\n",
        "print(a[5:])"
      ],
      "metadata": {
        "id": "Xwf-Ep7yJ_a8"
      },
      "execution_count": null,
      "outputs": []
    },
    {
      "cell_type": "code",
      "source": [
        "a = [0, 'elem1', 'elem2', 3, 'this is the fourth element', '5', '6.0000', 7, 8.0000]\n",
        "# retrieve elements 2 up to 2nd to last (not including 2nd to last)\n",
        "print(a[2:-2])"
      ],
      "metadata": {
        "id": "DK5JRqFQL_zn"
      },
      "execution_count": null,
      "outputs": []
    },
    {
      "cell_type": "code",
      "source": [
        "a = [0, 'elem1', 'elem2', 3, 'this is the fourth element', '5', '6.0000', 7, 8.0000]\n",
        "# retrieve elements from end to 0 (not including 0) backward (step size -1)\n",
        "print(a[:0:-1])"
      ],
      "metadata": {
        "id": "Nt19o_SyKFTz"
      },
      "execution_count": null,
      "outputs": []
    },
    {
      "cell_type": "code",
      "source": [
        "a = [0, 'elem1', 'elem2', 3, 'this is the fourth element', '5', '6.0000', 7, 8.0000]\n",
        "# retrieve elements from end to 0 (including 0) backward (step size -1)\n",
        "print(a[::-1])"
      ],
      "metadata": {
        "id": "addoYkEnKjk9"
      },
      "execution_count": null,
      "outputs": []
    },
    {
      "cell_type": "code",
      "source": [
        "a = [0, 'elem1', 'elem2', 3, 'this is the fourth element', '5', '6.0000', 7, 8.0000]\n",
        "# retrieve a string and do further indexing\n",
        "print(a[4][8:-8])\n"
      ],
      "metadata": {
        "id": "jiqF9AUoK0Ji"
      },
      "execution_count": null,
      "outputs": []
    },
    {
      "cell_type": "markdown",
      "source": [
        "# pretty print"
      ],
      "metadata": {
        "id": "El-gormhQYwk"
      }
    },
    {
      "cell_type": "code",
      "source": [
        "from typing import Iterable\n",
        "\n",
        "def prettyprint(values: Iterable[int]) -> str:\n",
        "  return str(values)[1:-1]\n",
        "\n",
        "\n",
        "my_divisors = [1, 97]\n",
        "print(f\"not pretty divisors are: {my_divisors}\")\n",
        "print(f\"pretty divisors are: {prettyprint(my_divisors)}\")"
      ],
      "metadata": {
        "id": "wYXfk6cINGT8"
      },
      "execution_count": null,
      "outputs": []
    }
  ]
}