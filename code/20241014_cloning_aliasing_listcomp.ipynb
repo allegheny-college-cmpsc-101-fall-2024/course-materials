{
  "nbformat": 4,
  "nbformat_minor": 0,
  "metadata": {
    "colab": {
      "provenance": []
    },
    "kernelspec": {
      "name": "python3",
      "display_name": "Python 3"
    },
    "language_info": {
      "name": "python"
    }
  },
  "cells": [
    {
      "cell_type": "markdown",
      "source": [
        "[![Open In Colab](https://colab.research.google.com/assets/colab-badge.svg)](https://githubtocolab.com/allegheny-college-cmpsc-101-fall-2024/course-materials/blob/main/code/20241014_cloning_aliasing_listcomp.ipynb)"
      ],
      "metadata": {
        "id": "6DepMgsESnGD"
      }
    },
    {
      "cell_type": "markdown",
      "source": [
        "# Cloning and Aliasing"
      ],
      "metadata": {
        "id": "ucxmXkbgRywl"
      }
    },
    {
      "cell_type": "code",
      "execution_count": null,
      "metadata": {
        "id": "pgE_tuOeo74n"
      },
      "outputs": [],
      "source": [
        "elem1 = 'apple' # a is a string object \"apple\"\n",
        "elem2 = 'bear' # b is string object \"bear\"\n",
        "\n",
        "a = [elem1,elem2] # a is name of the list that points to the objects that are already in memory\n",
        "b = a # b points to the SAME list in memory!\n",
        "\n",
        "print(a)\n",
        "print(b)\n",
        "\n",
        "print(\"id(a)\", id(a))\n",
        "print(\"id(b)\", id(b))\n",
        "\n",
        "print(\"id(a[0])\", id(a[0]))\n",
        "print(\"id(b[0])\", id(b[0]))\n",
        "print(\"id(elem1)\", id(elem1))\n"
      ]
    },
    {
      "cell_type": "code",
      "source": [
        "elem1 = 'apple' # a is a string object \"apple\"\n",
        "elem2 = 'bear' # b is a string object \"bear\"\n",
        "\n",
        "a = [elem1,elem2] # a is name of the list that points to the objects that are already in memory\n",
        "b = a # b points to the SAME list in memory!\n",
        "a.append('cat')\n",
        "\n",
        "print(a)\n",
        "print(b)\n",
        "\n",
        "print(\"id(a)\", id(a))\n",
        "print(\"id(b)\", id(b))\n",
        "\n",
        "print(\"id(a[0])\", id(a[0]))\n",
        "print(\"id(b[0])\", id(b[0]))\n",
        "print(\"id(elem1)\", id(elem1))"
      ],
      "metadata": {
        "id": "oZl77QatpQPG"
      },
      "execution_count": null,
      "outputs": []
    },
    {
      "cell_type": "code",
      "source": [
        "elem1 = 'apple' # a is a string object \"apple\"\n",
        "elem2 = 'bear' # b is a string object \"bear\"\n",
        "\n",
        "a = [elem1,elem2] # a is name of the list that points to the objects that are already in memory\n",
        "b = a[:] # b is a shallow copy\n",
        "a.append('cat')\n",
        "\n",
        "print(a)\n",
        "print(b)\n",
        "\n",
        "print(\"id(a)\", id(a))\n",
        "print(\"id(b)\", id(b))\n",
        "\n",
        "print(\"id(a[0])\", id(a[0]))\n",
        "print(\"id(b[0])\", id(b[0]))\n",
        "print(\"id(elem1)\", id(elem1))\n"
      ],
      "metadata": {
        "id": "rEGVzsDfq_-j"
      },
      "execution_count": null,
      "outputs": []
    },
    {
      "cell_type": "code",
      "source": [
        "elem1 = 'apple' # a is a string object \"apple\"\n",
        "elem2 = 'bear' # b is a string object \"bear\"\n",
        "\n",
        "a = [elem1,elem2] # a is name of the list that points to the objects that are already in memory\n",
        "b = a.copy() # b is a shallow copy\n",
        "a.append('cat')\n",
        "\n",
        "print(a)\n",
        "print(b)\n",
        "\n",
        "print(\"id(a)\", id(a))\n",
        "print(\"id(b)\", id(b))\n",
        "\n",
        "print(\"id(a[0])\", id(a[0]))\n",
        "print(\"id(b[0])\", id(b[0]))\n",
        "print(\"id(elem1)\", id(elem1))"
      ],
      "metadata": {
        "id": "XI_LsiybPcJW"
      },
      "execution_count": null,
      "outputs": []
    },
    {
      "cell_type": "code",
      "source": [
        "elem1 = ['apple'] # a is a list object with a string inside [\"apple\"]\n",
        "elem2 = ['bear'] # b is a list object with a string inside [\"bear\"]\n",
        "\n",
        "a = [elem1,elem2] # a is name of the list that points to the objects that are already in memory\n",
        "b = a[:] # b is a shallow copy\n",
        "a.append(['cat'])\n",
        "\n",
        "print(a)\n",
        "print(b)\n",
        "\n",
        "print(\"id(a)\", id(a))\n",
        "print(\"id(b)\", id(b))\n",
        "\n",
        "print(\"id(a[0])\", id(a[0]))\n",
        "print(\"id(b[0])\", id(b[0]))\n",
        "print(\"id(elem1)\", id(elem1))"
      ],
      "metadata": {
        "id": "1ANK6BYdPf6Y"
      },
      "execution_count": null,
      "outputs": []
    },
    {
      "cell_type": "code",
      "source": [
        "elem1 = ['apple'] # a is a list object with a string inside [\"apple\"]\n",
        "elem2 = ['bear'] # b is a list object with a string inside [\"bear\"]\n",
        "\n",
        "a = [elem1,elem2] # a is name of the list that points to the objects that are already in memory\n",
        "b = a[:] # b is a shallow copy\n",
        "a[0].append(['cat'])\n",
        "\n",
        "print(a)\n",
        "print(b)\n",
        "\n",
        "print(\"id(a)\", id(a))\n",
        "print(\"id(b)\", id(b))\n",
        "\n",
        "print(\"id(a[0])\", id(a[0]))\n",
        "print(\"id(b[0])\", id(b[0]))\n",
        "print(\"id(elem1)\", id(elem1))"
      ],
      "metadata": {
        "id": "xmC3aLRbP8Cn"
      },
      "execution_count": null,
      "outputs": []
    },
    {
      "cell_type": "code",
      "source": [
        "import copy\n",
        "\n",
        "elem1 = ['apple'] # a is a list object with a string inside [\"apple\"]\n",
        "elem2 = ['bear'] # b is a list object with a string inside [\"bear\"]\n",
        "\n",
        "a = [elem1,elem2] # a is name of the list that points to the objects that are already in memory\n",
        "b = copy.deepcopy(a) # b is a deep copy\n",
        "a.append(['cat'])\n",
        "\n",
        "print(a)\n",
        "print(b)\n",
        "\n",
        "print(\"id(a)\", id(a))\n",
        "print(\"id(b)\", id(b))\n",
        "\n",
        "print(\"id(a[0])\", id(a[0]))\n",
        "print(\"id(b[0])\", id(b[0]))\n",
        "print(\"id(elem1)\", id(elem1))"
      ],
      "metadata": {
        "id": "z3QM02G_QESh"
      },
      "execution_count": null,
      "outputs": []
    },
    {
      "cell_type": "code",
      "source": [
        "import copy\n",
        "\n",
        "elem1 = ['apple'] # a is a list object with a string inside [\"apple\"]\n",
        "elem2 = ['bear'] # b is a list object with a string inside [\"bear\"]\n",
        "\n",
        "a = [elem1,elem2] # a is name of the list that points to the objects that are already in memory\n",
        "b = copy.deepcopy(a) # b is a deep copy\n",
        "a[0].append(['cat'])\n",
        "\n",
        "print(a)\n",
        "print(b)\n",
        "\n",
        "print(\"id(a)\", id(a))\n",
        "print(\"id(b)\", id(b))\n",
        "\n",
        "print(\"id(a[0])\", id(a[0]))\n",
        "print(\"id(b[0])\", id(b[0]))\n",
        "print(\"id(elem1)\", id(elem1))"
      ],
      "metadata": {
        "id": "2TBFpLd2QQE4"
      },
      "execution_count": null,
      "outputs": []
    },
    {
      "cell_type": "code",
      "source": [
        "# What is the difference between and shallow and deep copy?"
      ],
      "metadata": {
        "id": "JoA0xMEVxJ85"
      },
      "execution_count": null,
      "outputs": []
    },
    {
      "cell_type": "markdown",
      "source": [
        "# List Comprehensions"
      ],
      "metadata": {
        "id": "X6LYNofyR2hT"
      }
    },
    {
      "cell_type": "code",
      "source": [
        "[e**2 for e in range(6)]"
      ],
      "metadata": {
        "id": "YyXnylDnR4I3"
      },
      "execution_count": null,
      "outputs": []
    },
    {
      "cell_type": "code",
      "source": [
        "[e**2 for e in range(8) if e%2 == 0]"
      ],
      "metadata": {
        "id": "5yZAc9odR7t0"
      },
      "execution_count": null,
      "outputs": []
    },
    {
      "cell_type": "code",
      "source": [
        "# write a list comprehension that contains the elements 3 through 18 including 18"
      ],
      "metadata": {
        "id": "T7YUPYpOR-5e"
      },
      "execution_count": null,
      "outputs": []
    },
    {
      "cell_type": "code",
      "source": [
        "# write a list comprehension that contains the only odd number 3 through 18"
      ],
      "metadata": {
        "id": "2aRFpvuPSIB0"
      },
      "execution_count": null,
      "outputs": []
    },
    {
      "cell_type": "code",
      "source": [
        "# write a list comprehension that contains 12 random numbers, where the random numbers are between 4 and 40\n",
        "\n",
        "from random import randint\n"
      ],
      "metadata": {
        "id": "rESqIT0kSOFm"
      },
      "execution_count": null,
      "outputs": []
    },
    {
      "cell_type": "code",
      "source": [
        "# write a list comprehension that contains 12 random numbers, where the random numbers are between 4 and 40\n",
        "# then convert the result to a tuple\n",
        "\n",
        "from random import randint"
      ],
      "metadata": {
        "id": "8gLIAF9TSf2G"
      },
      "execution_count": null,
      "outputs": []
    }
  ]
}