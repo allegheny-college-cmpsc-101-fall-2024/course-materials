{
 "cells": [
  {
   "cell_type": "code",
   "execution_count": null,
   "metadata": {},
   "outputs": [],
   "source": [
    "# How many lines will be printed?\n",
    "# Write what each line does and any notable omissions or surprises\n",
    "\n",
    "'example 1 of None type return type'\n",
    "print('example 2 of None type return type')\n",
    "type(print('example 3 of None type return type'))\n",
    "print(type(print('example 4 of None type return type')))\n",
    "print(print('example 5 of None return value')) "
   ]
  }
 ],
 "metadata": {
  "kernelspec": {
   "display_name": ".venv",
   "language": "python",
   "name": "python3"
  },
  "language_info": {
   "codemirror_mode": {
    "name": "ipython",
    "version": 3
   },
   "file_extension": ".py",
   "mimetype": "text/x-python",
   "name": "python",
   "nbconvert_exporter": "python",
   "pygments_lexer": "ipython3",
   "version": "3.11.5"
  },
  "orig_nbformat": 4
 },
 "nbformat": 4,
 "nbformat_minor": 2
}
