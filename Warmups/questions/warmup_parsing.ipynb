{
  "nbformat": 4,
  "nbformat_minor": 0,
  "metadata": {
    "colab": {
      "provenance": [],
      "authorship_tag": "ABX9TyN0IyXkjDjmZz6nEGJF4Je/",
      "include_colab_link": true
    },
    "kernelspec": {
      "name": "python3",
      "display_name": "Python 3"
    },
    "language_info": {
      "name": "python"
    }
  },
  "cells": [
    {
      "cell_type": "markdown",
      "metadata": {
        "id": "view-in-github",
        "colab_type": "text"
      },
      "source": [
        "<a href=\"https://colab.research.google.com/github/allegheny-college-cmpsc-101-fall-2023/course-materials/blob/main/Warmups/questions/warmup_parsing.ipynb\" target=\"_parent\"><img src=\"https://colab.research.google.com/assets/colab-badge.svg\" alt=\"Open In Colab\"/></a>"
      ]
    },
    {
      "cell_type": "markdown",
      "source": [
        "# warmup"
      ],
      "metadata": {
        "id": "jMOaE_21r3Sq"
      }
    },
    {
      "cell_type": "markdown",
      "source": [
        "## list of lists"
      ],
      "metadata": {
        "id": "XSmGdojbr5Ou"
      }
    },
    {
      "cell_type": "code",
      "execution_count": null,
      "metadata": {
        "id": "bkfkKoser2x5"
      },
      "outputs": [],
      "source": [
        "data = [[1,2,3,4,5],[6,7,8,9,0],[0,1,2,3,4], [5,6,7,8,9],[2,3,4,5,6],[4,5,6,7,8]]"
      ]
    },
    {
      "cell_type": "code",
      "source": [
        "# computationally determine how many rows of data there are"
      ],
      "metadata": {
        "id": "aTcRDwuhsKXx"
      },
      "execution_count": null,
      "outputs": []
    },
    {
      "cell_type": "code",
      "source": [
        "# computationally determine how many columns of data are in each row"
      ],
      "metadata": {
        "id": "TDbLiN3ssR6X"
      },
      "execution_count": null,
      "outputs": []
    },
    {
      "cell_type": "code",
      "source": [
        "# write two expressions that retrieve the number 0 from the data (two locations)"
      ],
      "metadata": {
        "id": "QTWnEIrjsX5x"
      },
      "execution_count": null,
      "outputs": []
    },
    {
      "cell_type": "code",
      "source": [
        "# create another data storage container above using the following datastring\n",
        "\n",
        "datastring = '1,2,3,4,5\\n6,7,8,9,0\\n0,1,2,3,4\\n5,6,7,8,9\\n2,3,4,5,6\\n4,5,6,7,8\\n'\n",
        "\n"
      ],
      "metadata": {
        "id": "dsk5LdlywQfl"
      },
      "execution_count": null,
      "outputs": []
    },
    {
      "cell_type": "code",
      "source": [
        "# count up how many odd numbers appear in the 0th column of the data"
      ],
      "metadata": {
        "id": "E-erluoZypKt"
      },
      "execution_count": null,
      "outputs": []
    },
    {
      "cell_type": "code",
      "source": [
        "datastring = \"wine,89,123\\nbeer,90,154\\npizza,95,258\\nburger,100,354\\nfries,90,365\\ncola,79,150\\napple,50,95\\ndonut,10,195\\ncake,110,127\\n\"\n",
        "\n",
        "# get all of the food names into a list\n",
        "# get all of the food deliciousness values into a list\n",
        "# get all of the food calorie costs into a list"
      ],
      "metadata": {
        "id": "OnajhUUv02R9"
      },
      "execution_count": null,
      "outputs": []
    }
  ]
}