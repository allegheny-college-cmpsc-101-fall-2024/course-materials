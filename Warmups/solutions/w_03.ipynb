{
  "cells": [
    {
      "cell_type": "markdown",
      "metadata": {
        "colab_type": "text",
        "id": "view-in-github"
      },
      "source": [
        "<a href=\"https://colab.research.google.com/github/allegheny-college-cmpsc-101-fall-2023/course-materials/blob/main/Warmups/questions/w_03.ipynb\" target=\"_parent\"><img src=\"https://colab.research.google.com/assets/colab-badge.svg\" alt=\"Open In Colab\"/></a>"
      ]
    },
    {
      "cell_type": "markdown",
      "metadata": {
        "id": "4hD5FVj_dxrP"
      },
      "source": [
        "List Comprehension Examples - reordering control statements inside [ ]"
      ]
    },
    {
      "cell_type": "code",
      "execution_count": null,
      "metadata": {},
      "outputs": [],
      "source": [
        "# Write conventional for loop and print statement to print out\n",
        "# a list of 10 number 0-9.\n",
        "\n",
        "numbers = []\n",
        "for i in range(10):\n",
        "    numbers.append(i)\n",
        "print(numbers)"
      ]
    },
    {
      "cell_type": "code",
      "execution_count": null,
      "metadata": {
        "id": "rdmHMGphEKzL"
      },
      "outputs": [],
      "source": [
        "# Explain each line below with a comment(s)\n",
        "# Mention what is unique about each one, mention what is similar about each one.\n",
        "# Make sure you can explain the unexpected_list example\n",
        "# What makes the last line crash?\n",
        "\n",
        "# import the random module, giving access to many functions inside\n",
        "# by calling random.functionname(params)\n",
        "import random\n",
        "\n",
        "# print out of list comprehension that collected 0 through 9 directly in a list\n",
        "print(\"Ex 1:\", [i for i in range(10)])\n",
        "# print out of list comprehension that collected 0*0 through 9*9 (i*i) in a list\n",
        "print(\"Ex 2:\", [i*i for i in range(10)])\n",
        "# print out of list comprehension that collected 0*0 through 9*0 (i*0) in a list\n",
        "print(\"Ex 3:\", [i*0 for i in range(10)])\n",
        "# print out of list comprehension that collected evens 0 through 9 in a list\n",
        "print(\"Ex 4:\", [i for i in range(10) if i%2 == 0])\n",
        "# print out of list comprehension that collected not evens 0 through 9 in a list\n",
        "print(\"Ex 5:\", [i for i in range(10) if i%2 != 0])\n",
        "# print out of list comprehension that collected odds 0 through 9 in a list\n",
        "print(\"Ex 6:\", [i for i in range(10) if i%2 == 1])\n",
        "# print out of list comprehension that collected not odds 0 through 9 in a list\n",
        "print(\"Ex 7:\", [i for i in range(10) if i%2 != 1])\n",
        "\n",
        "# make a random float using the random function located inside the random module\n",
        "# no params are required for this function.\n",
        "randomnfloat = random.random()\n",
        "# print out of list comprehension that repeats the same randomfloat 10 times in a list\n",
        "print(\"Ex 8:\", [randomnfloat for i in range(10)])\n",
        "# print out of list comprehension that collects the output from random.random() 10 calls in a list\n",
        "print(\"Ex 9:\", [random.random() for i in range(10)])\n",
        "# same as above, but index i is removed since it is not used\n",
        "print(\"Ex 10:\", [random.random() for _ in range(10)])\n",
        "# same as Ex 9, but index is named halloween and the random numbers are truncated to 2 digits\n",
        "print(\"Ex 11:\", [float('%.2g' % random.random()) for halloween in range(10)])\n",
        "# same as Ex 9, but index is named qwerty and the random numbers are truncated to 3 digits\n",
        "print(\"Ex 12:\", [float('%.3g' % random.random()) for qwerty in range(10)])\n",
        "\n",
        "# create an empty list\n",
        "unexpected_list = []\n",
        "# appends index i (0 through 9) to the empty list if it is not odd.\n",
        "# But the list comprehension collects the RETURN VALUE\n",
        "# of the append call inside a list, and prints it.\n",
        "# The RETURN VALUE of the append call is None\n",
        "# Thus the printed list is full of Nones\n",
        "print(\"Ex 13:\", [unexpected_list.append(i) for i in range(10) if i%2 != 1])\n",
        "# The appended list contains the not odd numbers (0 through 9)\n",
        "print(\"unexpected_list: \", unexpected_list)\n",
        "# the return value of appending to a list is None, even though 'hello' is appended to the list\n",
        "print(\"unexpected_list.append('hello'):\", unexpected_list.append('hello'))\n",
        "\n",
        "# print out of list comprehension that collects the output from abs function on a literal list\n",
        "print(\"Ex 14:\", [abs(i) for i in [-10, 30, -2.6, 15]])\n",
        "# print out of list comprehension that collects the output from a lambda function called on 0 through 9\n",
        "# the definition of the lambda and the index that gets \"passed\" to the lambda are allowed to have\n",
        "# different names\n",
        "print(\"Ex 15:\", [(lambda x: x*10)(i) for i in range(10)])\n",
        "# same as above, but the function expression is used instead of a lambda function\n",
        "# this is more simple and produces the same result\n",
        "print(\"Ex 16:\", [x*10 for x in range(10)])\n",
        "# same as above, but the repeated computation is only carried out for x's in another list\n",
        "print(\"Ex 17:\", [x*10 for x in range(10) if x in [3,0,-1,-7,700]])\n",
        "# same as Ex 16, but it crashes because x is undefined\n",
        "# since x is used in the repeating computation, it must be defined\n",
        "# for example as an index or an element of a list\n",
        "print(\"Ex 18:\", [x*10 for _ in range(10)])\n"
      ]
    }
  ],
  "metadata": {
    "colab": {
      "authorship_tag": "ABX9TyO2Z1HoR510FaoRJlC84MYy",
      "include_colab_link": true,
      "provenance": []
    },
    "kernelspec": {
      "display_name": "Python 3",
      "name": "python3"
    },
    "language_info": {
      "name": "python"
    }
  },
  "nbformat": 4,
  "nbformat_minor": 0
}
