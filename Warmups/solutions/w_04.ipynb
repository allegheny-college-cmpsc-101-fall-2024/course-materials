{
 "cells": [
  {
   "cell_type": "code",
   "execution_count": null,
   "metadata": {},
   "outputs": [],
   "source": [
    "# How many lines will be printed?\n",
    "# Answer: 6 lines, print is called a total of 6 times\n",
    "\n",
    "# Write what each line does and any notable omissions or surprises\n",
    "\n",
    "# literal string. does nothing, variable assignment is omitted\n",
    "'example 1 of None type return type'\n",
    "# prints a literal string\n",
    "print('example 2 of None type return type')\n",
    "# prints a literal string, then computes the return type of the print statement, but that value is not stored anywhere\n",
    "type(print('example 3 of None type return type'))\n",
    "# prints a literal string, then computes the return type of the print statement, then prints the return type\n",
    "print(type(print('example 4 of None type return type')))\n",
    "# prints a literal string, then prints the return value of the print statement\n",
    "print(print('example 5 of None return value'))"
   ]
  }
 ],
 "metadata": {
  "kernelspec": {
   "display_name": ".venv",
   "language": "python",
   "name": "python3"
  },
  "language_info": {
   "codemirror_mode": {
    "name": "ipython",
    "version": 3
   },
   "file_extension": ".py",
   "mimetype": "text/x-python",
   "name": "python",
   "nbconvert_exporter": "python",
   "pygments_lexer": "ipython3",
   "version": "3.11.5"
  },
  "orig_nbformat": 4
 },
 "nbformat": 4,
 "nbformat_minor": 2
}
