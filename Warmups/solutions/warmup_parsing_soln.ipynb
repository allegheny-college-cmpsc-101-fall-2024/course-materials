{
  "nbformat": 4,
  "nbformat_minor": 0,
  "metadata": {
    "colab": {
      "provenance": [],
      "authorship_tag": "ABX9TyMpYNu232vEPtkytxH9EeZv",
      "include_colab_link": true
    },
    "kernelspec": {
      "name": "python3",
      "display_name": "Python 3"
    },
    "language_info": {
      "name": "python"
    }
  },
  "cells": [
    {
      "cell_type": "markdown",
      "metadata": {
        "id": "view-in-github",
        "colab_type": "text"
      },
      "source": [
        "<a href=\"https://colab.research.google.com/github/allegheny-college-cmpsc-101-fall-2023/course-materials/blob/main/Warmups/solutions/warmup_parsing_soln.ipynb\" target=\"_parent\"><img src=\"https://colab.research.google.com/assets/colab-badge.svg\" alt=\"Open In Colab\"/></a>"
      ]
    },
    {
      "cell_type": "markdown",
      "source": [
        "# warmup"
      ],
      "metadata": {
        "id": "jMOaE_21r3Sq"
      }
    },
    {
      "cell_type": "markdown",
      "source": [
        "## list of lists"
      ],
      "metadata": {
        "id": "XSmGdojbr5Ou"
      }
    },
    {
      "cell_type": "code",
      "execution_count": 1,
      "metadata": {
        "id": "bkfkKoser2x5"
      },
      "outputs": [],
      "source": [
        "data = [[1,2,3,4,5],[6,7,8,9,0],[0,1,2,3,4], [5,6,7,8,9],[2,3,4,5,6],[4,5,6,7,8]]"
      ]
    },
    {
      "cell_type": "code",
      "source": [
        "# computationally determine how many rows of data there are\n",
        "num_rows = len(data)\n",
        "print(num_rows)"
      ],
      "metadata": {
        "id": "aTcRDwuhsKXx",
        "colab": {
          "base_uri": "https://localhost:8080/"
        },
        "outputId": "51667ccd-a84d-4e28-90fb-f93daabdd17f"
      },
      "execution_count": 6,
      "outputs": [
        {
          "output_type": "stream",
          "name": "stdout",
          "text": [
            "6\n"
          ]
        }
      ]
    },
    {
      "cell_type": "code",
      "source": [
        "# computationally determine how many columns of data are in each row\n",
        "num_cols = len(data[0])\n",
        "print(num_cols)"
      ],
      "metadata": {
        "id": "TDbLiN3ssR6X",
        "colab": {
          "base_uri": "https://localhost:8080/"
        },
        "outputId": "e84c3f0c-fcde-45e1-e732-844512a715c4"
      },
      "execution_count": 5,
      "outputs": [
        {
          "output_type": "stream",
          "name": "stdout",
          "text": [
            "5\n"
          ]
        }
      ]
    },
    {
      "cell_type": "code",
      "source": [
        "# write two expressions that retrieve the number 0 from the data (two locations)\n",
        "first0 = data[1][4]\n",
        "second0 = data[2][0]\n",
        "print(first0)\n",
        "print(second0)"
      ],
      "metadata": {
        "id": "QTWnEIrjsX5x",
        "colab": {
          "base_uri": "https://localhost:8080/"
        },
        "outputId": "e554cc70-7748-4f07-c72a-fa1ebd11c55d"
      },
      "execution_count": 3,
      "outputs": [
        {
          "output_type": "stream",
          "name": "stdout",
          "text": [
            "0\n",
            "0\n"
          ]
        }
      ]
    },
    {
      "cell_type": "code",
      "source": [
        "# create another data storage container above using the following datastring\n",
        "\n",
        "datastring = '1,2,3,4,5\\n6,7,8,9,0\\n0,1,2,3,4\\n5,6,7,8,9\\n2,3,4,5,6\\n4,5,6,7,8\\n'\n",
        "\n",
        "data2 = []\n",
        "\n",
        "rows = datastring.splitlines()\n",
        "for row in rows:\n",
        "  split_row = row.split(',')\n",
        "  split_row = [int(i) for i in split_row]\n",
        "  data2.append(split_row)\n",
        "\n",
        "print(data2)\n"
      ],
      "metadata": {
        "id": "dsk5LdlywQfl",
        "colab": {
          "base_uri": "https://localhost:8080/"
        },
        "outputId": "4c1f02eb-8a20-42d7-ba65-7add055acf8e"
      },
      "execution_count": 11,
      "outputs": [
        {
          "output_type": "stream",
          "name": "stdout",
          "text": [
            "[[1, 2, 3, 4, 5], [6, 7, 8, 9, 0], [0, 1, 2, 3, 4], [5, 6, 7, 8, 9], [2, 3, 4, 5, 6], [4, 5, 6, 7, 8]]\n"
          ]
        }
      ]
    },
    {
      "cell_type": "code",
      "source": [
        "# count up how many odd numbers appear in the 0th column of the data\n",
        "count = 0\n",
        "for row in data2:\n",
        "  if row[0]%2 == 1:\n",
        "    count += 1\n",
        "\n",
        "print(count)"
      ],
      "metadata": {
        "colab": {
          "base_uri": "https://localhost:8080/"
        },
        "id": "zAuBnODHyZF4",
        "outputId": "b321b282-5711-4aae-8c88-f57c33295ae7"
      },
      "execution_count": 12,
      "outputs": [
        {
          "output_type": "stream",
          "name": "stdout",
          "text": [
            "2\n"
          ]
        }
      ]
    },
    {
      "cell_type": "code",
      "source": [
        "datastring = \"wine,89,123\\nbeer,90,154\\npizza,95,258\\nburger,100,354\\nfries,90,365\\ncola,79,150\\napple,50,95\\ndonut,10,195\\ncake,110,127\\n\"\n",
        "\n",
        "lines = datastring.splitlines()\n",
        "name = []\n",
        "value = []\n",
        "calorie = []\n",
        "for line in lines:\n",
        "  splitline = line.split(',')\n",
        "  name.append(splitline[0])\n",
        "  value.append(int(splitline[1]))\n",
        "  calorie.append(int(splitline[2]))\n",
        "\n",
        "# get all of the food names into a list\n",
        "# get all of the food deliciousness values into a list\n",
        "# get all of the food calorie cost into a list\n",
        "\n",
        "print(name)\n",
        "print(value)\n",
        "print(calorie)"
      ],
      "metadata": {
        "colab": {
          "base_uri": "https://localhost:8080/"
        },
        "id": "CCU36bw82ncS",
        "outputId": "74fd25e4-c236-4237-cc73-c756b302e944"
      },
      "execution_count": 14,
      "outputs": [
        {
          "output_type": "stream",
          "name": "stdout",
          "text": [
            "['wine', 'beer', 'pizza', 'burger', 'fries', 'cola', 'apple', 'donut', 'cake']\n",
            "[89, 90, 95, 100, 90, 79, 50, 10, 110]\n",
            "[123, 154, 258, 354, 365, 150, 95, 195, 127]\n"
          ]
        }
      ]
    }
  ]
}