{
  "nbformat": 4,
  "nbformat_minor": 0,
  "metadata": {
    "colab": {
      "provenance": []
    },
    "kernelspec": {
      "name": "python3",
      "display_name": "Python 3"
    },
    "language_info": {
      "name": "python"
    }
  },
  "cells": [
    {
      "cell_type": "markdown",
      "source": [
        "# Python Foundations"
      ],
      "metadata": {
        "id": "Bdd8JP0muBpP"
      }
    },
    {
      "cell_type": "markdown",
      "source": [
        "## foundational elements"
      ],
      "metadata": {
        "id": "dnDCKkKIuFDR"
      }
    },
    {
      "cell_type": "markdown",
      "source": [
        "- Variables\n",
        "- Arithmetic Operators\n",
        "- Conditional Logic\n",
        "- Iteration\n",
        "- Functions\n"
      ],
      "metadata": {
        "id": "kCPBx3rIt-ES"
      }
    },
    {
      "cell_type": "markdown",
      "source": [
        "## code examples"
      ],
      "metadata": {
        "id": "6cBpCmXCuIWP"
      }
    },
    {
      "cell_type": "markdown",
      "source": [
        "- What foundational elements are contained in: computing average"
      ],
      "metadata": {
        "id": "TSH1shAfuU1B"
      }
    },
    {
      "cell_type": "code",
      "execution_count": null,
      "metadata": {
        "id": "fZajJnw7d61G"
      },
      "outputs": [],
      "source": [
        "# computing an average\n",
        "\n",
        "sum = 0\n",
        "count = 0\n",
        "data = [1,5,8,2,0,9,10,4]\n",
        "for number in data:\n",
        "  sum += number\n",
        "  count += 1\n",
        "print(sum/count)\n"
      ]
    },
    {
      "cell_type": "code",
      "source": [
        "# computing an average of just even numbers\n",
        "\n",
        "sum = 0\n",
        "count = 0\n",
        "data = [1,5,8,2,0,9,10,4]\n",
        "for number in data:\n",
        "  if number % 2 == 0\n",
        "    sum += number\n",
        "    count += 1\n",
        "print(sum/count)\n"
      ],
      "metadata": {
        "id": "PYPOGPIYui9M"
      },
      "execution_count": null,
      "outputs": []
    },
    {
      "cell_type": "code",
      "source": [
        "# Compute average of numbers in a data _file_\n",
        "\n",
        "sum = 0\n",
        "count = 0\n",
        "file = open(\"data.csv\")\n",
        "for number in file:\n",
        "  n = int(number)\n",
        "  sum += n\n",
        "  count += 1\n",
        "print(sum/count)\n"
      ],
      "metadata": {
        "id": "dEHYJgTBvrN1"
      },
      "execution_count": null,
      "outputs": []
    },
    {
      "cell_type": "code",
      "source": [
        "# Function to compute average of numbers in a data _file_\n",
        "\n",
        "def average(filename):\n",
        "  sum = 0\n",
        "  count = 0\n",
        "  file = open(filename)\n",
        "  for number in file:\n",
        "    n = int(number)\n",
        "    sum += n\n",
        "    count += 1\n",
        "  return(sum/count)\n"
      ],
      "metadata": {
        "id": "ylVerUnCwW1N"
      },
      "execution_count": null,
      "outputs": []
    },
    {
      "cell_type": "markdown",
      "source": [
        "Why does the above block not print anything?"
      ],
      "metadata": {
        "id": "1uhCtL0-wiiD"
      }
    },
    {
      "cell_type": "code",
      "source": [
        "# Function to compute average of numbers in a data _file_\n",
        "from pathlib import Path\n",
        "\n",
        "def average(filename: Path) -> float:\n",
        "  \"\"\"Compute average of numbers in a file named filename.\"\"\"\n",
        "  sum = 0\n",
        "  count = 0\n",
        "  file = open(filename)\n",
        "  for number in file:\n",
        "    n = int(number)\n",
        "    sum += n\n",
        "    count += 1\n",
        "  return(sum/count)"
      ],
      "metadata": {
        "id": "-T4a8atYwe5O"
      },
      "execution_count": null,
      "outputs": []
    },
    {
      "cell_type": "markdown",
      "source": [
        "Why does the above block not print anything?"
      ],
      "metadata": {
        "id": "ePYUsWIzw6gh"
      }
    },
    {
      "cell_type": "markdown",
      "source": [
        "## Calling Functions"
      ],
      "metadata": {
        "id": "QXq7oOoGxCKo"
      }
    },
    {
      "cell_type": "code",
      "source": [
        "# calling functions"
      ],
      "metadata": {
        "id": "CCyK1kQaw-XR"
      },
      "execution_count": null,
      "outputs": []
    },
    {
      "cell_type": "markdown",
      "source": [
        "## Printing formatted strings"
      ],
      "metadata": {
        "id": "tBOm9_xeurgh"
      }
    },
    {
      "cell_type": "code",
      "source": [
        "variable1 = 'Emily Graber'\n",
        "variable2 = 2023\n",
        "print(f\"My name is {variable1}\")\n",
        "print(f\"{variable2 + 1} is the year\")\n",
        "print(\"---------\")\n",
        "print(variable2)\n",
        "print(variable2 + 1)"
      ],
      "metadata": {
        "id": "pm4ksf_XuuNT"
      },
      "execution_count": null,
      "outputs": []
    }
  ]
}