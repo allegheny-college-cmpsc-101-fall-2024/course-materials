{
  "nbformat": 4,
  "nbformat_minor": 0,
  "metadata": {
    "colab": {
      "provenance": [],
      "toc_visible": true,
      "authorship_tag": "ABX9TyMBh3+CNZ71mOI/LSvB83AJ",
      "include_colab_link": true
    },
    "kernelspec": {
      "name": "python3",
      "display_name": "Python 3"
    },
    "language_info": {
      "name": "python"
    }
  },
  "cells": [
    {
      "cell_type": "markdown",
      "metadata": {
        "id": "view-in-github",
        "colab_type": "text"
      },
      "source": [
        "<a href=\"https://colab.research.google.com/github/allegheny-college-cmpsc-101-spring-2024/course-materials/blob/main/notes/20240313_modules_testing.ipynb\" target=\"_parent\"><img src=\"https://colab.research.google.com/assets/colab-badge.svg\" alt=\"Open In Colab\"/></a>"
      ]
    },
    {
      "cell_type": "markdown",
      "source": [
        "## Importing"
      ],
      "metadata": {
        "id": "nx0zM5ItwSiB"
      }
    },
    {
      "cell_type": "code",
      "execution_count": 2,
      "metadata": {
        "id": "VMsmBotuuU_M"
      },
      "outputs": [],
      "source": [
        "%reset\n",
        "\n",
        "from typing import List\n",
        "\n",
        "# How do you access the List class?\n",
        "# Complete the output type annotation\n",
        "\n",
        "def list_test(number: float):\n",
        "  return [number]"
      ]
    },
    {
      "cell_type": "code",
      "source": [
        "%reset\n",
        "\n",
        "import typing\n",
        "\n",
        "# How can you access the List class?\n",
        "# Complete the output type annotation\n",
        "\n",
        "def list_test(number: float):\n",
        "  return [number]"
      ],
      "metadata": {
        "id": "azfbeg0gubRM"
      },
      "execution_count": null,
      "outputs": []
    },
    {
      "cell_type": "code",
      "source": [
        "%reset\n",
        "\n",
        "from typing import List as AmazingList\n",
        "\n",
        "# How can you access the List class?\n",
        "# Complete the output type annotation\n",
        "\n",
        "def list_test(number: float):\n",
        "  return [number]"
      ],
      "metadata": {
        "id": "ysoS7OqNwbKx"
      },
      "execution_count": null,
      "outputs": []
    },
    {
      "cell_type": "code",
      "source": [
        "# What is a fully-qualified name?"
      ],
      "metadata": {
        "id": "l5dz3mx3yG_X"
      },
      "execution_count": null,
      "outputs": []
    },
    {
      "cell_type": "markdown",
      "source": [
        "## Testing"
      ],
      "metadata": {
        "id": "_2QpBd75wVF-"
      }
    },
    {
      "cell_type": "code",
      "execution_count": null,
      "metadata": {
        "id": "LDF5ufz3wA9n"
      },
      "outputs": [],
      "source": [
        "# Explore the use of software testing techniques to:\n",
        "# 1) establish a confidence in correctness\n",
        "# 2) identify defects in the function under test\n",
        "\n",
        "# Note: running test cases in Colab is practically different\n",
        "# than the approach you would take if you were running a pytest test suite"
      ]
    },
    {
      "cell_type": "code",
      "execution_count": null,
      "metadata": {
        "id": "XHGGi6P6wA9o"
      },
      "outputs": [],
      "source": [
        "# Technical Topics:\n",
        "\n",
        "# Defining and calling a function\n",
        "# Creating and running a test case\n",
        "# Defect detecting and debugging\n",
        "# Computing the square of a number\n",
        "# Using for loops and while loops"
      ]
    },
    {
      "cell_type": "code",
      "execution_count": null,
      "metadata": {
        "id": "UKNEf63fwA9p"
      },
      "outputs": [],
      "source": [
        "# define a function that uses a for loop to compute the square of a number\n",
        "# note that there is a defect inside of this implementation of compute_square_for\n",
        "def compute_square_for(value: int) -> int:\n",
        "    answer = 0\n",
        "    for _ in range(abs(value+1)):\n",
        "        answer = answer + abs(value)\n",
        "    return answer"
      ]
    },
    {
      "cell_type": "code",
      "execution_count": null,
      "metadata": {
        "id": "AjvwbifWwA9p"
      },
      "outputs": [],
      "source": [
        "# create and run two test cases for the compute_square_for function\n",
        "def test_compute_square_for_loop_positive():\n",
        "    value = 3\n",
        "    square_value = compute_square_for(value)\n",
        "    assert square_value == 9\n",
        "\n",
        "def test_compute_square_for_loop_negative():\n",
        "    value = -3\n",
        "    square_value = compute_square_for(value)\n",
        "    assert square_value == 9\n",
        "\n",
        "test_compute_square_for_loop_positive()\n",
        "test_compute_square_for_loop_negative()"
      ]
    },
    {
      "cell_type": "code",
      "execution_count": null,
      "metadata": {
        "id": "HsAWkla6wA9p"
      },
      "outputs": [],
      "source": [
        "# define a function that uses a while loop to compute the square of a number\n",
        "# note that there is a defect inside of this implementation of compute_square_while\n",
        "def compute_square_while(value: int) -> int:\n",
        "    num_iterations = 0\n",
        "    answer = 0\n",
        "    while num_iterations < abs(value-1):\n",
        "        answer = answer + abs(value)\n",
        "        num_iterations = num_iterations + 1\n",
        "    return answer"
      ]
    },
    {
      "cell_type": "code",
      "execution_count": null,
      "metadata": {
        "id": "41Ck6AbowA9p"
      },
      "outputs": [],
      "source": [
        "# create and run two test cases for the compute_square_while function\n",
        "def test_compute_square_while_loop_positive():\n",
        "    value = 3\n",
        "    square_value = compute_square_while(value)\n",
        "    assert square_value == 9\n",
        "\n",
        "def test_compute_square_while_loop_negative():\n",
        "    value = -3\n",
        "    square_value = compute_square_while(value)\n",
        "    assert square_value == 9\n",
        "\n",
        "test_compute_square_while_loop_positive()\n",
        "test_compute_square_while_loop_negative()"
      ]
    },
    {
      "cell_type": "code",
      "execution_count": null,
      "metadata": {
        "id": "_HUTs77BwA9p"
      },
      "outputs": [],
      "source": [
        "# Summary Questions:\n",
        "# 1) What was the defect in the square root computation that uses a while loop?\n",
        "# 2) What was the defect in the square root computation that uses a for loop?\n",
        "# 3) What exactly happens when a test case \"fails\" when run inside of a Jupyter notebook? What is a \"traceback\"?\n",
        "# 4) How is testing in this fashion different than running a test suite with Pytest?\n",
        "# 5) How do you know that the test cases \"passes\" when run inside of a Jupyter notebook?\n",
        "# 6) What are the strengths associated with running test cases in either Jupyter or with Pytest?\n",
        "# 7) What are the limitations associated with running test cases in either Jupyter or with Pytest?"
      ]
    },
    {
      "cell_type": "code",
      "execution_count": null,
      "metadata": {
        "id": "H8Y-ugARwA9p"
      },
      "outputs": [],
      "source": [
        "# Task: add a different type of defect into the above function. Can you find a way to\n",
        "# introduce a defect into a function and then for the test case to not fail when you call the function?"
      ]
    },
    {
      "cell_type": "markdown",
      "source": [
        "## Exceptions"
      ],
      "metadata": {
        "id": "ZODjOgWPHCXE"
      }
    },
    {
      "cell_type": "code",
      "execution_count": null,
      "metadata": {
        "id": "hTA924emHH0n"
      },
      "outputs": [],
      "source": [
        "# define a function that computes the ratios of the floats\n",
        "# inside of two input lists and then creates an output list\n",
        "from typing import List\n",
        "\n",
        "def get_ratios(one: List, two: List) -> List[float]:\n",
        "    ratios = []\n",
        "    for index in range(len(one)):\n",
        "        try:\n",
        "            ratios.append(one[index] / two[index])\n",
        "        except ZeroDivisionError:\n",
        "            ratios.append(float('nan'))\n",
        "        except:\n",
        "            raise ValueError(\"Incorrect arguments\")\n",
        "    return ratios"
      ]
    },
    {
      "cell_type": "code",
      "execution_count": null,
      "metadata": {
        "id": "nXx5Dhd5HH0n"
      },
      "outputs": [],
      "source": [
        "# run the get_ratios function with exception handling\n",
        "try:\n",
        "    print(get_ratios([1, 2, 7, 6], [1, 2, 0, 3]))\n",
        "    print(get_ratios([], []))\n",
        "    print(get_ratios([1, 2, 7], [1, 2, 10, 3]))\n",
        "    print(get_ratios([1, 2, 7, 6], [1, 2, 10]))\n",
        "except ValueError as message:\n",
        "    print(message)"
      ]
    },
    {
      "cell_type": "code",
      "execution_count": null,
      "metadata": {
        "id": "Vzx9zHFjHH0n"
      },
      "outputs": [],
      "source": [
        "# run the get_ratios function without exception handling\n",
        "print(get_ratios([1, 2, 7, 6], [1, 2, 0, 3]))\n",
        "print(get_ratios([], []))\n",
        "print(get_ratios([1, 2, 7], [1, 2, 10, 3]))\n",
        "print(get_ratios([1, 2, 7, 6], [1, 2, 10]))"
      ]
    }
  ]
}