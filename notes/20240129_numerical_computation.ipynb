{
  "nbformat": 4,
  "nbformat_minor": 0,
  "metadata": {
    "colab": {
      "provenance": [],
      "authorship_tag": "ABX9TyO9krn9h4KLHKp6mfBt3Qwz",
      "include_colab_link": true
    },
    "kernelspec": {
      "name": "python3",
      "display_name": "Python 3"
    },
    "language_info": {
      "name": "python"
    }
  },
  "cells": [
    {
      "cell_type": "markdown",
      "metadata": {
        "id": "view-in-github",
        "colab_type": "text"
      },
      "source": [
        "<a href=\"https://colab.research.google.com/github/allegheny-college-cmpsc-101-spring-2024/course-materials/blob/main/notes/20240129_numerical_computation.ipynb\" target=\"_parent\"><img src=\"https://colab.research.google.com/assets/colab-badge.svg\" alt=\"Open In Colab\"/></a>"
      ]
    },
    {
      "cell_type": "markdown",
      "source": [
        "## Square a number"
      ],
      "metadata": {
        "id": "fHI0nHOPxmga"
      }
    },
    {
      "cell_type": "code",
      "source": [
        "# Squaring a number by addition\n",
        "\n",
        "def square_w(number: int) -> int:\n",
        "  \"\"\"Square a number by addition.\"\"\"\n",
        "\n",
        "  count = 0\n",
        "  answer = 0\n",
        "\n",
        "  while count < number:\n",
        "    answer += number\n",
        "    count += 1\n",
        "\n",
        "  return answer"
      ],
      "metadata": {
        "id": "QtNVwmEbrkrJ"
      },
      "execution_count": null,
      "outputs": []
    },
    {
      "cell_type": "code",
      "source": [
        "# Squaring a number by addition a different way\n",
        "\n",
        "def square_f(number: int) -> int:\n",
        "  \"\"\"Square a number by addition.\"\"\"\n",
        "\n",
        "  answer = 0\n",
        "\n",
        "  for _ in range(number):\n",
        "    answer += number\n",
        "\n",
        "  return answer"
      ],
      "metadata": {
        "id": "mqZSYFQJsD-j"
      },
      "execution_count": null,
      "outputs": []
    },
    {
      "cell_type": "code",
      "source": [
        "# Defining data on which to test the square algorithms\n",
        "\n",
        "data_numbers = [1, 9, 4, 6, 3, 8, 2, 5, 0, -7]"
      ],
      "metadata": {
        "id": "YJpBIc6fwDnD"
      },
      "execution_count": null,
      "outputs": []
    },
    {
      "cell_type": "code",
      "source": [
        "# Call a square algorithm on every number in data_numbers\n",
        "\n",
        "square = square_w # creating alias name!\n",
        "\n",
        "result0 = square(data_numbers[0])\n",
        "result1 = square(data_numbers[1])\n",
        "result2 = square(data_numbers[2])\n",
        "result3 = square(data_numbers[3])\n",
        "result4 = square(data_numbers[4])\n",
        "result5 = square(data_numbers[5])\n",
        "result6 = square(data_numbers[6])\n",
        "result7 = square(data_numbers[7])\n",
        "result8 = square(data_numbers[8])\n",
        "result9 = square(data_numbers[9])\n"
      ],
      "metadata": {
        "id": "JrOR6EKCzCHw"
      },
      "execution_count": null,
      "outputs": []
    },
    {
      "cell_type": "code",
      "source": [
        "# Calling a square algorithm on every number in the data_numbers in a loop\n",
        "\n",
        "square = square_w # creating alias name!\n",
        "result = []\n",
        "\n",
        "for number in data_numbers:\n",
        "  sq = square(number)\n",
        "  result.append(sq) # <--------- PYTHON MAGIC WARNING! This function adds something to a list, but uses dot notation AND the return value is not saved!\n",
        "\n"
      ],
      "metadata": {
        "id": "LRuxNDyZsQbW"
      },
      "execution_count": null,
      "outputs": []
    },
    {
      "cell_type": "code",
      "source": [
        "# Displaying the result variable filled above\n",
        "\n",
        "print(result)\n",
        "print(data_numbers)"
      ],
      "metadata": {
        "id": "DTELqmVywZ0E"
      },
      "execution_count": null,
      "outputs": []
    },
    {
      "cell_type": "markdown",
      "source": [
        "## Find Square Root of a Number"
      ],
      "metadata": {
        "id": "ekxGDHKYxqLQ"
      }
    },
    {
      "cell_type": "code",
      "source": [
        "# Guess and Check\n",
        "\n",
        "import random\n",
        "\n",
        "def squareroot_gc(number: int) -> int:\n",
        "  \"\"\"Guess integer roots and check.\"\"\"\n",
        "\n",
        "  while True:\n",
        "\n",
        "    guess = random.randint(0, number)\n",
        "\n",
        "    if guess**2 == number:\n",
        "      return guess\n",
        "\n"
      ],
      "metadata": {
        "id": "biVdx0cJ1QQh"
      },
      "execution_count": null,
      "outputs": []
    },
    {
      "cell_type": "code",
      "source": [
        "root = squareroot_gc(144*144)\n",
        "print(root)"
      ],
      "metadata": {
        "colab": {
          "base_uri": "https://localhost:8080/"
        },
        "id": "XGeUIoka8FKp",
        "outputId": "8050fc2f-d3db-44cb-f9fb-1f07c26bd4fd"
      },
      "execution_count": null,
      "outputs": [
        {
          "output_type": "stream",
          "name": "stdout",
          "text": [
            "144\n"
          ]
        }
      ]
    },
    {
      "cell_type": "code",
      "source": [
        "# Guess and Check with a limit\n",
        "\n",
        "import random\n",
        "\n",
        "def squareroot_gcl(number: int) -> int:\n",
        "  \"\"\"Guess integer roots and check.\"\"\"\n",
        "\n",
        "  num_guesses_allowed = 100\n",
        "  num_guesses_sofar = 0\n",
        "\n",
        "  while num_guesses_sofar < num_guesses_allowed:\n",
        "\n",
        "    guess = random.randint(0, number)\n",
        "\n",
        "    if guess**2 == number:\n",
        "      return guess\n",
        "\n",
        "    num_guesses_sofar += 1\n",
        "\n",
        "  return -1"
      ],
      "metadata": {
        "id": "c4-hi1wFx32K"
      },
      "execution_count": null,
      "outputs": []
    },
    {
      "cell_type": "code",
      "source": [
        "root = squareroot_gcl(12345*12345)\n",
        "print(root)\n"
      ],
      "metadata": {
        "colab": {
          "base_uri": "https://localhost:8080/"
        },
        "id": "yOuUjHxX1JHX",
        "outputId": "0305a6dd-d93f-43a1-946e-0b89487c6a94"
      },
      "execution_count": null,
      "outputs": [
        {
          "output_type": "stream",
          "name": "stdout",
          "text": [
            "-1\n"
          ]
        }
      ]
    },
    {
      "cell_type": "code",
      "source": [
        "# Exhaustive Enumeration for perfect squares\n",
        "\n",
        "def squareroot_eep(number: int) -> int:\n",
        "  \"\"\"Exaustively check integer roots.\"\"\"\n",
        "\n",
        "  for possible_answer in range(number):\n",
        "\n",
        "    if possible_answer**2 == number:\n",
        "      return possible_answer\n",
        "\n",
        "  return -1"
      ],
      "metadata": {
        "id": "KmZP8GgH4qgD"
      },
      "execution_count": null,
      "outputs": []
    },
    {
      "cell_type": "code",
      "source": [
        "root_perfect = squareroot_eep(12345*12345)\n",
        "print(root_perfect)"
      ],
      "metadata": {
        "colab": {
          "base_uri": "https://localhost:8080/"
        },
        "id": "PojMv7zM8wvY",
        "outputId": "b66f8e42-b835-4d93-f1cb-e7eb5b15c90b"
      },
      "execution_count": null,
      "outputs": [
        {
          "output_type": "stream",
          "name": "stdout",
          "text": [
            "12345\n"
          ]
        }
      ]
    },
    {
      "cell_type": "code",
      "source": [
        "# What causes the error??\n",
        "\n",
        "root_imperf = squareroot_eep(144.1*144.1)\n",
        "print(root_imperf)"
      ],
      "metadata": {
        "id": "dHeUN0OO9Ahe"
      },
      "execution_count": null,
      "outputs": []
    },
    {
      "cell_type": "code",
      "source": [
        "# Exhaustive Enumeration for non-perfect squares\n",
        "\n",
        "def squareroot_ee(number: int) -> float:\n",
        "  \"\"\"Exhaustively check all possible roots for numbers >= 1.\"\"\"\n",
        "\n",
        "  if number < 1:\n",
        "    return -1\n",
        "\n",
        "  epsilon = 0.01 # margin of error, could be a parameter\n",
        "  step_size = epsilon**2\n",
        "  possible_answer = 0\n",
        "\n",
        "  while abs(number - possible_answer**2) > epsilon and possible_answer**2 < number + epsilon:\n",
        "    possible_answer += step_size\n",
        "\n",
        "  return possible_answer"
      ],
      "metadata": {
        "id": "JomTqmeh5Bl6"
      },
      "execution_count": 7,
      "outputs": []
    },
    {
      "cell_type": "code",
      "source": [
        "root_imperf = squareroot_ee(9.2*9.2)\n",
        "print(root_imperf)"
      ],
      "metadata": {
        "id": "y3lxWddr6i5W",
        "colab": {
          "base_uri": "https://localhost:8080/"
        },
        "outputId": "161c0967-2905-4864-c64e-b1f0ab50d19f"
      },
      "execution_count": 8,
      "outputs": [
        {
          "output_type": "stream",
          "name": "stdout",
          "text": [
            "9.199499999991898\n"
          ]
        }
      ]
    },
    {
      "cell_type": "code",
      "source": [
        "root_imperf = squareroot_ee(12345678)\n",
        "print(root_imperf)"
      ],
      "metadata": {
        "id": "qgLRRYUrDga_",
        "colab": {
          "base_uri": "https://localhost:8080/"
        },
        "outputId": "452a5826-e17e-42e7-cd91-f9216cd4fb9d"
      },
      "execution_count": 9,
      "outputs": [
        {
          "output_type": "stream",
          "name": "stdout",
          "text": [
            "3513.641702522123\n"
          ]
        }
      ]
    },
    {
      "cell_type": "code",
      "source": [
        "# Why are numbers smaller than 1 not processed?\n",
        "# What would go wrong in the algorithm if they were processed?\n",
        "\n",
        "root_imperf = squareroot_ee(.1*.1)\n",
        "print(root_imperf)"
      ],
      "metadata": {
        "id": "LtIB5agB9lMX"
      },
      "execution_count": null,
      "outputs": []
    },
    {
      "cell_type": "code",
      "source": [
        "# Bisection Search for non-perfect squares\n",
        "\n",
        "def squareroot_bs(number: int) -> float:\n",
        "  \"\"\"Perform bisection search to find root.\"\"\"\n",
        "\n",
        "  if number < 1:\n",
        "    return -1\n",
        "\n",
        "  epsilon = 0.01 # margin of error, could be a parameter\n",
        "  lower_bound = 0\n",
        "  upper_bound = number\n",
        "  midpoint = (lower_bound+upper_bound)/2\n",
        "\n",
        "  while abs(number - midpoint**2) > epsilon:\n",
        "\n",
        "    if midpoint**2 > number:\n",
        "      upper_bound = midpoint\n",
        "    else:\n",
        "      lower_bound = midpoint\n",
        "\n",
        "    midpoint = (lower_bound+upper_bound)/2\n",
        "\n",
        "  return midpoint\n"
      ],
      "metadata": {
        "id": "oX2-4QyCBetr"
      },
      "execution_count": null,
      "outputs": []
    },
    {
      "cell_type": "code",
      "source": [
        "root_imperf = squareroot_bs(144.1*144.1)\n",
        "print(root_imperf)"
      ],
      "metadata": {
        "id": "lb5U77jCDTU4"
      },
      "execution_count": null,
      "outputs": []
    },
    {
      "cell_type": "code",
      "source": [
        "root_imperf = squareroot_bs(12345678)\n",
        "print(root_imperf)"
      ],
      "metadata": {
        "id": "1Puu4StCDYs5"
      },
      "execution_count": null,
      "outputs": []
    },
    {
      "cell_type": "code",
      "source": [
        "# Add to and return counters from squareroot_ee and squareroot_bs\n",
        "# Which algorithm is the fastest?"
      ],
      "metadata": {
        "id": "sKniY4cID5al"
      },
      "execution_count": null,
      "outputs": []
    }
  ]
}