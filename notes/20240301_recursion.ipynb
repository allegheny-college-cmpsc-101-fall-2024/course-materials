{
  "nbformat": 4,
  "nbformat_minor": 0,
  "metadata": {
    "colab": {
      "provenance": [],
      "toc_visible": true,
      "authorship_tag": "ABX9TyPvnnOaM1TO+ISVdPWKqWKU",
      "include_colab_link": true
    },
    "kernelspec": {
      "name": "python3",
      "display_name": "Python 3"
    },
    "language_info": {
      "name": "python"
    }
  },
  "cells": [
    {
      "cell_type": "markdown",
      "metadata": {
        "id": "view-in-github",
        "colab_type": "text"
      },
      "source": [
        "<a href=\"https://colab.research.google.com/github/allegheny-college-cmpsc-101-spring-2024/course-materials/blob/main/notes/20240301_recursion.ipynb\" target=\"_parent\"><img src=\"https://colab.research.google.com/assets/colab-badge.svg\" alt=\"Open In Colab\"/></a>"
      ]
    },
    {
      "cell_type": "markdown",
      "source": [
        "# Factorial iterative"
      ],
      "metadata": {
        "id": "xiXjwnqD5Dvf"
      }
    },
    {
      "cell_type": "code",
      "source": [
        "def fact_iter(n: int) -> int:\n",
        "  \"\"\"Compute factorial for n > 0.\"\"\"\n",
        "  result = 1\n",
        "  for i in range(1, n+1):\n",
        "    result *= i\n",
        "  return result\n"
      ],
      "metadata": {
        "id": "g5Y4JsWC3NZi"
      },
      "execution_count": null,
      "outputs": []
    },
    {
      "cell_type": "markdown",
      "source": [
        "In the code above:\n",
        "- identify how many times the loop is exectuted\n",
        "- add a code block to test it"
      ],
      "metadata": {
        "id": "pHqYioSr3nz4"
      }
    },
    {
      "cell_type": "markdown",
      "source": [
        "# Factorial recursive"
      ],
      "metadata": {
        "id": "A0Ak5b8C5JCC"
      }
    },
    {
      "cell_type": "markdown",
      "source": [
        "recall recursive functions can be writting if:\n",
        "- identical logical steps can be applied repeatedly on smaller and smaller problems\n",
        "- there is a base case for simplest answer\n",
        "\n",
        "In the case of the factorial:\n",
        "- 5! is the same as 5 * 4!\n",
        "- and 4! is the same as 4 * 3!\n",
        "- and 3! is the same as 3 * 2!\n",
        "- and 2! is the same as 2 * 1!\n",
        "- finally, 1! is 1"
      ],
      "metadata": {
        "id": "_ZnSmS705UFG"
      }
    },
    {
      "cell_type": "code",
      "source": [
        "def fact_rec(n: int) -> int:\n",
        "  \"\"\"Compute factorial recursively for n > 0.\"\"\"\n",
        "  if n == 1:\n",
        "    return 1\n",
        "  return n * fact_rec(n-1)"
      ],
      "metadata": {
        "id": "vw6YoCV23g7J"
      },
      "execution_count": null,
      "outputs": []
    },
    {
      "cell_type": "markdown",
      "source": [
        "In the code above:\n",
        "- identify the base case\n",
        "- identify the progression of the input\n",
        "- identify the recursive call\n",
        "- add a code block to test it"
      ],
      "metadata": {
        "id": "7g8OlHYW33FC"
      }
    },
    {
      "cell_type": "code",
      "source": [
        "from typing import List\n",
        "\n",
        "def len_recursive(input_list: List) -> int:\n",
        "  if input_list == []:\n",
        "    return 0\n",
        "  return 1 + len_recursive(input_list[:-1])"
      ],
      "metadata": {
        "id": "RtwO2zV24QBm"
      },
      "execution_count": 4,
      "outputs": []
    },
    {
      "cell_type": "markdown",
      "source": [
        "In the code above:\n",
        "- identify the base case\n",
        "- identify the progression of the input\n",
        "- identify the recursive call\n",
        "- add a code block to test it"
      ],
      "metadata": {
        "id": "o-IHZldr4364"
      }
    },
    {
      "cell_type": "markdown",
      "source": [
        "# Fibonacci Sequence Iterative"
      ],
      "metadata": {
        "id": "BzRtnsGn6GhY"
      }
    },
    {
      "cell_type": "markdown",
      "source": [
        "Fibonacci number ${F_n}$ is defined:\n",
        "- ${F_{n}=F_{n-1}+F_{n-2}}$ where\n",
        "- ${F_0 = 0}$ and ${F_1 = 1}$\n",
        "- learn more: https://en.wikipedia.org/wiki/Fibonacci_sequence"
      ],
      "metadata": {
        "id": "wHPerTVO-kLK"
      }
    },
    {
      "cell_type": "code",
      "source": [
        "# fibonacci sequence where next = back1 + back2\n",
        "# initial inputs 0, 1\n",
        "# 0 + 1 = 1 (next = 1, back1 = 1, back2 = 0)\n",
        "# 1 + 1 = 2 (next = 2, back1 = 1, back2 = 1)\n",
        "# 1 + 2 = 3 (next = 3, back1 = 2, back2 = 1)\n",
        "# 2 + 3 = 5 (next = 5, back1 = 3, back2 = 2)\n",
        "# 3 + 5 = 8 (next = 8, back1 = 5, back2 = 3)\n",
        "# 5 + 8 = 13 (next = 13, back1 = 8, back2 = 5)\n"
      ],
      "metadata": {
        "id": "axXE033Dxauc"
      },
      "execution_count": null,
      "outputs": []
    },
    {
      "cell_type": "code",
      "source": [
        "from typing import Tuple\n",
        "\n",
        "def fibonacci_tuple(n: int) -> Tuple[int]:\n",
        "    fib_seq = ()\n",
        "    back2 = 0\n",
        "    back1 = 1\n",
        "    for i in range(n):\n",
        "        fib_seq += (back2,)\n",
        "        next = back1 + back2\n",
        "        back2 = back1\n",
        "        back1 = next\n",
        "    return fib_seq\n",
        "\n",
        "print(fibonacci_tuple(10))"
      ],
      "metadata": {
        "id": "T6Tyd_JGx-nI"
      },
      "execution_count": null,
      "outputs": []
    },
    {
      "cell_type": "markdown",
      "source": [
        "In the code above:\n",
        "- is it iterative or recursive?\n",
        "- add comment to every line to explain what is happening\n",
        "- how many times is the loop executed?\n",
        "- how many values get concatenated to the sequence?\n",
        "- are all the `next` values that are computed added to the sequence?\n",
        "- add a code block to test it"
      ],
      "metadata": {
        "id": "FrQi4Sqs7EVf"
      }
    },
    {
      "cell_type": "code",
      "source": [
        "# More pythonic version. I prefer previous version ^^\n",
        "\n",
        "from typing import Tuple\n",
        "\n",
        "def fibonacci_tuple(n: int) -> Tuple[int]:\n",
        "    fib_seq = ()\n",
        "    back2 = 0\n",
        "    back1 = 1\n",
        "    for i in range(n):\n",
        "        fib_seq += (back2,)\n",
        "        back2, back1 = back1, back2 + back1\n",
        "    return fib_seq\n",
        "\n",
        "print(fibonacci_tuple(10))"
      ],
      "metadata": {
        "id": "wiRP423EzO84"
      },
      "execution_count": null,
      "outputs": []
    },
    {
      "cell_type": "code",
      "source": [
        "# What is happening here?\n",
        "\n",
        "from typing import List\n",
        "\n",
        "def fibonacci_list(n: int) -> List[int]:\n",
        "    fib_seq = []\n",
        "    back2 = 0\n",
        "    back1 = 1\n",
        "    for i in range(n):\n",
        "        fib_seq.append(back2)\n",
        "        back2, back1 = back1, back2 + back1\n",
        "    return fib_seq\n",
        "\n",
        "print(fibonacci_list(10))"
      ],
      "metadata": {
        "id": "Y5P1FV2f0f11"
      },
      "execution_count": null,
      "outputs": []
    },
    {
      "cell_type": "markdown",
      "source": [
        "In the two previous code blocks:\n",
        "- what is the difference?\n",
        "- why is the inside of the loop different?\n",
        "- which one would be more efficient if you were computing a long sequence?"
      ],
      "metadata": {
        "id": "eUe9v0n18YKR"
      }
    },
    {
      "cell_type": "markdown",
      "source": [
        "# Fibonacci Recursive"
      ],
      "metadata": {
        "id": "fgdKZKa79cph"
      }
    },
    {
      "cell_type": "code",
      "source": [
        "# lets formulate it recursively\n",
        "\n",
        "# the fib sequence of 10 elements is the same as the fib seq for 9 elements + one extra\n",
        "# the fib sequence of 9 elements is the same as the fib seq for 8 elements + one extra\n",
        "# the fib sequence of 8 elements is the same as the fib seq for 7 elements + one extra\n",
        "# the fib sequence of 7 elements is the same as the fib seq for 6 elements + one extra\n",
        "# the fib sequence of 6 elements is the same as the fib seq for 5 elements + one extra\n",
        "# ...\n",
        "# the fib sequence of 3 elements is the same as the fib seq for 2 elements + one extra\n",
        "# the fib sequence of 2 elements is 1\n",
        "# the fib sequence of 1 element is 0\n",
        "\n",
        "# base case:  - back2 is 0 and back1 is 1, the sum of back2 and back1 is 1\n",
        "# recursive call\n",
        "  # we need to keep track of three things at any given time: next, back1, back2\n",
        "\n",
        "\n",
        "def fibonacci_recursive(n: int) -> int:\n",
        "  if n == 1:\n",
        "    return 1\n",
        "  if n == 0:\n",
        "    return 0\n",
        "  return fibonacci_recursive(n-1) + fibonacci_recursive(n-2)"
      ],
      "metadata": {
        "id": "FD69iDAa13w2"
      },
      "execution_count": null,
      "outputs": []
    },
    {
      "cell_type": "markdown",
      "source": [
        "In the code above:\n",
        "- identify the base case\n",
        "- identify the progression of the input\n",
        "- identify the recursive call\n",
        "- will this return a sequence like above??? why or why not?\n",
        "- call the function to test it"
      ],
      "metadata": {
        "id": "nWCI3Xo79yS7"
      }
    },
    {
      "cell_type": "code",
      "source": [
        "# print([fibonacci_recursive(i) for i in range(10)])"
      ],
      "metadata": {
        "id": "VHdP3ENF-Dya"
      },
      "execution_count": null,
      "outputs": []
    },
    {
      "cell_type": "markdown",
      "source": [
        "## How many calls are made?"
      ],
      "metadata": {
        "id": "82PILuvI-Nd7"
      }
    },
    {
      "cell_type": "code",
      "source": [
        "# What goes wrong here with the added counter?\n",
        "\n",
        "counter = 0\n",
        "\n",
        "def fibonacci_recursive(n: int) -> int:\n",
        "  counter += 1\n",
        "  if n == 1:\n",
        "    return 1\n",
        "  if n == 0:\n",
        "    return 0\n",
        "  return fibonacci_recursive(n-1) + fibonacci_recursive(n-2)\n",
        "\n",
        "print(\"fibonacci_recursive(10):\", fibonacci_recursive(10))\n",
        "print(\"counter:\", counter)"
      ],
      "metadata": {
        "id": "GtkhR-uodmZZ"
      },
      "execution_count": null,
      "outputs": []
    },
    {
      "cell_type": "code",
      "source": [
        "# What goes right here with the added counter?\n",
        "\n",
        "counter = 0\n",
        "\n",
        "def fibonacci_recursive(n: int) -> int:\n",
        "  global counter ##### you MUST write global here, otherwise the python interpreter will make a new local variable named counter\n",
        "  counter += 1\n",
        "  if n == 1:\n",
        "    return 1\n",
        "  if n == 0:\n",
        "    return 0\n",
        "  return fibonacci_recursive(n-1) + fibonacci_recursive(n-2)\n",
        "\n",
        "print(\"fibonacci_recursive(10):\", fibonacci_recursive(10))\n",
        "print(\"global counter:\", counter)\n"
      ],
      "metadata": {
        "id": "13zrvhIM6u3k"
      },
      "execution_count": null,
      "outputs": []
    },
    {
      "cell_type": "markdown",
      "source": [
        "In the above code:\n",
        "- why are so many calls made?\n",
        "- write down the tree of calls\n",
        "- is this an efficient function?\n",
        "- below, find the input number for which the call starts taking ~5 seconds"
      ],
      "metadata": {
        "id": "JrUf8JqC_miT"
      }
    },
    {
      "cell_type": "code",
      "source": [
        "input_number = 1\n",
        "counter = 0\n",
        "print(\"fibonacci_recursive:\", fibonacci_recursive(n = input_number))\n",
        "print(\"global counter:\", counter)"
      ],
      "metadata": {
        "id": "m2lwyR1Sa6Bi"
      },
      "execution_count": null,
      "outputs": []
    },
    {
      "cell_type": "markdown",
      "source": [
        "- below, find the input number for which the call starts taking ~5 seconds"
      ],
      "metadata": {
        "id": "uMkf463GBXV9"
      }
    },
    {
      "cell_type": "code",
      "source": [
        "from typing import List, Tuple\n",
        "\n",
        "def fibonacci_list(n: int) -> Tuple[List[int], int]:\n",
        "    fib_seq = []\n",
        "    back2 = 0\n",
        "    back1 = 1\n",
        "    counter = 0\n",
        "    for i in range(n):\n",
        "        counter += 1\n",
        "        fib_seq.append(back2)\n",
        "        back2, back1 = back1, back2 + back1\n",
        "    return (fib_seq, counter)\n",
        "\n",
        "input_number = 1\n",
        "print(\"fibonacci_list:\", fibonacci_list(n = input_number)[0][-1])\n",
        "print(\"counter:\", fibonacci_list(n = input_number)[1])"
      ],
      "metadata": {
        "id": "HrhT-Lm-Ah_2"
      },
      "execution_count": null,
      "outputs": []
    },
    {
      "cell_type": "markdown",
      "source": [
        "# Fibonacci Sequence Recursive"
      ],
      "metadata": {
        "id": "OeS0w06RCMyD"
      }
    },
    {
      "cell_type": "code",
      "source": [
        "from typing import List\n",
        "\n",
        "def fibonacci_seq_recursive(n: int) -> List[int]:\n",
        "  if n == 1:\n",
        "    return [0,1]\n",
        "  if n == 0:\n",
        "    return [0]\n",
        "  seq = fibonacci_seq_recursive(n - 1)\n",
        "  seq.append(seq[-1] + seq[-2])\n",
        "  return seq\n",
        "\n",
        "print(fibonacci_seq_recursive(10))"
      ],
      "metadata": {
        "id": "7HRgBnQgCf8c"
      },
      "execution_count": null,
      "outputs": []
    },
    {
      "cell_type": "markdown",
      "source": [
        "In the code above:\n",
        "- identify the base case\n",
        "- identify the progression of the input\n",
        "- identify the recursive call\n",
        "- what is `seq[-1] + seq[-2]`\n",
        "- what would happen if `return seq.append(seq[-1] + seq[-2])`\n",
        "- write code to try it"
      ],
      "metadata": {
        "id": "G3R3204YD78X"
      }
    },
    {
      "cell_type": "markdown",
      "source": [
        "# Fibonacci Generator (optional)"
      ],
      "metadata": {
        "id": "n2Of2zjA82WR"
      }
    },
    {
      "cell_type": "code",
      "source": [
        "\n",
        "from typing import Iterator\n",
        "\n",
        "def fibonacci_generator(n: int) -> Iterator[int]:\n",
        "    back2 = 0\n",
        "    back1 = 1\n",
        "    for i in range(n):\n",
        "        yield back2\n",
        "        back2, back1 = back1, back2 + back1 ####### Check this out! it is something is written after the yield....\n",
        "\n",
        "\n",
        "print(fibonacci_generator(10))\n",
        "print([fibonacci_value for fibonacci_value in fibonacci_generator(10)])"
      ],
      "metadata": {
        "id": "P61Ysexz01JG"
      },
      "execution_count": null,
      "outputs": []
    },
    {
      "cell_type": "markdown",
      "source": [
        "# Palindromes Recursive"
      ],
      "metadata": {
        "id": "15b4HCCMEkqB"
      }
    },
    {
      "cell_type": "markdown",
      "source": [
        "What is a palindrome?"
      ],
      "metadata": {
        "id": "HDy9SZVIEyJp"
      }
    },
    {
      "cell_type": "code",
      "source": [
        "def is_palindrome(s: str) -> bool:\n",
        "  if len(s) <= 1:\n",
        "    return True\n",
        "  outside_is_palindrome = s[0] == s[-1]\n",
        "  inside_is_palindrome = is_palindrome(s[1:-1])\n",
        "  return outside_is_palindrome and inside_is_palindrome"
      ],
      "metadata": {
        "id": "rbABNQxtEsSF"
      },
      "execution_count": null,
      "outputs": []
    },
    {
      "cell_type": "code",
      "source": [
        "def is_palindrome(s: str) -> bool:\n",
        "  if len(s) <= 1:\n",
        "    return True\n",
        "  return s[0] == s[-1] and is_palindrome(s[1:-1])"
      ],
      "metadata": {
        "colab": {
          "base_uri": "https://localhost:8080/"
        },
        "id": "Q2nLT8lPFbH9",
        "outputId": "f45ce86e-bc84-4b5a-fca9-e22f2a276c8a"
      },
      "execution_count": 23,
      "outputs": [
        {
          "output_type": "execute_result",
          "data": {
            "text/plain": [
              "False"
            ]
          },
          "metadata": {},
          "execution_count": 23
        }
      ]
    },
    {
      "cell_type": "markdown",
      "source": [
        "In the code above:\n",
        "- identify the base case\n",
        "- identify the progression of the input\n",
        "- identify the recursive call\n",
        "- what is `s[1:-1]`\n",
        "- write code to try it\n",
        "  - be sure to try all branches of the code\n",
        "  - ^^^ try with something that is 1 letter longs\n",
        "  - ^^^ try with something that is more than 1 letter that is pal\n",
        "  - ^^^ try with something that is more than 1 letter that is not pal"
      ],
      "metadata": {
        "id": "bOu3YEmkFY6L"
      }
    },
    {
      "cell_type": "markdown",
      "source": [
        "# Palindromes in the book"
      ],
      "metadata": {
        "id": "VAqsAFhOF604"
      }
    },
    {
      "cell_type": "markdown",
      "source": [
        "- check out the code in \"figure\" 6-4\n",
        "- what is to_char?"
      ],
      "metadata": {
        "id": "tQ3VX1otF-IH"
      }
    }
  ]
}