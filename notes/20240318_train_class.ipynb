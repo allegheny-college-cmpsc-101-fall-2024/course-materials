{
  "nbformat": 4,
  "nbformat_minor": 0,
  "metadata": {
    "colab": {
      "provenance": [],
      "authorship_tag": "ABX9TyPNvVnO3D6StxYSnxvh5Y0/",
      "include_colab_link": true
    },
    "kernelspec": {
      "name": "python3",
      "display_name": "Python 3"
    },
    "language_info": {
      "name": "python"
    }
  },
  "cells": [
    {
      "cell_type": "markdown",
      "metadata": {
        "id": "view-in-github",
        "colab_type": "text"
      },
      "source": [
        "<a href=\"https://colab.research.google.com/github/allegheny-college-cmpsc-101-spring-2024/course-materials/blob/main/notes/20240318_train_class.ipynb\" target=\"_parent\"><img src=\"https://colab.research.google.com/assets/colab-badge.svg\" alt=\"Open In Colab\"/></a>"
      ]
    },
    {
      "cell_type": "markdown",
      "source": [
        "## Simple Example"
      ],
      "metadata": {
        "id": "hDFzXm2gDSns"
      }
    },
    {
      "cell_type": "code",
      "execution_count": 1,
      "metadata": {
        "id": "eHHugoB69b0Y"
      },
      "outputs": [],
      "source": [
        "class Train():\n",
        "  \"\"\"Abstract data type representing a train.\"\"\"\n",
        "  def __init__(self):\n",
        "    self._cars = 0\n",
        "\n",
        "  def add(self, num_new_cars: int):\n",
        "    \"\"\"Add cars to the train.\"\"\"\n",
        "    self._cars += num_new_cars\n",
        "\n",
        "  def numcars(self):\n",
        "    return self._cars\n",
        "\n",
        "  def __repr__(self):\n",
        "    return f\"Train with {self._cars} cars\""
      ]
    },
    {
      "cell_type": "code",
      "source": [
        "short_train = Train()\n",
        "short_train.add(2)\n",
        "print(short_train.numcars())\n",
        "print(short_train)\n",
        "\n",
        "long_train = Train()\n",
        "long_train.add(200)\n",
        "print(long_train.numcars())\n",
        "print(long_train)"
      ],
      "metadata": {
        "colab": {
          "base_uri": "https://localhost:8080/"
        },
        "id": "sRHcZY2J_yg3",
        "outputId": "4c4d0478-7bc7-49a0-8987-e489a3cd6e0f"
      },
      "execution_count": 3,
      "outputs": [
        {
          "output_type": "stream",
          "name": "stdout",
          "text": [
            "2\n",
            "Train with 2 cars\n",
            "200\n",
            "Train with 200 cars\n"
          ]
        }
      ]
    },
    {
      "cell_type": "code",
      "source": [
        "type(short_train)"
      ],
      "metadata": {
        "colab": {
          "base_uri": "https://localhost:8080/",
          "height": 103
        },
        "id": "5YHvqK9hAOHI",
        "outputId": "417c5c2d-ec7a-4894-8878-815aa0081ba6"
      },
      "execution_count": 4,
      "outputs": [
        {
          "output_type": "execute_result",
          "data": {
            "text/plain": [
              "__main__.Train"
            ],
            "text/html": [
              "<div style=\"max-width:800px; border: 1px solid var(--colab-border-color);\"><style>\n",
              "      pre.function-repr-contents {\n",
              "        overflow-x: auto;\n",
              "        padding: 8px 12px;\n",
              "        max-height: 500px;\n",
              "      }\n",
              "\n",
              "      pre.function-repr-contents.function-repr-contents-collapsed {\n",
              "        cursor: pointer;\n",
              "        max-height: 100px;\n",
              "      }\n",
              "    </style>\n",
              "    <pre style=\"white-space: initial; background:\n",
              "         var(--colab-secondary-surface-color); padding: 8px 12px;\n",
              "         border-bottom: 1px solid var(--colab-border-color);\"><b>Train</b><br/>def __init__()</pre><pre class=\"function-repr-contents function-repr-contents-collapsed\" style=\"\"><a class=\"filepath\" style=\"display:none\" href=\"#\"></a>Abstract data type representing a train.</pre></div>"
            ]
          },
          "metadata": {},
          "execution_count": 4
        }
      ]
    },
    {
      "cell_type": "markdown",
      "source": [
        "## Adding dunder method"
      ],
      "metadata": {
        "id": "s5M0ziJIDVld"
      }
    },
    {
      "cell_type": "code",
      "source": [
        "# add equality operator dunder method to Trains\n",
        "\n",
        "class Train():\n",
        "  \"\"\"Abstract data type representing a train.\"\"\"\n",
        "  def __init__(self):\n",
        "    self._cars = 0\n",
        "\n",
        "  def add(self, num_new_cars: int):\n",
        "    \"\"\"Add cars to the train.\"\"\"\n",
        "    self._cars += num_new_cars\n",
        "\n",
        "  def numcars(self):\n",
        "    return self._cars\n",
        "\n",
        "  def __repr__(self):\n",
        "    return f\"Train with {self._cars} cars\""
      ],
      "metadata": {
        "id": "_jMDNsC9A3AT"
      },
      "execution_count": null,
      "outputs": []
    },
    {
      "cell_type": "code",
      "source": [
        "# create two instances, one long, one short"
      ],
      "metadata": {
        "id": "aLmIJQgUDIl-"
      },
      "execution_count": null,
      "outputs": []
    },
    {
      "cell_type": "code",
      "source": [
        "# write a condition statement to check if they are equal, print out any informative message"
      ],
      "metadata": {
        "id": "tk5HbHnKDLsF"
      },
      "execution_count": null,
      "outputs": []
    }
  ]
}