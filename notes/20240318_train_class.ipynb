{
  "nbformat": 4,
  "nbformat_minor": 0,
  "metadata": {
    "colab": {
      "provenance": [],
      "authorship_tag": "ABX9TyO8TcyE9eozkVgTDS9PcvwZ",
      "include_colab_link": true
    },
    "kernelspec": {
      "name": "python3",
      "display_name": "Python 3"
    },
    "language_info": {
      "name": "python"
    }
  },
  "cells": [
    {
      "cell_type": "markdown",
      "metadata": {
        "id": "view-in-github",
        "colab_type": "text"
      },
      "source": [
        "<a href=\"https://colab.research.google.com/github/allegheny-college-cmpsc-101-spring-2024/course-materials/blob/main/notes/20240318_train_class.ipynb\" target=\"_parent\"><img src=\"https://colab.research.google.com/assets/colab-badge.svg\" alt=\"Open In Colab\"/></a>"
      ]
    },
    {
      "cell_type": "markdown",
      "source": [
        "## Simple Example"
      ],
      "metadata": {
        "id": "hDFzXm2gDSns"
      }
    },
    {
      "cell_type": "code",
      "execution_count": 1,
      "metadata": {
        "id": "eHHugoB69b0Y"
      },
      "outputs": [],
      "source": [
        "class Train():\n",
        "  \"\"\"Abstract data type representing a train.\"\"\"\n",
        "  def __init__(self):\n",
        "    self._cars = 0\n",
        "\n",
        "  def add(self, num_new_cars: int):\n",
        "    \"\"\"Add cars to the train.\"\"\"\n",
        "    self._cars += num_new_cars\n",
        "\n",
        "  def numcars(self):\n",
        "    return self._cars\n",
        "\n",
        "  def __repr__(self):\n",
        "    return f\"Train with {self._cars} cars\""
      ]
    },
    {
      "cell_type": "code",
      "source": [
        "short_train = Train()\n",
        "short_train.add(2)\n",
        "print(short_train.numcars())\n",
        "print(short_train)\n",
        "\n",
        "long_train = Train()\n",
        "long_train.add(200)\n",
        "print(long_train.numcars())\n",
        "print(long_train)"
      ],
      "metadata": {
        "id": "sRHcZY2J_yg3"
      },
      "execution_count": null,
      "outputs": []
    },
    {
      "cell_type": "code",
      "source": [
        "type(short_train)"
      ],
      "metadata": {
        "id": "5YHvqK9hAOHI"
      },
      "execution_count": null,
      "outputs": []
    },
    {
      "cell_type": "code",
      "source": [
        "# Questions:\n",
        "\n",
        "# Which dunder method is responsible for allowing the print statement to work?\n",
        "# Change the implementation of that method to prove that it impacts what is printed\n",
        "# Locate an example of instantiation\n",
        "# Does the train class have any publically accessible attributes?\n",
        "# How can you tell?\n",
        "# Does the train class have any publically accessible methods?\n",
        "# How can you tell?"
      ],
      "metadata": {
        "id": "ADGrjjk1Kxqq"
      },
      "execution_count": null,
      "outputs": []
    },
    {
      "cell_type": "markdown",
      "source": [
        "## Adding dunder method"
      ],
      "metadata": {
        "id": "s5M0ziJIDVld"
      }
    },
    {
      "cell_type": "code",
      "source": [
        "# add equality operator dunder method to Trains\n",
        "\n",
        "class Train():\n",
        "  \"\"\"Abstract data type representing a train.\"\"\"\n",
        "  def __init__(self):\n",
        "    self._cars = 0\n",
        "\n",
        "  def add(self, num_new_cars: int):\n",
        "    \"\"\"Add cars to the train.\"\"\"\n",
        "    self._cars += num_new_cars\n",
        "\n",
        "  def numcars(self):\n",
        "    return self._cars\n",
        "\n",
        "  def __repr__(self):\n",
        "    return f\"Train with {self._cars} cars\""
      ],
      "metadata": {
        "id": "_jMDNsC9A3AT"
      },
      "execution_count": null,
      "outputs": []
    },
    {
      "cell_type": "code",
      "source": [
        "# create two instances, one long, one short"
      ],
      "metadata": {
        "id": "aLmIJQgUDIl-"
      },
      "execution_count": null,
      "outputs": []
    },
    {
      "cell_type": "code",
      "source": [
        "# write a condition statement to check if they are equal, print out any informative message"
      ],
      "metadata": {
        "id": "tk5HbHnKDLsF"
      },
      "execution_count": null,
      "outputs": []
    }
  ]
}