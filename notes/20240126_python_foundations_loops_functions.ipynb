{
  "cells": [
    {
      "cell_type": "markdown",
      "metadata": {
        "id": "view-in-github",
        "colab_type": "text"
      },
      "source": [
        "<a href=\"https://colab.research.google.com/github/allegheny-college-cmpsc-101-spring-2024/course-materials/blob/main/notes/20240126_python_foundations_loops_functions.ipynb\" target=\"_parent\"><img src=\"https://colab.research.google.com/assets/colab-badge.svg\" alt=\"Open In Colab\"/></a>"
      ]
    },
    {
      "cell_type": "markdown",
      "source": [
        "# Python Foundations Continued\n",
        "\n",
        "Technical Topics:\n",
        "\n",
        "- Iteration with either a while loop or a for loop\n",
        "- Define a function that accepts an input and produces an output\n",
        "- Calling a function and displaying its output\n",
        "- Formatted output with print and f-strings\n",
        "- Understanding and fixing bug"
      ],
      "metadata": {
        "id": "SALYOKl9CmTD"
      }
    },
    {
      "cell_type": "markdown",
      "source": [
        "## Computing multiplication by looping"
      ],
      "metadata": {
        "id": "yY4E8YaTC5Ba"
      }
    },
    {
      "cell_type": "code",
      "source": [
        "# What is 4*5?\n",
        "\n",
        "# Write a for loop to compute\n",
        "# (this is for practice writing loops)\n",
        "# (normally it is fine to use * operator)\n",
        "\n",
        "# Add comments to every line to explain what is happening\n",
        "\n",
        "n1 = 4\n",
        "n2 = 5\n",
        "answer = 0\n",
        "\n",
        "for _ in range(n2):\n",
        "  answer += n1\n",
        "\n",
        "\n",
        "print(f\"{n1}*{n2} = {answer}\")"
      ],
      "metadata": {
        "id": "erAsZLWp-g_5"
      },
      "execution_count": null,
      "outputs": []
    },
    {
      "cell_type": "code",
      "source": [
        "# What is 4*5?\n",
        "\n",
        "# Write a while loop to compute\n",
        "# (this is for practice writing loops)\n",
        "# (normally it is fine to use * operator)\n",
        "\n",
        "# Add comments to every line to explain what is happening\n",
        "\n",
        "n1 = 4\n",
        "n2 = 5\n",
        "answer = 0\n",
        "count = 0\n",
        "\n",
        "while count < n2:\n",
        "  answer += n1\n",
        "  count += 1\n",
        "\n",
        "\n",
        "print(f\"{n1}*{n2} = {answer}\")"
      ],
      "metadata": {
        "id": "pvxHLbch_iSm"
      },
      "execution_count": null,
      "outputs": []
    },
    {
      "cell_type": "markdown",
      "source": [
        "## Function review"
      ],
      "metadata": {
        "id": "TS6RDGJqDIk9"
      }
    },
    {
      "cell_type": "markdown",
      "source": [
        "![](https://banner2.cleanpng.com/20180503/rjw/kisspng-function-mathematics-definition-range-set-mathematical-function-5aeb59e2da6ad8.0101258015253734108946.jpg)"
      ],
      "metadata": {
        "id": "9LTp4Gj7CBkg"
      }
    },
    {
      "cell_type": "markdown",
      "source": [
        "- set of instructions (cookbook)\n",
        "- nothing will happen if the function is not called\n",
        "- after calling the function, the output is determined by the return value"
      ],
      "metadata": {
        "id": "K5hFw_gRDNQ_"
      }
    },
    {
      "cell_type": "code",
      "source": [
        "# Example\n",
        "from typing import List\n",
        "\n",
        "def average(data: List[int]) -> float: # function signature with type annotation\n",
        "  \"\"\"Compute average of numbers in a file named filename.\"\"\" # docstring\n",
        "  sum = 0\n",
        "  count = 0\n",
        "  for number in data:\n",
        "    sum += n\n",
        "    count += 1\n",
        "  return(sum/count) # result is returned, not printed"
      ],
      "metadata": {
        "id": "WyjPC3i6DwR1"
      },
      "execution_count": null,
      "outputs": []
    },
    {
      "cell_type": "code",
      "source": [
        "# Turn the for loop code into a function"
      ],
      "metadata": {
        "id": "4ML8lcHtAzV3"
      },
      "execution_count": null,
      "outputs": []
    },
    {
      "cell_type": "code",
      "source": [
        "# Turn the while loop code into a function"
      ],
      "metadata": {
        "id": "EcWCHM_qA5VO"
      },
      "execution_count": null,
      "outputs": []
    },
    {
      "cell_type": "code",
      "source": [
        "# Call the functions to compute 1*30, 30*1, 98*71\n",
        "# Assign the return value to a variable\n",
        "# Write print statement with a formatted to display the result"
      ],
      "metadata": {
        "id": "nznbF6XsA8FY"
      },
      "execution_count": null,
      "outputs": []
    },
    {
      "cell_type": "code",
      "source": [
        "# Call the functions for compute -5*-5"
      ],
      "metadata": {
        "id": "dd_Kz3gxBVNl"
      },
      "execution_count": null,
      "outputs": []
    },
    {
      "cell_type": "code",
      "source": [
        "# Modify the function to work for negative numbers"
      ],
      "metadata": {
        "id": "vZeNiS2DEgxl"
      },
      "execution_count": null,
      "outputs": []
    }
  ],
  "metadata": {
    "kernelspec": {
      "display_name": "Python 3 (ipykernel)",
      "language": "python",
      "name": "python3"
    },
    "language_info": {
      "codemirror_mode": {
        "name": "ipython",
        "version": 3
      },
      "file_extension": ".py",
      "mimetype": "text/x-python",
      "name": "python",
      "nbconvert_exporter": "python",
      "pygments_lexer": "ipython3",
      "version": "3.10.5"
    },
    "toc-autonumbering": false,
    "toc-showcode": false,
    "toc-showmarkdowntxt": true,
    "colab": {
      "provenance": [],
      "include_colab_link": true
    }
  },
  "nbformat": 4,
  "nbformat_minor": 0
}