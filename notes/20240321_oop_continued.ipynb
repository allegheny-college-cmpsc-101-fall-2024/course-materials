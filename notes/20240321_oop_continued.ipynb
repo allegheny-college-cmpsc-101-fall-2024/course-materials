{
  "nbformat": 4,
  "nbformat_minor": 0,
  "metadata": {
    "colab": {
      "provenance": [],
      "authorship_tag": "ABX9TyMHPTXD0JDYPQSf601vdhW1",
      "include_colab_link": true
    },
    "kernelspec": {
      "name": "python3",
      "display_name": "Python 3"
    },
    "language_info": {
      "name": "python"
    }
  },
  "cells": [
    {
      "cell_type": "markdown",
      "metadata": {
        "id": "view-in-github",
        "colab_type": "text"
      },
      "source": [
        "<a href=\"https://colab.research.google.com/github/allegheny-college-cmpsc-101-spring-2024/course-materials/blob/main/notes/20240321_oop_continued.ipynb\" target=\"_parent\"><img src=\"https://colab.research.google.com/assets/colab-badge.svg\" alt=\"Open In Colab\"/></a>"
      ]
    },
    {
      "cell_type": "code",
      "source": [
        "# define a person class and all of the components that go along with the class\n",
        "\n",
        "from typing import List\n",
        "\n",
        "class Person:\n",
        "    \"\"\"Define a Person class.\"\"\"\n",
        "\n",
        "    def __init__(\n",
        "        self, name: str, country: str, phone_number: str, job: str, email: str\n",
        "    ) -> None:\n",
        "        \"\"\"Define the constructor for a person.\"\"\"\n",
        "        self.name = name\n",
        "        self.country = country\n",
        "        self.phone_number = phone_number\n",
        "        self.job = job\n",
        "        self.email = email\n",
        "\n",
        "    def __repr__(self) -> str:\n",
        "        \"\"\"Return a textual representation of the person.\"\"\"\n",
        "        return f\"{self.name} is a {self.job} who lives in {self.country}. \"\\\n",
        "        f\"You can ring this person at {self.phone_number} \"\\\n",
        "        f\"and email them at {self.email}\"\n",
        "\n",
        "    def create_list(self) -> List[str]:\n",
        "        \"\"\"Create a list of strings representing the person.\"\"\"\n",
        "        details = []\n",
        "        details.append(self.name)\n",
        "        details.append(self.country)\n",
        "        details.append(self.phone_number)\n",
        "        details.append(self.job)\n",
        "        details.append(self.email)\n",
        "        return details"
      ],
      "metadata": {
        "id": "Kd1CSEiDgj8g"
      },
      "execution_count": 8,
      "outputs": []
    },
    {
      "cell_type": "code",
      "source": [
        "# create an instance of the person class and then display their textual representation\n",
        "p1 = Person(\"Emily Graber\", \"USA\", \"0123456789\", \"Musician\", \"egraber@allegheny.edu\")\n",
        "print(p1)"
      ],
      "metadata": {
        "id": "GjHdDDmwoxA-",
        "colab": {
          "base_uri": "https://localhost:8080/"
        },
        "outputId": "b9e62659-dd47-4f35-cad9-b4cba4a923e4"
      },
      "execution_count": 9,
      "outputs": [
        {
          "output_type": "stream",
          "name": "stdout",
          "text": [
            "Emily Graber is a Musician who lives in USA. You can ring this person at 0123456789 and email them at egraber@allegheny.edu\n"
          ]
        }
      ]
    },
    {
      "cell_type": "code",
      "execution_count": 3,
      "metadata": {
        "id": "42og0GWARpL3",
        "colab": {
          "base_uri": "https://localhost:8080/"
        },
        "outputId": "441409b9-a3df-4827-f80d-0c52dc8fba3b"
      },
      "outputs": [
        {
          "output_type": "stream",
          "name": "stdout",
          "text": [
            "['Emily Graber', 'USA', '0123456789', 'Musician', 'egraber@allegheny.edu']\n"
          ]
        }
      ],
      "source": [
        "# create a list of the contents of the person and display the contents of the list\n",
        "p1_list = p1.create_list()\n",
        "print(p1_list)"
      ]
    },
    {
      "cell_type": "code",
      "execution_count": null,
      "metadata": {
        "id": "UT71xjvbRpL4"
      },
      "outputs": [],
      "source": [
        "# Technical Task: create as least 2 additional instance of the People class of a classmate you do not yet know\n",
        "# Technical Task: create a list of the contents of the person and display the contents of the list\n",
        "# Combine all the people into one large list"
      ]
    },
    {
      "cell_type": "code",
      "source": [
        "def create_display(person_list: List[Person]) -> str:\n",
        "    person_list_text = \"\"\n",
        "    for current_person in person_list:\n",
        "      person_list_text += \"- \" + str(current_person) + \"\\n\"\n",
        "    return person_list_text\n",
        "\n",
        "# Call the function above and pass in the large list, then write an informative print statement to display the results"
      ],
      "metadata": {
        "id": "qRn7Opj3p_uy"
      },
      "execution_count": 4,
      "outputs": []
    },
    {
      "cell_type": "code",
      "source": [
        "# use a built-in function getattr - https://docs.python.org/3/library/functions.html#getattr\n",
        "\n",
        "def find_matching_people(attribute: str, matched: str, person_data: List[Person]) -> List[Person]:\n",
        "    matching_people_list = []\n",
        "    for current_person in person_data:\n",
        "      if getattr(current_person, attribute) == matched:\n",
        "            matching_people_list.append(current_person)\n",
        "    return matching_people_list\n",
        "\n",
        "\n",
        "# define variables and write a call to the function `find_matching_people`, then write an informative print statement to display the results"
      ],
      "metadata": {
        "id": "oNK8GWSArFow"
      },
      "execution_count": 5,
      "outputs": []
    },
    {
      "cell_type": "code",
      "source": [
        "# What is getattr?\n",
        "# Why are some functions not defined as methods in the class?"
      ],
      "metadata": {
        "id": "F0XVQBBsJyZ-"
      },
      "execution_count": null,
      "outputs": []
    }
  ]
}