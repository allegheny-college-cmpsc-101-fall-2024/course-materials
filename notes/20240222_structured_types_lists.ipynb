{
  "nbformat": 4,
  "nbformat_minor": 0,
  "metadata": {
    "colab": {
      "provenance": [],
      "authorship_tag": "ABX9TyOOjML9eQivlPCF/S7kha5e",
      "include_colab_link": true
    },
    "kernelspec": {
      "name": "python3",
      "display_name": "Python 3"
    },
    "language_info": {
      "name": "python"
    }
  },
  "cells": [
    {
      "cell_type": "markdown",
      "metadata": {
        "id": "view-in-github",
        "colab_type": "text"
      },
      "source": [
        "<a href=\"https://colab.research.google.com/github/allegheny-college-cmpsc-101-spring-2024/course-materials/blob/main/notes/20240222_structured_types_lists.ipynb\" target=\"_parent\"><img src=\"https://colab.research.google.com/assets/colab-badge.svg\" alt=\"Open In Colab\"/></a>"
      ]
    },
    {
      "cell_type": "markdown",
      "source": [
        "# Defining n-Tuples in Python Programs\n",
        "\n",
        "- lists are a data type\n",
        "- lists are containers\n",
        "- lists contain things that can be any data type\n",
        "- lists are mutable"
      ],
      "metadata": {
        "id": "F5wNvuDS-ZEp"
      }
    },
    {
      "cell_type": "code",
      "source": [
        "# these are lists\n",
        "new_pair = [3.2, 4]\n",
        "new_quadlist = [\"Story number\", 3, \"is\", True]\n",
        "\n",
        "# what is the data type of `new_pair` and `new_quadlist`?\n",
        "# what is similar about the definition of `new_pair` and `new_quadlist`\n",
        "# What are the data types of the values in these lists?"
      ],
      "metadata": {
        "id": "1wI6RLiTEiGa"
      },
      "execution_count": null,
      "outputs": []
    },
    {
      "cell_type": "code",
      "source": [
        "# Is it required to have all the same data type within a list?\n",
        "# Write your own example storing three mixed-type items in a list."
      ],
      "metadata": {
        "id": "oQiUmP10Ep8o"
      },
      "execution_count": null,
      "outputs": []
    },
    {
      "cell_type": "code",
      "source": [
        "# these are lists\n",
        "list_empty = []\n",
        "list_str = [\"Story\"]\n",
        "list_int = [3]\n",
        "list_float = [3.14159]\n",
        "\n",
        "\n",
        "# what is the data type of `list_empty` and `list_str`?\n",
        "# what is the data type of `list_int` and `list_float`?\n",
        "# What are the data types of the _values_ in these list?"
      ],
      "metadata": {
        "id": "HieGUa8rFmh_"
      },
      "execution_count": null,
      "outputs": []
    },
    {
      "cell_type": "code",
      "source": [
        "# Do lists always have to contain data?\n",
        "# What is the difference between a list and a number conceptually\n",
        "# What is the difference between a list and a number syntactically?"
      ],
      "metadata": {
        "id": "JLbmCiatHPQE"
      },
      "execution_count": null,
      "outputs": []
    },
    {
      "cell_type": "code",
      "source": [
        "# does a tuple == a list with the same elems?\n",
        "\n",
        "tu = (1,)\n",
        "li = [1]\n",
        "print(\"does a tuple == a list with the same elems? \", tu == li)\n",
        "print(\"are the elements the same? \", tu[0] == li[0])"
      ],
      "metadata": {
        "colab": {
          "base_uri": "https://localhost:8080/"
        },
        "id": "q4PYeKslvj2N",
        "outputId": "e97cda6f-048b-4970-af69-8e0873b34363"
      },
      "execution_count": 3,
      "outputs": [
        {
          "output_type": "stream",
          "name": "stdout",
          "text": [
            "does a tuple == a list with the same elems?  False\n",
            "are the elements the same?  True\n"
          ]
        }
      ]
    },
    {
      "cell_type": "markdown",
      "source": [
        "# creating new lists"
      ],
      "metadata": {
        "id": "oCkFeZxnrxZX"
      }
    },
    {
      "cell_type": "code",
      "source": [
        "pair = [3.2, 4]\n",
        "quadlist = [\"Story number\", 3, \"is\", True]\n",
        "new_list = pair + quadlist\n",
        "print(new_list)"
      ],
      "metadata": {
        "id": "vPAzhPelr1_8"
      },
      "execution_count": null,
      "outputs": []
    },
    {
      "cell_type": "markdown",
      "source": [
        "# packing and unpacking lists"
      ],
      "metadata": {
        "id": "JFSC9PrQIMiV"
      }
    },
    {
      "cell_type": "code",
      "source": [
        "# pack a list into a variable\n",
        "pair = [3,4]\n",
        "# create a list named quintlist and pack in 5 elements\n"
      ],
      "metadata": {
        "id": "3zE8HhzJHr2I"
      },
      "execution_count": 5,
      "outputs": []
    },
    {
      "cell_type": "code",
      "source": [
        "# unpack the contents of a list\n",
        "\n",
        "x, y = pair\n",
        "\n",
        "# unpack the contents of `quintlist` into 5 new variables"
      ],
      "metadata": {
        "id": "4aUMH7MeIJI5"
      },
      "execution_count": 8,
      "outputs": []
    },
    {
      "cell_type": "code",
      "source": [
        "# describe your understanding of a list so far"
      ],
      "metadata": {
        "id": "B2kV7o47KB4U"
      },
      "execution_count": null,
      "outputs": []
    },
    {
      "cell_type": "code",
      "source": [
        "# what is happening here?\n",
        "\n",
        "a = [1, 2, 3]\n",
        "print(a[0])\n",
        "\n",
        "# is `a` a list?\n",
        "# what do the square brackets mean\n",
        "# is there any variable name assigned to the list?"
      ],
      "metadata": {
        "id": "cWpyKSBBKsT1"
      },
      "execution_count": null,
      "outputs": []
    },
    {
      "cell_type": "code",
      "source": [
        "# what happens in this line of code\n",
        "\n",
        "a = [1, 2, 3][0]\n",
        "\n",
        "# is `a` a list?\n",
        "# what do the parens mean\n",
        "# what do the square brackets mean\n",
        "# is there any variable name assigned to the list?"
      ],
      "metadata": {
        "id": "eQTS3mXRKJUY"
      },
      "execution_count": null,
      "outputs": []
    },
    {
      "cell_type": "code",
      "source": [
        "# what happens in this line of code\n",
        "\n",
        "a = [1, 2, 3]\n",
        "a[0] = 10\n",
        "\n",
        "# is `a` a list?\n",
        "# what do the parens mean\n",
        "# what do the square brackets mean\n",
        "# is there any variable name assigned to the list?\n",
        "# does the code crash?"
      ],
      "metadata": {
        "id": "QdbnAjUzK-XS"
      },
      "execution_count": null,
      "outputs": []
    },
    {
      "cell_type": "code",
      "source": [
        "# re-describe your understanding of a list so far"
      ],
      "metadata": {
        "id": "RF73TSWyLI88"
      },
      "execution_count": null,
      "outputs": []
    },
    {
      "cell_type": "markdown",
      "source": [
        "# appending to existing list"
      ],
      "metadata": {
        "id": "P_4lfA4P_kYj"
      }
    },
    {
      "cell_type": "code",
      "source": [
        "a = [1, 2, 3]\n",
        "a.append(1)\n",
        "print(a)"
      ],
      "metadata": {
        "colab": {
          "base_uri": "https://localhost:8080/"
        },
        "id": "-WkfItf__ltS",
        "outputId": "88ee841d-906b-4539-ec2d-12a0c4de1468"
      },
      "execution_count": 9,
      "outputs": [
        {
          "output_type": "stream",
          "name": "stdout",
          "text": [
            "[1, 2, 3, 1]\n"
          ]
        }
      ]
    },
    {
      "cell_type": "code",
      "source": [
        "a = [1, 2, 3]\n",
        "list.append(a, 1)\n",
        "print(a)"
      ],
      "metadata": {
        "id": "KNIewNYCIfxe",
        "colab": {
          "base_uri": "https://localhost:8080/"
        },
        "outputId": "266afafb-6814-44d6-f134-5910cf99d1c9"
      },
      "execution_count": 10,
      "outputs": [
        {
          "output_type": "stream",
          "name": "stdout",
          "text": [
            "[1, 2, 3, 1]\n"
          ]
        }
      ]
    },
    {
      "cell_type": "markdown",
      "source": [
        "# slicing"
      ],
      "metadata": {
        "id": "XFehmpPbIONJ"
      }
    },
    {
      "cell_type": "code",
      "source": [
        "a = [0, 'elem1', 'elem2', 3, 'this is the fourth element', '5', '6.0000', 7, 8.0000]\n",
        "# retrieve elements 0 up to 3rd (not including 3rd)\n",
        "print(a[0:3])"
      ],
      "metadata": {
        "colab": {
          "base_uri": "https://localhost:8080/"
        },
        "id": "ZAJ-Ja3TAAG_",
        "outputId": "92518d68-95af-4841-cec0-fdc41af9642b"
      },
      "execution_count": 11,
      "outputs": [
        {
          "output_type": "stream",
          "name": "stdout",
          "text": [
            "[0, 'elem1', 'elem2']\n"
          ]
        }
      ]
    },
    {
      "cell_type": "code",
      "source": [
        "a = [0, 'elem1', 'elem2', 3, 'this is the fourth element', '5', '6.0000', 7, 8.0000]\n",
        "# retrieve elements 0 up to 8th (not including 8th), in step size of 2\n",
        "print(a[0:8:2])"
      ],
      "metadata": {
        "colab": {
          "base_uri": "https://localhost:8080/"
        },
        "id": "ly_M1SOAJJvf",
        "outputId": "3b9cab26-4b2e-4451-c5ae-006f656af249"
      },
      "execution_count": 12,
      "outputs": [
        {
          "output_type": "stream",
          "name": "stdout",
          "text": [
            "[0, 'elem2', 'this is the fourth element', '6.0000']\n"
          ]
        }
      ]
    },
    {
      "cell_type": "code",
      "source": [
        "a = [0, 'elem1', 'elem2', 3, 'this is the fourth element', '5', '6.0000', 7, 8.0000]\n",
        "# retrieve elements 5 up to 8th (including 8th)\n",
        "print(a[5:])"
      ],
      "metadata": {
        "colab": {
          "base_uri": "https://localhost:8080/"
        },
        "id": "Xwf-Ep7yJ_a8",
        "outputId": "b1b601f9-f3a5-47c3-d3d6-efd5556e4bd3"
      },
      "execution_count": 13,
      "outputs": [
        {
          "output_type": "stream",
          "name": "stdout",
          "text": [
            "['5', '6.0000', 7, 8.0]\n"
          ]
        }
      ]
    },
    {
      "cell_type": "code",
      "source": [
        "a = [0, 'elem1', 'elem2', 3, 'this is the fourth element', '5', '6.0000', 7, 8.0000]\n",
        "# retrieve elements 2 up to 2nd to last (not including 2nd to last)\n",
        "print(a[2:-2])"
      ],
      "metadata": {
        "colab": {
          "base_uri": "https://localhost:8080/"
        },
        "id": "DK5JRqFQL_zn",
        "outputId": "0ad76a64-45a9-426a-de7f-694a241fa461"
      },
      "execution_count": 17,
      "outputs": [
        {
          "output_type": "stream",
          "name": "stdout",
          "text": [
            "['elem2', 3, 'this is the fourth element', '5', '6.0000']\n"
          ]
        }
      ]
    },
    {
      "cell_type": "code",
      "source": [
        "a = [0, 'elem1', 'elem2', 3, 'this is the fourth element', '5', '6.0000', 7, 8.0000]\n",
        "# retrieve elements from end to 0 (not including 0) backward (step size -1)\n",
        "print(a[:0:-1])"
      ],
      "metadata": {
        "colab": {
          "base_uri": "https://localhost:8080/"
        },
        "id": "Nt19o_SyKFTz",
        "outputId": "ee213854-2827-4194-d2b4-43414648f8af"
      },
      "execution_count": 14,
      "outputs": [
        {
          "output_type": "stream",
          "name": "stdout",
          "text": [
            "[8.0, 7, '6.0000', '5', 'this is the fourth element', 3, 'elem2', 'elem1']\n"
          ]
        }
      ]
    },
    {
      "cell_type": "code",
      "source": [
        "a = [0, 'elem1', 'elem2', 3, 'this is the fourth element', '5', '6.0000', 7, 8.0000]\n",
        "# retrieve elements from end to 0 (including 0) backward (step size -1)\n",
        "print(a[::-1])"
      ],
      "metadata": {
        "colab": {
          "base_uri": "https://localhost:8080/"
        },
        "id": "addoYkEnKjk9",
        "outputId": "80c61309-af9c-4399-c9b9-d32ee7245e4e"
      },
      "execution_count": 15,
      "outputs": [
        {
          "output_type": "stream",
          "name": "stdout",
          "text": [
            "[8.0, 7, '6.0000', '5', 'this is the fourth element', 3, 'elem2', 'elem1', 0]\n"
          ]
        }
      ]
    },
    {
      "cell_type": "code",
      "source": [
        "a = [0, 'elem1', 'elem2', 3, 'this is the fourth element', '5', '6.0000', 7, 8.0000]\n",
        "# retrieve a string and do further indexing\n",
        "print(a[4][8:-8])\n"
      ],
      "metadata": {
        "id": "jiqF9AUoK0Ji"
      },
      "execution_count": null,
      "outputs": []
    },
    {
      "cell_type": "markdown",
      "source": [
        "# pretty print"
      ],
      "metadata": {
        "id": "El-gormhQYwk"
      }
    },
    {
      "cell_type": "code",
      "source": [
        "from typing import Iterable\n",
        "\n",
        "def prettyprint(values: Iterable[int]) -> str:\n",
        "  return str(values)[1:-1]\n",
        "\n",
        "\n",
        "my_divisors = [1, 97]\n",
        "print(f\"not pretty divisors are: {my_divisors}\")\n",
        "print(f\"pretty divisors are: {prettyprint(my_divisors)}\")"
      ],
      "metadata": {
        "id": "wYXfk6cINGT8"
      },
      "execution_count": null,
      "outputs": []
    },
    {
      "cell_type": "markdown",
      "source": [
        "# loops"
      ],
      "metadata": {
        "id": "qM_JRGSkQbpA"
      }
    },
    {
      "cell_type": "code",
      "source": [
        "a = [0, 'elem1', 'elem2', 3, 'this is the fourth element', '5', '6.0000', 7, 8.0000]\n",
        "\n",
        "for item in a:\n",
        "  print(item)\n",
        "\n",
        "for character in a[4]:\n",
        "  print(character)"
      ],
      "metadata": {
        "id": "B5DiYjpoNwJw"
      },
      "execution_count": null,
      "outputs": []
    },
    {
      "cell_type": "markdown",
      "source": [
        "# algorithms with lists"
      ],
      "metadata": {
        "id": "mGcYVFv8TPeq"
      }
    },
    {
      "cell_type": "code",
      "source": [],
      "metadata": {
        "id": "S26D3IevTRma"
      },
      "execution_count": null,
      "outputs": []
    },
    {
      "cell_type": "code",
      "execution_count": null,
      "metadata": {
        "id": "I38YerfFTIZM"
      },
      "outputs": [],
      "source": [
        "# define a function that can apply a provided\n",
        "# function to each element in the list to change\n",
        "def apply_to_each(list_to_change, function):\n",
        "    for i in range(len(list_to_change)):\n",
        "        list_to_change[i] = function(list_to_change[i])"
      ]
    },
    {
      "cell_type": "code",
      "execution_count": null,
      "metadata": {
        "id": "ESiDbI6uTIZN"
      },
      "outputs": [],
      "source": [
        "values = [1, -2, 3.33]\n",
        "print(\"values =\", values)\n",
        "apply_to_each(values, abs)\n",
        "print(\"values =\", values)"
      ]
    }
  ]
}