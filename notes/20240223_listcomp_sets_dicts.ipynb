{
  "cells": [
    {
      "cell_type": "markdown",
      "metadata": {
        "id": "view-in-github",
        "colab_type": "text"
      },
      "source": [
        "<a href=\"https://colab.research.google.com/github/allegheny-college-cmpsc-101-spring-2024/course-materials/blob/main/notes/20240223_listcomp_sets_dicts.ipynb\" target=\"_parent\"><img src=\"https://colab.research.google.com/assets/colab-badge.svg\" alt=\"Open In Colab\"/></a>"
      ]
    },
    {
      "cell_type": "code",
      "execution_count": null,
      "metadata": {
        "id": "C7BrfMxffjeb"
      },
      "outputs": [],
      "source": [
        "# Demonstrate the Use of a Wide Variety of Structured Types in the Python Programming Language"
      ]
    },
    {
      "cell_type": "code",
      "source": [
        "# Pseudo code for intersections\n",
        "\n",
        "# if you have two tuples, how can you figure out their intersection?\n",
        "\n",
        "# some useful facts\n",
        "# a = (1,2,3)\n",
        "# b = (4,5,6)\n",
        "# '+' makes a new object\n",
        "\n",
        "# LOGICAL STEPS\n",
        "# 1. take out one element from first tuple\n",
        "# 2. check if it matches any of the elements in the second tuple\n",
        "# 3. if there is a match, save that element\n",
        "# 4. repeat steps 2 and 3 until all the elements in the second tuple have been checked!\n",
        "# 5. repeat steps 1-4 for every element in the first tuple\n",
        "\n",
        "# translation of logic to pseudo code\n",
        "# * look for words like \"repeat\" ===> loop\n",
        "# * look for words like \"save\",\"store\" ===> possible variable initialization\n",
        "\n",
        "# PSEUDO CODE\n",
        "# initialization of results variable\n",
        "# loop over the first tuple\n",
        "#     loop over second tuple\n",
        "#           check if element from first tuple matches the item pulled out of the second tuple\n",
        "#           if there is a match, save that element in results variable\n",
        "\n",
        "\n",
        "# pg 91"
      ],
      "metadata": {
        "id": "iw2g__07gUHz"
      },
      "execution_count": null,
      "outputs": []
    },
    {
      "cell_type": "code",
      "execution_count": null,
      "metadata": {
        "id": "zNVCpvjufjec"
      },
      "outputs": [],
      "source": [
        "# Perform intersections with tuples of values\n",
        "#\n",
        "# define a function that uses a single\n",
        "# for loop to compute the intersection of\n",
        "# the two input tuples\n",
        "def intersect(tuple_one, tuple_two):\n",
        "    result = ()\n",
        "    for element in tuple_one:\n",
        "        if element in tuple_two:\n",
        "            result += (element,)\n",
        "    return result"
      ]
    },
    {
      "cell_type": "code",
      "source": [
        "# Pseudo code for higher order function\n",
        "\n",
        "# say you want to be able to apply some kind of function to every element in a list...\n",
        "\n",
        "# the problem is that this doesn't work:\n",
        "a = [-1,2,-3,-4]\n",
        "abs_a = abs(a)\n",
        "\n",
        "# lets write out the logic, then the pseudo code\n",
        "\n",
        "# LOGICAL STEPS\n",
        "# 1. get an element out of the list\n",
        "# 2. apply the function of your choice to that element\n",
        "# 3. save the return value of ^^^^ (by appending)\n",
        "# 4. repeat steps 2-3 on the next element of the list\n",
        "# 5. done\n",
        "\n",
        "# PSEUDO CODE\n",
        "# intialize a result variable\n",
        "# loop over the list (get an element out of the list)\n",
        "  # apply the function of your choice to that element\n",
        "  # save the return value (appending onto the result variable)\n",
        "# return the result variable\n",
        "\n",
        "\n",
        "# ALTERNATE PSEUDO CODE\n",
        "# loop over the list (get an element out of the list)\n",
        "  # apply the function of your choice to that element\n",
        "  # overwrite the value in the original list\n",
        "# done\n",
        "\n",
        "\n",
        "# pg 105"
      ],
      "metadata": {
        "id": "u5wod46OgXv8"
      },
      "execution_count": null,
      "outputs": []
    },
    {
      "cell_type": "code",
      "source": [
        "def apply_to_each(list_to_change, function):\n",
        "    for i in range(len(list_to_change)):\n",
        "        list_to_change[i] = function(list_to_change[i])"
      ],
      "metadata": {
        "id": "DQLqf_nchIfa"
      },
      "execution_count": null,
      "outputs": []
    },
    {
      "cell_type": "markdown",
      "source": [
        "- The function above works by changing a list directly!\n",
        "- The parameter was \"passed by reference\"\n",
        "- READ CHAPTER 5 to learn more about aliasing!\n",
        "- [List of strings - Aliasing](https://github.com/allegheny-college-cmpsc-101-fall-2023/course-materials/blob/main/Notes/Filled/List_of_strings.ipynb)\n",
        "- [List of lists - Aliasing](https://github.com/allegheny-college-cmpsc-101-fall-2023/course-materials/blob/main/Notes/Filled/List_of_lists.ipynb)"
      ],
      "metadata": {
        "id": "hIJSc6-bov65"
      }
    },
    {
      "cell_type": "markdown",
      "source": [
        "# Aliasing\n",
        "\n",
        "- referring to object with more than one name\n",
        "- doesn't matter much if the object is immutable\n",
        "- matters a lot if the object can change!\n",
        "\n",
        "- leads to many cool tricks"
      ],
      "metadata": {
        "id": "2NV40UMTpxKy"
      }
    },
    {
      "cell_type": "markdown",
      "source": [
        "# List comprehension\n",
        "\n",
        "- like a for loop in one line inside [ ]\n",
        "- the expression/calculation that normally goes inside the loop appears first\n",
        "- never use .append in this step ^^^^^\n",
        "- then then control statement(s) appears after\n"
      ],
      "metadata": {
        "id": "Ge02hARxhilw"
      }
    },
    {
      "cell_type": "code",
      "source": [
        "# for loop\n",
        "list_loop = []\n",
        "for i in range(10):\n",
        "  list_loop.append(i)\n",
        "print(f\"list in a loop: {list_loop}\")\n",
        "\n",
        "# list comprehension\n",
        "list_comp = [i for i in range(10)]\n",
        "print(f\"list comprehension: {list_comp}\")"
      ],
      "metadata": {
        "id": "Tb9LnzG3h5SO"
      },
      "execution_count": null,
      "outputs": []
    },
    {
      "cell_type": "code",
      "execution_count": null,
      "metadata": {
        "id": "W2gJnuMvfjed"
      },
      "outputs": [],
      "source": [
        "# define an empty list and then populate it with two-tuples of values\n",
        "list_of_pairs = []\n",
        "for x in range(6):\n",
        "    if x % 2 == 0:\n",
        "        for y in range(6):\n",
        "            if y % 3 == 0:\n",
        "                list_of_pairs.append((x, y))\n",
        "print(list_of_pairs)"
      ]
    },
    {
      "cell_type": "code",
      "execution_count": null,
      "metadata": {
        "id": "tVpMUU2Xfjed"
      },
      "outputs": [],
      "source": [
        "# Create lists using either comprehensions or iteration constructs\n",
        "#\n",
        "# define a list comprehension and show the output that it produces\n",
        "list_comp = [(x, y) for x in range(6) if x % 2 == 0 for y in range(6) if y % 3 == 0]\n",
        "print(list_comp)"
      ]
    },
    {
      "cell_type": "markdown",
      "source": [
        "# Sets\n",
        "\n",
        "- {}\n",
        "- Not Ordered!\n",
        "- Not indexable! (NO SLICING!)\n",
        "- Mutable, but...\n",
        "- Cannot contain duplicates\n",
        "- organized by \"hash\" and only immutable items can be hashed 😀\n",
        "- each item inside is just itself\n",
        "- myset = {key1, key2, etc}\n",
        "- interable: `for key in set`"
      ],
      "metadata": {
        "id": "BCWtBqKDjBcb"
      }
    },
    {
      "cell_type": "markdown",
      "source": [
        "documentation: https://python-reference.readthedocs.io/en/latest/docs/sets/\n",
        "- .add()\n",
        "- .update()\n",
        "- .remove()\n",
        "- .discard()\n",
        "- .union()\n",
        "- .intersection()\n",
        "- .difference()\n",
        "- `if elem in set`\n"
      ],
      "metadata": {
        "id": "Hn-QWvyglj2V"
      }
    },
    {
      "cell_type": "code",
      "execution_count": null,
      "metadata": {
        "id": "aviry0Orfjed"
      },
      "outputs": [],
      "source": [
        "# Create sets in Python and learn how they store immutable elements\n",
        "#\n",
        "# create a set that contains data variables with different types\n",
        "different_data_types_set = {53, 'pencil', (1, 1, 2, 3, 5), 3.14159}\n",
        "\n",
        "print(\"Set defined with a multiple types:\")\n",
        "print(different_data_types_set)"
      ]
    },
    {
      "cell_type": "code",
      "execution_count": null,
      "metadata": {
        "id": "mUdU82jAfjed"
      },
      "outputs": [],
      "source": [
        "# create a list from the set and demonstrate the fact that an error occurs\n",
        "different_data_types_list = [53, 'pencil', (1, 1, 2, 3, 5), 3.14159]\n",
        "new_different_data_types_set = {different_data_types_list}"
      ]
    },
    {
      "cell_type": "code",
      "source": [],
      "metadata": {
        "id": "EgVn-x-Zl3LD"
      },
      "execution_count": null,
      "outputs": []
    },
    {
      "cell_type": "code",
      "source": [
        "# 7. with this code, what is happening?\n",
        "# - set defined with strings inside\n",
        "# - crash because and element of the set is accessed by an ordered index [0]\n",
        "# - sets are not ordered\n",
        "\n",
        "department = {'computer', 'and', 'information', 'science'}\n",
        "# look at entire set\n",
        "print(\"Entire set:\", department)\n",
        "# add and element\n",
        "department.add('Hello')\n",
        "# look at entire set\n",
        "print(\"Entire set:\", department)\n",
        "# look at first element\n",
        "print(\"First elem:\", department[0])"
      ],
      "metadata": {
        "id": "J3BKsq1Gam-u"
      },
      "execution_count": null,
      "outputs": []
    },
    {
      "cell_type": "code",
      "source": [
        "# 8. with this code, what is happening?\n",
        "# - set defined with strings inside\n",
        "# - RUNS because strings are hashable\n",
        "# - sets can only contain hashable items\n",
        "\n",
        "department = {'computer', 'computer', 'computer', 'science'}\n",
        "# look at entire set\n",
        "print(\"Entire set:\", department)\n",
        "print(len(department))"
      ],
      "metadata": {
        "id": "c2BQoHhl65-j"
      },
      "execution_count": null,
      "outputs": []
    },
    {
      "cell_type": "code",
      "source": [
        "# 9. with this code, what is happening?\n",
        "# - word_ variables are storing lists with strings\n",
        "# - the lists are put into a set\n",
        "# - crash because lists are not hashable\n",
        "# - sets can only contain hashable items\n",
        "\n",
        "word_1, word_a, word_first, word_alpha = ['computer'], ['and'], ['information'], ['science']\n",
        "department = {word_1, word_a, word_first, word_alpha}"
      ],
      "metadata": {
        "id": "eNy9fkSD2rke"
      },
      "execution_count": null,
      "outputs": []
    },
    {
      "cell_type": "code",
      "source": [
        "# containment example using word \"in\"\n",
        "example_set = {'hello','darkness','my old friend', 1234}\n",
        "contains_hello = 'hello' in example_set\n",
        "contains_HELLO = 'HELLO' in example_set\n",
        "print(f\"contains_hello is {contains_hello}, and contains_HELLO is {contains_HELLO}\")"
      ],
      "metadata": {
        "id": "8vp-aUP_4oZ1"
      },
      "execution_count": null,
      "outputs": []
    },
    {
      "cell_type": "markdown",
      "source": [
        "### Hashability"
      ],
      "metadata": {
        "id": "kufTql-35rMo"
      }
    },
    {
      "cell_type": "code",
      "source": [
        "# test hashability of tuples\n",
        "a = (1.0, True, \"hello\")\n",
        "print(hash(a))\n",
        "# tiny numeric changes impact hash!\n",
        "a = (1.01, True, \"hello\")\n",
        "print(hash(a))\n",
        "\n",
        "# what goes wrong here?\n",
        "# a_altered cannot be hashed because it contains a list which cannot be hashed because lists are mutable\n",
        "a_altered = ([1.01], True, \"hello\")\n",
        "print(hash(a_altered))\n"
      ],
      "metadata": {
        "id": "ae3GucDp2YoW"
      },
      "execution_count": null,
      "outputs": []
    },
    {
      "cell_type": "code",
      "source": [
        "# test hashability of sets\n",
        "# what goes wrong here?\n",
        "# Sets are mutable, and cannot be hashed\n",
        "a = {1,2,\"3\"}\n",
        "print(hash(a))\n"
      ],
      "metadata": {
        "id": "VbKpzKhXw2kw"
      },
      "execution_count": null,
      "outputs": []
    },
    {
      "cell_type": "code",
      "source": [
        "# demonstrating the hashability of items inside a set\n",
        "example_set = {'hello','darkness','my old friend', 1234}\n",
        "\n",
        "for item in example_set:\n",
        "  print(f\"item {item} has hash: {hash(item)}\")\n"
      ],
      "metadata": {
        "id": "rgxFxQTb2m_0"
      },
      "execution_count": null,
      "outputs": []
    },
    {
      "cell_type": "code",
      "source": [
        "# sets are not subscriptable\n",
        "example_set = {'hello','darkness','my old friend', 1234}\n",
        "for i in range(len(example_set)):\n",
        "  item = example_set[i]\n",
        "  print(f\"item {item} has hash: {hash(item)}\")\n"
      ],
      "metadata": {
        "id": "OyZ2oc0e2Fp6"
      },
      "execution_count": null,
      "outputs": []
    },
    {
      "cell_type": "code",
      "execution_count": null,
      "metadata": {
        "id": "akRRNNr3fjee"
      },
      "outputs": [],
      "source": [
        "# Summary Questions:\n",
        "\n",
        "# 1) What does the TypeError mean when it explains that the `list` type is unhashable?\n",
        "# 2) What are some examples of data types in the Python language that are unhashable?\n",
        "# 3) What is the relationship between mutable data types and unhashable data types?\n",
        "#    Suggestion: Search online to see if you can find some articles that explain this issue!"
      ]
    },
    {
      "cell_type": "markdown",
      "source": [
        "# Dictionary\n",
        "\n",
        "- {}\n",
        "- Like a set with extra capabilities\n",
        "- Not ordered  (NO SLICING!)\n",
        "- Not indexable\n",
        "- Mutable, but...\n",
        "- Cannot contain duplicates (KEYS)\n",
        "- (KEYS) organized by \"hash\" and only immutable items can be hashed 😀\n",
        "- Each item inside is a KEY-VALUE mapping!\n",
        "- the \"VALUE\" part can be anything!\n",
        "- mydict = {key1:val1, key2:val2}\n",
        "- interable `for key in dict:`"
      ],
      "metadata": {
        "id": "1UgwtRYcjoel"
      }
    },
    {
      "cell_type": "markdown",
      "source": [
        "https://python-reference.readthedocs.io/en/latest/docs/dict/index.html\n",
        "\n",
        "- .get(key) # returns value\n",
        "- .keys() # returns all keys\n",
        "- .values() # returns all values"
      ],
      "metadata": {
        "id": "olhielbFm7li"
      }
    },
    {
      "cell_type": "code",
      "execution_count": null,
      "metadata": {
        "id": "7nrqpXywfjee"
      },
      "outputs": [],
      "source": [
        "# Create two dictionaries so that it is possible to display their contents\n",
        "#\n",
        "# create the first dictionary as an empty dictionary\n",
        "# and then add key-value pairs to the dictionary\n",
        "bosco = {}\n",
        "bosco[\"Name\"] = \"Bosco\"\n",
        "bosco[\"Age\"] = 6\n",
        "bosco[\"Breed\"] = \"Havanese\"\n",
        "\n",
        "# create the second dictionary as an empty dictionary\n",
        "# and then add key-value pairs to the dictionary\n",
        "faith = {}\n",
        "faith[\"Name\"] = \"Faith\"\n",
        "faith[\"Age\"] = 14\n",
        "faith[\"Breed\"] = \"Havanese\""
      ]
    },
    {
      "cell_type": "markdown",
      "source": [
        "what crazy overloading of [ ] ^^^"
      ],
      "metadata": {
        "id": "Ku6fMfwhnbWV"
      }
    },
    {
      "cell_type": "code",
      "execution_count": null,
      "metadata": {
        "id": "xtSud2_Pfjee"
      },
      "outputs": [],
      "source": [
        "# display the entire contents of both dictionaries\n",
        "print(bosco)\n",
        "print(faith)"
      ]
    },
    {
      "cell_type": "code",
      "execution_count": null,
      "metadata": {
        "id": "1PFpZZ2Lfjee"
      },
      "outputs": [],
      "source": [
        "# display only specific attributes of the dictionaries\n",
        "print(f\"The name of the first dog is: {bosco['Name']}\")\n",
        "print(f\"The name of the first dog is: {faith['Name']}\")"
      ]
    },
    {
      "cell_type": "code",
      "source": [
        "month_map1 = {\n",
        " 'Jan':1,\n",
        " 'Feb':2,\n",
        " 'Mar':3,\n",
        " 'Apr':4,\n",
        " 'May':5,\n",
        " 'Dec':12}\n",
        "\n",
        "print(month_map1)\n"
      ],
      "metadata": {
        "id": "s8GYyv-x57Ik"
      },
      "execution_count": null,
      "outputs": []
    },
    {
      "cell_type": "code",
      "source": [
        "# Iterable\n",
        "for key in month_map1:\n",
        "  print(\"key is:\", key)\n",
        "  print(\"\\tvalue is:\", month_map1[key])\n"
      ],
      "metadata": {
        "id": "mBsnK88u9HOh"
      },
      "execution_count": null,
      "outputs": []
    },
    {
      "cell_type": "code",
      "execution_count": null,
      "metadata": {
        "id": "d6DU3MHxfjee"
      },
      "outputs": [],
      "source": [
        "# Summary Questions:\n",
        "\n",
        "# 1) How would you decide which structured type you should use to store data?\n",
        "# 2) How are these structured types similar to and different from each other?\n",
        "# 3) What are the benefits associated with using the dictionary structured type?"
      ]
    }
  ],
  "metadata": {
    "kernelspec": {
      "display_name": "Python 3 (ipykernel)",
      "language": "python",
      "name": "python3"
    },
    "language_info": {
      "codemirror_mode": {
        "name": "ipython",
        "version": 3
      },
      "file_extension": ".py",
      "mimetype": "text/x-python",
      "name": "python",
      "nbconvert_exporter": "python",
      "pygments_lexer": "ipython3",
      "version": "3.10.5"
    },
    "toc-autonumbering": false,
    "toc-showcode": false,
    "toc-showmarkdowntxt": true,
    "colab": {
      "provenance": [],
      "include_colab_link": true
    }
  },
  "nbformat": 4,
  "nbformat_minor": 0
}