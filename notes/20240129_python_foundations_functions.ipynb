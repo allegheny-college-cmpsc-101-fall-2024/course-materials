{
  "nbformat": 4,
  "nbformat_minor": 0,
  "metadata": {
    "colab": {
      "provenance": [],
      "authorship_tag": "ABX9TyOiAlkhHe2SnmD70Xt/3mno",
      "include_colab_link": true
    },
    "kernelspec": {
      "name": "python3",
      "display_name": "Python 3"
    },
    "language_info": {
      "name": "python"
    }
  },
  "cells": [
    {
      "cell_type": "markdown",
      "metadata": {
        "id": "view-in-github",
        "colab_type": "text"
      },
      "source": [
        "<a href=\"https://colab.research.google.com/github/allegheny-college-cmpsc-101-spring-2024/course-materials/blob/main/notes/20240129_python_foundations_functions.ipynb\" target=\"_parent\"><img src=\"https://colab.research.google.com/assets/colab-badge.svg\" alt=\"Open In Colab\"/></a>"
      ]
    },
    {
      "cell_type": "markdown",
      "source": [
        "Activity: Write and call a function"
      ],
      "metadata": {
        "id": "2_8qpTJA6rfk"
      }
    },
    {
      "cell_type": "markdown",
      "source": [
        "- Write a function that does multiplication of two numbers via addition inside a for loop\n",
        "- Assume all inputs will be integers\n",
        "- Annotate the function accordingly\n",
        "- Don't forget the docstring\n",
        "\n",
        "- After coding the function, call the function with two inputs of your choice\n",
        "- Assign the return value into a variable\n",
        "- Print out the previous variable\n"
      ],
      "metadata": {
        "id": "Sl7o06Sr6uQV"
      }
    },
    {
      "cell_type": "code",
      "execution_count": null,
      "metadata": {
        "id": "iZmrWS9H6YOZ"
      },
      "outputs": [],
      "source": []
    }
  ]
}