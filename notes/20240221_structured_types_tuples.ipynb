{
  "nbformat": 4,
  "nbformat_minor": 0,
  "metadata": {
    "colab": {
      "provenance": [],
      "authorship_tag": "ABX9TyOStChMOD1mxY2lAA+Chmaz",
      "include_colab_link": true
    },
    "kernelspec": {
      "name": "python3",
      "display_name": "Python 3"
    },
    "language_info": {
      "name": "python"
    }
  },
  "cells": [
    {
      "cell_type": "markdown",
      "metadata": {
        "id": "view-in-github",
        "colab_type": "text"
      },
      "source": [
        "<a href=\"https://colab.research.google.com/github/allegheny-college-cmpsc-101-fall-2023/course-materials/blob/main/Notes/Templates/structured_data_types_TUPLES_into_CMPSC101.ipynb\" target=\"_parent\"><img src=\"https://colab.research.google.com/assets/colab-badge.svg\" alt=\"Open In Colab\"/></a>"
      ]
    },
    {
      "cell_type": "markdown",
      "source": [
        "# Defining n-Tuples in Python Programs\n",
        "\n",
        "- tuples are a data type\n",
        "- Q: what other data types do you know?\n",
        "- tuples are containers, like lists\n",
        "- tuples contain things that can be any data type\n",
        "- tuples are immutable"
      ],
      "metadata": {
        "id": "ZLQ-BG3kIPox"
      }
    },
    {
      "cell_type": "code",
      "source": [
        "# these are tuples\n",
        "pair = 3, 4.9\n",
        "quadruple = \"Story number\", 3, \"is\", False\n",
        "\n",
        "# what is the data type of `pair` and `quadruple`?\n",
        "# what is similar about the definition of `pair` and `quadruple`\n",
        "# what do the variable names `pair` and `quadruple` have to do with the data type\n",
        "# What are the data types of the values in these tuples?"
      ],
      "metadata": {
        "id": "gpTyqIuREJwM"
      },
      "execution_count": null,
      "outputs": []
    },
    {
      "cell_type": "code",
      "source": [
        "# these are tuples\n",
        "new_pair = (3.2, 4)\n",
        "new_quadruple = (\"Story number\", 3, \"is\", True)\n",
        "\n",
        "# what is the data type of `new_pair` and `new_quadruple`?\n",
        "# what is similar about the definition of `new_pair` and `new_quadruple`\n",
        "# what do the variable names `new_pair` and `new_quadruple` have to do with the data type\n",
        "# What are the data types of the values in these tuples?"
      ],
      "metadata": {
        "id": "1wI6RLiTEiGa"
      },
      "execution_count": null,
      "outputs": []
    },
    {
      "cell_type": "code",
      "source": [
        "# Is it required to have all the same data type within a tuple?\n",
        "# Write your own example storing three mixed-type items in a tuple."
      ],
      "metadata": {
        "id": "oQiUmP10Ep8o"
      },
      "execution_count": null,
      "outputs": []
    },
    {
      "cell_type": "code",
      "source": [
        "# these are tuples\n",
        "tuple_empty = ()\n",
        "tuple_str = (\"Story\",)\n",
        "tuple_int = (3,)\n",
        "tuple_float = (3.14159,)\n",
        "\n",
        "\n",
        "# what is the data type of `tuple_empty` and `tuple_str`?\n",
        "# what is the data type of `tuple_int` and `tuple_float`?\n",
        "# what is similar about the definition of `tuple_str` and `tuple_int` and `tuple_float`\n",
        "# what do the variable names have to do with the data type?\n",
        "# What are the data types of the _values_ in these tuples?"
      ],
      "metadata": {
        "id": "HieGUa8rFmh_"
      },
      "execution_count": null,
      "outputs": []
    },
    {
      "cell_type": "code",
      "source": [
        "# these are NOT tuples\n",
        "example_int = (100)\n",
        "example_float = (100.001)\n",
        "\n",
        "# what are the data types of `example_int` and `example_float`?\n",
        "# how else could these same variable names and values be used in assignment?\n",
        "# rewrite these as tuples\n"
      ],
      "metadata": {
        "id": "7iH5b8iNGcy1"
      },
      "execution_count": null,
      "outputs": []
    },
    {
      "cell_type": "code",
      "source": [
        "# Do tuples always have to contain data?\n",
        "# What syntax does a singleton tuple require?\n",
        "# What is the difference between a tuple and a number conceptually\n",
        "# What is the difference between a tuple and a number syntactically?"
      ],
      "metadata": {
        "id": "JLbmCiatHPQE"
      },
      "execution_count": null,
      "outputs": []
    },
    {
      "cell_type": "markdown",
      "source": [
        "# packing and unpacking tuples"
      ],
      "metadata": {
        "id": "JFSC9PrQIMiV"
      }
    },
    {
      "cell_type": "code",
      "source": [
        "# pack a tuple into a variable\n",
        "pair = (3,4)\n",
        "# create a tuple named quintuple and pack in 5 elements\n"
      ],
      "metadata": {
        "id": "3zE8HhzJHr2I"
      },
      "execution_count": 7,
      "outputs": []
    },
    {
      "cell_type": "code",
      "source": [
        "# unpack the contents of a tuple\n",
        "x, y = pair\n",
        "(x, y) = pair\n",
        "\n",
        "# unpack the contents of `quintuple` into 5 new variables"
      ],
      "metadata": {
        "id": "4aUMH7MeIJI5"
      },
      "execution_count": 8,
      "outputs": []
    },
    {
      "cell_type": "code",
      "source": [
        "# describe your understanding of a tuple so far"
      ],
      "metadata": {
        "id": "B2kV7o47KB4U"
      },
      "execution_count": null,
      "outputs": []
    },
    {
      "cell_type": "code",
      "source": [
        "# what is happening here?\n",
        "\n",
        "a = (1, 2, 3)\n",
        "print(a[0])\n",
        "\n",
        "# is `a` a tuple?\n",
        "# what do the parens mean\n",
        "# what do the square brackets mean\n",
        "# is there any variable name assigned to the tuple?"
      ],
      "metadata": {
        "id": "cWpyKSBBKsT1"
      },
      "execution_count": null,
      "outputs": []
    },
    {
      "cell_type": "code",
      "source": [
        "# what happens in this line of code\n",
        "\n",
        "a = (1, 2, 3)[0]\n",
        "\n",
        "# is `a` a tuple?\n",
        "# what do the parens mean\n",
        "# what do the square brackets mean\n",
        "# is there any variable name assigned to the tuple?"
      ],
      "metadata": {
        "id": "eQTS3mXRKJUY"
      },
      "execution_count": 12,
      "outputs": []
    },
    {
      "cell_type": "code",
      "source": [
        "# what happens in this line of code\n",
        "\n",
        "a = (1, 2, 3)\n",
        "a[0] = 10\n",
        "\n",
        "# is `a` a tuple?\n",
        "# what do the parens mean\n",
        "# what do the square brackets mean\n",
        "# is there any variable name assigned to the tuple?\n",
        "# why does the code crash?"
      ],
      "metadata": {
        "id": "QdbnAjUzK-XS"
      },
      "execution_count": null,
      "outputs": []
    },
    {
      "cell_type": "code",
      "source": [
        "# re-describe your understanding of a tuple so far"
      ],
      "metadata": {
        "id": "RF73TSWyLI88"
      },
      "execution_count": null,
      "outputs": []
    },
    {
      "cell_type": "code",
      "source": [
        "# Side Note\n",
        "\n",
        "\n",
        "# simultaneous assignment\n",
        "# this is not specific to tuples\n",
        "\n",
        "\n",
        "x, y = y, x\n",
        "(x, y) = (y, x)\n",
        "\n",
        "# explore the two lines above\n",
        "# are they the same or different?\n",
        "  # consider syntax\n",
        "  # consider the overall result\n",
        "# are there tuples involved?\n",
        "# which side of the `=` operator is evaluated first?\n",
        "# does the prev question above ^^^^^^^^^^^^ involve tuples?\n",
        "\n",
        "# which side of the `=` operator is always evaluated first?"
      ],
      "metadata": {
        "id": "KNIewNYCIfxe"
      },
      "execution_count": null,
      "outputs": []
    }
  ]
}